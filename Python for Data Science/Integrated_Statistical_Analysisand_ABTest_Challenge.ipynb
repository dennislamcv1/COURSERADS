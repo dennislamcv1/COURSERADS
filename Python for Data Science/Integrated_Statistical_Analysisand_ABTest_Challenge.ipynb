{
 "cells": [
  {
   "cell_type": "markdown",
   "id": "1dd0f106",
   "metadata": {},
   "source": [
    "# Ungraded Lab: Integrated Statistical Analysis and A/B Test Challenge"
   ]
  },
  {
   "cell_type": "markdown",
   "id": "44f9388d",
   "metadata": {},
   "source": [
    "## Overview \n",
    "Welcome to your third analytical challenge with MediTrack Health Solutions! As the company continues to revolutionize healthcare management, your previous work analyzing patient demographics and billing patterns has revealed an exciting new opportunity.\n",
    "\n",
    "The Clinical Effectiveness Team at MediTrack has noticed varying success rates and costs across different treatment approaches. They've approached you, their trusted data scientist, with a critical question: \"Can we quantitatively determine which treatment approaches are most cost-effective while maintaining quality care?\"\n",
    "\n",
    "## Your Challenge \n",
    "MediTrack needs to:\n",
    "- Compare the effectiveness and costs of different treatment approaches\n",
    "- Determine if certain treatments are more cost-effective for specific conditions\n",
    "- Provide statistical evidence to support treatment recommendations\n",
    "- Create a repeatable analysis framework for future treatment comparisons\n",
    "\n",
    "This analysis will help MediTrack:\n",
    "- Optimize treatment recommendations\n",
    "- Control healthcare costs while maintaining quality\n",
    "- Support evidence-based decision making\n",
    "- Guide insurance coverage policies\n",
    "\n",
    "## Learning Outcomes \n",
    "By the end of this lab, you will be able to:\n",
    "- Design and implement A/B tests for healthcare treatment comparison\n",
    "- Apply statistical hypothesis testing to evaluate treatment effectiveness\n",
    "- Create compelling visualizations of treatment outcomes\n",
    "- Develop data-driven recommendations for clinical decision-making\n",
    "\n",
    "## Dataset Information\n",
    "Building on your previous work with MediTrack's integrated database, you'll focus on the medical_visits dataset, which now includes:\n",
    "- Detailed treatment information\n",
    "- Associated doctor fees\n",
    "- Patient outcomes\n",
    "- Visit date\n",
    "\n",
    "This represents real-world data from MediTrack's network of healthcare providers, though anonymized for privacy."
   ]
  },
  {
   "cell_type": "markdown",
   "id": "378abc99",
   "metadata": {},
   "source": [
    "## Activities\n",
    "### Activity 1: Initial Data Investigation \n",
    "As MediTrack's data scientist, your first task is to understand the current treatment landscape.\n",
    "\n",
    "<b>Step 1:</b> Load and prepare the dataset"
   ]
  },
  {
   "cell_type": "code",
   "execution_count": 1,
   "id": "7ea7ab80",
   "metadata": {},
   "outputs": [],
   "source": [
    "# Import required libraries and load data\n",
    "import pandas as pd\n",
    "import numpy as np\n",
    "from scipy import stats\n",
    "import matplotlib.pyplot as plt\n",
    "import seaborn as sns\n",
    "from scipy.stats import shapiro, levene, ttest_ind\n",
    "# Load the dataset\n",
    "df = pd.read_excel('medical_visits_AB.xlsx')"
   ]
  },
  {
   "cell_type": "markdown",
   "id": "5746114f",
   "metadata": {},
   "source": [
    "<b>Tip:</b> Remember to apply the data cleaning standards you established in your previous MediTrack analyses."
   ]
  },
  {
   "cell_type": "markdown",
   "id": "01bc282e",
   "metadata": {},
   "source": [
    "<b>Step 2:</b> Explore treatment groups"
   ]
  },
  {
   "cell_type": "code",
   "execution_count": 2,
   "id": "f843d3c8",
   "metadata": {},
   "outputs": [
    {
     "name": "stdout",
     "output_type": "stream",
     "text": [
      "treatment\n",
      "Observation    271\n",
      "Therapy        243\n",
      "Surgery        241\n",
      "Vaccination    223\n",
      "Medication     222\n",
      "Name: count, dtype: int64\n"
     ]
    }
   ],
   "source": [
    "# Examine treatment distribution\n",
    "treatment_counts = df['treatment'].value_counts()\n",
    "print(treatment_counts)"
   ]
  },
  {
   "cell_type": "markdown",
   "id": "e1a057d0",
   "metadata": {},
   "source": [
    "<b>Tip:</b> Check for missing values and outliers before proceeding with analysis"
   ]
  },
  {
   "cell_type": "markdown",
   "id": "5c432034",
   "metadata": {},
   "source": [
    "### Activity 2: Treatment Comparison Framework \n",
    "The Clinical Effectiveness Team needs a robust method to compare treatments.\n",
    "\n",
    "<b>Step 1:</b> Define treatment groups for comparison"
   ]
  },
  {
   "cell_type": "code",
   "execution_count": 3,
   "id": "4d5d1f39",
   "metadata": {},
   "outputs": [],
   "source": [
    "# Extract treatment groups\n",
    "therapy_fees = df[df['treatment'] == 'Therapy']['doctor_fee']\n",
    "surgery_fees = df[df['treatment'] == 'Surgery']['doctor_fee']"
   ]
  },
  {
   "cell_type": "markdown",
   "id": "9d8b0667",
   "metadata": {},
   "source": [
    "<b>Step 2:</b> Verify statistical assumptions"
   ]
  },
  {
   "cell_type": "code",
   "execution_count": null,
   "id": "3e09bdfb",
   "metadata": {},
   "outputs": [],
   "source": [
    "# Check normality and equal variance\n",
    "# YOUR CODE HERE\n"
   ]
  },
  {
   "cell_type": "markdown",
   "id": "99b3056e",
   "metadata": {},
   "source": [
    "### Activity 3: Conducting the A/B Test \n",
    "<b>Step 1:</b> Perform hypothesis testing"
   ]
  },
  {
   "cell_type": "code",
   "execution_count": null,
   "id": "70212848",
   "metadata": {},
   "outputs": [],
   "source": [
    "# Conduct t-test between treatment groups\n",
    "# YOUR CODE HERE\n"
   ]
  },
  {
   "cell_type": "markdown",
   "id": "ba14b78f",
   "metadata": {},
   "source": [
    "<b>Step 2:</b> Visualize results"
   ]
  },
  {
   "cell_type": "code",
   "execution_count": null,
   "id": "988b1c97",
   "metadata": {},
   "outputs": [],
   "source": [
    "# Create comparison visualization\n",
    "# YOUR CODE HERE\n"
   ]
  },
  {
   "cell_type": "markdown",
   "id": "9144d685",
   "metadata": {},
   "source": [
    "## Success Checklist\n",
    "- Created a reproducible analysis framework for MediTrack's treatment comparisons\n",
    "- Established statistical validation of treatment effectiveness\n",
    "- Generated clear visualizations for stakeholder presentations\n",
    "- Documented methodology for future analyses\n",
    "\n",
    "## Summary \n",
    "Your analysis will directly impact MediTrack's ability to recommend optimal treatments while controlling healthcare costs. The statistical framework you've developed will serve as a foundation for future treatment comparisons across the organization.\n",
    "\n",
    "### Key Points\n",
    "- Evidence-based treatment comparison methodology\n",
    "- Cost-effectiveness analysis framework\n",
    "- Statistical validation of treatment recommendations\n",
    "- Clear communication of results to stakeholders"
   ]
  },
  {
   "cell_type": "markdown",
   "id": "78e51ee3",
   "metadata": {},
   "source": [
    "## Solution Code\n",
    "Stuck on your code or want to check your solution? Here's a complete reference implementation to guide you. This represents just one effective approach—try solving independently first, then use this to overcome obstacles or compare techniques. The solution is provided to help you move forward and explore alternative approaches to achieve the same results. Happy coding!"
   ]
  },
  {
   "cell_type": "markdown",
   "id": "b10ca51e",
   "metadata": {},
   "source": [
    "### Activity 1: Initial Data Investigation - Solution Code"
   ]
  },
  {
   "cell_type": "code",
   "execution_count": 4,
   "id": "f23ca5c2",
   "metadata": {},
   "outputs": [
    {
     "name": "stdout",
     "output_type": "stream",
     "text": [
      "Dataset Info:\n",
      "<class 'pandas.core.frame.DataFrame'>\n",
      "RangeIndex: 1200 entries, 0 to 1199\n",
      "Data columns (total 6 columns):\n",
      " #   Column      Non-Null Count  Dtype         \n",
      "---  ------      --------------  -----         \n",
      " 0   visit_id    1200 non-null   int64         \n",
      " 1   patient_id  1200 non-null   int64         \n",
      " 2   visit_date  1140 non-null   datetime64[ns]\n",
      " 3   diagnosis   950 non-null    object        \n",
      " 4   treatment   1200 non-null   object        \n",
      " 5   doctor_fee  1200 non-null   float64       \n",
      "dtypes: datetime64[ns](1), float64(1), int64(2), object(2)\n",
      "memory usage: 56.4+ KB\n",
      "None\n",
      "\n",
      "Missing Values:\n",
      "visit_id        0\n",
      "patient_id      0\n",
      "visit_date     60\n",
      "diagnosis     250\n",
      "treatment       0\n",
      "doctor_fee      0\n",
      "dtype: int64\n",
      "\n",
      "Basic Statistics:\n",
      "           visit_id   patient_id                     visit_date   doctor_fee\n",
      "count   1200.000000  1200.000000                           1140  1200.000000\n",
      "mean   20599.500000  1245.514167  2024-08-24 05:41:03.157894912   167.958050\n",
      "min    20000.000000  1000.000000            2023-01-01 00:00:00    41.080000\n",
      "25%    20299.750000  1120.000000            2023-10-31 18:00:00    68.762500\n",
      "50%    20599.500000  1246.000000            2024-08-26 12:00:00    99.980000\n",
      "75%    20899.250000  1367.250000            2025-06-17 06:00:00   221.775000\n",
      "max    21199.000000  1498.000000            2026-04-14 00:00:00   528.230000\n",
      "std      346.554469   143.307830                            NaN   129.165354\n",
      "\n",
      "Treatment Distribution:\n",
      "treatment\n",
      "Observation    271\n",
      "Therapy        243\n",
      "Surgery        241\n",
      "Vaccination    223\n",
      "Medication     222\n",
      "Name: count, dtype: int64\n"
     ]
    }
   ],
   "source": [
    "import pandas as pd\n",
    "import numpy as np\n",
    "from scipy import stats\n",
    "import matplotlib.pyplot as plt\n",
    "import seaborn as sns\n",
    "from scipy.stats import shapiro, levene, ttest_ind\n",
    "# Load and prepare data\n",
    "df = pd.read_excel('medical_visits_AB.xlsx')\n",
    "\n",
    "# Examine data structure\n",
    "print(\"Dataset Info:\")\n",
    "print(df.info())\n",
    "\n",
    "# Check for missing values\n",
    "print(\"\\nMissing Values:\")\n",
    "print(df.isnull().sum())\n",
    "\n",
    "# Basic statistics\n",
    "print(\"\\nBasic Statistics:\")\n",
    "print(df.describe())\n",
    "\n",
    "# Treatment distribution\n",
    "print(\"\\nTreatment Distribution:\")\n",
    "print(df['treatment'].value_counts())"
   ]
  },
  {
   "cell_type": "markdown",
   "id": "648dc331",
   "metadata": {},
   "source": [
    "### Activity 2: Treatment Comparison Framework - Solution Code"
   ]
  },
  {
   "cell_type": "code",
   "execution_count": 5,
   "id": "58a9430d",
   "metadata": {},
   "outputs": [
    {
     "name": "stdout",
     "output_type": "stream",
     "text": [
      "Statistical Assumptions Check:\n",
      "{'normality_met': True, 'equal_variance': False, 'parametric_appropriate': False}\n"
     ]
    }
   ],
   "source": [
    "def check_assumptions(group1, group2):\n",
    "    \"\"\"Check statistical assumptions for treatment comparison.\"\"\"\n",
    "    \n",
    "    # Test for normality\n",
    "    _, p_norm1 = shapiro(group1)\n",
    "    _, p_norm2 = shapiro(group2)\n",
    "    normality_met = (p_norm1 > 0.05) and (p_norm2 > 0.05)\n",
    "    \n",
    "    # Test for equal variance\n",
    "    _, p_var = levene(group1, group2)\n",
    "    equal_variance = p_var > 0.05\n",
    "    \n",
    "    results = {\n",
    "        'normality_met': normality_met,\n",
    "        'equal_variance': equal_variance,\n",
    "        'parametric_appropriate': normality_met and equal_variance\n",
    "    }\n",
    "    \n",
    "    return results\n",
    "\n",
    "# Extract treatment groups\n",
    "therapy_group = df[df['treatment'] == 'Therapy']['doctor_fee']\n",
    "surgery_group = df[df['treatment'] == 'Surgery']['doctor_fee']\n",
    "\n",
    "# Check assumptions\n",
    "assumptions = check_assumptions(therapy_group, surgery_group)\n",
    "print(\"Statistical Assumptions Check:\")\n",
    "print(assumptions)"
   ]
  },
  {
   "cell_type": "markdown",
   "id": "ce4be24f",
   "metadata": {},
   "source": [
    "### Activity 3: Conducting the A/B Test - Solution Code"
   ]
  },
  {
   "cell_type": "code",
   "execution_count": 6,
   "id": "38a38ed5",
   "metadata": {},
   "outputs": [
    {
     "name": "stdout",
     "output_type": "stream",
     "text": [
      "\n",
      "Statistical Test Results:\n",
      "{'test_type': 'Welch’s t-test (equal_var=False)', 'statistic': -55.65101028916769, 'p_value': 6.028932046942436e-187}\n"
     ]
    }
   ],
   "source": [
    "def perform_statistical_test(group1, group2, assumptions_met=True):\n",
    "    \"\"\"Conduct appropriate statistical test based on assumptions.\"\"\"\n",
    "    \n",
    "    if assumptions_met:\n",
    "        # Use Student's t-test (assumes equal variances)\n",
    "        stat, p_value = ttest_ind(group1, group2)\n",
    "        test_type = \"Student's t-test (equal_var=True)\"\n",
    "    else:\n",
    "        # Use Welch's t-test (does not assume equal variances)\n",
    "        stat, p_value = ttest_ind(group1, group2, equal_var=False)\n",
    "        test_type = \"Welch’s t-test (equal_var=False)\"\n",
    "    \n",
    "    return {\n",
    "        'test_type': test_type,\n",
    "        'statistic': stat,\n",
    "        'p_value': p_value\n",
    "    }\n",
    "\n",
    "# Perform statistical test\n",
    "test_results = perform_statistical_test(\n",
    "    therapy_group,\n",
    "    surgery_group,\n",
    "    assumptions['parametric_appropriate']\n",
    ")\n",
    "\n",
    "print(\"\\nStatistical Test Results:\")\n",
    "print(test_results)"
   ]
  },
  {
   "cell_type": "code",
   "execution_count": 7,
   "id": "600bce4a",
   "metadata": {},
   "outputs": [
    {
     "data": {
      "image/png": "[encoded data removed]",
      "text/plain": [
       "<Figure size 800x600 with 1 Axes>"
      ]
     },
     "metadata": {},
     "output_type": "display_data"
    }
   ],
   "source": [
    "# Visualization of Results \n",
    "\n",
    "def visualize_results(df):\n",
    "    \"\"\"Create visualization for treatment comparison.\"\"\"\n",
    "    \n",
    "    plt.figure(figsize=(8, 6))\n",
    "    sns.boxplot(x='treatment', y='doctor_fee', data=df)\n",
    "    plt.title('Treatment Costs Comparison')\n",
    "    plt.ylabel('Doctor Fee ($)')\n",
    "    plt.xlabel('Treatment')\n",
    "    plt.tight_layout()\n",
    "    plt.show()\n",
    "\n",
    "# Create visualization\n",
    "visualize_results(df)"
   ]
  },
  {
   "cell_type": "code",
   "execution_count": null,
   "id": "3f5a0375",
   "metadata": {},
   "outputs": [],
   "source": []
  }
 ],
 "metadata": {
  "kernelspec": {
   "display_name": "Python 3 (ipykernel)",
   "language": "python",
   "name": "python3"
  },
  "language_info": {
   "codemirror_mode": {
    "name": "ipython",
    "version": 3
   },
   "file_extension": ".py",
   "mimetype": "text/x-python",
   "name": "python",
   "nbconvert_exporter": "python",
   "pygments_lexer": "ipython3",
   "version": "3.10.6"
  }
 },
 "nbformat": 4,
 "nbformat_minor": 5
}
