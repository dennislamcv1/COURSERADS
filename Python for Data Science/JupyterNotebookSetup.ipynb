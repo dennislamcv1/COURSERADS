{
 "cells": [
  {
   "cell_type": "markdown",
   "id": "b536e731",
   "metadata": {},
   "source": [
    "# Ungraded Lab: Jupyter Notebook Setup & Basics"
   ]
  },
  {
   "cell_type": "markdown",
   "id": "5f866136",
   "metadata": {},
   "source": [
    "## Overview \n",
    "Welcome to your first hands-on lab in Python and Jupyter Notebooks! You'll learn the fundamentals of Jupyter while working with real employee data. This lab will help you get comfortable with the basic operations you'll need throughout the course. While the exercises here use different examples than the screencast, you can refer back to \"Getting Started with Jupyter Notebooks\" at any point for guidance on the core techniques and operations.\n",
    "\n",
    "## Learning Outcomes \n",
    "\n",
    "By the end of this lab, you will be able to:\n",
    "- Navigate the Jupyter Notebook interface\n",
    "- Create and format markdown cells\n",
    "- Execute Python code in code cells\n",
    "- Load and examine basic dataset information\n",
    "\n",
    "## Dataset Information \n",
    "We'll be using <b>employee_insights.csv</b>, a dataset containing:\n",
    "- Employee demographic information\n",
    "- Department assignments\n",
    "- Performance metrics\n",
    "- Work experience details"
   ]
  },
  {
   "cell_type": "markdown",
   "id": "8ff62287",
   "metadata": {},
   "source": [
    "## Activities\n",
    "\n",
    "### Activity 1: Setting Up Your First Notebook\n",
    "\n",
    "Understanding notebook basics and markdown formatting."
   ]
  },
  {
   "cell_type": "markdown",
   "id": "cc1e2679",
   "metadata": {},
   "source": [
    "<b>Step 1:</b> Create Your Title. Create a new cell and add a title and subtitle for your notebook, using the following example as a guide: <br>\n",
    "(The cell given below will not run, please feel free to copy the text to add to the cell you create.)"
   ]
  },
  {
   "cell_type": "raw",
   "id": "3c33fefe",
   "metadata": {},
   "source": [
    "# Title of your notebook\n",
    "## Add a subtitle"
   ]
  },
  {
   "cell_type": "markdown",
   "id": "0ae14fbe",
   "metadata": {},
   "source": [
    "<b>Tip:</b> Use the cell type dropdown to select \"Markdown\"."
   ]
  },
  {
   "cell_type": "markdown",
   "id": "bc978632",
   "metadata": {},
   "source": [
    "<b>Step 2:</b> Practice Markdown. Create another cell and try creating bold and italic text, and bullet points, using the following example as a guide:<br>\n",
    "(The cell given below will not run, please feel free to copy the text to add to the cell you create.)"
   ]
  },
  {
   "cell_type": "raw",
   "id": "9813f8f1",
   "metadata": {},
   "source": [
    "**Bold text**\n",
    "*Italic text*\n",
    "- Bullet points "
   ]
  },
  {
   "cell_type": "markdown",
   "id": "124b8d18",
   "metadata": {},
   "source": [
    "### Activity 2: Basic Python Operations\n",
    "Let's write our first Python code."
   ]
  },
  {
   "cell_type": "markdown",
   "id": "769d3bb6",
   "metadata": {},
   "source": [
    "<b>Step 1:</b> Variables and Printing"
   ]
  },
  {
   "cell_type": "code",
   "execution_count": 1,
   "id": "090b61a1",
   "metadata": {},
   "outputs": [
    {
     "name": "stdout",
     "output_type": "stream",
     "text": [
      "Welcome to TechCorp!\n",
      "Welcome to 100!\n"
     ]
    }
   ],
   "source": [
    "# Create your first variables\n",
    "company_name = \"TechCorp\"\n",
    "employee_count = 100\n",
    "\n",
    "# Print them\n",
    "print(f\"Welcome to {company_name}!\")\n",
    "print(f\"Welcome to {employee_count}!\")"
   ]
  },
  {
   "cell_type": "markdown",
   "id": "4fa69828",
   "metadata": {},
   "source": [
    "<b>Step 2: Try It Yourself:</b> Add a new coding cell, then practice creating variables for:\n",
    "- Department name\n",
    "- Average salary\n",
    "- Current year"
   ]
  },
  {
   "cell_type": "markdown",
   "id": "01e8ea52",
   "metadata": {},
   "source": [
    "<b>Tip:</b> Use the cell type dropdown to select \"Code\""
   ]
  },
  {
   "cell_type": "markdown",
   "id": "a8b47e56",
   "metadata": {},
   "source": [
    "### Activity 3: Working with Data\n",
    "\n",
    "Loading and examining our dataset."
   ]
  },
  {
   "cell_type": "markdown",
   "id": "b4f8f1d5",
   "metadata": {},
   "source": [
    "<b>Step 1:</b> Import and load a dataset using pandas library"
   ]
  },
  {
   "cell_type": "code",
   "execution_count": 2,
   "id": "2e92ead9",
   "metadata": {},
   "outputs": [],
   "source": [
    "import pandas as pd\n",
    "\n",
    "# Load the dataset\n",
    "df = pd.read_csv('employee_insights.csv')"
   ]
  },
  {
   "cell_type": "markdown",
   "id": "4321160e",
   "metadata": {},
   "source": [
    "<b>Step 2:</b> Basic Exploration"
   ]
  },
  {
   "cell_type": "code",
   "execution_count": 3,
   "id": "42f7bdcd",
   "metadata": {},
   "outputs": [
    {
     "data": {
      "text/html": [
       "<div>\n",
       "<style scoped>\n",
       "    .dataframe tbody tr th:only-of-type {\n",
       "        vertical-align: middle;\n",
       "    }\n",
       "\n",
       "    .dataframe tbody tr th {\n",
       "        vertical-align: top;\n",
       "    }\n",
       "\n",
       "    .dataframe thead th {\n",
       "        text-align: right;\n",
       "    }\n",
       "</style>\n",
       "<table border=\"1\" class=\"dataframe\">\n",
       "  <thead>\n",
       "    <tr style=\"text-align: right;\">\n",
       "      <th></th>\n",
       "      <th>employee_id</th>\n",
       "      <th>age</th>\n",
       "      <th>salary</th>\n",
       "      <th>promotion_eligible</th>\n",
       "      <th>last_training_date</th>\n",
       "      <th>department</th>\n",
       "      <th>work_experience</th>\n",
       "      <th>projects_completed</th>\n",
       "      <th>hours_worked_weekly</th>\n",
       "      <th>work_mode</th>\n",
       "      <th>last_promotion_date</th>\n",
       "      <th>satisfaction_score</th>\n",
       "      <th>overtime_hours</th>\n",
       "    </tr>\n",
       "  </thead>\n",
       "  <tbody>\n",
       "    <tr>\n",
       "      <th>0</th>\n",
       "      <td>E0001</td>\n",
       "      <td>54.0</td>\n",
       "      <td>NaN</td>\n",
       "      <td>NaN</td>\n",
       "      <td>15/08/2023</td>\n",
       "      <td>HR</td>\n",
       "      <td>NaN</td>\n",
       "      <td>14.0</td>\n",
       "      <td>NaN</td>\n",
       "      <td>remote work</td>\n",
       "      <td>2022-05-10</td>\n",
       "      <td>NaN</td>\n",
       "      <td>8.4</td>\n",
       "    </tr>\n",
       "    <tr>\n",
       "      <th>1</th>\n",
       "      <td>E0002</td>\n",
       "      <td>NaN</td>\n",
       "      <td>$64761</td>\n",
       "      <td>N</td>\n",
       "      <td>15/08/2023</td>\n",
       "      <td>NaN</td>\n",
       "      <td>1 years</td>\n",
       "      <td>NaN</td>\n",
       "      <td>53.3</td>\n",
       "      <td>HYBRID</td>\n",
       "      <td>05-10-2022</td>\n",
       "      <td>NaN</td>\n",
       "      <td>8.1</td>\n",
       "    </tr>\n",
       "    <tr>\n",
       "      <th>2</th>\n",
       "      <td>E0003</td>\n",
       "      <td>54.0</td>\n",
       "      <td>NaN</td>\n",
       "      <td>N</td>\n",
       "      <td>15/08/2023</td>\n",
       "      <td>Marketing</td>\n",
       "      <td>8</td>\n",
       "      <td>6.0</td>\n",
       "      <td>32.6</td>\n",
       "      <td>Hybrid</td>\n",
       "      <td>10/05/2022</td>\n",
       "      <td>10.0</td>\n",
       "      <td>5.2</td>\n",
       "    </tr>\n",
       "    <tr>\n",
       "      <th>3</th>\n",
       "      <td>E0004</td>\n",
       "      <td>NaN</td>\n",
       "      <td>NaN</td>\n",
       "      <td>No</td>\n",
       "      <td>NaN</td>\n",
       "      <td>NaN</td>\n",
       "      <td>16</td>\n",
       "      <td>1.0</td>\n",
       "      <td>37.8</td>\n",
       "      <td>Remote</td>\n",
       "      <td>05-10-2022</td>\n",
       "      <td>5.0</td>\n",
       "      <td>NaN</td>\n",
       "    </tr>\n",
       "    <tr>\n",
       "      <th>4</th>\n",
       "      <td>E0005</td>\n",
       "      <td>29.0</td>\n",
       "      <td>$61486</td>\n",
       "      <td>Y</td>\n",
       "      <td>15/08/2023</td>\n",
       "      <td>NaN</td>\n",
       "      <td>NaN</td>\n",
       "      <td>1.0</td>\n",
       "      <td>53.3</td>\n",
       "      <td>Hybrid</td>\n",
       "      <td>2022-05-10</td>\n",
       "      <td>NaN</td>\n",
       "      <td>0.3</td>\n",
       "    </tr>\n",
       "  </tbody>\n",
       "</table>\n",
       "</div>"
      ],
      "text/plain": [
       "  employee_id   age  salary promotion_eligible last_training_date department  \\\n",
       "0       E0001  54.0     NaN                NaN         15/08/2023         HR   \n",
       "1       E0002   NaN  $64761                  N         15/08/2023        NaN   \n",
       "2       E0003  54.0     NaN                  N         15/08/2023  Marketing   \n",
       "3       E0004   NaN     NaN                 No                NaN        NaN   \n",
       "4       E0005  29.0  $61486                  Y         15/08/2023        NaN   \n",
       "\n",
       "  work_experience  projects_completed  hours_worked_weekly    work_mode  \\\n",
       "0             NaN                14.0                  NaN  remote work   \n",
       "1         1 years                 NaN                 53.3       HYBRID   \n",
       "2               8                 6.0                 32.6       Hybrid   \n",
       "3              16                 1.0                 37.8       Remote   \n",
       "4             NaN                 1.0                 53.3       Hybrid   \n",
       "\n",
       "  last_promotion_date  satisfaction_score  overtime_hours  \n",
       "0          2022-05-10                 NaN             8.4  \n",
       "1          05-10-2022                 NaN             8.1  \n",
       "2          10/05/2022                10.0             5.2  \n",
       "3          05-10-2022                 5.0             NaN  \n",
       "4          2022-05-10                 NaN             0.3  "
      ]
     },
     "metadata": {},
     "output_type": "display_data"
    },
    {
     "name": "stdout",
     "output_type": "stream",
     "text": [
      "<class 'pandas.core.frame.DataFrame'>\n",
      "RangeIndex: 100 entries, 0 to 99\n",
      "Data columns (total 13 columns):\n",
      " #   Column               Non-Null Count  Dtype  \n",
      "---  ------               --------------  -----  \n",
      " 0   employee_id          100 non-null    object \n",
      " 1   age                  44 non-null     float64\n",
      " 2   salary               63 non-null     object \n",
      " 3   promotion_eligible   84 non-null     object \n",
      " 4   last_training_date   71 non-null     object \n",
      " 5   department           85 non-null     object \n",
      " 6   work_experience      71 non-null     object \n",
      " 7   projects_completed   48 non-null     float64\n",
      " 8   hours_worked_weekly  67 non-null     float64\n",
      " 9   work_mode            84 non-null     object \n",
      " 10  last_promotion_date  74 non-null     object \n",
      " 11  satisfaction_score   61 non-null     float64\n",
      " 12  overtime_hours       70 non-null     float64\n",
      "dtypes: float64(5), object(8)\n",
      "memory usage: 10.3+ KB\n"
     ]
    }
   ],
   "source": [
    "# View first rows\n",
    "display(df.head())\n",
    "\n",
    "# Get basic information from the dataframe\n",
    "df.info()"
   ]
  },
  {
   "cell_type": "markdown",
   "id": "5684a49c",
   "metadata": {},
   "source": [
    "<b>Test Your Work</b>\n",
    "1. Run all cells in order\n",
    "2. Verify markdown formatting appears correctly\n",
    "3. Confirm dataset loads without errors\n",
    "4. Check that all print statements work\n",
    "\n",
    "## Success Checklist\n",
    "- Created properly formatted markdown cells\n",
    "- Successfully executed Python code cells\n",
    "- Loaded the dataset correctly\n",
    "- Completed all practice exercises\n",
    "\n",
    "## Common Issues & Solutions \n",
    "- Problem: Cell shows code instead of formatting \n",
    "    - Solution: Check cell type is set to \"Markdown\"\n",
    "- Problem: Dataset won't load \n",
    "    - Solution: Verify file is in correct directory\n",
    "\n",
    "## Summary \n",
    "In this lab, you learned the essential basics of Jupyter Notebooks, including how to create and format markdown cells, execute Python code, and work with a real employee dataset through the Jupyter interface. You gained hands-on experience with fundamental operations like navigating between cells, running code, and examining basic dataset information, setting you up for success in future data analysis tasks.\n",
    "\n",
    "### Key Points\n",
    "- Jupyter combines code and documentation\n",
    "- Markdown formats text\n",
    "- Code cells run Python\n",
    "- pandas loads data"
   ]
  }
 ],
 "metadata": {
  "kernelspec": {
   "display_name": "Python 3 (ipykernel)",
   "language": "python",
   "name": "python3"
  },
  "language_info": {
   "codemirror_mode": {
    "name": "ipython",
    "version": 3
   },
   "file_extension": ".py",
   "mimetype": "text/x-python",
   "name": "python",
   "nbconvert_exporter": "python",
   "pygments_lexer": "ipython3",
   "version": "3.10.6"
  }
 },
 "nbformat": 4,
 "nbformat_minor": 5
}
