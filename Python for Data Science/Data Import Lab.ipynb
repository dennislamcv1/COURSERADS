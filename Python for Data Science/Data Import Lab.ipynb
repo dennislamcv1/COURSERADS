{
 "cells": [
  {
   "cell_type": "markdown",
   "id": "b536e731",
   "metadata": {},
   "source": [
    "# Ungraded Lab: Data Import Lab"
   ]
  },
  {
   "cell_type": "markdown",
   "id": "5f866136",
   "metadata": {},
   "source": [
    "## Overview \n",
    "Your team at EngageMetrics, a leading employee engagement analytics company, has just received datasets from multiple sources that need to be consolidated for an urgent executive presentation. The data includes employee feedback from regional offices in CSV format, educational achievement records in Excel spreadsheets, and compensation benchmarks from an external API. The leadership team needs insights on employee engagement trends by tomorrow morning.\n",
    "<br>\n",
    "In this hands-on lab, you'll learn how to efficiently import and process this scattered data using Python. You'll work with real EngageMetrics datasets containing employee insights, educational records, and external market data, mastering the essential data import techniques needed to handle various file formats and common data challenges.\n",
    "\n",
    "<b>Pro tip:</b> Keep the lesson screencast handy while working through this lab. Even experienced developers regularly refer back to documentation and examples.\n",
    "\n",
    "## Learning Outcomes \n",
    "\n",
    "By the end of this lab, you will be able to:\n",
    "- Import data from CSV files using pandas\n",
    "- Load data from Excel files with proper formatting\n",
    "- Connect to and retrieve data from a REST API\n",
    "- Handle common data import challenges (missing values, inconsistent formats)\n",
    "\n",
    "## Dataset Information \n",
    "You'll work with two different EngageMetrics data sources and an external API from Wikipedia:\n",
    "\n",
    "1. <b>employee_insights.csv:</b> Employee performance and demographic data\n",
    "2. <b>education_data.xlsx:</b> Educational background information\n",
    "3. <b>Wikipedia REST API:</b> Income statistics in the United States"
   ]
  },
  {
   "cell_type": "markdown",
   "id": "8ff62287",
   "metadata": {},
   "source": [
    "## Activities\n",
    "\n",
    "### Activity 1: Regional Feedback Data Import\n",
    "\n",
    "Let's start with importing employee insights data from a CSV file. Import the quarterly employee engagement feedback data from all regions.  "
   ]
  },
  {
   "cell_type": "markdown",
   "id": "cc1e2679",
   "metadata": {},
   "source": [
    "<b>Step 1:</b> Import the required libraries first:"
   ]
  },
  {
   "cell_type": "code",
   "execution_count": 1,
   "id": "d508badc",
   "metadata": {},
   "outputs": [],
   "source": [
    "# Import required libraries\n",
    "import pandas as pd\n",
    "import requests\n",
    "import json\n",
    "from datetime import datetime"
   ]
  },
  {
   "cell_type": "markdown",
   "id": "bc978632",
   "metadata": {},
   "source": [
    "<b>Step 2:</b> Import and examine the CSV data:"
   ]
  },
  {
   "cell_type": "code",
   "execution_count": null,
   "id": "be56f506",
   "metadata": {},
   "outputs": [],
   "source": [
    "# Import the employee insights data\n",
    "employee_df = pd.read_csv('employee_insights.csv')\n",
    "\n",
    "# Display the first few rows\n",
    "# YOUR CODE HERE  "
   ]
  },
  {
   "cell_type": "markdown",
   "id": "b3590c7f",
   "metadata": {},
   "source": [
    "<b>Tip:</b> Check the data types of your columns after import to ensure they're appropriate"
   ]
  },
  {
   "cell_type": "markdown",
   "id": "5cee29f9",
   "metadata": {},
   "source": [
    "<b>Step 3:</b> Handle data quality issues:\n",
    "- Examine missing values\n",
    "- Check for inconsistent date formats"
   ]
  },
  {
   "cell_type": "code",
   "execution_count": null,
   "id": "6de94c4d",
   "metadata": {},
   "outputs": [],
   "source": [
    "# Check for missing values\n",
    "# YOUR CODE HERE\n",
    "    \n",
    "# Identify inconsistent date formats \n",
    "# YOUR CODE HERE"
   ]
  },
  {
   "cell_type": "markdown",
   "id": "124b8d18",
   "metadata": {},
   "source": [
    "### Activity 2: Educational Records Import\n",
    "Now let's work with the educational background data from an Excel file. Process the talent development team's educational background data."
   ]
  },
  {
   "cell_type": "markdown",
   "id": "769d3bb6",
   "metadata": {},
   "source": [
    "<b>Step 1:</b> Load the excel file: "
   ]
  },
  {
   "cell_type": "code",
   "execution_count": null,
   "id": "090b61a1",
   "metadata": {},
   "outputs": [],
   "source": [
    "# Import the education data\n",
    "# YOUR CODE HERE \n",
    "\n",
    "# Display the first few rows\n",
    "# YOUR CODE HERE "
   ]
  },
  {
   "cell_type": "markdown",
   "id": "4fa69828",
   "metadata": {},
   "source": [
    "<b>Step 2:</b> Data validation:\n",
    "- Verify graduation years are in the correct format\n",
    "- Check for any missing educational backgrounds"
   ]
  },
  {
   "cell_type": "code",
   "execution_count": null,
   "id": "f281898d",
   "metadata": {},
   "outputs": [],
   "source": [
    "# Verify whether graduation years are in the correct format\n",
    "# YOUR CODE HERE \n",
    "  \n",
    "# Check if there are any missing educational backgrounds\n",
    "# YOUR CODE HERE"
   ]
  },
  {
   "cell_type": "markdown",
   "id": "97e92c12",
   "metadata": {},
   "source": [
    "<b>Tip:</b> Sometimes data might be clean and in correct format, but it's always good to verify before proceeding further"
   ]
  },
  {
   "cell_type": "markdown",
   "id": "a8b47e56",
   "metadata": {},
   "source": [
    "### Activity 3: Compensation Benchmark Data Import\n",
    "Finally, let's retrieve data from the Wikipedia API. Retrieve industry compensation data for comparison."
   ]
  },
  {
   "cell_type": "markdown",
   "id": "b4f8f1d5",
   "metadata": {},
   "source": [
    "<b>Step 1:</b> Make an API request: "
   ]
  },
  {
   "cell_type": "code",
   "execution_count": null,
   "id": "2e92ead9",
   "metadata": {},
   "outputs": [],
   "source": [
    "# Make the API request\n",
    "url = \"https://en.wikipedia.org/api/rest_v1/page/summary/Income_in_the_United_States\"\n",
    "# YOUR CODE HERE \n",
    "\n",
    "# Parse the JSON response\n",
    "# YOUR CODE HERE "
   ]
  },
  {
   "cell_type": "markdown",
   "id": "05579daa",
   "metadata": {},
   "source": [
    "<b>Step 2:</b> Extract relevant information: Get the article summary:"
   ]
  },
  {
   "cell_type": "code",
   "execution_count": null,
   "id": "e15d61b1",
   "metadata": {},
   "outputs": [],
   "source": [
    "# Extract and display the article summary\n",
    "# YOUR CODE HERE"
   ]
  },
  {
   "cell_type": "markdown",
   "id": "5684a49c",
   "metadata": {},
   "source": [
    "#### Test Your Work:\n",
    "1. Verify that all three datasets are loaded successfully\n",
    "2. Confirm the data types are correct in each dataset\n",
    "3. Check that you can access specific columns and rows\n",
    "4. Ensure API response contains expected fields\n",
    "\n",
    "## Success Checklist\n",
    "- Imported regional feedback data successfully\n",
    "- Processed educational achievement records\n",
    "- Retrieved current compensation benchmarks\n",
    "- Handled missing survey responses appropriately\n",
    "- Verified data quality across all sources\n",
    "- Documented data anomalies for the analytics team\n",
    "\n",
    "## Common Issues & Solutions \n",
    "- Problem: Regional feedback data shows inconsistent scoring\n",
    "    - Solution: Apply standardization across different regional formats\n",
    "- Problem: Training records show duplicate entries\n",
    "    - Solution: Implement deduplication logic while preserving the most recent records\n",
    "- Problem: Benchmark API returns incomplete data\n",
    "    - Solution: Implement proper error handling and data validation checks\n",
    "\n",
    "## Summary \n",
    "Congratulations! You've successfully learned to import data from multiple sources (CSV, Excel, and API) using Python, and tackled real-world data quality challenges like handling missing values and inconsistent formats. Through this lab, you've gained practical experience with essential data import techniques that data scientists use daily, setting a strong foundation for more advanced data analysis tasks.\n",
    "\n",
    "### Key Points\n",
    "- Different data sources require different import approaches\n",
    "- Always validate data after import\n",
    "- Handle missing or inconsistent data appropriately\n",
    "- Document any data quality issues discovered"
   ]
  },
  {
   "cell_type": "markdown",
   "id": "9f7b5555",
   "metadata": {},
   "source": [
    "## Solution Code\n",
    "Stuck on your code or want to check your solution? Here's a complete reference implementation to guide you. This represents just one effective approach—try solving independently first, then use this to overcome obstacles or compare techniques. The solution is provided to help you move forward and explore alternative approaches to achieve the same results. Happy coding!"
   ]
  },
  {
   "cell_type": "markdown",
   "id": "8826d282",
   "metadata": {},
   "source": [
    "###  Activity 1: Regional Feedback Data Import - Solution Code"
   ]
  },
  {
   "cell_type": "code",
   "execution_count": 2,
   "id": "59d13b4c",
   "metadata": {},
   "outputs": [
    {
     "name": "stdout",
     "output_type": "stream",
     "text": [
      "Employee Data : \n",
      "  employee_id   age  salary promotion_eligible last_training_date department  \\\n",
      "0       E0001  54.0     NaN                NaN         15/08/2023         HR   \n",
      "1       E0002   NaN  $64761                  N         15/08/2023        NaN   \n",
      "2       E0003  54.0     NaN                  N         15/08/2023  Marketing   \n",
      "3       E0004   NaN     NaN                 No                NaN        NaN   \n",
      "4       E0005  29.0  $61486                  Y         15/08/2023        NaN   \n",
      "\n",
      "  work_experience  projects_completed  hours_worked_weekly    work_mode  \\\n",
      "0             NaN                14.0                  NaN  remote work   \n",
      "1         1 years                 NaN                 53.3       HYBRID   \n",
      "2               8                 6.0                 32.6       Hybrid   \n",
      "3              16                 1.0                 37.8       Remote   \n",
      "4             NaN                 1.0                 53.3       Hybrid   \n",
      "\n",
      "  last_promotion_date  satisfaction_score  overtime_hours  \n",
      "0          2022-05-10                 NaN             8.4  \n",
      "1          05-10-2022                 NaN             8.1  \n",
      "2          10/05/2022                10.0             5.2  \n",
      "3          05-10-2022                 5.0             NaN  \n",
      "4          2022-05-10                 NaN             0.3  \n",
      "employee_id             0\n",
      "age                    56\n",
      "salary                 37\n",
      "promotion_eligible     16\n",
      "last_training_date     29\n",
      "department             15\n",
      "work_experience        29\n",
      "projects_completed     52\n",
      "hours_worked_weekly    33\n",
      "work_mode              16\n",
      "last_promotion_date    26\n",
      "satisfaction_score     39\n",
      "overtime_hours         30\n",
      "dtype: int64\n",
      "Inconsistent dates in last_training_date:\n",
      "0     15/08/2023\n",
      "1     15/08/2023\n",
      "2     15/08/2023\n",
      "3            NaN\n",
      "4     15/08/2023\n",
      "         ...    \n",
      "94    15/08/2023\n",
      "95    15/08/2023\n",
      "97    15/08/2023\n",
      "98    15/08/2023\n",
      "99    15/08/2023\n",
      "Name: last_training_date, Length: 78, dtype: object\n",
      "Inconsistent dates in last_promotion_date:\n",
      "1     05-10-2022\n",
      "2     10/05/2022\n",
      "3     05-10-2022\n",
      "5     10/05/2022\n",
      "6     05-10-2022\n",
      "         ...    \n",
      "95           NaN\n",
      "96    05-10-2022\n",
      "97           NaN\n",
      "98           NaN\n",
      "99    05-10-2022\n",
      "Name: last_promotion_date, Length: 70, dtype: object\n"
     ]
    }
   ],
   "source": [
    "# Step 2: Import and examine the CSV data\n",
    "employee_df = pd.read_csv('employee_insights.csv')\n",
    "\n",
    "# Display the first few rows\n",
    "print(\"Employee Data : \")\n",
    "print(employee_df.head())\n",
    "\n",
    "# Step 3: Handle data quality issues\n",
    "# Check for missing values\n",
    "print(employee_df.isnull().sum())\n",
    "\n",
    "# Check for inconsistent date formats\n",
    "def is_date(string):\n",
    "    try:\n",
    "        datetime.strptime(str(string), '%Y-%m-%d')\n",
    "        return True\n",
    "    except ValueError:\n",
    "        return False\n",
    "\n",
    "date_columns = ['last_training_date', 'last_promotion_date']\n",
    "for col in date_columns:\n",
    "    inconsistent_dates = employee_df[~employee_df[col].apply(is_date)]\n",
    "    print(f\"Inconsistent dates in {col}:\")\n",
    "    print(inconsistent_dates[col])"
   ]
  },
  {
   "cell_type": "markdown",
   "id": "4eb3f3d1",
   "metadata": {},
   "source": [
    "### Activity 2: Excel Data Import - Solution Code"
   ]
  },
  {
   "cell_type": "code",
   "execution_count": 3,
   "id": "1fdeae1f",
   "metadata": {},
   "outputs": [
    {
     "name": "stdout",
     "output_type": "stream",
     "text": [
      "Education Data : \n",
      "      ID  graduation_year   educational_background\n",
      "0  E0001             2011               Psychology\n",
      "1  E0002             1995             Architecture\n",
      "2  E0003             2007  Business Administration\n",
      "3  E0004             2000  Business Administration\n",
      "4  E0005             1991                 Medicine\n",
      "All graduation years are well formatted.\n",
      "No missing educational backgrounds.\n"
     ]
    }
   ],
   "source": [
    "# Step 1: Load the Excel file\n",
    "education_data = pd.read_excel('education_data.xlsx')\n",
    "\n",
    "# Display the first few rows\n",
    "print(\"Education Data : \")\n",
    "print(education_data.head())\n",
    "\n",
    "# Step 2: Data validation\n",
    "# Verify graduation years are in the correct format\n",
    "def is_valid_year(year):\n",
    "    try:\n",
    "        year = int(year)\n",
    "        return 1900 <= year <= datetime.now().year\n",
    "    except ValueError:\n",
    "        return False\n",
    "\n",
    "invalid_years = education_data[~education_data['graduation_year'].apply(is_valid_year)]\n",
    "if invalid_years.empty:\n",
    "    print(\"All graduation years are well formatted.\")\n",
    "else:\n",
    "    print(\"Invalid graduation years:\")\n",
    "    print(invalid_years['graduation_year'])\n",
    "\n",
    "# Check is there are any missing educational backgrounds\n",
    "missing_education = education_data[education_data['educational_background'].isnull()]\n",
    "if missing_education.empty:\n",
    "    print(\"No missing educational backgrounds.\")\n",
    "else:\n",
    "    print(\"Missing educational backgrounds:\")\n",
    "    print(missing_education)"
   ]
  },
  {
   "cell_type": "markdown",
   "id": "f2c9f2a8",
   "metadata": {},
   "source": [
    "### Activity 3: Compensation Benchmark Data Import  - Solution Code"
   ]
  },
  {
   "cell_type": "code",
   "execution_count": 4,
   "id": "77d45f8d",
   "metadata": {},
   "outputs": [
    {
     "name": "stdout",
     "output_type": "stream",
     "text": [
      "Article summary:\n",
      "Income in the United States is measured by the various federal agencies including the Internal Revenue Service, Bureau of Labor Statistics, US Department of Commerce, and the US Census Bureau. Additionally, various agencies, including the Congressional Budget Office compile reports on income statistics. The primary classifications are by household or individual. The top quintile in personal income in 2022 was $117,162. The differences between household and personal income are considerable, since 61% of households now have two or more income earners. Median personal income in 2020 was $56,287 for full-time workers.\n",
      "\n"
     ]
    }
   ],
   "source": [
    "# Step 1: Make an API request\n",
    "url = \"https://en.wikipedia.org/api/rest_v1/page/summary/Income_in_the_United_States\"\n",
    "response = requests.get(url)\n",
    "\n",
    "# Parse the JSON response\n",
    "data = response.json()\n",
    "\n",
    "# Step 2: Extract and display the article summary\n",
    "summary = data.get('extract', 'Summary not available')\n",
    "print(\"Article summary:\")\n",
    "print(summary)"
   ]
  },
  {
   "cell_type": "code",
   "execution_count": null,
   "id": "3ef89288",
   "metadata": {},
   "outputs": [],
   "source": []
  }
 ],
 "metadata": {
  "kernelspec": {
   "display_name": "Python 3 (ipykernel)",
   "language": "python",
   "name": "python3"
  },
  "language_info": {
   "codemirror_mode": {
    "name": "ipython",
    "version": 3
   },
   "file_extension": ".py",
   "mimetype": "text/x-python",
   "name": "python",
   "nbconvert_exporter": "python",
   "pygments_lexer": "ipython3",
   "version": "3.10.6"
  }
 },
 "nbformat": 4,
 "nbformat_minor": 5
}
