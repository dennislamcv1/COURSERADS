{
 "cells": [
  {
   "cell_type": "markdown",
   "id": "00c0634e",
   "metadata": {},
   "source": [
    "#  Ungraded Lab: Numerical Calculations Lab"
   ]
  },
  {
   "cell_type": "markdown",
   "id": "8f29652b",
   "metadata": {},
   "source": [
    "## Overview\n",
    "In this lab, you'll explore NumPy's powerful numerical computation capabilities using EngageMetric’s employee data. You'll learn how to perform vectorized operations efficiently and compare their performance with traditional loop-based approaches. Like any good developer's toolkit, your lesson screencasts are valuable resources - keep the lesson video accessible while working through this lab and refer back to it whenever you need a refresher.\n",
    "\n",
    "## Learning Outcomes\n",
    "By the end of this lab, you will be able to:\n",
    "- Create and manipulate NumPy arrays effectively\n",
    "- Perform vectorized mathematical operations on arrays\n",
    "- Compare performance between loop-based and vectorized operations\n",
    "- Apply NumPy functions to real-world data analysis\n",
    "\n",
    "## Dataset Information\n",
    "We'll work with EngageMetric’s <b>employee_insights.csv</b> dataset, which contains HR data including:\n",
    "- Employee satisfaction scores (1-10)\n",
    "- Overtime hours worked\n",
    "- Salary information\n",
    "- Work experience details This dataset will help us perform practical numerical calculations relevant to HR analytics"
   ]
  },
  {
   "cell_type": "markdown",
   "id": "00126973",
   "metadata": {},
   "source": [
    "## Activities\n",
    "### Activity 1: Basic Array Operations \n",
    "Let's start by creating and manipulating NumPy arrays using employee data.\n",
    "\n",
    "<b>Step 1:</b> Import required libraries and load dataset:"
   ]
  },
  {
   "cell_type": "code",
   "execution_count": 1,
   "id": "3fc93167",
   "metadata": {},
   "outputs": [],
   "source": [
    "import numpy as np\n",
    "import pandas as pd\n",
    "\n",
    "# Load the dataset\n",
    "df = pd.read_csv('employee_insights.csv')"
   ]
  },
  {
   "cell_type": "markdown",
   "id": "b82c6339",
   "metadata": {},
   "source": [
    "<b>Step 2: Try It Yourself:</b>  Create arrays from employee data:"
   ]
  },
  {
   "cell_type": "code",
   "execution_count": 2,
   "id": "f49dfb57",
   "metadata": {},
   "outputs": [],
   "source": [
    "# Extract overtime_hours into a NumPy array filling NaN values as 0\n",
    "overtime = df['overtime_hours'].fillna(0).to_numpy()\n",
    "\n",
    "# Create an array from satisfaction_score column\n",
    "# YOUR CODE HERE"
   ]
  },
  {
   "cell_type": "markdown",
   "id": "131625fe",
   "metadata": {},
   "source": [
    "<b>Tip:</b> Use .to_numpy() to convert pandas Series to NumPy arrays efficiently."
   ]
  },
  {
   "cell_type": "markdown",
   "id": "6bcc1ec9",
   "metadata": {},
   "source": [
    "### Activity 2: Vectorized Calculations\n",
    "Compare loop-based vs. vectorized operations for calculating overtime cost.\n",
    "\n",
    "<b>Step 1:</b> Calculate overtime pay using a traditional Python loop:"
   ]
  },
  {
   "cell_type": "code",
   "execution_count": 3,
   "id": "0719916d",
   "metadata": {},
   "outputs": [],
   "source": [
    "# Traditional loop approach\n",
    "def calculate_overtime_loop(hours, rate=20):\n",
    "    total = 0\n",
    "    for hour in hours:\n",
    "        if not np.isnan(hour):\n",
    "            total += hour * rate\n",
    "    return total"
   ]
  },
  {
   "cell_type": "markdown",
   "id": "0e7262dd",
   "metadata": {},
   "source": [
    "<b>Step 2: Try It Yourself:</b>  Implement a vectorized NumPy version:"
   ]
  },
  {
   "cell_type": "code",
   "execution_count": 4,
   "id": "84399ab5",
   "metadata": {},
   "outputs": [],
   "source": [
    "# Create vectorized version\n",
    "# YOUR CODE HERE"
   ]
  },
  {
   "cell_type": "markdown",
   "id": "a1026b2a",
   "metadata": {},
   "source": [
    "<b>Tip:</b> Use NumPy’s array operations.\n",
    "\n",
    "<b>Test Your Work:</b>"
   ]
  },
  {
   "cell_type": "code",
   "execution_count": 5,
   "id": "3a5a8ac1",
   "metadata": {},
   "outputs": [],
   "source": [
    "# Compare results and timing of both approaches\n",
    "import time\n",
    "\n",
    "# Test loop version\n",
    "start_time = time.time()\n",
    "loop_result = calculate_overtime_loop(overtime)\n",
    "loop_time = time.time() - start_time\n",
    "\n",
    "# Test your vectorized version\n",
    "# YOUR CODE HERE"
   ]
  },
  {
   "cell_type": "markdown",
   "id": "fc690130",
   "metadata": {},
   "source": [
    "### Activity 3: Statistical Operations \n",
    "Apply NumPy's statistical functions to analyze employee metrics.\n",
    "\n",
    "<b>Step 1:</b> Calculate basic statistics:"
   ]
  },
  {
   "cell_type": "code",
   "execution_count": 6,
   "id": "c31d4d3d",
   "metadata": {},
   "outputs": [
    {
     "name": "stdout",
     "output_type": "stream",
     "text": [
      "Mean satisfaction: 5.573770491803279\n"
     ]
    }
   ],
   "source": [
    "# Get satisfaction score statistics\n",
    "satisfaction = df['satisfaction_score'].to_numpy()\n",
    "print(f\"Mean satisfaction: {np.nanmean(satisfaction)}\")"
   ]
  },
  {
   "cell_type": "markdown",
   "id": "33f9acd2",
   "metadata": {},
   "source": [
    "<b>Step 2: Try It Yourself:</b> Calculate and display:\n",
    "\n",
    "- Median satisfaction score\n",
    "- Standard deviation\n",
    "- 25th and 75th percentiles"
   ]
  },
  {
   "cell_type": "code",
   "execution_count": 7,
   "id": "568c5aa8",
   "metadata": {},
   "outputs": [],
   "source": [
    "# YOUR CODE HERE"
   ]
  },
  {
   "cell_type": "markdown",
   "id": "5a6a081b",
   "metadata": {},
   "source": [
    "## Success Checklist\n",
    "- Created and manipulated NumPy arrays successfully\n",
    "- Implemented both loop-based and vectorized calculations\n",
    "- Compared performance between approaches\n",
    "- Calculated meaningful statistics from employee data\n",
    "\n",
    "## Common Issues & Solutions \n",
    "- Problem: NaN values in calculations \n",
    "   - Solution: Use np.nanmean() and similar functions for handling missing data\n",
    "- Problem: Slow performance with loops \n",
    "   - Solution: Ensure you're using vectorized operations instead\n",
    "   \n",
    "## Summary\n",
    "Great work completing this lab! You've now mastered fundamental NumPy operations and can efficiently process numerical data using vectorization – skills that are essential for any data scientist working with large datasets. Take these techniques forward as you continue building your data science toolkit, and remember that efficient code isn't just about getting the right answer, but getting it in the most performant way possible.\n",
    "\n",
    "### Key Points\n",
    "- NumPy operations are significantly faster than loops\n",
    "- Vectorization simplifies complex calculations\n",
    "- NumPy provides efficient tools for statistical analysis"
   ]
  },
  {
   "cell_type": "markdown",
   "id": "b8950214",
   "metadata": {},
   "source": [
    "## Solution Code\n",
    "Stuck on your code or want to check your solution? Here's a complete reference implementation to guide you. This represents just one effective approach—try solving independently first, then use this to overcome obstacles or compare techniques. The solution is provided to help you move forward and explore alternative approaches to achieve the same results. Happy coding!\n"
   ]
  },
  {
   "cell_type": "markdown",
   "id": "3251d401",
   "metadata": {},
   "source": [
    "### Activity 1: Basic Array Operations - Solution Code"
   ]
  },
  {
   "cell_type": "code",
   "execution_count": 8,
   "id": "5b4890a8",
   "metadata": {},
   "outputs": [
    {
     "name": "stdout",
     "output_type": "stream",
     "text": [
      "Overtime array shape: (100,)\n",
      "Sample overtime values: [8.4 8.1 5.2 0.  0.3]\n",
      "\n",
      "Satisfaction array shape: (100,)\n",
      "Sample satisfaction values: [nan nan 10.  5. nan]\n"
     ]
    }
   ],
   "source": [
    "import numpy as np\n",
    "import pandas as pd\n",
    "import time\n",
    "\n",
    "# Load the dataset\n",
    "df = pd.read_csv('employee_insights.csv')\n",
    "\n",
    "# Create arrays from employee data\n",
    "overtime = df['overtime_hours'].fillna(0).to_numpy()\n",
    "satisfaction = df['satisfaction_score'].to_numpy()\n",
    "\n",
    "# Verify arrays\n",
    "print(\"Overtime array shape:\", overtime.shape)\n",
    "print(\"Sample overtime values:\", overtime[:5])\n",
    "\n",
    "print(\"\\nSatisfaction array shape:\", satisfaction.shape)\n",
    "print(\"Sample satisfaction values:\", satisfaction[:5])"
   ]
  },
  {
   "cell_type": "markdown",
   "id": "9c49e6c5",
   "metadata": {},
   "source": [
    "### Activity 2: Vectorized Calculations - Solution Code"
   ]
  },
  {
   "cell_type": "code",
   "execution_count": 9,
   "id": "fccb3cc4",
   "metadata": {},
   "outputs": [
    {
     "name": "stdout",
     "output_type": "stream",
     "text": [
      "Loop result: 7866.00\n",
      "Loop time: 0.000159 seconds\n",
      "\n",
      "Vectorized result: 7866.00\n",
      "Vectorized time: 0.000128 seconds\n",
      "\n",
      "Speedup factor: 1.24x\n"
     ]
    }
   ],
   "source": [
    "# Loop-based approach\n",
    "def calculate_overtime_loop(hours, rate=20):\n",
    "    total = 0\n",
    "    for hour in hours:\n",
    "        if not np.isnan(hour):\n",
    "            total += hour * rate\n",
    "    return total\n",
    "\n",
    "# Vectorized approach\n",
    "def calculate_overtime_vectorized(hours, rate=20):\n",
    "    return np.nansum(hours * rate)\n",
    "\n",
    "# Compare performance\n",
    "start_time = time.time()\n",
    "loop_result = calculate_overtime_loop(overtime)\n",
    "loop_time = time.time() - start_time\n",
    "\n",
    "start_time = time.time()\n",
    "vectorized_result = calculate_overtime_vectorized(overtime)\n",
    "vectorized_time = time.time() - start_time\n",
    "\n",
    "print(f\"Loop result: {loop_result:.2f}\")\n",
    "print(f\"Loop time: {loop_time:.6f} seconds\")\n",
    "print(f\"\\nVectorized result: {vectorized_result:.2f}\")\n",
    "print(f\"Vectorized time: {vectorized_time:.6f} seconds\")\n",
    "print(f\"\\nSpeedup factor: {loop_time/vectorized_time:.2f}x\")"
   ]
  },
  {
   "cell_type": "markdown",
   "id": "bea125fc",
   "metadata": {},
   "source": [
    "### Activity 3: Statistical Operations - Solution Code"
   ]
  },
  {
   "cell_type": "code",
   "execution_count": 10,
   "id": "4303dae3",
   "metadata": {},
   "outputs": [
    {
     "name": "stdout",
     "output_type": "stream",
     "text": [
      "Satisfaction Score Statistics:\n",
      "Mean: 5.57\n",
      "Median: 6.00\n",
      "Standard Deviation: 2.89\n",
      "\n",
      "Percentiles:\n",
      "25th percentile: 3.00\n",
      "75th percentile: 8.00\n",
      "\n",
      "Additional Statistics:\n",
      "Min: 1.00\n",
      "Max: 10.00\n",
      "Range: 9.00\n"
     ]
    }
   ],
   "source": [
    "# Basic statistics for satisfaction scores\n",
    "print(\"Satisfaction Score Statistics:\")\n",
    "print(f\"Mean: {np.nanmean(satisfaction):.2f}\")\n",
    "print(f\"Median: {np.nanmedian(satisfaction):.2f}\")\n",
    "print(f\"Standard Deviation: {np.nanstd(satisfaction):.2f}\")\n",
    "\n",
    "# Percentiles\n",
    "percentiles = np.nanpercentile(satisfaction, [25, 75])\n",
    "print(f\"\\nPercentiles:\")\n",
    "print(f\"25th percentile: {percentiles[0]:.2f}\")\n",
    "print(f\"75th percentile: {percentiles[1]:.2f}\")\n",
    "\n",
    "# Additional statistical analysis\n",
    "print(\"\\nAdditional Statistics:\")\n",
    "print(f\"Min: {np.nanmin(satisfaction):.2f}\")\n",
    "print(f\"Max: {np.nanmax(satisfaction):.2f}\")\n",
    "print(f\"Range: {np.nanmax(satisfaction) - np.nanmin(satisfaction):.2f}\")"
   ]
  }
 ],
 "metadata": {
  "kernelspec": {
   "display_name": "Python 3 (ipykernel)",
   "language": "python",
   "name": "python3"
  },
  "language_info": {
   "codemirror_mode": {
    "name": "ipython",
    "version": 3
   },
   "file_extension": ".py",
   "mimetype": "text/x-python",
   "name": "python",
   "nbconvert_exporter": "python",
   "pygments_lexer": "ipython3",
   "version": "3.10.6"
  }
 },
 "nbformat": 4,
 "nbformat_minor": 5
}
