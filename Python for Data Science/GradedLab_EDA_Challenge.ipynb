{
 "cells": [
  {
   "cell_type": "markdown",
   "id": "37040e56",
   "metadata": {},
   "source": [
    "# Graded Lab: Comprehensive EDA Challenge "
   ]
  },
  {
   "cell_type": "markdown",
   "id": "db2dbf4b",
   "metadata": {},
   "source": [
    "## Overview \n",
    "Welcome to your comprehensive data analysis challenge! In this lab, you'll apply your Python data science skills to solve a complex healthcare analytics problem through both required and extended analysis tasks.<br>\n",
    "As a data scientist on MediTrack's analytics team, you're tasked with transforming their vast healthcare data into actionable insights. MediTrack's platform integrates electronic health records, billing systems, and patient visit histories to revolutionize healthcare delivery. However, they need your expertise to uncover patterns and trends that will optimize their operations.\n"
   ]
  },
  {
   "cell_type": "markdown",
   "id": "8f17e6ce",
   "metadata": {},
   "source": [
    "### Your Challenge \n",
    "The Chief Medical Officer and Financial Director have requested a comprehensive analysis that will:\n",
    "- Identify patterns in patient demographics and health conditions\n",
    "- Analyze the effectiveness of insurance coverage\n",
    "- Track billing efficiency and payment patterns\n",
    "- Create interactive dashboards for real-time decision support\n",
    "\n",
    "This lab consists of two crucial parts:\n",
    "\n",
    "<b>Part 1 (Graded):</b>\n",
    "\n",
    "You'll conduct a comprehensive EDA focusing on:\n",
    "- Patient demographic analysis\n",
    "- Financial pattern identification\n",
    "- Correlation studies between health conditions and costs\n",
    "- Static visualization development for key metrics\n",
    "\n",
    "<b>Part 2 (Ungraded):</b>\n",
    "\n",
    "You'll extend your analysis by:\n",
    "- Creating interactive dashboards for dynamic data exploration\n",
    "- Developing real-time filtering mechanisms\n",
    "- Building user-friendly interfaces for medical staff\n",
    "\n",
    "### Learning Outcomes \n",
    "By completing this analysis, you will:\n",
    "- Generate actionable healthcare insights through comprehensive EDA\n",
    "- Create dynamic visualizations for stakeholder communication\n",
    "- Identify patterns in patient care and financial data\n",
    "- Develop interactive tools for healthcare decision-makers"
   ]
  },
  {
   "cell_type": "markdown",
   "id": "a7a15828",
   "metadata": {},
   "source": [
    "## Getting Started \n"
   ]
  },
  {
   "cell_type": "code",
   "execution_count": null,
   "id": "da146c56",
   "metadata": {},
   "outputs": [],
   "source": [
    "# Import essential libraries\n",
    "import pandas as pd\n",
    "import numpy as np\n",
    "import matplotlib.pyplot as plt\n",
    "import seaborn as sns\n",
    "import plotly.express as px\n",
    "import plotly.graph_objects as go\n",
    "import plotly.io as pio\n",
    "pio.renderers.default = 'notebook'\n",
    "from plotly.subplots import make_subplots\n",
    "#from plotchecker import PlotChecker\n",
    "\n",
    "\n",
    "# Set visualization preferences\n",
    "sns.set_style('whitegrid') "
   ]
  },
  {
   "cell_type": "markdown",
   "id": "f58cde7d",
   "metadata": {},
   "source": [
    "# Part 1: Graded Challenges - Comprehensive EDA  "
   ]
  },
  {
   "cell_type": "markdown",
   "id": "23691817",
   "metadata": {},
   "source": [
    "## Graded Challenge 1: Data Integration and Initial Analysis\n",
    "\n",
    "As MediTrack's data scientist, establish a foundation for analysis by:\n",
    "- Loading and validating all data sources\n",
    "- Generating comprehensive statistical summaries\n",
    "- Identifying data quality issues"
   ]
  },
  {
   "cell_type": "code",
   "execution_count": null,
   "id": "a7e348bd",
   "metadata": {
    "deletable": false,
    "nbgrader": {
     "cell_type": "code",
     "checksum": "9c030085f320531d58783afcadef8285",
     "grade": false,
     "grade_id": "cell-38ef0e359ff9a015",
     "locked": false,
     "schema_version": 3,
     "solution": true,
     "task": false
    }
   },
   "outputs": [],
   "source": [
    "# Load billing.csv and patients.csv in dataframes billing_df and patients_df respectively and generate basic statistics\n",
    "\n",
    "# YOUR CODE HERE"
   ]
  },
  {
   "cell_type": "code",
   "execution_count": null,
   "id": "592307f7",
   "metadata": {
    "deletable": false,
    "editable": false,
    "nbgrader": {
     "cell_type": "code",
     "checksum": "1cf09956479f009ee8b0937de5be0a81",
     "grade": true,
     "grade_id": "cell-e630a17180fd7b17",
     "locked": true,
     "points": 20,
     "schema_version": 3,
     "solution": false,
     "task": false
    }
   },
   "outputs": [],
   "source": [
    "# This cell contains test cases. Do not edit this cell.\n",
    "# NBGRADER TEST - 1: Dataframes and Appropriate statistic calculations"
   ]
  },
  {
   "cell_type": "markdown",
   "id": "03583e82",
   "metadata": {},
   "source": [
    "## Graded Challenge 2: Patient Population Analysis\n",
    "\n",
    "The Medical Director needs insights about patient demographics to optimize care delivery. Create demographic visualizations that show:\n",
    "- Age distribution across insurance types\n",
    "- Gender distribution by pre-existing conditions\n",
    "- Insurance coverage distribution "
   ]
  },
  {
   "cell_type": "code",
   "execution_count": null,
   "id": "8c333744",
   "metadata": {
    "deletable": false,
    "nbgrader": {
     "cell_type": "code",
     "checksum": "adbdf3dcd7d5b0da5c6f82d4f8326aae",
     "grade": false,
     "grade_id": "cell-7ea1e48012035ce1",
     "locked": false,
     "schema_version": 3,
     "solution": true,
     "task": false
    }
   },
   "outputs": [],
   "source": [
    "# Create a box plot that shows age distribution across insurance types.\n",
    "# Do not change the function name\n",
    "\n",
    "def age_distribution(): \n",
    "    \n",
    "    # YOUR CODE HERE\n",
    "    \n",
    "age_distribution()"
   ]
  },
  {
   "cell_type": "code",
   "execution_count": null,
   "id": "bf88ec17",
   "metadata": {
    "deletable": false,
    "editable": false,
    "nbgrader": {
     "cell_type": "code",
     "checksum": "37fca184617ec90d99e126b2bc731b07",
     "grade": true,
     "grade_id": "cell-9a25af293e701b9c",
     "locked": true,
     "points": 6,
     "schema_version": 3,
     "solution": false,
     "task": false
    }
   },
   "outputs": [],
   "source": [
    "# This cell contains test cases. Do not edit this cell.\n",
    "# NBGRADER TEST - 2A: Age distribution across Insurance Types Box plot"
   ]
  },
  {
   "cell_type": "code",
   "execution_count": null,
   "id": "2c4f41a1",
   "metadata": {
    "deletable": false,
    "nbgrader": {
     "cell_type": "code",
     "checksum": "f40deb59fda1653b1056d13a6b4b702f",
     "grade": false,
     "grade_id": "cell-ccdd41e9ff39f53c",
     "locked": false,
     "schema_version": 3,
     "solution": true,
     "task": false
    }
   },
   "outputs": [],
   "source": [
    "# Create a stacked bar chart showing gender distribution by pre-existing conditions.\n",
    "# Each bar should represent a condition, segmented by gender.\n",
    "# Do not change the function name.\n",
    "\n",
    "def gender_distribution():\n",
    "    \n",
    "    # YOUR CODE HERE\n",
    "    \n",
    "gender_distribution()"
   ]
  },
  {
   "cell_type": "code",
   "execution_count": null,
   "id": "57b61386",
   "metadata": {
    "deletable": false,
    "editable": false,
    "nbgrader": {
     "cell_type": "code",
     "checksum": "a003434f22bc48a5b10fd0dcaf3b9d20",
     "grade": true,
     "grade_id": "cell-905047a0fafc710a",
     "locked": true,
     "points": 8,
     "schema_version": 3,
     "solution": false,
     "task": false
    }
   },
   "outputs": [],
   "source": [
    "# This cell contains test cases. Do not edit this cell.\n",
    "# NBGRADER TEST - 2B: Gender by Condition Bar Chart"
   ]
  },
  {
   "cell_type": "code",
   "execution_count": null,
   "id": "f1b829fc",
   "metadata": {
    "deletable": false,
    "nbgrader": {
     "cell_type": "code",
     "checksum": "b396f124daa5e444a24ccb5aa3481a2c",
     "grade": false,
     "grade_id": "cell-2208cf065f732374",
     "locked": false,
     "schema_version": 3,
     "solution": true,
     "task": false
    }
   },
   "outputs": [],
   "source": [
    "# Create a pie chart to show Insurance coverage distribution \n",
    "# Do not change the function name\n",
    "\n",
    "def insurance_distribution(): \n",
    "    \n",
    "    # YOUR CODE HERE\n",
    "    \n",
    "insurance_distribution()"
   ]
  },
  {
   "cell_type": "code",
   "execution_count": null,
   "id": "1fa0a144",
   "metadata": {
    "deletable": false,
    "editable": false,
    "nbgrader": {
     "cell_type": "code",
     "checksum": "428d53a6c8781fc163ecd08f67656508",
     "grade": true,
     "grade_id": "cell-ce798412ef193b10",
     "locked": true,
     "points": 6,
     "schema_version": 3,
     "solution": false,
     "task": false
    }
   },
   "outputs": [],
   "source": [
    "# This cell contains test cases. Do not edit this cell.\n",
    "# NBGRADER TEST - 2C: Insurance Coverage Pie Chart"
   ]
  },
  {
   "cell_type": "markdown",
   "id": "2f23cff5",
   "metadata": {},
   "source": [
    "## Graded Challenge 3: Financial Pattern Analysis\n",
    "\n",
    "The Finance Team needs to understand billing efficiency.Analyze:\n",
    "- Average charges for different conditions\n",
    "- Payment status distributions"
   ]
  },
  {
   "cell_type": "code",
   "execution_count": null,
   "id": "498983fa",
   "metadata": {
    "deletable": false,
    "nbgrader": {
     "cell_type": "code",
     "checksum": "1c1946ce86a65dd2231e128680b0b4f7",
     "grade": false,
     "grade_id": "cell-7d2d1e51ae9b97a5",
     "locked": false,
     "schema_version": 3,
     "solution": true,
     "task": false
    }
   },
   "outputs": [],
   "source": [
    "# Create a bar plot that shows average charges by condition. \n",
    "# 1. Calculate Average charges for each condition\n",
    "# 2. Then, create a bar plot using seaborn\n",
    "\n",
    "def average_charges_distribution():\n",
    "    \n",
    "    # YOUR CODE HERE\n",
    "    \n",
    "average_charges_distribution()"
   ]
  },
  {
   "cell_type": "code",
   "execution_count": null,
   "id": "c42a92a4",
   "metadata": {
    "deletable": false,
    "editable": false,
    "nbgrader": {
     "cell_type": "code",
     "checksum": "aac6fff231af51ac3faa4c5c6499a08d",
     "grade": true,
     "grade_id": "cell-6af5730bc10fdb1d",
     "locked": true,
     "points": 10,
     "schema_version": 3,
     "solution": false,
     "task": false
    }
   },
   "outputs": [],
   "source": [
    "# This cell contains test cases. Do not edit this cell.\n",
    "# NBGRADER TEST - 3A: Average Charges by Pre-existing Condition"
   ]
  },
  {
   "cell_type": "code",
   "execution_count": null,
   "id": "a61c367a",
   "metadata": {
    "deletable": false,
    "nbgrader": {
     "cell_type": "code",
     "checksum": "bafc7c8ff000d639b6a2b358736873d0",
     "grade": false,
     "grade_id": "cell-149b3cbc52a91e7b",
     "locked": false,
     "schema_version": 3,
     "solution": true,
     "task": false
    }
   },
   "outputs": [],
   "source": [
    "# Create a pie chart that shows payment status distribution\n",
    "# Do not change the function name\n",
    "\n",
    "def payment_status_distribution():\n",
    "    \n",
    "    # YOUR CODE HERE\n",
    "    \n",
    "payment_status_distribution()"
   ]
  },
  {
   "cell_type": "code",
   "execution_count": null,
   "id": "edd0d2d5",
   "metadata": {
    "deletable": false,
    "editable": false,
    "nbgrader": {
     "cell_type": "code",
     "checksum": "339c61fa46063ce8bd540982b01cebc5",
     "grade": true,
     "grade_id": "cell-a773236dd1f4275a",
     "locked": true,
     "points": 10,
     "schema_version": 3,
     "solution": false,
     "task": false
    }
   },
   "outputs": [],
   "source": [
    "# This cell contains test cases. Do not edit this cell.\n",
    "# NBGRADER TEST - 3B: Payment Status Pie Chart"
   ]
  },
  {
   "cell_type": "markdown",
   "id": "30bae8a4",
   "metadata": {},
   "source": [
    "## Graded Challenge 4: Healthcare Metrics Correlation\n",
    "\n",
    "Analyze how patient characteristics, insurance coverage, and pre-existing conditions correlate with healthcare charges and billing outcomes.\n",
    "- Merge the patient and billing datasets using a common key, into a dataframe called <b>merged_df</b>\n",
    "- Focus on numeric columns for correlation analysis.\n",
    "- Create and visualize a correlation matrix to identify significant relationships."
   ]
  },
  {
   "cell_type": "code",
   "execution_count": null,
   "id": "a5f59c0a",
   "metadata": {
    "deletable": false,
    "nbgrader": {
     "cell_type": "code",
     "checksum": "018df1e5bd62a466779817447891b540",
     "grade": false,
     "grade_id": "cell-a0188ddedef21757",
     "locked": false,
     "schema_version": 3,
     "solution": true,
     "task": false
    }
   },
   "outputs": [],
   "source": [
    "# Merge datasets for correlation analysis into a dataframe called \"merged_df\"\n",
    "\n",
    "# YOUR CODE HERE\n",
    "\n",
    "# Then, create and visualize a heatmap for correlation matrix\n",
    "def correlation_analysis():\n",
    "    \n",
    "    # YOUR CODE HERE\n",
    "    \n",
    "correlation_analysis()"
   ]
  },
  {
   "cell_type": "code",
   "execution_count": null,
   "id": "e1d54539",
   "metadata": {
    "deletable": false,
    "editable": false,
    "nbgrader": {
     "cell_type": "code",
     "checksum": "1217e21f7cd76c32d3dc326f2af48670",
     "grade": true,
     "grade_id": "cell-052197bdfdea097a",
     "locked": true,
     "points": 20,
     "schema_version": 3,
     "solution": false,
     "task": false
    }
   },
   "outputs": [],
   "source": [
    "# This cell contains test cases. Do not edit this cell.\n",
    "# NBGRADER TEST - 4A: Correlation Matrix Heatmap"
   ]
  },
  {
   "cell_type": "markdown",
   "id": "326d0dc3",
   "metadata": {},
   "source": [
    "# Part 2: Ungraded Interactive Visualization Extension "
   ]
  },
  {
   "cell_type": "markdown",
   "id": "476ee99a",
   "metadata": {},
   "source": [
    "## Activities\n",
    "\n",
    "### Activity 1: Interactive Patient Analytics"
   ]
  },
  {
   "cell_type": "code",
   "execution_count": null,
   "id": "c957e323",
   "metadata": {},
   "outputs": [],
   "source": [
    "# Create a dynamic scatter to explore patient demographics and billing data.\n",
    "# Include hover information on:\n",
    "# - Insurance types\n",
    "\n",
    "pio.renderers.default = 'iframe_connected'\n",
    "\n",
    "# YOUR CODE HERE "
   ]
  },
  {
   "cell_type": "markdown",
   "id": "6effc6ea",
   "metadata": {},
   "source": [
    "### Activity 2: Financial Insights "
   ]
  },
  {
   "cell_type": "code",
   "execution_count": null,
   "id": "e8ce4b5a",
   "metadata": {},
   "outputs": [],
   "source": [
    "# Develop an interactive billing analysis \n",
    "# Feature requirements:\n",
    "# - Age\n",
    "# - Gender\n",
    "\n",
    "# YOUR CODE HERE \n"
   ]
  },
  {
   "cell_type": "markdown",
   "id": "410cc9a2",
   "metadata": {},
   "source": [
    "## Verify Your Results\n",
    "\n",
    "Before submission, verify your analysis meets these requirements:\n",
    "\n",
    "Data Integration & Initial Analysis:\n",
    "- Both datasets successfully loaded\n",
    "- All data types correctly identified\n",
    "- Complete summary statistics generated\n",
    "- Missing values properly documented\n",
    "\n",
    "Patient Demographics Analysis:\n",
    "- Age distribution visualization present\n",
    "- Gender breakdown complete\n",
    "- Insurance type distribution shown\n",
    "- Pre-existing conditions analyzed\n",
    "\n",
    "Financial Pattern Analysis:\n",
    "- Average charges calculated correctly\n",
    "- Payment status distributions visualized\n",
    "- Insurance coverage patterns identified\n",
    "- Temporal trends documented\n",
    "\n",
    "Correlation Analysis:\n",
    "- Correlation matrix properly calculated\n",
    "- Key relationships visualized\n",
    "- Statistical significance noted\n",
    "- Insights documented\n",
    "\n",
    "## Troubleshooting\n",
    "If you encounter issues, check these common problems and solutions:\n",
    "\n",
    "Data Loading Issues:\n",
    "- Verify file paths and names\n",
    "- Check for proper encoding\n",
    "- Confirm data types match expected format\n",
    "\n",
    "Visualization Problems:\n",
    "- Ensure all required libraries are imported\n",
    "- Check for proper figure sizes\n",
    "- Verify color schemes are appropriate\n",
    "- Confirm axes labels are readable\n",
    "\n",
    "Analysis Errors:\n",
    "- Review calculations for mathematical accuracy\n",
    "- Check for proper handling of missing values\n",
    "- Verify grouping operations\n",
    "- Confirm correlation calculations\n",
    "\n",
    "Documentation Issues:\n",
    "- Ensure all insights are clearly written\n",
    "- Check that visualizations have proper titles and labels\n",
    "- Verify that findings are supported by data\n",
    "- Confirm all required components are included"
   ]
  }
 ],
 "metadata": {
  "kernelspec": {
   "display_name": "Python 3 (ipykernel)",
   "language": "python",
   "name": "python3"
  },
  "language_info": {
   "codemirror_mode": {
    "name": "ipython",
    "version": 3
   },
   "file_extension": ".py",
   "mimetype": "text/x-python",
   "name": "python",
   "nbconvert_exporter": "python",
   "pygments_lexer": "ipython3",
   "version": "3.10.6"
  }
 },
 "nbformat": 4,
 "nbformat_minor": 5
}
