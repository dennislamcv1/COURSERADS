{
 "cells": [
  {
   "cell_type": "markdown",
   "id": "a48b1f1f",
   "metadata": {},
   "source": [
    "# Ungraded Lab: AI-Assisted Documentation Lab"
   ]
  },
  {
   "cell_type": "markdown",
   "id": "f39b904b",
   "metadata": {},
   "source": [
    "## Overview \n",
    "In this hands-on lab, you'll harness the power of AI to enhance your code documentation and version control practices. Using functions from your previous analysis work, you'll learn to generate, evaluate, and refine documentation using ChatGPT, making your code more maintainable and collaborative.\n",
    "\n",
    "<b>Remember:</b> The screencast covers similar examples – feel free to pause your work and review the relevant section if you need guidance.\n",
    "\n",
    "## Learning Outcomes \n",
    "By the end of this lab, you will be able to:\n",
    "- Generate clear function documentation using AI tools\n",
    "- Evaluate and refine AI-generated documentation for accuracy\n",
    "- Create effective commit messages using AI assistance\n",
    "- Ensure your Jupyter notebook is ready for documentation updates"
   ]
  },
  {
   "cell_type": "markdown",
   "id": "ea6dfd91",
   "metadata": {},
   "source": [
    "## Activities\n",
    "### Activity 1: Basic Function Documentation\n",
    "\n",
    "<b>Step 1:</b> Select a Function for Documentation\n",
    "- Open one of your previous lab's notebook\n",
    "- Identify a data cleaning or analysis function to document"
   ]
  },
  {
   "cell_type": "code",
   "execution_count": null,
   "id": "0b8e7f7c",
   "metadata": {},
   "outputs": [],
   "source": [
    "import pandas as pd\n",
    "\n",
    "# Example function to document:\n",
    "def process_employee_data(df):\n",
    "     # Your existing code here"
   ]
  },
  {
   "cell_type": "markdown",
   "id": "e22855e7",
   "metadata": {},
   "source": [
    "<b>Tip:</b> Do not worry about loading any dataframe for now. Here, you are required to create a function, which you can call later after loading a data file."
   ]
  },
  {
   "cell_type": "markdown",
   "id": "422005e4",
   "metadata": {},
   "source": [
    "<b>Step 2:</b> Generate Initial Documentation\n",
    "\n",
    "- Copy your function code \n",
    "- Ask ChatGPT: \"Generate Python docstring documentation for this function following Google style guide.\""
   ]
  },
  {
   "cell_type": "code",
   "execution_count": null,
   "id": "ca0b0c3d",
   "metadata": {},
   "outputs": [],
   "source": [
    "# ChatGPT Prompt: \"Generate Python docstring documentation for this function following Google style guide.\""
   ]
  },
  {
   "cell_type": "markdown",
   "id": "6f6fbc2f",
   "metadata": {},
   "source": [
    "### Activity 2: Refining AI-Generated Documentation\n",
    "\n",
    "<b>Step 1:</b> Review and Enhance\n",
    "- Paste the AI-generated documentation below \n",
    "- Evaluate the documentation for accuracy and completeness"
   ]
  },
  {
   "cell_type": "code",
   "execution_count": null,
   "id": "864a8e70",
   "metadata": {},
   "outputs": [],
   "source": [
    "# Paste the AI-generated documentation here."
   ]
  },
  {
   "cell_type": "markdown",
   "id": "d22d9a2e",
   "metadata": {},
   "source": [
    "\n",
    "<b>Step 2:</b> Add Examples"
   ]
  },
  {
   "cell_type": "code",
   "execution_count": null,
   "id": "dd4166cd",
   "metadata": {},
   "outputs": [],
   "source": [
    "# ChatGPT Prompt: \"Add usage examples to this documentation\""
   ]
  },
  {
   "cell_type": "markdown",
   "id": "7d9c2384",
   "metadata": {},
   "source": [
    "<b>Tip:</b> Always verify that the AI-generated examples match your function's actual behavior."
   ]
  },
  {
   "cell_type": "markdown",
   "id": "bdd68cc1",
   "metadata": {},
   "source": [
    "### Activity 3: Test your Code & Commit Message Generation\n",
    "\n",
    "<b>Step 1:</b> Prepare Changes Summary\n",
    "- Test the function using employee_insights_cleaned.csv\n",
    "- List the documentation changes you've made\n",
    "- Use ChatGPT to generate a commit message"
   ]
  },
  {
   "cell_type": "code",
   "execution_count": null,
   "id": "eefe2d55",
   "metadata": {},
   "outputs": [],
   "source": [
    "# Test the function using employee_insights_cleaned.csv"
   ]
  },
  {
   "cell_type": "code",
   "execution_count": null,
   "id": "1f1864bd",
   "metadata": {},
   "outputs": [],
   "source": [
    "# Testing the function\n",
    "df = pd.read_csv('employee_insights_cleaned.csv')\n",
    "\n",
    "# your code to test your functions \n",
    "\n",
    "# ChatGPT Prompt Template:\n",
    "\n",
    "\"\"\"\n",
    "I've made these changes to my code:\n",
    "1. Added documentation to process_employee_data function\n",
    "2. Included usage examples\n",
    "Generate a clear, concise git commit message.\n",
    "\"\"\"\n",
    "# AI Generated Commit Message:"
   ]
  },
  {
   "cell_type": "markdown",
   "id": "b3101315",
   "metadata": {},
   "source": [
    "<b>Test Your Work:</b>\n",
    "1. Run documented functions to verify accuracy\n",
    "2. Review documentation with a fresh perspective\n",
    "3. Verify commit message clarity\n",
    "\n",
    "## Success Checklist\n",
    "- Functions have clear, complete docstrings\n",
    "- Documentation includes practical examples\n",
    "- Commit messages are descriptive and follow best practices\n",
    "- AI-generated content has been reviewed and refined\n",
    "\n",
    "## Common Issues & Solutions \n",
    "- Problem: AI generates incorrect parameter descriptions \n",
    "    - Solution: Provide more context about your data and function purpose in the prompt\n",
    "- Problem: Generated examples don't match your use case \n",
    "    - Solution: Specify your exact data types and expected outputs in the prompt\n",
    "    \n",
    "## Summary\n",
    "Congratulations on completing this AI-assisted documentation lab! You've learned to leverage ChatGPT for generating and refining code documentation while maintaining high standards for clarity and accuracy. This powerful combination of AI assistance and human oversight will help you create more maintainable, collaborative code in your data science projects.\n",
    "\n",
    "### Key Points\n",
    "- AI can accelerate documentation writing but requires human verification\n",
    "- Good prompts lead to better AI-generated content\n",
    "- Documentation should always prioritize clarity and accuracy\n",
    "- Combine AI assistance with human expertise for best results"
   ]
  },
  {
   "cell_type": "markdown",
   "id": "6dfffba7",
   "metadata": {},
   "source": [
    "## Solution Code\n",
    "Stuck on your code or want to check your solution? Here's a complete reference implementation to guide you. This represents just one effective approach—try solving independently first, then use this to overcome obstacles or compare techniques. The solution is provided to help you move forward and explore alternative approaches to achieve the same results. Happy coding!"
   ]
  },
  {
   "cell_type": "markdown",
   "id": "3b1268da",
   "metadata": {},
   "source": [
    "### Activity 1: Basic Function Documentation - Solution Code"
   ]
  },
  {
   "cell_type": "code",
   "execution_count": null,
   "id": "25743f55",
   "metadata": {},
   "outputs": [],
   "source": [
    "# Original function without AI-generated documentation\n",
    "def process_employee_data(df):\n",
    "    # Add the documentation generated by ChatGPT here\n",
    "\n",
    "    # Clean column names\n",
    "    df.columns = df.columns.str.lower().str.replace(' ', '_')\n",
    "    \n",
    "    # Handle missing values\n",
    "    df['salary'] = df['salary'].fillna(df['salary'].mean())\n",
    "    df['department'] = df['department'].fillna('Unknown')\n",
    "    \n",
    "    # Standardize categories\n",
    "    df['work_mode'] = df['work_mode'].str.upper()\n",
    "    \n",
    "    return df"
   ]
  },
  {
   "cell_type": "markdown",
   "id": "17c1e854",
   "metadata": {},
   "source": [
    "### Activity 2: Refining AI-Generated Documentation - Solution Code"
   ]
  },
  {
   "cell_type": "code",
   "execution_count": null,
   "id": "e65156fd",
   "metadata": {},
   "outputs": [],
   "source": [
    "# Step 1: Refined Documentation\n",
    "def process_employee_data(df):\n",
    "    \"\"\"\n",
    "    Clean and standardize employee data in a pandas DataFrame.\n",
    "    \n",
    "    Args:\n",
    "        df (pandas.DataFrame): Input DataFrame containing employee data with columns\n",
    "            including 'salary', 'department', and 'work_mode'.\n",
    "    \n",
    "    Returns:\n",
    "        pandas.DataFrame: Cleaned DataFrame with standardized column names,\n",
    "            filled missing values, and uppercase work modes.\n",
    "  \"\"\"\n",
    "    # Verify required columns\n",
    "    required_cols = {'salary', 'department', 'work_mode'}\n",
    "    if not required_cols.issubset(set(df.columns.str.lower())):\n",
    "        raise ValueError(f\"DataFrame must contain columns: {required_cols}\")\n",
    "    \n",
    "    # Clean column names\n",
    "    df.columns = df.columns.str.lower().str.replace(' ', '_')\n",
    "    \n",
    "    # Handle missing values\n",
    "    df['salary'] = df['salary'].fillna(df['salary'].mean())\n",
    "    df['department'] = df['department'].fillna('Unknown')\n",
    "    \n",
    "    # Standardize categories\n",
    "    df['work_mode'] = df['work_mode'].str.upper()\n",
    "    \n",
    "    return df\n",
    "\n",
    "# Step 2: Refined Documentation with Examples\n",
    "def process_employee_data(df):\n",
    "    \"\"\"\n",
    "    Cleans and standardizes employee data in a DataFrame.\n",
    "\n",
    "    This function performs the following operations:\n",
    "    - Converts column names to lowercase and replaces spaces with underscores.\n",
    "    - Fills missing values in the 'salary' column with the mean salary.\n",
    "    - Fills missing values in the 'department' column with 'Unknown'.\n",
    "    - Standardizes the 'work_mode' column by converting its values to uppercase.\n",
    "\n",
    "    Args:\n",
    "        df (pandas.DataFrame): A DataFrame containing employee data with at least\n",
    "            the columns 'salary', 'department', and 'work_mode'.\n",
    "\n",
    "    Returns:\n",
    "        pandas.DataFrame: The cleaned and standardized employee DataFrame.\n",
    "\n",
    "    Examples:\n",
    "        >>> import pandas as pd\n",
    "        >>> data = {\n",
    "        ...     'Salary': [50000, None, 70000],\n",
    "        ...     'Department': ['HR', None, 'Engineering'],\n",
    "        ...     'Work Mode': ['remote', 'Hybrid', 'Onsite']\n",
    "        ... }\n",
    "        >>> df = pd.DataFrame(data)\n",
    "        >>> clean_df = process_employee_data(df)\n",
    "        >>> print(clean_df)\n",
    "           salary   department work_mode\n",
    "        0  50000.0           HR    REMOTE\n",
    "        1  60000.0      Unknown    HYBRID\n",
    "        2  70000.0  Engineering    ONSITE\n",
    "    \"\"\"\n",
    "\n",
    "    # Clean column names\n",
    "    df.columns = df.columns.str.lower().str.replace(' ', '_')\n",
    "    \n",
    "    # Handle missing values\n",
    "    df['salary'] = df['salary'].fillna(df['salary'].mean())\n",
    "    df['department'] = df['department'].fillna('Unknown')\n",
    "    \n",
    "    # Standardize categories\n",
    "    df['work_mode'] = df['work_mode'].str.upper()\n",
    "    \n",
    "    return df"
   ]
  },
  {
   "cell_type": "markdown",
   "id": "8f75f2e3",
   "metadata": {},
   "source": [
    "### Activity 3: Commit Message Generation - Solution Code"
   ]
  },
  {
   "cell_type": "code",
   "execution_count": null,
   "id": "5ff2892e",
   "metadata": {},
   "outputs": [],
   "source": [
    "# Testing the function\n",
    "import pandas as pd\n",
    "\n",
    "df = pd.read_csv('employee_insights_cleaned.csv')\n",
    "\n",
    "df_process = process_employee_data(df)\n",
    "df_process.head()\n",
    "\n",
    "# AI Generated Commit Message:\n",
    "\"Here’s a clear and concise Git commit message for your changes:\"\n",
    "\n",
    "\"Add docstring and usage examples to process_employee_data function\""
   ]
  }
 ],
 "metadata": {
  "kernelspec": {
   "display_name": "Python 3 (ipykernel)",
   "language": "python",
   "name": "python3"
  },
  "language_info": {
   "codemirror_mode": {
    "name": "ipython",
    "version": 3
   },
   "file_extension": ".py",
   "mimetype": "text/x-python",
   "name": "python",
   "nbconvert_exporter": "python",
   "pygments_lexer": "ipython3",
   "version": "3.10.6"
  }
 },
 "nbformat": 4,
 "nbformat_minor": 5
}
