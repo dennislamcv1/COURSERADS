{
 "cells": [
  {
   "cell_type": "markdown",
   "id": "b536e731",
   "metadata": {},
   "source": [
    "# Ungraded Lab: Experiment Management Lab"
   ]
  },
  {
   "cell_type": "markdown",
   "id": "5f866136",
   "metadata": {},
   "source": [
    "## Overview \n",
    "In this hands-on lab, you'll learn to manage multiple analysis approaches using Git branching strategies at EngageMetrics. You'll create feature branches for different analytical experiments, handle merge conflicts, and document your branching strategy—essential skills for collaborative data science projects.\n",
    "\n",
    "<b>Pro tip:</b> Stuck on a step? The screencast shows a similar workflow that can help you troubleshoot. Take a moment to review that section before continuing.\n",
    "\n",
    "## Learning Outcomes \n",
    "\n",
    "By the end of this lab, you will be able to:\n",
    "- Create and manage feature branches for different analysis approaches\n",
    "- Implement Git Flow for data science experimentation\n",
    "- Resolve merge conflicts in Jupyter notebooks\n",
    "- Document branching strategies effectively"
   ]
  },
  {
   "cell_type": "markdown",
   "id": "8ff62287",
   "metadata": {},
   "source": [
    "## Activities\n",
    "\n",
    "### Activity 1:  Setting Up Feature Branches"
   ]
  },
  {
   "cell_type": "markdown",
   "id": "cc1e2679",
   "metadata": {},
   "source": [
    "<b>Step 1:</b> Import the required libraries and load the dataset: "
   ]
  },
  {
   "cell_type": "code",
   "execution_count": 1,
   "id": "68a92055",
   "metadata": {},
   "outputs": [],
   "source": [
    "# Import required libraries\n",
    "import pandas as pd\n",
    "import numpy as np\n",
    "import matplotlib.pyplot as plt\n",
    "import seaborn as sns\n",
    "\n",
    "# Load the dataset\n",
    "df = pd.read_csv('employee_insights_cleaned.csv')"
   ]
  },
  {
   "cell_type": "markdown",
   "id": "4b73de63",
   "metadata": {},
   "source": [
    "<b>Step 2:</b> Create Analysis Branches "
   ]
  },
  {
   "cell_type": "code",
   "execution_count": 2,
   "id": "e88aa37d",
   "metadata": {},
   "outputs": [
    {
     "name": "stdout",
     "output_type": "stream",
     "text": [
      "warning: re-init: ignored --initial-branch=main\n",
      "Reinitialized existing Git repository in /home/jovyan/work/.git/\n",
      "[main 49b7d9f] initial commit\n",
      " 4 files changed, 77 insertions(+), 42 deletions(-)\n",
      " mode change 100644 => 100755 .dotfiles-coursera/.gitconfig\n",
      " mode change 100644 => 100755 .ipynb_checkpoints/ExperimentManagementLab-checkpoint.ipynb\n",
      " mode change 100644 => 100755 ExperimentManagementLab.ipynb\n",
      " mode change 100644 => 100755 employee_insights_cleaned.csv\n",
      "fatal: A branch named 'feature/department-analysis' already exists.\n",
      "fatal: A branch named 'feature/work-mode-analysis' already exists.\n"
     ]
    }
   ],
   "source": [
    "# Initialize a new Git repository with main branc (if repo doesn't exist yet)\n",
    "!git init -b main\n",
    "\n",
    "# (Optional) Set your user info if not set globally. Remove the # to run the commands given below\n",
    "#!git config user.name \"Your Name\"\n",
    "#!git config user.email \"your.email@example.com\"\n",
    "\n",
    "# Add all files to staging and commit initial files\n",
    "!git add .\n",
    "!git commit -m \"initial commit\"\n",
    "\n",
    "# Create a branch for department analysis\n",
    "!git checkout -b feature/department-analysis\n",
    "\n",
    "# Create a branch for work-mode analysis\n",
    "!git checkout -b feature/work-mode-analysis"
   ]
  },
  {
   "cell_type": "markdown",
   "id": "0ae14fbe",
   "metadata": {},
   "source": [
    "<b>Tip:</b> Use descriptive branch names that clearly indicate the analysis purpose. You can use !git branch to verify branches."
   ]
  },
  {
   "cell_type": "markdown",
   "id": "124b8d18",
   "metadata": {},
   "source": [
    "### Activity 2:  Developing Parallel Analyses"
   ]
  },
  {
   "cell_type": "markdown",
   "id": "769d3bb6",
   "metadata": {},
   "source": [
    "<b>Step 1:</b> Work on Department Analysis"
   ]
  },
  {
   "cell_type": "code",
   "execution_count": 3,
   "id": "090b61a1",
   "metadata": {},
   "outputs": [
    {
     "name": "stdout",
     "output_type": "stream",
     "text": [
      "Switched to branch 'feature/department-analysis'\n"
     ]
    }
   ],
   "source": [
    "# Switch to department analysis branch\n",
    "!git checkout feature/department-analysis\n",
    "\n",
    "# Add a function to analyze and visualize department performance:\n",
    "def analyze_department_performance(df):\n",
    "    \"\"\"\n",
    "    Analyze performance metrics by department\n",
    "    \"\"\"\n",
    "    # Your analysis code here\n",
    "    \n",
    "# You may call the function to check the output\n",
    "# analyze_department_performance(df)"
   ]
  },
  {
   "cell_type": "markdown",
   "id": "4fa69828",
   "metadata": {},
   "source": [
    "<b>Step 2:</b> Work on Work-Mode Analysis\n"
   ]
  },
  {
   "cell_type": "code",
   "execution_count": 4,
   "id": "88fef232",
   "metadata": {},
   "outputs": [
    {
     "name": "stdout",
     "output_type": "stream",
     "text": [
      "Switched to branch 'feature/work-mode-analysis'\n"
     ]
    }
   ],
   "source": [
    "# Switch to work mode analysis branch\n",
    "!git checkout feature/work-mode-analysis\n",
    "\n",
    "# Add a function to analyze and visualize work-mode impact:\n",
    "def analyze_work_mode_impact(df):\n",
    "    \"\"\"\n",
    "    Analyze performance metrics by work mode\n",
    "    \"\"\"\n",
    "    # Your analysis code here\n",
    "    \n",
    "# You may call the function to check the output\n",
    "# analyze_work_mode_impact(df)"
   ]
  },
  {
   "cell_type": "markdown",
   "id": "01e8ea52",
   "metadata": {},
   "source": [
    "<b>Tip:</b> Keep your analyses in separate functions to minimize merge conflicts."
   ]
  },
  {
   "cell_type": "markdown",
   "id": "a8b47e56",
   "metadata": {},
   "source": [
    "### Activity 3: Handling Merge Conflicts"
   ]
  },
  {
   "cell_type": "markdown",
   "id": "b4f8f1d5",
   "metadata": {},
   "source": [
    "<b>Step 1:</b>  Merge Feature Branches"
   ]
  },
  {
   "cell_type": "code",
   "execution_count": 5,
   "id": "2e92ead9",
   "metadata": {},
   "outputs": [
    {
     "name": "stdout",
     "output_type": "stream",
     "text": [
      "Switched to branch 'main'\n",
      "Already up to date.\n"
     ]
    }
   ],
   "source": [
    "# Switch to main branch\n",
    "!git checkout main\n",
    "\n",
    "# Merge department analysis\n",
    "!git merge feature/department-analysis"
   ]
  },
  {
   "cell_type": "markdown",
   "id": "4321160e",
   "metadata": {},
   "source": [
    "<b>Step 2:</b> Resolve Conflicts When conflicts occur:\n",
    "1. Open the conflicting notebook\n",
    "2. Choose which analysis version to keep\n",
    "3. Update the notebook metadata\n",
    "4. Commit the resolved changes"
   ]
  },
  {
   "cell_type": "markdown",
   "id": "5684a49c",
   "metadata": {},
   "source": [
    "<b>Test Your Work</b>\n",
    "1. Run all cells in merged notebook\n",
    "2. Verify analyses produce expected results\n",
    "3. Check Git status for clean workspace\n",
    "\n",
    "## Success Checklist\n",
    "- Feature branches created and organized\n",
    "- Analyses completed in separate branches\n",
    "- Merge conflicts resolved successfully\n",
    "- Documentation updated for all changes\n",
    "- Final notebook runs without errors\n",
    "\n",
    "## Common Issues & Solutions \n",
    "- Problem: Notebook merge conflicts \n",
    "    - Solution: Clear outputs before merging and use nbdime for notebook-specific merging\n",
    "- Problem: Lost analysis version \n",
    "    - Solution: Create backup branches before merging\n",
    "    \n",
    "## Summary \n",
    "Congratulations! You've learned to manage multiple analysis approaches using Git branching strategies. This workflow will help you organize collaborative data science projects effectively.\n",
    "\n",
    "### Key Points\n",
    "- Feature branches keep experiments organized\n",
    "- Clear branch naming aids collaboration\n",
    "- Regular merges prevent major conflicts\n",
    "- Documentation ensures reproducibility"
   ]
  },
  {
   "cell_type": "markdown",
   "id": "39053614-1fe1-428b-aea3-ed94ed09f9b0",
   "metadata": {},
   "source": [
    "## Solution Code\n",
    "Stuck on your code or want to check your solution? Here's a complete reference implementation to guide you. This represents just one effective approach—try solving independently first, then use this to overcome obstacles or compare techniques. The solution is provided to help you move forward and explore alternative approaches to achieve the same results. Happy coding!\n"
   ]
  },
  {
   "cell_type": "markdown",
   "id": "fb060ab3-feba-4a23-bdd7-cc2ecb11d7f4",
   "metadata": {},
   "source": [
    "### Activity 1: Setting Up Feature Branches - Solution Code"
   ]
  },
  {
   "cell_type": "code",
   "execution_count": 6,
   "id": "935fddf6-5512-4c6f-8292-6f542bc5bc9c",
   "metadata": {},
   "outputs": [],
   "source": [
    "# Activity 1: Setting Up Feature Branches\n",
    "\n",
    "\"\"\"\n",
    "# Notebooks commands for branch setup\n",
    "!git checkout -b feature/department-analysis\n",
    "!git checkout -b feature/work-mode-analysis\n",
    "\n",
    "# Verify branches\n",
    "!git branch\n",
    "\"\"\"\n",
    "\n",
    "# Import required libraries\n",
    "import pandas as pd\n",
    "import numpy as np\n",
    "import matplotlib.pyplot as plt\n",
    "import seaborn as sns\n",
    "\n",
    "# Load the dataset\n",
    "df = pd.read_csv('employee_insights_cleaned.csv')"
   ]
  },
  {
   "cell_type": "markdown",
   "id": "a1ea3d4b-cf5c-4e9b-912b-b5f564626a4f",
   "metadata": {},
   "source": [
    "### Activity 2: Developing Parallel Analyses - Solution Code"
   ]
  },
  {
   "cell_type": "code",
   "execution_count": 7,
   "id": "5b567d57-44c3-42bd-9633-be6e0e338494",
   "metadata": {},
   "outputs": [],
   "source": [
    "# Step 1: Department Analysis Branch\n",
    "\n",
    "\"\"\"\n",
    "!git checkout feature/department-analysis\n",
    "\"\"\"\n",
    "\n",
    "def analyze_department_performance(df):\n",
    "    \"\"\"Analyze performance metrics by department.\n",
    "    \n",
    "    Args:\n",
    "        df (pandas.DataFrame): Employee data containing department information\n",
    "            and performance metrics\n",
    "    \n",
    "    Returns:\n",
    "        dict: Dictionary containing performance metrics by department\n",
    "    \"\"\"\n",
    "    results = {}\n",
    "    \n",
    "    # Calculate average performance metrics by department\n",
    "    dept_metrics = df.groupby('department').agg({\n",
    "        'satisfaction_score': ['mean', 'std'],\n",
    "        'projects_completed': ['mean', 'count']\n",
    "    }).round(2)\n",
    "    \n",
    "    # Visualize department performance\n",
    "    plt.figure(figsize=(12, 6))\n",
    "    sns.barplot(data=df, x='department', y='satisfaction_score')\n",
    "    plt.title('Average Satisfaction by Department')\n",
    "    plt.xticks(rotation=45)\n",
    "    plt.tight_layout()\n",
    "    \n",
    "    results['metrics'] = dept_metrics\n",
    "    results['top_department'] = dept_metrics['satisfaction_score']['mean'].idxmax()\n",
    "    \n",
    "    return results\n",
    "\n",
    "# Step 2: Work Mode Analysis Branch\n",
    "\n",
    "def analyze_work_mode_impact(df):\n",
    "    \"\"\"Analyze performance metrics by work mode.\n",
    "    \n",
    "    Args:\n",
    "        df (pandas.DataFrame): Employee data containing work mode information\n",
    "            and performance metrics\n",
    "    \n",
    "    Returns:\n",
    "        dict: Dictionary containing performance metrics by work mode\n",
    "    \"\"\"\n",
    "    results = {}\n",
    "    \n",
    "    # Calculate metrics by work mode\n",
    "    work_mode_metrics = df.groupby('work_mode').agg({\n",
    "        'satisfaction_score': ['mean', 'std'],\n",
    "        'projects_completed': ['mean', 'count']\n",
    "    }).round(2)\n",
    "    \n",
    "    # Visualize work mode impact\n",
    "    plt.figure(figsize=(10, 6))\n",
    "    sns.boxplot(data=df, x='work_mode', y='satisfaction_score')\n",
    "    plt.title('Satisfaction Distribution by Work Mode')\n",
    "    plt.tight_layout()\n",
    "    \n",
    "    results['metrics'] = work_mode_metrics\n",
    "    results['most_satisfied'] = work_mode_metrics['satisfaction_score']['mean'].idxmax()\n",
    "    \n",
    "    return results"
   ]
  },
  {
   "cell_type": "markdown",
   "id": "a18e6e79-a2bf-420c-b1c8-5a89a197f769",
   "metadata": {},
   "source": [
    "### Activity 3: Handling Merge Conflicts - Solution Code"
   ]
  },
  {
   "cell_type": "code",
   "execution_count": 8,
   "id": "a0faa9ba-d8c4-4b09-8a4c-590423e08597",
   "metadata": {},
   "outputs": [
    {
     "data": {
      "text/plain": [
       "'\\n# Check if there are conflicts::\\n!git status\\n\\n# If so, resolve conflicts in notebook: open the notebook file mentioned in the conflict and manually resolve the conflict markers (<<<<<<<, =======, >>>>>>>) in your notebook.\\n\\n!git add .\\n\\n!git commit -m \"resolve: merge conflicts in analysis notebook\"\\n'"
      ]
     },
     "execution_count": 8,
     "metadata": {},
     "output_type": "execute_result"
    }
   ],
   "source": [
    "# Step 1: Merge Feature  Branch\n",
    "\n",
    "\"\"\"\n",
    "!git checkout main\n",
    "\n",
    "# Merge department analysis\n",
    "!git merge feature/department-analysis\n",
    "\"\"\"\n",
    "\n",
    "\n",
    "# Step 2: Merge Conflict Resolution\n",
    "\n",
    "\"\"\"\n",
    "# Check if there are conflicts::\n",
    "!git status\n",
    "\n",
    "# If so, resolve conflicts in notebook: open the notebook file mentioned in the conflict and manually resolve the conflict markers (<<<<<<<, =======, >>>>>>>) in your notebook.\n",
    "\n",
    "!git add .\n",
    "\n",
    "!git commit -m \"resolve: merge conflicts in analysis notebook\"\n",
    "\"\"\""
   ]
  },
  {
   "cell_type": "code",
   "execution_count": null,
   "id": "c46ef111-331d-45ff-8d5e-d68b96671705",
   "metadata": {},
   "outputs": [],
   "source": []
  }
 ],
 "metadata": {
  "kernelspec": {
   "display_name": "Python 3 (ipykernel)",
   "language": "python",
   "name": "python3"
  },
  "language_info": {
   "codemirror_mode": {
    "name": "ipython",
    "version": 3
   },
   "file_extension": ".py",
   "mimetype": "text/x-python",
   "name": "python",
   "nbconvert_exporter": "python",
   "pygments_lexer": "ipython3",
   "version": "3.10.6"
  }
 },
 "nbformat": 4,
 "nbformat_minor": 5
}
