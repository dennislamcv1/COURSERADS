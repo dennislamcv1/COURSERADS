{
 "cells": [
  {
   "cell_type": "markdown",
   "id": "5c89c09e",
   "metadata": {},
   "source": [
    "# Ungraded Lab: DataFrame Operations Lab"
   ]
  },
  {
   "cell_type": "markdown",
   "id": "f39eee8c",
   "metadata": {},
   "source": [
    "## Overview \n",
    "In this hands-on lab, you'll work with EngageMetrics employee and education data using pandas DataFrame operations. You'll learn to merge, filter, and analyze data to gain practical insights about employee educational backgrounds and work metrics. These skills are essential for data scientists working with multiple data sources.\n",
    "\n",
    "Need help along the way? Don't hesitate to revisit this lesson’s screencast - this is a common practice in professional development and helps reinforce your learning.\n",
    "\n",
    "## Learning Outcomes \n",
    "By the end of this lab, you will be able to:\n",
    "- Merge multiple datasets using pandas DataFrame operations\n",
    "- Filter and group data to extract meaningful insights\n",
    "- Handle common data cleaning challenges in real datasets\n",
    "- Create analytical summaries using DataFrame aggregations\n",
    "\n",
    "## Dataset Information \n",
    "We'll work with two EngageMetrics datasets:\n",
    "- <b>education_data.xlsx:</b> Contains employee educational backgrounds including graduation years and fields of study\n",
    "- <b>employee_insights.csv:</b> Contains employee performance metrics, satisfaction scores, and work-related information"
   ]
  },
  {
   "cell_type": "markdown",
   "id": "c69ce5e9",
   "metadata": {},
   "source": [
    "## Activities\n",
    "\n",
    "### Activity 1: Data Loading and Initial Exploration\n",
    "\n",
    "<b>Step 1:</b> Import required libraries and load datasets:"
   ]
  },
  {
   "cell_type": "code",
   "execution_count": 1,
   "id": "fd58e683",
   "metadata": {},
   "outputs": [],
   "source": [
    "import pandas as pd\n",
    "\n",
    "# Load the datasets\n",
    "education_df = pd.read_excel('education_data.xlsx')\n",
    "employee_df = pd.read_csv('employee_insights.csv')"
   ]
  },
  {
   "cell_type": "markdown",
   "id": "c88a828e",
   "metadata": {},
   "source": [
    "<b>Step 2:</b> Examine the data:"
   ]
  },
  {
   "cell_type": "code",
   "execution_count": 2,
   "id": "ff769019",
   "metadata": {},
   "outputs": [
    {
     "name": "stdout",
     "output_type": "stream",
     "text": [
      "Education Data:\n",
      "      ID  graduation_year   educational_background\n",
      "0  E0001             2011               Psychology\n",
      "1  E0002             1995             Architecture\n",
      "2  E0003             2007  Business Administration\n",
      "3  E0004             2000  Business Administration\n",
      "4  E0005             1991                 Medicine\n",
      "\n",
      "Employee Data:\n",
      "  employee_id   age  salary promotion_eligible last_training_date department  \\\n",
      "0       E0001  54.0     NaN                NaN         15/08/2023         HR   \n",
      "1       E0002   NaN  $64761                  N         15/08/2023        NaN   \n",
      "2       E0003  54.0     NaN                  N         15/08/2023  Marketing   \n",
      "3       E0004   NaN     NaN                 No                NaN        NaN   \n",
      "4       E0005  29.0  $61486                  Y         15/08/2023        NaN   \n",
      "\n",
      "  work_experience  projects_completed  hours_worked_weekly    work_mode  \\\n",
      "0             NaN                14.0                  NaN  remote work   \n",
      "1         1 years                 NaN                 53.3       HYBRID   \n",
      "2               8                 6.0                 32.6       Hybrid   \n",
      "3              16                 1.0                 37.8       Remote   \n",
      "4             NaN                 1.0                 53.3       Hybrid   \n",
      "\n",
      "  last_promotion_date  satisfaction_score  overtime_hours  \n",
      "0          2022-05-10                 NaN             8.4  \n",
      "1          05-10-2022                 NaN             8.1  \n",
      "2          10/05/2022                10.0             5.2  \n",
      "3          05-10-2022                 5.0             NaN  \n",
      "4          2022-05-10                 NaN             0.3  \n"
     ]
    }
   ],
   "source": [
    "# Display first few rows of each dataset\n",
    "print(\"Education Data:\")\n",
    "print(education_df.head())\n",
    "\n",
    "print(\"\\nEmployee Data:\")\n",
    "print(employee_df.head())"
   ]
  },
  {
   "cell_type": "markdown",
   "id": "bee1fbbe",
   "metadata": {},
   "source": [
    "<b>Tip:</b> Always check your data types and missing values after loading datasets."
   ]
  },
  {
   "cell_type": "markdown",
   "id": "376e25df",
   "metadata": {},
   "source": [
    "### Activity 2: Data Cleaning and Preparation\n",
    "<b>Step 1:</b> Clean the work_mode column:"
   ]
  },
  {
   "cell_type": "code",
   "execution_count": 3,
   "id": "ffcd3be7",
   "metadata": {},
   "outputs": [],
   "source": [
    "# Standardize work mode values\n",
    "employee_df['work_mode'] = employee_df['work_mode'].str.strip().str.lower()"
   ]
  },
  {
   "cell_type": "markdown",
   "id": "0116af31",
   "metadata": {},
   "source": [
    "<b>Step 2:</b> Handle missing values:"
   ]
  },
  {
   "cell_type": "code",
   "execution_count": 4,
   "id": "80d612c8",
   "metadata": {},
   "outputs": [],
   "source": [
    "# Your code here to handle missing values"
   ]
  },
  {
   "cell_type": "markdown",
   "id": "cc398faf",
   "metadata": {},
   "source": [
    "### Activity 3: Merging Datasets\n",
    "<b>Step 1:</b> Merge education and employee datasets:"
   ]
  },
  {
   "cell_type": "code",
   "execution_count": 5,
   "id": "8ae8153e",
   "metadata": {},
   "outputs": [],
   "source": [
    "# Merge datasets on employee_id\n",
    "merged_df = pd.merge(\n",
    "    employee_df,\n",
    "    education_df,\n",
    "    left_on='employee_id',\n",
    "    right_on='ID',\n",
    "    how='inner'\n",
    ")"
   ]
  },
  {
   "cell_type": "markdown",
   "id": "bd4e35d5",
   "metadata": {},
   "source": [
    "### Activity 4: Analysis and Insights\n",
    "<b>Step 1:</b> Analyze educational backgrounds by department:"
   ]
  },
  {
   "cell_type": "code",
   "execution_count": 6,
   "id": "e1c8a427",
   "metadata": {},
   "outputs": [],
   "source": [
    "# Your code here to group by department and educational_background"
   ]
  },
  {
   "cell_type": "markdown",
   "id": "f5c1e19e",
   "metadata": {},
   "source": [
    "<b>Step 2:</b> Calculate average satisfaction scores by educational background:"
   ]
  },
  {
   "cell_type": "code",
   "execution_count": 7,
   "id": "06c5f26e",
   "metadata": {},
   "outputs": [],
   "source": [
    "# Your code here to analyze satisfaction scores"
   ]
  },
  {
   "cell_type": "markdown",
   "id": "e10cefac",
   "metadata": {},
   "source": [
    "<b>Test Your Work:</b>\n",
    "1. Verify the merged dataset contains all expected columns\n",
    "2. Check for any duplicate records\n",
    "3. Confirm aggregation results make sense\n",
    "\n",
    "## Success Checklist\n",
    "- Successfully loaded and cleaned both datasets\n",
    "- Merged datasets correctly\n",
    "- Created meaningful aggregations\n",
    "- Generated insights about education and performance\n",
    "\n",
    "## Common Issues & Solutions \n",
    "- Problem: Merge results in unexpected number of rows \n",
    "    - Solution: Check for duplicate IDs in either dataset\n",
    "- Problem: Case-sensitive matching issues \n",
    "    - Solution: Standardize string values before merging\n",
    "\n",
    "## Summary\n",
    "Congratulations! You've successfully mastered essential DataFrame operations in pandas, learning how to merge, clean, and analyze real-world HR data. These skills in data manipulation and analysis are fundamental to data science work, and you've now gained practical experience working with the kinds of messy, multi-source datasets you'll encounter in your career.\n",
    "\n",
    "### Key Points\n",
    "- Data cleaning is crucial before analysis\n",
    "- Proper merge operations preserve data integrity\n",
    "- Grouping and aggregation reveal patterns in data"
   ]
  },
  {
   "cell_type": "markdown",
   "id": "eeecad1c",
   "metadata": {},
   "source": [
    "## Solution Code\n",
    "Stuck on your code or want to check your solution? Here's a complete reference implementation to guide you. This represents just one effective approach—try solving independently first, then use this to overcome obstacles or compare techniques. The solution is provided to help you move forward and explore alternative approaches to achieve the same results. Happy coding!"
   ]
  },
  {
   "cell_type": "markdown",
   "id": "f7bf5d36",
   "metadata": {},
   "source": [
    "### Activity 1: Data Loading and Initial Exploration - Solution Code"
   ]
  },
  {
   "cell_type": "code",
   "execution_count": 8,
   "id": "2f2a6506",
   "metadata": {},
   "outputs": [
    {
     "name": "stdout",
     "output_type": "stream",
     "text": [
      "Education Data Info:\n",
      "<class 'pandas.core.frame.DataFrame'>\n",
      "RangeIndex: 100 entries, 0 to 99\n",
      "Data columns (total 3 columns):\n",
      " #   Column                  Non-Null Count  Dtype \n",
      "---  ------                  --------------  ----- \n",
      " 0   ID                      100 non-null    object\n",
      " 1   graduation_year         100 non-null    int64 \n",
      " 2   educational_background  100 non-null    object\n",
      "dtypes: int64(1), object(2)\n",
      "memory usage: 2.5+ KB\n",
      "None\n",
      "\n",
      "Employee Data Info:\n",
      "<class 'pandas.core.frame.DataFrame'>\n",
      "RangeIndex: 100 entries, 0 to 99\n",
      "Data columns (total 13 columns):\n",
      " #   Column               Non-Null Count  Dtype  \n",
      "---  ------               --------------  -----  \n",
      " 0   employee_id          100 non-null    object \n",
      " 1   age                  44 non-null     float64\n",
      " 2   salary               63 non-null     object \n",
      " 3   promotion_eligible   84 non-null     object \n",
      " 4   last_training_date   71 non-null     object \n",
      " 5   department           85 non-null     object \n",
      " 6   work_experience      71 non-null     object \n",
      " 7   projects_completed   48 non-null     float64\n",
      " 8   hours_worked_weekly  67 non-null     float64\n",
      " 9   work_mode            84 non-null     object \n",
      " 10  last_promotion_date  74 non-null     object \n",
      " 11  satisfaction_score   61 non-null     float64\n",
      " 12  overtime_hours       70 non-null     float64\n",
      "dtypes: float64(5), object(8)\n",
      "memory usage: 10.3+ KB\n",
      "None\n"
     ]
    }
   ],
   "source": [
    "# Step 1: Load the datasets\n",
    "education_df = pd.read_excel('education_data.xlsx') \n",
    "employee_df = pd.read_csv('employee_insights.csv')\n",
    "\n",
    "# Step 2: Examine the data\n",
    "print(\"Education Data Info:\") \n",
    "print(education_df.info())\n",
    "print(\"\\nEmployee Data Info:\")\n",
    "print(employee_df.info())"
   ]
  },
  {
   "cell_type": "markdown",
   "id": "0e729e9b",
   "metadata": {},
   "source": [
    "### Activity 2: Data Cleaning and Preparation - Solution Code"
   ]
  },
  {
   "cell_type": "code",
   "execution_count": 9,
   "id": "51bdf75c",
   "metadata": {},
   "outputs": [],
   "source": [
    "# Step 1: Clean the work_mode column\n",
    "employee_df['work_mode'] = employee_df['work_mode'].str.strip().str.lower()\n",
    "\n",
    "# Step 2: Handle missing values\n",
    "\n",
    "# Fill missing numeric values with median\n",
    "numeric_columns = employee_df.select_dtypes(include=['number']).columns\n",
    "employee_df[numeric_columns] = employee_df[numeric_columns].fillna(employee_df[numeric_columns].median())\n",
    "\n",
    "# Fill missing categorical values with mode\n",
    "categorical_columns = employee_df.select_dtypes(include=['object']).columns\n",
    "employee_df[categorical_columns] = employee_df[categorical_columns].fillna(employee_df[categorical_columns].mode().iloc[0])"
   ]
  },
  {
   "cell_type": "markdown",
   "id": "b752e4f2",
   "metadata": {},
   "source": [
    "### Activity 3: Merging Datasets - Solution Code"
   ]
  },
  {
   "cell_type": "code",
   "execution_count": 10,
   "id": "fe2bca9f",
   "metadata": {},
   "outputs": [],
   "source": [
    "# Merge datasets on employee_id\n",
    "merged_df = pd.merge(\n",
    "employee_df,\n",
    "education_df,\n",
    "left_on='employee_id',\n",
    "right_on='ID',\n",
    "how='inner'\n",
    ")"
   ]
  },
  {
   "cell_type": "markdown",
   "id": "83ed0e2c",
   "metadata": {},
   "source": [
    "### Activity 4: Analysis and Insights - Solution Code"
   ]
  },
  {
   "cell_type": "code",
   "execution_count": 11,
   "id": "0bc8e1d8",
   "metadata": {},
   "outputs": [
    {
     "data": {
      "text/html": [
       "<div>\n",
       "<style scoped>\n",
       "    .dataframe tbody tr th:only-of-type {\n",
       "        vertical-align: middle;\n",
       "    }\n",
       "\n",
       "    .dataframe tbody tr th {\n",
       "        vertical-align: top;\n",
       "    }\n",
       "\n",
       "    .dataframe thead th {\n",
       "        text-align: right;\n",
       "    }\n",
       "</style>\n",
       "<table border=\"1\" class=\"dataframe\">\n",
       "  <thead>\n",
       "    <tr style=\"text-align: right;\">\n",
       "      <th>educational_background</th>\n",
       "      <th>Architecture</th>\n",
       "      <th>Biology</th>\n",
       "      <th>Business Administration</th>\n",
       "      <th>Chemistry</th>\n",
       "      <th>Computer Science</th>\n",
       "      <th>Economics</th>\n",
       "      <th>Engineering</th>\n",
       "      <th>Law</th>\n",
       "      <th>Linguistics</th>\n",
       "      <th>Mathematics</th>\n",
       "      <th>Medicine</th>\n",
       "      <th>Philosophy</th>\n",
       "      <th>Physics</th>\n",
       "      <th>Political Science</th>\n",
       "      <th>Psychology</th>\n",
       "      <th>Statistics</th>\n",
       "    </tr>\n",
       "    <tr>\n",
       "      <th>department</th>\n",
       "      <th></th>\n",
       "      <th></th>\n",
       "      <th></th>\n",
       "      <th></th>\n",
       "      <th></th>\n",
       "      <th></th>\n",
       "      <th></th>\n",
       "      <th></th>\n",
       "      <th></th>\n",
       "      <th></th>\n",
       "      <th></th>\n",
       "      <th></th>\n",
       "      <th></th>\n",
       "      <th></th>\n",
       "      <th></th>\n",
       "      <th></th>\n",
       "    </tr>\n",
       "  </thead>\n",
       "  <tbody>\n",
       "    <tr>\n",
       "      <th>Engineering</th>\n",
       "      <td>1</td>\n",
       "      <td>0</td>\n",
       "      <td>0</td>\n",
       "      <td>1</td>\n",
       "      <td>3</td>\n",
       "      <td>1</td>\n",
       "      <td>0</td>\n",
       "      <td>0</td>\n",
       "      <td>0</td>\n",
       "      <td>1</td>\n",
       "      <td>0</td>\n",
       "      <td>2</td>\n",
       "      <td>1</td>\n",
       "      <td>0</td>\n",
       "      <td>0</td>\n",
       "      <td>3</td>\n",
       "    </tr>\n",
       "    <tr>\n",
       "      <th>Finance</th>\n",
       "      <td>4</td>\n",
       "      <td>0</td>\n",
       "      <td>3</td>\n",
       "      <td>2</td>\n",
       "      <td>2</td>\n",
       "      <td>2</td>\n",
       "      <td>2</td>\n",
       "      <td>0</td>\n",
       "      <td>4</td>\n",
       "      <td>2</td>\n",
       "      <td>4</td>\n",
       "      <td>1</td>\n",
       "      <td>2</td>\n",
       "      <td>2</td>\n",
       "      <td>2</td>\n",
       "      <td>1</td>\n",
       "    </tr>\n",
       "    <tr>\n",
       "      <th>HR</th>\n",
       "      <td>0</td>\n",
       "      <td>1</td>\n",
       "      <td>1</td>\n",
       "      <td>1</td>\n",
       "      <td>1</td>\n",
       "      <td>1</td>\n",
       "      <td>2</td>\n",
       "      <td>1</td>\n",
       "      <td>1</td>\n",
       "      <td>0</td>\n",
       "      <td>3</td>\n",
       "      <td>0</td>\n",
       "      <td>0</td>\n",
       "      <td>0</td>\n",
       "      <td>2</td>\n",
       "      <td>2</td>\n",
       "    </tr>\n",
       "    <tr>\n",
       "      <th>Marketing</th>\n",
       "      <td>1</td>\n",
       "      <td>0</td>\n",
       "      <td>1</td>\n",
       "      <td>2</td>\n",
       "      <td>0</td>\n",
       "      <td>1</td>\n",
       "      <td>1</td>\n",
       "      <td>1</td>\n",
       "      <td>1</td>\n",
       "      <td>0</td>\n",
       "      <td>1</td>\n",
       "      <td>1</td>\n",
       "      <td>1</td>\n",
       "      <td>1</td>\n",
       "      <td>2</td>\n",
       "      <td>1</td>\n",
       "    </tr>\n",
       "    <tr>\n",
       "      <th>engineering</th>\n",
       "      <td>0</td>\n",
       "      <td>1</td>\n",
       "      <td>1</td>\n",
       "      <td>0</td>\n",
       "      <td>0</td>\n",
       "      <td>2</td>\n",
       "      <td>1</td>\n",
       "      <td>1</td>\n",
       "      <td>0</td>\n",
       "      <td>1</td>\n",
       "      <td>0</td>\n",
       "      <td>1</td>\n",
       "      <td>2</td>\n",
       "      <td>0</td>\n",
       "      <td>0</td>\n",
       "      <td>0</td>\n",
       "    </tr>\n",
       "    <tr>\n",
       "      <th>finance</th>\n",
       "      <td>0</td>\n",
       "      <td>0</td>\n",
       "      <td>0</td>\n",
       "      <td>0</td>\n",
       "      <td>2</td>\n",
       "      <td>0</td>\n",
       "      <td>1</td>\n",
       "      <td>0</td>\n",
       "      <td>1</td>\n",
       "      <td>3</td>\n",
       "      <td>1</td>\n",
       "      <td>0</td>\n",
       "      <td>1</td>\n",
       "      <td>0</td>\n",
       "      <td>3</td>\n",
       "      <td>1</td>\n",
       "    </tr>\n",
       "  </tbody>\n",
       "</table>\n",
       "</div>"
      ],
      "text/plain": [
       "educational_background  Architecture  Biology  Business Administration  \\\n",
       "department                                                               \n",
       "Engineering                        1        0                        0   \n",
       "Finance                            4        0                        3   \n",
       "HR                                 0        1                        1   \n",
       "Marketing                          1        0                        1   \n",
       "engineering                        0        1                        1   \n",
       "finance                            0        0                        0   \n",
       "\n",
       "educational_background  Chemistry  Computer Science  Economics  Engineering  \\\n",
       "department                                                                    \n",
       "Engineering                     1                 3          1            0   \n",
       "Finance                         2                 2          2            2   \n",
       "HR                              1                 1          1            2   \n",
       "Marketing                       2                 0          1            1   \n",
       "engineering                     0                 0          2            1   \n",
       "finance                         0                 2          0            1   \n",
       "\n",
       "educational_background  Law  Linguistics  Mathematics  Medicine  Philosophy  \\\n",
       "department                                                                    \n",
       "Engineering               0            0            1         0           2   \n",
       "Finance                   0            4            2         4           1   \n",
       "HR                        1            1            0         3           0   \n",
       "Marketing                 1            1            0         1           1   \n",
       "engineering               1            0            1         0           1   \n",
       "finance                   0            1            3         1           0   \n",
       "\n",
       "educational_background  Physics  Political Science  Psychology  Statistics  \n",
       "department                                                                  \n",
       "Engineering                   1                  0           0           3  \n",
       "Finance                       2                  2           2           1  \n",
       "HR                            0                  0           2           2  \n",
       "Marketing                     1                  1           2           1  \n",
       "engineering                   2                  0           0           0  \n",
       "finance                       1                  0           3           1  "
      ]
     },
     "metadata": {},
     "output_type": "display_data"
    },
    {
     "data": {
      "text/plain": [
       "educational_background\n",
       "Architecture               6.500000\n",
       "Biology                    6.500000\n",
       "Business Administration    5.666667\n",
       "Chemistry                  7.333333\n",
       "Computer Science           6.500000\n",
       "Economics                  4.857143\n",
       "Engineering                5.142857\n",
       "Law                        5.333333\n",
       "Linguistics                5.857143\n",
       "Mathematics                6.571429\n",
       "Medicine                   6.222222\n",
       "Philosophy                 6.600000\n",
       "Physics                    6.142857\n",
       "Political Science          5.333333\n",
       "Psychology                 4.888889\n",
       "Statistics                 3.375000\n",
       "Name: satisfaction_score, dtype: float64"
      ]
     },
     "metadata": {},
     "output_type": "display_data"
    }
   ],
   "source": [
    "# Step 1: Analyze educational backgrounds by department\n",
    "education_by_dept = merged_df.groupby(['department', 'educational_background']).size().unstack(fill_value=0)\n",
    "display(education_by_dept)\n",
    "\n",
    "# Step 2: Calculate average satisfaction scores by educational background:\n",
    "# Calculate average satisfaction score by educational background\n",
    "avg_satisfaction_by_education = merged_df.groupby('educational_background')['satisfaction_score'].mean()\n",
    "display(avg_satisfaction_by_education)"
   ]
  }
 ],
 "metadata": {
  "kernelspec": {
   "display_name": "Python 3 (ipykernel)",
   "language": "python",
   "name": "python3"
  },
  "language_info": {
   "codemirror_mode": {
    "name": "ipython",
    "version": 3
   },
   "file_extension": ".py",
   "mimetype": "text/x-python",
   "name": "python",
   "nbconvert_exporter": "python",
   "pygments_lexer": "ipython3",
   "version": "3.10.6"
  }
 },
 "nbformat": 4,
 "nbformat_minor": 5
}
