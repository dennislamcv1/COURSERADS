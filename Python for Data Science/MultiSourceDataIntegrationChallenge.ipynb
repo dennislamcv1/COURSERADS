{
 "cells": [
  {
   "cell_type": "markdown",
   "id": "5543ec1b",
   "metadata": {},
   "source": [
    "# Graded Lab: Multi-Source Data Integration Challenge"
   ]
  },
  {
   "cell_type": "markdown",
   "id": "27f0afd5",
   "metadata": {},
   "source": [
    "## Overview \n",
    "Congratulations on reaching your first graded lab in this course! In this challenge, you'll apply the Python data manipulation skills you've learned throughout this module to solve a real-world business problem.\n",
    "Meet MediTrack Health Solutions, a cutting-edge healthcare management company that will serve as your case study for this assessment. As a new data scientist on the MediTrack analytics team, you've been tasked with an important data integration project that will help improve their healthcare management platform.\n",
    "## Your Challenge \n",
    "MediTrack currently maintains separate systems for:\n",
    "- Electronic health records\n",
    "- Billing transactions\n",
    "- Patient visit histories\n",
    "\n",
    "Your task is to build a data pipeline that will combine these sources, enabling seamless communication between healthcare providers, insurers, and patients. This integration will help MediTrack:\n",
    "- Track patient visit patterns and associated costs\n",
    "- Analyze insurance coverage effectiveness\n",
    "- Identify billing efficiency opportunities\n",
    "- Support data-driven decision-making for both clinical and financial teams\n",
    "\n",
    "## Learning Outcomes \n",
    "By the end of this lab, you will demonstrate your ability to:\n",
    "- Import and process multiple data formats (CSV and Excel)\n",
    "- Apply data cleaning techniques to handle missing values and inconsistencies\n",
    "- Merge datasets using appropriate join operations\n",
    "- Create calculated fields for analysis\n",
    "- Extract specific metrics for automated assessment\n",
    "\n",
    "## Dataset Information\n",
    "You'll work with two datasets from MediTrack's systems:\n",
    "- <b>billing_graded_lab.xlsx:</b> Billing System Records\n",
    "    - Payment status\n",
    "    - Insurance coverage\n",
    "    - Total charges\n",
    "    - Patient payments\n",
    "- <b>medical_visits_graded_lab.xlsx:</b> Visit Tracking System\n",
    "    - Visit dates\n",
    "    - Diagnoses\n",
    "    - Treatments\n",
    "    - Doctor fees"
   ]
  },
  {
   "cell_type": "markdown",
   "id": "a029842c",
   "metadata": {},
   "source": [
    "## Graded Challenges\n",
    "### Graded Challenge 1: Data Import and Initial Inspection \n",
    "\n",
    "<b>Step 1:</b> Import Required Libraries"
   ]
  },
  {
   "cell_type": "code",
   "execution_count": null,
   "id": "d894ae1f",
   "metadata": {},
   "outputs": [],
   "source": [
    "import pandas as pd\n",
    "import numpy as np"
   ]
  },
  {
   "cell_type": "markdown",
   "id": "e383500d",
   "metadata": {},
   "source": [
    "<b>Step 2:</b> Load Datasets\n",
    "- Load <b>billing_graded_lab.xlsx</b> into a DataFrame, <b>billing_df</b>\n",
    "- Load <b>medical_visits_graded_lab.xlsx</b> into a DataFrame, <b>medical_visits_df</b>\n",
    "- Display the first few rows of each dataset"
   ]
  },
  {
   "cell_type": "code",
   "execution_count": null,
   "id": "712c2c5c",
   "metadata": {
    "deletable": false,
    "nbgrader": {
     "cell_type": "code",
     "checksum": "7fcafa21bde7c2a1e00dc6ac89205973",
     "grade": false,
     "grade_id": "cell-ba227e8e69b1c513",
     "locked": false,
     "schema_version": 3,
     "solution": true,
     "task": false
    },
    "scrolled": true
   },
   "outputs": [],
   "source": [
    "# Load the billing_graded_lab.xlsx file into biling_df dataframe and  medical_visits_graded_lab.xlsx file into medical_visits_df\n",
    "billing_df = pd.read_excel(\"billing_graded_lab.xlsx\")\n",
    "\n",
    "# Display the first few rows of each dataset\n",
    "billing_df.head()"
   ]
  },
  {
   "cell_type": "code",
   "execution_count": null,
   "id": "bdcebb64",
   "metadata": {
    "deletable": false,
    "editable": false,
    "nbgrader": {
     "cell_type": "code",
     "checksum": "58825213c00c8e79ec0c44f7f16eb092",
     "grade": true,
     "grade_id": "cell-58fe2b95dce51215",
     "locked": true,
     "points": 25,
     "schema_version": 3,
     "solution": false,
     "task": false
    }
   },
   "outputs": [],
   "source": [
    "# Do not edit this cell, just run it. This cell contains test cases.\n"
   ]
  },
  {
   "cell_type": "markdown",
   "id": "52218e1c",
   "metadata": {},
   "source": [
    "<b>Step 3:</b> Inspect Data Quality\n",
    "- Check for missing values\n",
    "- Review data types\n",
    "- Examine date formats"
   ]
  },
  {
   "cell_type": "code",
   "execution_count": null,
   "id": "efefbbd9",
   "metadata": {},
   "outputs": [],
   "source": [
    "# Inspect Data quality by getting a quick overview of data \n",
    "billing_df.info()\n",
    "\n",
    "# Take a look at dataframe information like Data types\n",
    "billing_df.describe()"
   ]
  },
  {
   "cell_type": "markdown",
   "id": "bfa76523",
   "metadata": {},
   "source": [
    "<b>Tip:</b> Use info() and describe() methods to get a quick overview of your data"
   ]
  },
  {
   "cell_type": "markdown",
   "id": "5d76366c",
   "metadata": {},
   "source": [
    "### Graded Challenge 2: Data Cleaning and Preprocessing \n",
    "\n",
    "<b>Step 1:</b> Handle Missing Values\n",
    "- Fill missing payment_status with 'Pending' in <b>billing_df</b>\n",
    "- Handle any missing dates in \"bill_date\" and \"visit_date\" columns appropriately"
   ]
  },
  {
   "cell_type": "code",
   "execution_count": null,
   "id": "af3cdb01-a08c-4f60-bb9b-5adbb3a95a90",
   "metadata": {},
   "outputs": [],
   "source": [
    "billing_df.payment_status.value_counts()"
   ]
  },
  {
   "cell_type": "code",
   "execution_count": null,
   "id": "253052ef",
   "metadata": {
    "deletable": false,
    "nbgrader": {
     "cell_type": "code",
     "checksum": "3e8df872e59fbc326ef7e56a84d45dd3",
     "grade": false,
     "grade_id": "cell-002228cd335cb70b",
     "locked": false,
     "schema_version": 3,
     "solution": true,
     "task": false
    }
   },
   "outputs": [],
   "source": [
    "# Fill the missing values in the payment_status column of the billing_df dataFrame with 'Pending'\n",
    "    \n",
    "billing_df[\"payment_status\"].fillna(value=\"Pending\", inplace=True)\n",
    "\n",
    "# Add a default date of '1970-01-01' to replace missing dates in both dataframes \n",
    "    \n",
    "billing_df[\"bill_date\"].fillna(value=\"1970-01-01\", inplace=True)\n",
    "    "
   ]
  },
  {
   "cell_type": "code",
   "execution_count": null,
   "id": "89093fa9-8c3f-42f4-aae5-6c25baf0c575",
   "metadata": {},
   "outputs": [],
   "source": [
    "billing_df[\"bill_date\"]"
   ]
  },
  {
   "cell_type": "code",
   "execution_count": null,
   "id": "a44fc01f-a3da-46e3-a6fb-1f84ddad853a",
   "metadata": {},
   "outputs": [],
   "source": [
    "billing_df[\"bill_date\"].info()"
   ]
  },
  {
   "cell_type": "code",
   "execution_count": null,
   "id": "8c34cc3c",
   "metadata": {
    "deletable": false,
    "editable": false,
    "nbgrader": {
     "cell_type": "code",
     "checksum": "a047a11dd02d8e896332d003eacb207a",
     "grade": true,
     "grade_id": "cell-fff7ae2a97180d9f",
     "locked": true,
     "points": 10,
     "schema_version": 3,
     "solution": false,
     "task": false
    }
   },
   "outputs": [],
   "source": [
    "# Do not edit this cell, just run it. This cell contains test cases.\n"
   ]
  },
  {
   "cell_type": "markdown",
   "id": "c1af5248",
   "metadata": {},
   "source": [
    "<b>Step 2:</b> Standardize Date Formats\n",
    "- Convert bill_date to datetime\n",
    "- Convert visit_date to datetime\n",
    "- Ensure consistent date formatting"
   ]
  },
  {
   "cell_type": "code",
   "execution_count": null,
   "id": "cf321728",
   "metadata": {
    "deletable": false,
    "nbgrader": {
     "cell_type": "code",
     "checksum": "2304d1fe579ee61c320c62b617746824",
     "grade": false,
     "grade_id": "cell-2024f9e7e6e3de63",
     "locked": false,
     "schema_version": 3,
     "solution": true,
     "task": false
    }
   },
   "outputs": [],
   "source": [
    "# Convert bill_date and visit_date columns to datetime\n",
    "\n",
    "billing_df[\"bill_date\"] = pd.to_datetime(billing_df[\"bill_date\"])\n",
    "   "
   ]
  },
  {
   "cell_type": "code",
   "execution_count": null,
   "id": "0e9acd06-452f-4669-bcf8-8f82d5b7dffc",
   "metadata": {},
   "outputs": [],
   "source": []
  },
  {
   "cell_type": "code",
   "execution_count": null,
   "id": "166a6522",
   "metadata": {
    "deletable": false,
    "editable": false,
    "nbgrader": {
     "cell_type": "code",
     "checksum": "e34bf10d70af2d252038d23cb0809347",
     "grade": true,
     "grade_id": "cell-071547d090c1c3d8",
     "locked": true,
     "points": 10,
     "schema_version": 3,
     "solution": false,
     "task": false
    }
   },
   "outputs": [],
   "source": [
    "# Do not edit this cell, just run it. This cell contains test cases."
   ]
  },
  {
   "cell_type": "markdown",
   "id": "46e567e7",
   "metadata": {},
   "source": [
    "<b>Step 3:</b> Validate Data Types\n",
    "- Ensure numeric columns (total_charge, insurance_coverage, patient_paid) in billing_df are properly formatted "
   ]
  },
  {
   "cell_type": "code",
   "execution_count": null,
   "id": "5a8fd438",
   "metadata": {
    "deletable": false,
    "nbgrader": {
     "cell_type": "code",
     "checksum": "815a270a319f1266dc3350df8e382b83",
     "grade": false,
     "grade_id": "cell-8b202fedc4f2080d",
     "locked": false,
     "schema_version": 3,
     "solution": true,
     "task": false
    }
   },
   "outputs": [],
   "source": [
    "# Ensure numeric columns in billings_df contain numeric values \n",
    "\n",
    "numeric_columns = ['total_charge','insurance_coverage','patient_paid']\n",
    "# YOUR CODE HERE\n",
    " "
   ]
  },
  {
   "cell_type": "code",
   "execution_count": null,
   "id": "1322d84e",
   "metadata": {
    "deletable": false,
    "editable": false,
    "nbgrader": {
     "cell_type": "code",
     "checksum": "b6dbde45e018bf82b9be39d3874baebc",
     "grade": true,
     "grade_id": "cell-64984ef465e57b55",
     "locked": true,
     "points": 5,
     "schema_version": 3,
     "solution": false,
     "task": false
    }
   },
   "outputs": [],
   "source": [
    "# Do not edit this cell, just run it. This cell contains test cases."
   ]
  },
  {
   "cell_type": "markdown",
   "id": "59d3b9cb",
   "metadata": {},
   "source": [
    "## Graded Challenge 3: Data Integration\n",
    "\n",
    "<b>Step 1:</b> Prepare Join Keys\n",
    "- Identify common fields between datasets"
   ]
  },
  {
   "cell_type": "code",
   "execution_count": null,
   "id": "742ae376",
   "metadata": {},
   "outputs": [],
   "source": [
    "# Take a look at both datasets to identify the common fields \n",
    "display(billing_df.head())\n",
    "display(medical_visits_df.head())"
   ]
  },
  {
   "cell_type": "markdown",
   "id": "c75b5942",
   "metadata": {},
   "source": [
    "<b>Step 2:</b> Merge Datasets\n",
    "- Join billing and visits data on appropriate keys\n",
    "- Validate the merged dataset"
   ]
  },
  {
   "cell_type": "code",
   "execution_count": null,
   "id": "aae74c2e",
   "metadata": {
    "deletable": false,
    "nbgrader": {
     "cell_type": "code",
     "checksum": "c8b49a377db193d0c5af201898566fa3",
     "grade": false,
     "grade_id": "cell-e00ed7b5ac59d7ab",
     "locked": false,
     "schema_version": 3,
     "solution": true,
     "task": false
    }
   },
   "outputs": [],
   "source": [
    "# Merge the datasets using patient_id as the key into a dataframe called merged_df\n",
    "\n",
    "# YOUR CODE HERE\n",
    "  \n",
    "display(merged_df)"
   ]
  },
  {
   "cell_type": "code",
   "execution_count": null,
   "id": "5786bf89",
   "metadata": {
    "deletable": false,
    "editable": false,
    "nbgrader": {
     "cell_type": "code",
     "checksum": "8bbbbab080c46df8cb681bc69a972a16",
     "grade": true,
     "grade_id": "cell-c7626d570ad9c8e1",
     "locked": true,
     "points": 10,
     "schema_version": 3,
     "solution": false,
     "task": false
    }
   },
   "outputs": [],
   "source": [
    "# Do not edit this cell, just run it. This cell contains test cases.\n"
   ]
  },
  {
   "cell_type": "markdown",
   "id": "eda9383a",
   "metadata": {},
   "source": [
    "<b>Step 3:</b> Validate no data loss \n",
    "- Check for any data loss during merging"
   ]
  },
  {
   "cell_type": "code",
   "execution_count": null,
   "id": "b166493c",
   "metadata": {
    "deletable": false,
    "nbgrader": {
     "cell_type": "code",
     "checksum": "4e1f68edacd2aa2b68b6528b1ecc2db7",
     "grade": false,
     "grade_id": "cell-d2d2f61aa19e8020",
     "locked": false,
     "schema_version": 3,
     "solution": true,
     "task": false
    }
   },
   "outputs": [],
   "source": [
    "# YOUR CODE HERE"
   ]
  },
  {
   "cell_type": "code",
   "execution_count": null,
   "id": "5f534106",
   "metadata": {
    "deletable": false,
    "editable": false,
    "nbgrader": {
     "cell_type": "code",
     "checksum": "488c2e588f7275a5ab45db5a98ebd242",
     "grade": true,
     "grade_id": "cell-dea2da9b3e1de634",
     "locked": true,
     "points": 15,
     "schema_version": 3,
     "solution": false,
     "task": false
    }
   },
   "outputs": [],
   "source": [
    "# Do not edit this cell, just run it. This cell contains test cases."
   ]
  },
  {
   "cell_type": "markdown",
   "id": "f4a19170",
   "metadata": {},
   "source": [
    "## Graded Challenge 4: Analysis Pipeline\n",
    "\n",
    "<b>Step 1:</b> Create the following calculated fields : \n",
    "- Calculate total_revenue \n",
    "- Determine average insurance coverage \n",
    "- Compute visit frequency metrics per patient\n",
    "\n",
    "The output of the function should be a dictionary with the exact keys: \n",
    "- total_revenue (2 decimal places)\n",
    "- avg_insurance_coverage (4 decimal places)\n",
    "- patient_visit_frequency (2 decimal places)"
   ]
  },
  {
   "cell_type": "code",
   "execution_count": null,
   "id": "540e660d",
   "metadata": {
    "deletable": false,
    "nbgrader": {
     "cell_type": "code",
     "checksum": "bc3f92c9833a0a12634b77ac86260765",
     "grade": false,
     "grade_id": "cell-d35a81e5c204839d",
     "locked": false,
     "schema_version": 3,
     "solution": true,
     "task": false
    }
   },
   "outputs": [],
   "source": [
    "def process_meditrack_data(merged_df):\n",
    "    # YOUR CODE HERE\n",
    "    \n",
    "# Printitng the calculated fields \n",
    "\n",
    "results = process_meditrack_data(merged_df)\n",
    "print(results)\n",
    "    "
   ]
  },
  {
   "cell_type": "code",
   "execution_count": null,
   "id": "d39f3d59",
   "metadata": {
    "deletable": false,
    "editable": false,
    "nbgrader": {
     "cell_type": "code",
     "checksum": "1a8366d052ed3ecfcb77c2c78fefd210",
     "grade": true,
     "grade_id": "cell-eb6e2ca40e0dcede",
     "locked": true,
     "points": 25,
     "schema_version": 3,
     "solution": false,
     "task": false
    }
   },
   "outputs": [],
   "source": [
    "# Do not edit this cell, just run it. This cell contains test cases."
   ]
  },
  {
   "cell_type": "markdown",
   "id": "23855387",
   "metadata": {},
   "source": [
    "<b>Step 2:</b>  Extract Key Metrics\n",
    "- Generate summary statistics\n",
    "- Calculate specific business metrics"
   ]
  },
  {
   "cell_type": "code",
   "execution_count": null,
   "id": "33bcac11",
   "metadata": {},
   "outputs": [],
   "source": [
    "# Generate summary statistics\n",
    "summary_stats = merged_df.describe()\n",
    "display(summary_stats)"
   ]
  },
  {
   "cell_type": "markdown",
   "id": "74c1a75d",
   "metadata": {},
   "source": [
    "## Verify Your Results \n",
    "Before submission, validate your analysis against these key checkpoints:\n",
    "    \n",
    "Your final output must be a dictionary with <b>Key:Value</b> pairs as follows: \n",
    "- total_revenue: $2,500,005 – $3,193,305\n",
    "- avg_insurance_coverage: 0 to 1\n",
    "- patient_visit_frequency: less than 10\n",
    "\n",
    "Data Quality Checks:\n",
    "- Datetime format for all dates\n",
    "- No missing values in critical columns\n",
    "- Logical row count in merged dataset\n",
    "- Valid numeric values in calculated fields\n",
    "\n",
    "Output Format Requirements:\n",
    "- Dictionary output with exact keys:\n",
    "- total_revenue (2 decimal places)\n",
    "- avg_insurance_coverage (4 decimal places)\n",
    "- patient_visit_frequency (2 decimal places)\n",
    "\n",
    "### Troubleshooting\n",
    "If you encounter issues:\n",
    "1. Data Import\n",
    "    - Check file paths and names\n",
    "    - Verify column presence\n",
    "    - Confirm data types\n",
    "2. Calculations\n",
    "    - Review mathematical operations\n",
    "    - Check null value handling\n",
    "    - Verify aggregation methods\n",
    "3. Formatting\n",
    "    - Confirm proper round() function usage\n",
    "    - Match dictionary key names exactly\n",
    "    - Verify decimal place specifications\n",
    "\n",
    "You can retry the lab as many times as needed until you get the correct results. Remember to run all cells in order and verify all outputs before submission!"
   ]
  }
 ],
 "metadata": {
  "kernelspec": {
   "display_name": "Python 3 (ipykernel)",
   "language": "python",
   "name": "python3"
  },
  "language_info": {
   "codemirror_mode": {
    "name": "ipython",
    "version": 3
   },
   "file_extension": ".py",
   "mimetype": "text/x-python",
   "name": "python",
   "nbconvert_exporter": "python",
   "pygments_lexer": "ipython3",
   "version": "3.10.9"
  }
 },
 "nbformat": 4,
 "nbformat_minor": 5
}
