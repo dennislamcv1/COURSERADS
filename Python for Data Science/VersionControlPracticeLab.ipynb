{
 "cells": [
  {
   "cell_type": "markdown",
   "id": "36376b2c",
   "metadata": {},
   "source": [
    "# Ungraded Lab: Initial Setup and Version Control Practice"
   ]
  },
  {
   "cell_type": "markdown",
   "id": "2528a632",
   "metadata": {},
   "source": [
    "## Overview\n",
    "In this lab, you'll set up your Jupyter Notebook environment, articulate your data science goals, and commit your first notebook to GitHub. This simulates the real-world process of structured project initiation, an essential skill for data scientists. You'll be working with the notebook you created in the previous lab, \"Jupyter Notebook Setup & Basics\".  \n",
    "\n",
    "## Learning Outcomes\n",
    "By the end of this lab, you will be able to:\n",
    "- Set up a Jupyter Notebook environment for data science projects\n",
    "- Articulate clear data science goals in a project notebook\n",
    "- Perform initial version control tasks using GitHub\n",
    "- Commit an existing Jupyter Notebook to a GitHub repository"
   ]
  },
  {
   "cell_type": "markdown",
   "id": "59ae3a13",
   "metadata": {},
   "source": [
    "## Activities\n",
    "\n",
    "### Activity 1: Refine Your Jupyter Notebook\n",
    "In this activity, you'll add structure and content to a jupyter notebook."
   ]
  },
  {
   "cell_type": "markdown",
   "id": "f134a9da-96b3-44f7-8187-cdf9637b92b1",
   "metadata": {},
   "source": [
    "<b>Step 1:</b> Locate the previous lab's Jupyter Notebook: \n",
    "- Navigate to the file browser panel on the left. Select the jupyter notebook named \" JupyterNotebookSetup.ipynb\"\n",
    "\n",
    "You may also choose to create a new Jupyter Notebook of your own : \n",
    "- Navigate to the tab bar above and find the \"Launcher\" icon. Click it to open a Launcher page. \n",
    "- Under the \"Notebook\" category, select \"Python 3(ipykernel)\" to create a new Jupyter Notebook."
   ]
  },
  {
   "cell_type": "markdown",
   "id": "c6cbe8cd",
   "metadata": {},
   "source": [
    "<b>Step 2:</b> Add a title and introduction\n",
    "\n",
    "- At the top of your notebook, add a markdown cell with a title and brief introduction\n",
    "- Example : "
   ]
  },
  {
   "cell_type": "raw",
   "id": "2f2457f4-c210-4798-ba88-337e02f2e9cd",
   "metadata": {},
   "source": [
    "# My Data Science Journey\n",
    "\n",
    "This notebook documents my learning process and goals in data science using Python."
   ]
  },
  {
   "cell_type": "markdown",
   "id": "b8c4d675",
   "metadata": {},
   "source": [
    "<b>Step 3:</b> Define your data science goals\n",
    "- Create a new markdown cell\n",
    "- List 3-5 specific goals you have for learning data science\n",
    "- Example:"
   ]
  },
  {
   "cell_type": "raw",
   "id": "a35a68de-5b11-478e-9186-c445b937aa50",
   "metadata": {},
   "source": [
    "## My Data Science Goals\n",
    "\n",
    "1. Master fundamental Python programming skills\n",
    "2. Learn to manipulate and analyze data using pandas\n",
    "3. Develop proficiency in data visualization with matplotlib and seaborn\n",
    "4. Build a portfolio of data science projects"
   ]
  },
  {
   "cell_type": "markdown",
   "id": "eac3ba5f",
   "metadata": {},
   "source": [
    "<b>Tip:</b> Be specific and realistic with your goals. They should be achievable within the scope of this course."
   ]
  },
  {
   "cell_type": "markdown",
   "id": "ad58980a",
   "metadata": {},
   "source": [
    "### Activity 2: Initialize Git Repository\n",
    "Now, you'll prepare your notebook for version control."
   ]
  },
  {
   "cell_type": "markdown",
   "id": "d3289f50",
   "metadata": {},
   "source": [
    "<b>Step 1:</b> Open a terminal or command prompt. To open the terminal in this lab, navigate to the Launcher tab and click on terminal."
   ]
  },
  {
   "cell_type": "markdown",
   "id": "dd0b9926-88cd-4d22-bb8e-1570c20d3964",
   "metadata": {},
   "source": [
    "<b>Step 2:</b> Configure your Git identity by copying the git commands given below and running them in terminal. Ensure that before running the commands, you have added your name and email in the placeholder. "
   ]
  },
  {
   "cell_type": "raw",
   "id": "719d84bb-c186-40f7-8745-34345c6b495a",
   "metadata": {},
   "source": [
    "git config --global user.name \"Your name goes here\"\n",
    "git config --global user.email \"your.email@example.com\""
   ]
  },
  {
   "cell_type": "markdown",
   "id": "9e77ad75",
   "metadata": {},
   "source": [
    "<b>Step 3:</b> Ensure that you are in the directory containing your notebook.\n",
    "- If you created the notebook in the same folder as this notebook :\n",
    "    - Type <em>\"ls\"</em> and press enter to get a list of files in the current directory. If you can see your notebook in the list, you are in the right directory.\n",
    "- Otherwise, navigate to the directory containing your Jupyter Notebook by getting the path to the notebook :\n",
    "    - Type <em>\"cd path/to/your/notebook/directory\"</em> in terminal"
   ]
  },
  {
   "cell_type": "markdown",
   "id": "3a3d1b54",
   "metadata": {},
   "source": [
    "<b>Step 4:</b> Initialize a new Git repository\n",
    "- The cell given below will not run, it is there for your reference. Copy and run this command in terminal"
   ]
  },
  {
   "cell_type": "raw",
   "id": "8bdcd278-1288-44b6-a6d1-81a3476b9cd8",
   "metadata": {
    "tags": []
   },
   "source": [
    "git init"
   ]
  },
  {
   "cell_type": "markdown",
   "id": "4fea2ea2",
   "metadata": {
    "tags": []
   },
   "source": [
    "### Activity 3: Commit Your Notebook\n",
    "In this activity, you'll make your first commit and push it to GitHub.\n"
   ]
  },
  {
   "cell_type": "markdown",
   "id": "62be2a5a",
   "metadata": {},
   "source": [
    "<b>Step 1:</b> Stage your notebook file.\n",
    "- Depending on whether you chose to create a new notebook, or worked with the previous lab's notebook, add the name of the notebook accordingly.\n",
    "- Copy and run the following command in terminal:"
   ]
  },
  {
   "cell_type": "raw",
   "id": "b369cee9-01fd-49c0-ab0d-f35afbd1116d",
   "metadata": {
    "tags": []
   },
   "source": [
    "git add YourNotebookName.ipynb"
   ]
  },
  {
   "cell_type": "markdown",
   "id": "6a249f95",
   "metadata": {},
   "source": [
    "<b>Step 2:</b> Commit your changes\n",
    "- Copy and run the following commands in terminal:"
   ]
  },
  {
   "cell_type": "raw",
   "id": "295796aa-40ee-4cb5-bac5-8e3e1fc86f2f",
   "metadata": {},
   "source": [
    "git commit -m \"Initial commit: Add data science goals notebook\""
   ]
  },
  {
   "cell_type": "markdown",
   "id": "91416e02",
   "metadata": {},
   "source": [
    "<b>Step 3:</b> Create a new repository on GitHub using your browser on your local machine\n",
    "- Go to github.com and log in\n",
    "- Click the '+' icon and select 'New repository'\n",
    "- Name your repository (e.g., \"data-science-journey\")\n",
    "- Keep it public and don't initialize with a README\n",
    "- Click 'Create repository'\n",
    "- Once you create the repository, ensure you make note of the commands provided by Github. You will need these commands in Step 5. "
   ]
  },
  {
   "cell_type": "markdown",
   "id": "65be0fc4-fc83-44ac-bb99-204b947dcb52",
   "metadata": {},
   "source": [
    "<b>Step 4:</b> Generate a Personal Access Token \n",
    "\n",
    "- Go to: https://github.com/settings/tokens\n",
    "- Click “Generate new token (classic)”.\n",
    "- Give it a name like \"JupyterLab Git push\".\n",
    "- Select scopes (at minimum):\n",
    "    - ✅ repo (for full control of private/public repositories)\n",
    "- Set an expiration (e.g., 30 days).\n",
    "- Click “Generate token”.\n",
    "- Copy the token — you won’t see it again!\n",
    "\n",
    "Once you complete step 5, you would be prompted to add your github username. Add your github username here.\n",
    "When prompted to add the password, paste your token ( Instead of your GitHub password) "
   ]
  },
  {
   "cell_type": "markdown",
   "id": "3ad2e491",
   "metadata": {},
   "source": [
    "<b>Step 5:</b> Link your local repository to GitHub\n",
    "- Copy the commands provided by GitHub after creating the repository ( i.e the commands you noted in Step 3). \n",
    "- Run the commands in terminal:"
   ]
  },
  {
   "cell_type": "raw",
   "id": "8c8683f0-7a03-425c-8604-c95afcffc2c5",
   "metadata": {},
   "source": [
    "git remote add origin https://github.com/yourusername/your-repo-name.git\n",
    "git branch -M main\n",
    "git push -u origin main"
   ]
  },
  {
   "cell_type": "markdown",
   "id": "b6291537",
   "metadata": {},
   "source": [
    "- <b>git remote add origin https://github.com/yourusername/your-repo-name.git:</b> This command adds a remote repository (called \"origin\") pointing to the specified GitHub URL, linking your local repository to the remote one.\n",
    "- <b>git branch -M main:</b> This command renames the current branch to main, ensuring consistency with modern Git naming conventions.\n",
    "- <b>git push -u origin main:</b> This command pushes your local main branch to the remote repository (\"origin\") and sets it as the default upstream branch, meaning future pushes and pulls will reference this branch by default."
   ]
  },
  {
   "cell_type": "markdown",
   "id": "dfe04692",
   "metadata": {},
   "source": [
    "<b>Test Your Work:</b>\n",
    "- Visit your GitHub repository in a web browser\n",
    "- Verify that your notebook file is visible in the repository\n",
    "- Click on the notebook to ensure it renders correctly on GitHub"
   ]
  },
  {
   "cell_type": "markdown",
   "id": "6c59ac92",
   "metadata": {},
   "source": [
    "## Success Checklist\n",
    "- Your Jupyter Notebook includes a title, introduction, and clearly defined data science goals\n",
    "- A Git repository is initialized in your notebook directory\n",
    "- Your notebook is successfully committed and pushed to GitHub\n",
    "- The notebook is visible and readable on your GitHub repository page\n",
    "\n",
    "## Common Issues & Solutions\n",
    "- Problem: Git commands not recognized \n",
    "    - Solution: Ensure Git is properly installed and added to your system's PATH\n",
    "- Problem: Unable to push to GitHub repository \n",
    "    - Solution: Double-check your GitHub credentials and repository URL\n",
    "\n",
    "## Summary\n",
    "By completing this lab, you have taken the crucial first steps in setting up a professional data science workflow. You've not only established your Jupyter Notebook environment and articulated your learning goals, but also gained practical experience with version control using Git and GitHub, essential skills for collaborative and organized data science projects.\n",
    "\n",
    "### Key Points\n",
    "- Structuring your data science projects from the start is crucial for organization and progress tracking\n",
    "- Version control with Git and GitHub is an essential skill for collaborative data science work\n",
    "- Regular commits help track your progress and provide a safety net for your work"
   ]
  }
 ],
 "metadata": {
  "kernelspec": {
   "display_name": "Python 3 (ipykernel)",
   "language": "python",
   "name": "python3"
  },
  "language_info": {
   "codemirror_mode": {
    "name": "ipython",
    "version": 3
   },
   "file_extension": ".py",
   "mimetype": "text/x-python",
   "name": "python",
   "nbconvert_exporter": "python",
   "pygments_lexer": "ipython3",
   "version": "3.10.6"
  }
 },
 "nbformat": 4,
 "nbformat_minor": 5
}
