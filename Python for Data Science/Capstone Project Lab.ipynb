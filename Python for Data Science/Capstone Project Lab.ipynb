{
 "cells": [
  {
   "cell_type": "markdown",
   "id": "a7ccfb32",
   "metadata": {},
   "source": [
    "# Ungraded Lab: Capstone Project Lab"
   ]
  },
  {
   "cell_type": "markdown",
   "id": "2b27f3c0",
   "metadata": {},
   "source": [
    "## Overview\n",
    "In this comprehensive capstone project, you'll analyze TrendWave Media's social media engagement data to derive actionable insights. You'll apply the full range of data science skills you've learned throughout the course while leveraging AI tools to enhance your workflow.\n",
    "\n",
    "## Learning Outcomes\n",
    "By completing this lab, you will:\n",
    "- Execute a complete data science workflow from ingestion to reporting\n",
    "- Apply advanced data cleaning and EDA techniques\n",
    "- Create insightful visualizations\n",
    "- Perform statistical analysis\n",
    "- Document your process using Git\n",
    "\n",
    "## Dataset Information\n",
    "You'll be working with the <b>Capstone_Project_synthetic_social_media_data.csv</b> dataset, which contains social media engagement metrics including:\n",
    "- Post metadata (ID, timestamp, content)\n",
    "- User demographics\n",
    "- Engagement metrics (likes, shares, comments)\n",
    "- Sentiment scores\n",
    "- Topic classifications"
   ]
  },
  {
   "cell_type": "markdown",
   "id": "341e9505",
   "metadata": {},
   "source": [
    "## Activities\n",
    "\n",
    "### Activity 1: Data Ingestion and Cleaning\n",
    "As a data scientist at TrendWave Media, your first task is to prepare the social media engagement data for analysis. The marketing team needs insights into user engagement patterns, but before any analysis can begin, you'll need to ensure the data is clean and properly formatted.\n",
    "\n",
    "<b>Step 1:</b> Load and Examine the Dataset"
   ]
  },
  {
   "cell_type": "code",
   "execution_count": null,
   "id": "f25f6db6",
   "metadata": {},
   "outputs": [],
   "source": [
    "# Import required libraries\n",
    "import pandas as pd\n",
    "import numpy as np\n",
    "import matplotlib.pyplot as plt\n",
    "import seaborn as sns\n",
    "import plotly.express as px\n",
    "from scipy import stats\n",
    "\n",
    "# Load the dataset\n",
    "# YOUR CODE HERE"
   ]
  },
  {
   "cell_type": "markdown",
   "id": "02d81744",
   "metadata": {},
   "source": [
    "<b>Step 2:</b> Data Quality Assessment"
   ]
  },
  {
   "cell_type": "code",
   "execution_count": null,
   "id": "d9e006fb",
   "metadata": {},
   "outputs": [],
   "source": [
    "# Check for missing values, duplicates, and data types\n",
    "# YOUR CODE HERE"
   ]
  },
  {
   "cell_type": "markdown",
   "id": "d9f82a36",
   "metadata": {},
   "source": [
    "<b>Step 3:</b> Data Cleaning"
   ]
  },
  {
   "cell_type": "code",
   "execution_count": null,
   "id": "4bbb98be",
   "metadata": {},
   "outputs": [],
   "source": [
    "# Handle missing values and standardize formats\n",
    "# YOUR CODE HERE"
   ]
  },
  {
   "cell_type": "markdown",
   "id": "0e20875d",
   "metadata": {},
   "source": [
    "### Activity 2: Exploratory Data Analysis\n",
    "With clean data in hand, TrendWave's content strategy team needs to understand what drives user engagement across different content types and topics. They want insights that can directly inform content creation and posting strategies.\n",
    "\n",
    "<b>Step 1:</b> Basic Statistical Analysis"
   ]
  },
  {
   "cell_type": "code",
   "execution_count": null,
   "id": "5a301ed4",
   "metadata": {},
   "outputs": [],
   "source": [
    "# Calculate descriptive statistics\n",
    "# YOUR CODE HERE"
   ]
  },
  {
   "cell_type": "markdown",
   "id": "4b26eb8e",
   "metadata": {},
   "source": [
    "<b>Step 2:</b> Engagement Metrics Analysis"
   ]
  },
  {
   "cell_type": "code",
   "execution_count": null,
   "id": "c6af9774",
   "metadata": {},
   "outputs": [],
   "source": [
    "# Analyze likes, shares, and comments distributions\n",
    "# YOUR CODE HERE"
   ]
  },
  {
   "cell_type": "markdown",
   "id": "e817f14b",
   "metadata": {},
   "source": [
    "<b>Step 3:</b> Visualization Creation"
   ]
  },
  {
   "cell_type": "code",
   "execution_count": null,
   "id": "39686873",
   "metadata": {},
   "outputs": [],
   "source": [
    "# Create the following engagement trend visualizations\n",
    "# - A boxplot for Topic engagement distribution\n",
    "# - A Time series chart of engagement\n",
    "# - An Interactive scatter plot of engagement relationships \n",
    "# YOUR CODE HERE"
   ]
  },
  {
   "cell_type": "markdown",
   "id": "63aba70a",
   "metadata": {},
   "source": [
    "### Activity 3: Statistical Analysis and Documentation\n",
    "The executive team needs concrete evidence to support strategic decisions about content direction and resource allocation. The hypothesis being tested is whether there is an association between post topics and user demographics, which could influence content performance. Your analysis will help validate or challenge existing assumptions about content performance.\n",
    "\n",
    "<b>Step 1:</b> Hypothesis Testing"
   ]
  },
  {
   "cell_type": "code",
   "execution_count": null,
   "id": "49258ffd",
   "metadata": {},
   "outputs": [],
   "source": [
    "# Perform Chi-Squared test on the relationship between PostTopic and UserGender \n",
    "# YOUR CODE HERE"
   ]
  },
  {
   "cell_type": "markdown",
   "id": "8c0580aa",
   "metadata": {},
   "source": [
    "<b>Step 2:</b> GitHub Integrations and Documentation"
   ]
  },
  {
   "cell_type": "code",
   "execution_count": null,
   "id": "2af363e9",
   "metadata": {},
   "outputs": [],
   "source": [
    "# Create meaningful commits and documentation\n",
    "# YOUR CODE HERE"
   ]
  },
  {
   "cell_type": "markdown",
   "id": "5cb7092c",
   "metadata": {},
   "source": [
    "## Success Checklist\n",
    "- Dataset successfully loaded and cleaned\n",
    "- Comprehensive EDA completed with visualizations\n",
    "- Statistical analysis performed and documented\n",
    "- Code and findings properly version controlled\n",
    "- AI tools effectively leveraged for workflow enhancement\n",
    "\n",
    "## Common Issues & Solutions\n",
    "- Problem: Memory issues with large dataset \n",
    "    - Solution: Use chunking or optimize data types\n",
    "- Problem: Visualization rendering issues \n",
    "    - Solution: Check Jupyter Notebook display settings\n",
    "\n",
    "## Summary\n",
    "Congratulations on completing your capstone project! You've demonstrated mastery of core data science concepts and tools while analyzing real-world social media data.\n",
    "\n",
    "### Key Points\n",
    "- Data science workflow mastery\n",
    "- Advanced analysis techniques\n",
    "- Professional documentation practices\n",
    "- AI tool integration"
   ]
  },
  {
   "cell_type": "markdown",
   "id": "aa0068ea",
   "metadata": {},
   "source": [
    "## Solution Code \n",
    "Stuck on your code or want to check your solution? Here's a complete reference implementation to guide you. This represents just one effective approach—try solving independently first, then use this to overcome obstacles or compare techniques. The solution is provided to help you move forward and explore alternative approaches to achieve the same results. Happy coding!"
   ]
  },
  {
   "cell_type": "markdown",
   "id": "b876fd16",
   "metadata": {},
   "source": [
    "### Activity 1: Data Ingestion and Cleaning - Solution Code"
   ]
  },
  {
   "cell_type": "code",
   "execution_count": null,
   "id": "59eb2179",
   "metadata": {},
   "outputs": [],
   "source": [
    "import pandas as pd\n",
    "import numpy as np\n",
    "import matplotlib.pyplot as plt\n",
    "import seaborn as sns\n",
    "import plotly.express as px\n",
    "from scipy import stats\n",
    "\n",
    "# Load the dataset\n",
    "df = pd.read_csv('Capstone_Project_synthetic_social_media_data.csv')\n",
    "\n",
    "def clean_social_media_data(df):\n",
    "    \"\"\"Clean and prepare social media engagement data.\n",
    "    \n",
    "    Args:\n",
    "        df (pandas.DataFrame): Raw social media data\n",
    "        \n",
    "    Returns:\n",
    "        pandas.DataFrame: Cleaned dataset\n",
    "    \"\"\"\n",
    "    # Create a copy\n",
    "    df_clean = df.copy()\n",
    "    \n",
    "    # Convert timestamp to datetime\n",
    "    df_clean['PostDateTime'] = pd.to_datetime(df_clean['PostDateTime'], format='mixed')\n",
    "    \n",
    "    # Handle missing values\n",
    "    df_clean['Likes'] = df_clean['Likes'].fillna(0)\n",
    "    df_clean['Shares'] = df_clean['Shares'].fillna(0)\n",
    "    df_clean['Comments'] = df_clean['Comments'].fillna(0)\n",
    "    df_clean['SentimentScore'] = df_clean['SentimentScore'].fillna(0)\n",
    "    \n",
    "    # Remove duplicate posts\n",
    "    df_clean = df_clean.drop_duplicates(subset='PostID')\n",
    "    # Remove rows where UserGender is missing\n",
    "    df_clean = df_clean.dropna(subset=['UserGender'])\n",
    "\n",
    "    \n",
    "    # Standardize categories\n",
    "    df_clean['PostTopic'] = df_clean['PostTopic'].str.lower()\n",
    "    df_clean['UserGender'] = df_clean['UserGender'].str.upper()\n",
    "    \n",
    "    return df_clean\n",
    "\n",
    "# Clean the data\n",
    "df_clean = clean_social_media_data(df)"
   ]
  },
  {
   "cell_type": "markdown",
   "id": "25eb7011",
   "metadata": {},
   "source": [
    "### Activity 2: Exploratory Data Analysis - Solution Code"
   ]
  },
  {
   "cell_type": "code",
   "execution_count": null,
   "id": "e8254acb",
   "metadata": {},
   "outputs": [],
   "source": [
    "def analyze_engagement_metrics(df):\n",
    "    \"\"\"Analyze social media engagement metrics.\n",
    "    \n",
    "    Args:\n",
    "        df (pandas.DataFrame): Cleaned social media data\n",
    "        \n",
    "    Returns:\n",
    "        dict: Engagement analysis results\n",
    "    \"\"\"\n",
    "    results = {}\n",
    "    \n",
    "    # Calculate basic engagement statistics\n",
    "    results['total_engagement'] = {\n",
    "        'Likes': df['Likes'].sum(),\n",
    "        'Shares': df['Shares'].sum(),\n",
    "        'Comments': df['Comments'].sum()\n",
    "    }\n",
    "    \n",
    "    # Analyze engagement by topic\n",
    "    results['topic_engagement'] = df.groupby('PostTopic').agg({\n",
    "        'Likes': 'mean',\n",
    "        'Shares': 'mean',\n",
    "        'Comments': 'mean'\n",
    "    }).round(2)\n",
    "    \n",
    "    # Time-based analysis\n",
    "    df['hour'] = df['PostDateTime'].dt.hour\n",
    "    results['hourly_engagement'] = df.groupby('hour')['Likes'].mean()\n",
    "    \n",
    "    return results\n",
    "\n",
    "def create_engagement_visualizations(df):\n",
    "    \"\"\"Create visualizations for engagement metrics.\"\"\"\n",
    "    \n",
    "    # Topic engagement distribution\n",
    "    plt.figure(figsize=(12, 6))\n",
    "    sns.boxplot(x='PostTopic', y='Likes', data=df)\n",
    "    plt.title('Likes by Topic')\n",
    "    plt.xticks(rotation=45)\n",
    "    plt.tight_layout()\n",
    "    plt.show()\n",
    "    \n",
    "    # Time series of engagement\n",
    "    daily_engagement = df.groupby(df['PostDateTime'].dt.date)['Likes'].mean()\n",
    "    plt.figure(figsize=(12, 6))\n",
    "    daily_engagement.plot()\n",
    "    plt.title('Daily Average Likes')\n",
    "    plt.tight_layout()\n",
    "    plt.show()\n",
    "    \n",
    "    # Interactive scatter plot\n",
    "    fig = px.scatter(df, \n",
    "                     x='Likes', \n",
    "                     y='Shares',\n",
    "                     color='PostTopic',\n",
    "                     hover_data=['Comments'],\n",
    "                     title='Engagement Relationships')\n",
    "    fig.show()\n",
    "\n",
    "# Run analysis\n",
    "engagement_results = analyze_engagement_metrics(df_clean)\n",
    "create_engagement_visualizations(df_clean)"
   ]
  },
  {
   "cell_type": "markdown",
   "id": "169ca571",
   "metadata": {},
   "source": [
    "### Activity 3: Statistical Analysis and Documentation - Solution Code"
   ]
  },
  {
   "cell_type": "code",
   "execution_count": null,
   "id": "f82da2d6",
   "metadata": {},
   "outputs": [],
   "source": [
    "def perform_statistical_tests(df):\n",
    "    \"\"\"Conduct statistical analysis on engagement patterns.\n",
    "    \n",
    "    Args:\n",
    "        df (pandas.DataFrame): Cleaned social media data\n",
    "        \n",
    "    Returns:\n",
    "        dict: Statistical test results\n",
    "    \"\"\"\n",
    "    results = {}\n",
    "    \n",
    "    # Chi-square test for topic and user_gender\n",
    "    contingency_table = pd.crosstab(df['PostTopic'], df['UserGender'])\n",
    "    chi2, p_value, dof, expected = stats.chi2_contingency(contingency_table)\n",
    "    \n",
    "    results['topic_gender_relationship'] = {\n",
    "        'chi2_statistic': chi2,\n",
    "        'p_value': p_value,\n",
    "        'degrees_of_freedom': dof\n",
    "    }\n",
    "    \n",
    "    # ANOVA test for engagement across topics\n",
    "    f_stat, p_value = stats.f_oneway(*[group['Likes'] for name, group in df.groupby('PostTopic')])\n",
    "    \n",
    "    results['topic_engagement_difference'] = {\n",
    "        'f_statistic': f_stat,\n",
    "        'p_value': p_value\n",
    "    }\n",
    "    \n",
    "    return results\n",
    "\n",
    "# Perform statistical analysis\n",
    "statistical_results = perform_statistical_tests(df_clean)\n",
    "\n",
    "# Document findings\n",
    "print(\"\\nStatistical Analysis Results:\")\n",
    "print(\"-----------------------------\")\n",
    "print(f\"Topic-Gender Relationship p-value: {statistical_results['topic_gender_relationship']['p_value']:.4f}\")\n",
    "print(f\"Topic Engagement Difference p-value: {statistical_results['topic_engagement_difference']['p_value']:.4f}\")\n",
    "\n",
    "# Create meaningful commits and documentation\n",
    "# !git init -b main  # if not already done\n",
    "\n",
    "# !git checkout -b feature/analysis \n",
    "\n",
    "# !git status \n",
    "\n",
    "# !git add . \n",
    "\n",
    "# !git commit -m \"docs: add analysis and documentation\" \n",
    "\n",
    "# !git remote add origin https://github.com/your-username/your-repo.git  \n",
    "# if you are working in a brand new Git repo created locally\n",
    "\n",
    "# !git push -u origin feature/documentation\n",
    "\n",
    "\n",
    "# If you want to use these Git commands, and encounter an error like:\n",
    "# \"fatal: detected dubious ownership in repository\"\n",
    "# then Git is preventing access to the directory for security reasons.\n",
    "\n",
    "# To fix this, mark the directory as 'safe' by running:\n",
    "# !git config --global --add safe.directory /home/jovyan/work"
   ]
  }
 ],
 "metadata": {
  "kernelspec": {
   "display_name": "Python 3 (ipykernel)",
   "language": "python",
   "name": "python3"
  },
  "language_info": {
   "codemirror_mode": {
    "name": "ipython",
    "version": 3
   },
   "file_extension": ".py",
   "mimetype": "text/x-python",
   "name": "python",
   "nbconvert_exporter": "python",
   "pygments_lexer": "ipython3",
   "version": "3.10.6"
  }
 },
 "nbformat": 4,
 "nbformat_minor": 5
}
