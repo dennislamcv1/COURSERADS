{
 "cells": [
  {
   "cell_type": "markdown",
   "id": "629f33bf",
   "metadata": {},
   "source": [
    "# Ungraded Lab: Create a Database Table Challenge"
   ]
  },
  {
   "cell_type": "markdown",
   "id": "b41a9018",
   "metadata": {},
   "source": [
    "## 📋 Overview \n",
    "\n",
    "Welcome to the final lab of Module 4! In this challenge, you'll apply the concepts you've learned throughout the course to create a robust database using sales data from a business. This hands-on experience will give you the opportunity to demonstrate your skills in a real-world context, preparing you for similar tasks you might encounter as a data scientist.\n",
    "\n",
    "\n",
    "## 🎯 Learning Outcomes\n",
    "By the end of this lab, you will be able to:\n",
    "- Create new schema and tables based on given business requirements\n",
    "- Implement the schema and tables using SQL CREATE TABLE statements\n",
    "- Apply appropriate data types and constraints to ensure data integrity\n",
    "- Import sample data into the newly created tables\n",
    "\n",
    "\n",
    "## 📚 Dataset Information\n",
    "You'll be working with the <b>product.csv</b> dataset, which contains information about products listed in an online shop. The data includes <b>product IDs, city locations, product URLs, tags for categorization, and links to product images</b>.\n"
   ]
  },
  {
   "cell_type": "markdown",
   "id": "ab983443",
   "metadata": {},
   "source": [
    "## 🖥️ Activities\n",
    "\n",
    "### Activity 1: Analyze the Dataset  \n",
    "\n",
    "Before creating our schema, we need to understand the structure of our data."
   ]
  },
  {
   "cell_type": "markdown",
   "id": "86e171a5",
   "metadata": {},
   "source": [
    "<b>Step 1:</b> Review the dataset information provided:\n",
    "- Examine the columns: product_id, city, product_url, tags, product_picture\n",
    "- Note the data types and any potential constraints"
   ]
  },
  {
   "cell_type": "code",
   "execution_count": 1,
   "id": "cd282704",
   "metadata": {},
   "outputs": [
    {
     "data": {
      "text/html": [
       "<div>\n",
       "<style scoped>\n",
       "    .dataframe tbody tr th:only-of-type {\n",
       "        vertical-align: middle;\n",
       "    }\n",
       "\n",
       "    .dataframe tbody tr th {\n",
       "        vertical-align: top;\n",
       "    }\n",
       "\n",
       "    .dataframe thead th {\n",
       "        text-align: right;\n",
       "    }\n",
       "</style>\n",
       "<table border=\"1\" class=\"dataframe\">\n",
       "  <thead>\n",
       "    <tr style=\"text-align: right;\">\n",
       "      <th></th>\n",
       "      <th>product_id</th>\n",
       "      <th>city</th>\n",
       "      <th>product_url</th>\n",
       "      <th>tags</th>\n",
       "      <th>product_picture</th>\n",
       "    </tr>\n",
       "  </thead>\n",
       "  <tbody>\n",
       "    <tr>\n",
       "      <th>0</th>\n",
       "      <td>1</td>\n",
       "      <td>New York</td>\n",
       "      <td>https://data_shop_inc.com/product/1</td>\n",
       "      <td>electronics</td>\n",
       "      <td>https://picsum.photos/300?random=1</td>\n",
       "    </tr>\n",
       "    <tr>\n",
       "      <th>1</th>\n",
       "      <td>2</td>\n",
       "      <td>Miami</td>\n",
       "      <td>https://data_shop_inc.com/product/2</td>\n",
       "      <td>electronics</td>\n",
       "      <td>https://picsum.photos/300?random=2</td>\n",
       "    </tr>\n",
       "    <tr>\n",
       "      <th>2</th>\n",
       "      <td>3</td>\n",
       "      <td>New York</td>\n",
       "      <td>https://data_shop_inc.com/product/3</td>\n",
       "      <td>summer</td>\n",
       "      <td>https://picsum.photos/300?random=3</td>\n",
       "    </tr>\n",
       "    <tr>\n",
       "      <th>3</th>\n",
       "      <td>4</td>\n",
       "      <td>Houston</td>\n",
       "      <td>https://data_shop_inc.com/product/4</td>\n",
       "      <td>beauty</td>\n",
       "      <td>https://picsum.photos/300?random=4</td>\n",
       "    </tr>\n",
       "    <tr>\n",
       "      <th>4</th>\n",
       "      <td>5</td>\n",
       "      <td>Miami</td>\n",
       "      <td>https://data_shop_inc.com/product/5</td>\n",
       "      <td>beauty</td>\n",
       "      <td>https://picsum.photos/300?random=5</td>\n",
       "    </tr>\n",
       "  </tbody>\n",
       "</table>\n",
       "</div>"
      ],
      "text/plain": [
       "   product_id      city                          product_url         tags  \\\n",
       "0           1  New York  https://data_shop_inc.com/product/1  electronics   \n",
       "1           2     Miami  https://data_shop_inc.com/product/2  electronics   \n",
       "2           3  New York  https://data_shop_inc.com/product/3       summer   \n",
       "3           4   Houston  https://data_shop_inc.com/product/4       beauty   \n",
       "4           5     Miami  https://data_shop_inc.com/product/5       beauty   \n",
       "\n",
       "                      product_picture  \n",
       "0  https://picsum.photos/300?random=1  \n",
       "1  https://picsum.photos/300?random=2  \n",
       "2  https://picsum.photos/300?random=3  \n",
       "3  https://picsum.photos/300?random=4  \n",
       "4  https://picsum.photos/300?random=5  "
      ]
     },
     "execution_count": 1,
     "metadata": {},
     "output_type": "execute_result"
    }
   ],
   "source": [
    "#Import necessary libraries:\n",
    "import sqlite3\n",
    "import pandas as pd\n",
    "\n",
    "#Take a look at the given data : \n",
    "products_data = pd.read_csv(\"product.csv\")\n",
    "products_data.head()"
   ]
  },
  {
   "cell_type": "markdown",
   "id": "53e434d9",
   "metadata": {},
   "source": [
    "<b>Step 2:</b> Consider the following questions:\n",
    "- What could be the primary key for this dataset?\n",
    "- Are there any columns that should be required (NOT NULL)?\n",
    "- Are there any columns that should be unique?"
   ]
  },
  {
   "cell_type": "markdown",
   "id": "44a52fb5",
   "metadata": {},
   "source": [
    "<b>💡 Tip:</b> Pay attention to the product_id column as a potential primary key."
   ]
  },
  {
   "cell_type": "markdown",
   "id": "7e05a94c",
   "metadata": {},
   "source": [
    "### Activity 2: Creating the Schema\n",
    "\n",
    "In SQL, a schema is a way to organize how a database is structured. It includes all the elements like tables, views, indexes, and procedures within the database. Think of it as a blueprint that groups everything together, making it easier to manage and secure the data.\n",
    "In SQLite, unlike databases such as PostgreSQL or MySQL, you don’t explicitly create schemas. Instead, the database file itself serves as the schema, and all database objects like tables, views, and indexes are created directly within that database file.\n",
    "\n",
    "Create a new schema, named my_schema, using SQLite:\n"
   ]
  },
  {
   "cell_type": "code",
   "execution_count": 2,
   "id": "8f4cb1ed",
   "metadata": {},
   "outputs": [],
   "source": [
    "# Create or connect to a schema\n",
    "conn = sqlite3.connect(\"my_schema.db\") \n",
    "cursor = conn.cursor()"
   ]
  },
  {
   "cell_type": "markdown",
   "id": "2322c371",
   "metadata": {},
   "source": [
    "### Activity 3:  Design the Products Table\n",
    "\n",
    "Now that we have created our schema, let's create the table.\n",
    "\n",
    "<b>Step 1:</b> Design a new table called 'products' with appropriate columns: "
   ]
  },
  {
   "cell_type": "markdown",
   "id": "1347d4f5",
   "metadata": {},
   "source": [
    "Choose appropriate data types for each column:\n",
    "- product_id: Consider using INT or BIGINT\n",
    "- city: VARCHAR would be suitable for city names\n",
    "- product_url: VARCHAR or TEXT for URLs\n",
    "- tags: VARCHAR or TEXT for product categories\n",
    "- product_picture: VARCHAR or TEXT for image URLs"
   ]
  },
  {
   "cell_type": "markdown",
   "id": "61de3150",
   "metadata": {
    "scrolled": true
   },
   "source": [
    "```\n",
    "CREATE TABLE products (\n",
    "  # Your code here\n",
    ");\n",
    "```"
   ]
  },
  {
   "cell_type": "markdown",
   "id": "a8a5ab9a",
   "metadata": {},
   "source": [
    "<b>Step 2:</b> Add constraints to ensure data integrity:\n",
    "- Set product_id as the primary key\n",
    "- Make all columns NOT NULL if they should always have a value\n",
    "- Consider adding a UNIQUE constraint to product_url if each product should have a unique URL"
   ]
  },
  {
   "cell_type": "markdown",
   "id": "068fc97c",
   "metadata": {},
   "source": [
    "<b>💡 Tip:</b> Remember to end each line (except the last) with a comma, and the entire statement with a semicolon."
   ]
  },
  {
   "cell_type": "markdown",
   "id": "bc90000d",
   "metadata": {},
   "source": [
    "### Activity 4: Implement the Table\n",
    "Let's turn our design into actual SQL code."
   ]
  },
  {
   "cell_type": "markdown",
   "id": "98e17231",
   "metadata": {},
   "source": [
    "<b>Step 1:</b> Write the SQL statement to create the 'products' table:"
   ]
  },
  {
   "cell_type": "code",
   "execution_count": null,
   "id": "b5840675",
   "metadata": {},
   "outputs": [],
   "source": [
    "create_table_query = \"\"\"\n",
    "CREATE TABLE products (\n",
    "  -- Your code here\n",
    ");\n",
    "\"\"\"\n",
    "\n",
    "# Execute the query\n",
    "cursor.execute(create_table_query)\n",
    "conn.commit()"
   ]
  },
  {
   "cell_type": "markdown",
   "id": "52b4c6c7",
   "metadata": {},
   "source": [
    "<b>💡 Tip:</b> Double-check your SQL syntax before running the query. Common errors include missing commas or semicolons."
   ]
  },
  {
   "cell_type": "markdown",
   "id": "503e0c2d",
   "metadata": {},
   "source": [
    "### Activity 5: Verify the Table\n",
    "It's important to verify that our schema was created correctly."
   ]
  },
  {
   "cell_type": "markdown",
   "id": "2d509b80",
   "metadata": {},
   "source": [
    "<b>Step 1:</b> Write a query to describe the 'products' table:"
   ]
  },
  {
   "cell_type": "code",
   "execution_count": null,
   "id": "28c3ae5b",
   "metadata": {},
   "outputs": [],
   "source": [
    "describe_query = \"\"\"\n",
    "PRAGMA table_info(products);\n",
    "\"\"\"\n",
    "\n",
    "# Execute the query and display results\n",
    "df = pd.read_sql_query(describe_query, conn)\n",
    "display(df)"
   ]
  },
  {
   "cell_type": "markdown",
   "id": "8235be90",
   "metadata": {},
   "source": [
    "<b>Step 2:</b> Run the cell and examine the output. Verify that:\n",
    "- All columns are present\n",
    "- Data types are correct\n",
    "- Constraints (e.g., PRIMARY KEY, NOT NULL) are applied correctly\n"
   ]
  },
  {
   "cell_type": "markdown",
   "id": "6a7e52fe",
   "metadata": {},
   "source": [
    "<b>💡 Tip:</b> If you notice any issues, you can drop the table and recreate it with corrections."
   ]
  },
  {
   "cell_type": "code",
   "execution_count": null,
   "id": "825c45da",
   "metadata": {},
   "outputs": [],
   "source": [
    "# Close the database connection \n",
    "conn.close()"
   ]
  },
  {
   "cell_type": "markdown",
   "id": "051945f2",
   "metadata": {},
   "source": [
    "## ✅ Success Checklist\n",
    "- The 'products' table is created without errors\n",
    "- All required columns are present in the table\n",
    "- Data types are appropriate for each column\n",
    "- Constraints (PRIMARY KEY, NOT NULL, etc.) are correctly applied\n",
    "- You can successfully describe the table structure\n",
    "\n",
    "## 🔍 Common Issues & Solutions \n",
    "\n",
    "- Problem: \"Table already exists\" error \n",
    "    - Solution: If you're re-running your code, drop the existing table first:<br>\n",
    "    <b>DROP TABLE IF EXISTS products;</b></br>\n",
    "\n",
    "- Problem: Incorrect data type causing insertion issues  \n",
    "    - Solution: Double-check that your data types match the sample data provided. For example, ensure TEXT is used for longer string fields if VARCHAR is too limiting.\n",
    "\n",
    "## ➡️ Summary\n",
    "Great job completing this lab! You've now designed and implemented a database schema, a fundamental skill for any data scientist working with structured data. In your future projects, remember to always start with a well-thought-out schema that accurately represents your data and enforces necessary constraints.\n",
    "\n",
    "### 🔑 Key Points\n",
    "- Properly designing a database schema is crucial for efficient data management\n",
    "- SQL CREATE TABLE statements define the structure of your database\n",
    "- Choosing appropriate data types and constraints ensures data integrity\n",
    "- Always verify your schema after creation to catch any potential issues"
   ]
  }
 ],
 "metadata": {
  "kernelspec": {
   "display_name": "Python 3 (ipykernel)",
   "language": "python",
   "name": "python3"
  },
  "language_info": {
   "codemirror_mode": {
    "name": "ipython",
    "version": 3
   },
   "file_extension": ".py",
   "mimetype": "text/x-python",
   "name": "python",
   "nbconvert_exporter": "python",
   "pygments_lexer": "ipython3",
   "version": "3.10.6"
  }
 },
 "nbformat": 4,
 "nbformat_minor": 5
}
