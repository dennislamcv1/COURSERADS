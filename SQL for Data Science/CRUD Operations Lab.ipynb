{
 "cells": [
  {
   "cell_type": "markdown",
   "id": "3c40dd95",
   "metadata": {},
   "source": [
    "# Ungraded Lab: CRUD Operations Lab"
   ]
  },
  {
   "cell_type": "markdown",
   "id": "8b9a3047",
   "metadata": {},
   "source": [
    "## 📋 Overview \n",
    "In this lab, you'll practice essential SQL data manipulation commands: INSERT, UPDATE, and DELETE. Using the BookCycle transactions dataset, you'll simulate real-world scenarios of managing book transaction records. This hands-on experience will reinforce your understanding of CRUD operations and their importance in maintaining data integrity.\n",
    "\n",
    "## 🎯 Learning Outcomes\n",
    "By the end of this lab, you will be able to:\n",
    "- Execute INSERT operations to add new transaction records\n",
    "- Perform UPDATE operations to modify existing transaction data\n",
    "- Use DELETE operations to remove specific records from the dataset\n",
    "- Understand the importance of transaction control in maintaining data consistency\n",
    "\n",
    "## 📚 Dataset Information\n",
    "We'll be working with the <b>transactions.csv</b> dataset, which contains individual book transaction records for BookCycle stores. Each row represents a single transaction with details such as <b>transaction ID, date and time, store location, customer ID, book ID, sale price, payment method, and whether the transaction was online or in-store</b>."
   ]
  },
  {
   "cell_type": "markdown",
   "id": "69197d54",
   "metadata": {},
   "source": [
    "## 🖥️ Activities\n",
    "\n",
    "### Activity 1: Setting Up the Environment  \n",
    "\n",
    "Before we start manipulating data, we need to set up our working environment and load the dataset."
   ]
  },
  {
   "cell_type": "markdown",
   "id": "2e073c90",
   "metadata": {},
   "source": [
    "<b>Step 1: </b> Import the necessary libraries"
   ]
  },
  {
   "cell_type": "code",
   "execution_count": 1,
   "id": "eeff5af9",
   "metadata": {
    "scrolled": true
   },
   "outputs": [],
   "source": [
    "import sqlite3\n",
    "import pandas as pd"
   ]
  },
  {
   "cell_type": "markdown",
   "id": "36451444",
   "metadata": {},
   "source": [
    "<b>Step 2:</b> Load the dataset and create a temporary SQLite Database: "
   ]
  },
  {
   "cell_type": "code",
   "execution_count": 2,
   "id": "a6d008a8",
   "metadata": {},
   "outputs": [],
   "source": [
    "# Load the CSV file\n",
    "df = pd.read_csv('transactions.csv')\n",
    "\n",
    "# Create a temporary SQLite database and load the data\n",
    "conn = sqlite3.connect(':memory:')\n",
    "df.to_sql('transactions', conn, index=False)\n",
    "\n",
    "# Create a cursor object\n",
    "cursor = conn.cursor()"
   ]
  },
  {
   "cell_type": "markdown",
   "id": "8b94e507",
   "metadata": {},
   "source": [
    "<b>Step 3: </b> Verify the data has been loaded correctly:"
   ]
  },
  {
   "cell_type": "code",
   "execution_count": 3,
   "id": "0fd2f171",
   "metadata": {},
   "outputs": [
    {
     "data": {
      "text/html": [
       "<div>\n",
       "<style scoped>\n",
       "    .dataframe tbody tr th:only-of-type {\n",
       "        vertical-align: middle;\n",
       "    }\n",
       "\n",
       "    .dataframe tbody tr th {\n",
       "        vertical-align: top;\n",
       "    }\n",
       "\n",
       "    .dataframe thead th {\n",
       "        text-align: right;\n",
       "    }\n",
       "</style>\n",
       "<table border=\"1\" class=\"dataframe\">\n",
       "  <thead>\n",
       "    <tr style=\"text-align: right;\">\n",
       "      <th></th>\n",
       "      <th>transaction_id</th>\n",
       "      <th>date_time</th>\n",
       "      <th>store_location</th>\n",
       "      <th>customer_id</th>\n",
       "      <th>book_id</th>\n",
       "      <th>sale_price</th>\n",
       "      <th>payment_method</th>\n",
       "      <th>is_online</th>\n",
       "    </tr>\n",
       "  </thead>\n",
       "  <tbody>\n",
       "    <tr>\n",
       "      <th>0</th>\n",
       "      <td>T1001</td>\n",
       "      <td>2023-01-15 09:23:45</td>\n",
       "      <td>University</td>\n",
       "      <td>C1045</td>\n",
       "      <td>B1055</td>\n",
       "      <td>11.99</td>\n",
       "      <td>credit</td>\n",
       "      <td>0</td>\n",
       "    </tr>\n",
       "    <tr>\n",
       "      <th>1</th>\n",
       "      <td>T1002</td>\n",
       "      <td>2023-01-15 10:15:22</td>\n",
       "      <td>Downtown</td>\n",
       "      <td>C1023</td>\n",
       "      <td>B1032</td>\n",
       "      <td>10.99</td>\n",
       "      <td>debit</td>\n",
       "      <td>0</td>\n",
       "    </tr>\n",
       "    <tr>\n",
       "      <th>2</th>\n",
       "      <td>T1003</td>\n",
       "      <td>2023-01-15 10:45:33</td>\n",
       "      <td>Suburban</td>\n",
       "      <td>C1078</td>\n",
       "      <td>B1036</td>\n",
       "      <td>11.99</td>\n",
       "      <td>cash</td>\n",
       "      <td>0</td>\n",
       "    </tr>\n",
       "    <tr>\n",
       "      <th>3</th>\n",
       "      <td>T1004</td>\n",
       "      <td>2023-01-15 11:30:15</td>\n",
       "      <td>University</td>\n",
       "      <td>C1012</td>\n",
       "      <td>B1071</td>\n",
       "      <td>13.99</td>\n",
       "      <td>credit</td>\n",
       "      <td>1</td>\n",
       "    </tr>\n",
       "    <tr>\n",
       "      <th>4</th>\n",
       "      <td>T1005</td>\n",
       "      <td>2023-01-15 13:45:22</td>\n",
       "      <td>University</td>\n",
       "      <td>C1034</td>\n",
       "      <td>B1075</td>\n",
       "      <td>12.99</td>\n",
       "      <td>debit</td>\n",
       "      <td>0</td>\n",
       "    </tr>\n",
       "  </tbody>\n",
       "</table>\n",
       "</div>"
      ],
      "text/plain": [
       "  transaction_id            date_time store_location customer_id book_id  \\\n",
       "0          T1001  2023-01-15 09:23:45     University       C1045   B1055   \n",
       "1          T1002  2023-01-15 10:15:22       Downtown       C1023   B1032   \n",
       "2          T1003  2023-01-15 10:45:33       Suburban       C1078   B1036   \n",
       "3          T1004  2023-01-15 11:30:15     University       C1012   B1071   \n",
       "4          T1005  2023-01-15 13:45:22     University       C1034   B1075   \n",
       "\n",
       "   sale_price payment_method  is_online  \n",
       "0       11.99         credit          0  \n",
       "1       10.99          debit          0  \n",
       "2       11.99           cash          0  \n",
       "3       13.99         credit          1  \n",
       "4       12.99          debit          0  "
      ]
     },
     "metadata": {},
     "output_type": "display_data"
    }
   ],
   "source": [
    "# Check the first few rows of the transactions table\n",
    "query = \"SELECT * FROM transactions LIMIT 5;\"\n",
    "result = pd.read_sql_query(query, conn)\n",
    "display(result)"
   ]
  },
  {
   "cell_type": "markdown",
   "id": "a3bf7a03",
   "metadata": {},
   "source": [
    " <b>💡 Tip:</b> Always verify your data after loading it into a database to ensure it's in the expected format."
   ]
  },
  {
   "cell_type": "markdown",
   "id": "eb11dacb",
   "metadata": {},
   "source": [
    "### Activity 2: INSERT Operation\n",
    "\n",
    "BookCycle has just completed a new transaction and needs to add it to the database."
   ]
  },
  {
   "cell_type": "markdown",
   "id": "93970880",
   "metadata": {},
   "source": [
    "<b>Step 1:</b> Write an INSERT statement to add a new transaction:"
   ]
  },
  {
   "cell_type": "code",
   "execution_count": 4,
   "id": "e9403b7e",
   "metadata": {
    "scrolled": false
   },
   "outputs": [],
   "source": [
    "insert_query = \"\"\"\n",
    "INSERT INTO transactions \n",
    "(transaction_id, date_time, store_location, customer_id, book_id, sale_price, payment_method, is_online)\n",
    "VALUES (?, ?, ?, ?, ?, ?, ?, ?);\n",
    "\"\"\"\n",
    "\n",
    "# Example data for a new transaction\n",
    "new_transaction = ('T1101', '2023-02-01 10:00:00', 'University', 'C1090', 'B1100', 14.99, 'credit', 0)\n",
    "\n",
    "cursor.execute(insert_query, new_transaction)\n",
    "conn.commit()"
   ]
  },
  {
   "cell_type": "markdown",
   "id": "167be319",
   "metadata": {},
   "source": [
    "<b>Step 2:</b> Verify the insertion:"
   ]
  },
  {
   "cell_type": "code",
   "execution_count": 5,
   "id": "c72e71e9",
   "metadata": {},
   "outputs": [
    {
     "data": {
      "text/html": [
       "<div>\n",
       "<style scoped>\n",
       "    .dataframe tbody tr th:only-of-type {\n",
       "        vertical-align: middle;\n",
       "    }\n",
       "\n",
       "    .dataframe tbody tr th {\n",
       "        vertical-align: top;\n",
       "    }\n",
       "\n",
       "    .dataframe thead th {\n",
       "        text-align: right;\n",
       "    }\n",
       "</style>\n",
       "<table border=\"1\" class=\"dataframe\">\n",
       "  <thead>\n",
       "    <tr style=\"text-align: right;\">\n",
       "      <th></th>\n",
       "      <th>transaction_id</th>\n",
       "      <th>date_time</th>\n",
       "      <th>store_location</th>\n",
       "      <th>customer_id</th>\n",
       "      <th>book_id</th>\n",
       "      <th>sale_price</th>\n",
       "      <th>payment_method</th>\n",
       "      <th>is_online</th>\n",
       "    </tr>\n",
       "  </thead>\n",
       "  <tbody>\n",
       "    <tr>\n",
       "      <th>0</th>\n",
       "      <td>T1101</td>\n",
       "      <td>2023-02-01 10:00:00</td>\n",
       "      <td>University</td>\n",
       "      <td>C1090</td>\n",
       "      <td>B1100</td>\n",
       "      <td>14.99</td>\n",
       "      <td>credit</td>\n",
       "      <td>0</td>\n",
       "    </tr>\n",
       "  </tbody>\n",
       "</table>\n",
       "</div>"
      ],
      "text/plain": [
       "  transaction_id            date_time store_location customer_id book_id  \\\n",
       "0          T1101  2023-02-01 10:00:00     University       C1090   B1100   \n",
       "\n",
       "   sale_price payment_method  is_online  \n",
       "0       14.99         credit          0  "
      ]
     },
     "metadata": {},
     "output_type": "display_data"
    }
   ],
   "source": [
    "verify_query = \"SELECT * FROM transactions WHERE transaction_id = 'T1101';\"\n",
    "\n",
    "result = pd.read_sql_query(verify_query, conn)\n",
    "display(result)"
   ]
  },
  {
   "cell_type": "markdown",
   "id": "04158e15",
   "metadata": {},
   "source": [
    " <b>💡 Tip:</b> Always commit your changes after an INSERT operation to save them to the database."
   ]
  },
  {
   "cell_type": "markdown",
   "id": "d95cf96a",
   "metadata": {},
   "source": [
    "### Activity 3: UPDATE Operation\n",
    "\n",
    "A customer has requested to change their payment method for a recent transaction."
   ]
  },
  {
   "cell_type": "markdown",
   "id": "adc84a94",
   "metadata": {
    "scrolled": true
   },
   "source": [
    "<b>Step 1:</b> Write an UPDATE statement to modify the payment method:"
   ]
  },
  {
   "cell_type": "code",
   "execution_count": 6,
   "id": "92d65ef0",
   "metadata": {},
   "outputs": [],
   "source": [
    "update_query = \"\"\"\n",
    "UPDATE transactions\n",
    "SET payment_method = ?\n",
    "WHERE transaction_id = ?;\n",
    "\"\"\"\n",
    "\n",
    "# Update the payment method for transaction T1101\n",
    "cursor.execute(update_query, ('debit', 'T1101'))\n",
    "conn.commit()"
   ]
  },
  {
   "cell_type": "markdown",
   "id": "c18e6984",
   "metadata": {},
   "source": [
    "<b>Step 2:</b> Verify the update:"
   ]
  },
  {
   "cell_type": "code",
   "execution_count": 7,
   "id": "4ad42b24",
   "metadata": {},
   "outputs": [
    {
     "data": {
      "text/html": [
       "<div>\n",
       "<style scoped>\n",
       "    .dataframe tbody tr th:only-of-type {\n",
       "        vertical-align: middle;\n",
       "    }\n",
       "\n",
       "    .dataframe tbody tr th {\n",
       "        vertical-align: top;\n",
       "    }\n",
       "\n",
       "    .dataframe thead th {\n",
       "        text-align: right;\n",
       "    }\n",
       "</style>\n",
       "<table border=\"1\" class=\"dataframe\">\n",
       "  <thead>\n",
       "    <tr style=\"text-align: right;\">\n",
       "      <th></th>\n",
       "      <th>transaction_id</th>\n",
       "      <th>date_time</th>\n",
       "      <th>store_location</th>\n",
       "      <th>customer_id</th>\n",
       "      <th>book_id</th>\n",
       "      <th>sale_price</th>\n",
       "      <th>payment_method</th>\n",
       "      <th>is_online</th>\n",
       "    </tr>\n",
       "  </thead>\n",
       "  <tbody>\n",
       "    <tr>\n",
       "      <th>0</th>\n",
       "      <td>T1101</td>\n",
       "      <td>2023-02-01 10:00:00</td>\n",
       "      <td>University</td>\n",
       "      <td>C1090</td>\n",
       "      <td>B1100</td>\n",
       "      <td>14.99</td>\n",
       "      <td>debit</td>\n",
       "      <td>0</td>\n",
       "    </tr>\n",
       "  </tbody>\n",
       "</table>\n",
       "</div>"
      ],
      "text/plain": [
       "  transaction_id            date_time store_location customer_id book_id  \\\n",
       "0          T1101  2023-02-01 10:00:00     University       C1090   B1100   \n",
       "\n",
       "   sale_price payment_method  is_online  \n",
       "0       14.99          debit          0  "
      ]
     },
     "metadata": {},
     "output_type": "display_data"
    }
   ],
   "source": [
    "verify_query = \"SELECT * FROM transactions WHERE transaction_id = 'T1101';\"\n",
    "\n",
    "result = pd.read_sql_query(verify_query, conn)\n",
    "display(result)"
   ]
  },
  {
   "cell_type": "markdown",
   "id": "c04d6a6a",
   "metadata": {},
   "source": [
    " <b>💡 Tip:</b> Use WHERE clauses carefully in UPDATE statements to avoid unintended modifications to multiple records."
   ]
  },
  {
   "cell_type": "markdown",
   "id": "708a6dea",
   "metadata": {},
   "source": [
    "### Activity 4: DELETE Operation\n",
    "\n",
    "BookCycle needs to remove a cancelled transaction from the database."
   ]
  },
  {
   "cell_type": "markdown",
   "id": "4a80fda0",
   "metadata": {
    "scrolled": true
   },
   "source": [
    "<b>Step 1:</b> Write a DELETE statement to remove a specific transaction:"
   ]
  },
  {
   "cell_type": "code",
   "execution_count": 8,
   "id": "44935f1f",
   "metadata": {},
   "outputs": [],
   "source": [
    "delete_query = \"DELETE FROM transactions WHERE transaction_id = ?;\"\n",
    "\n",
    "# Delete transaction T1101\n",
    "cursor.execute(delete_query, ('T1101',))\n",
    "conn.commit()"
   ]
  },
  {
   "cell_type": "markdown",
   "id": "620e16d3",
   "metadata": {},
   "source": [
    "<b>Step 2:</b> Verify the deletion:"
   ]
  },
  {
   "cell_type": "code",
   "execution_count": 9,
   "id": "0d767250",
   "metadata": {},
   "outputs": [
    {
     "data": {
      "text/html": [
       "<div>\n",
       "<style scoped>\n",
       "    .dataframe tbody tr th:only-of-type {\n",
       "        vertical-align: middle;\n",
       "    }\n",
       "\n",
       "    .dataframe tbody tr th {\n",
       "        vertical-align: top;\n",
       "    }\n",
       "\n",
       "    .dataframe thead th {\n",
       "        text-align: right;\n",
       "    }\n",
       "</style>\n",
       "<table border=\"1\" class=\"dataframe\">\n",
       "  <thead>\n",
       "    <tr style=\"text-align: right;\">\n",
       "      <th></th>\n",
       "      <th>transaction_id</th>\n",
       "      <th>date_time</th>\n",
       "      <th>store_location</th>\n",
       "      <th>customer_id</th>\n",
       "      <th>book_id</th>\n",
       "      <th>sale_price</th>\n",
       "      <th>payment_method</th>\n",
       "      <th>is_online</th>\n",
       "    </tr>\n",
       "  </thead>\n",
       "  <tbody>\n",
       "  </tbody>\n",
       "</table>\n",
       "</div>"
      ],
      "text/plain": [
       "Empty DataFrame\n",
       "Columns: [transaction_id, date_time, store_location, customer_id, book_id, sale_price, payment_method, is_online]\n",
       "Index: []"
      ]
     },
     "metadata": {},
     "output_type": "display_data"
    }
   ],
   "source": [
    "verify_query = \"SELECT * FROM transactions WHERE transaction_id = 'T1101';\"\n",
    "\n",
    "# Resulting output should show only the header row and no data, confirming deletion.\n",
    "result = pd.read_sql_query(verify_query, conn)\n",
    "display(result)"
   ]
  },
  {
   "cell_type": "markdown",
   "id": "7f16dd22",
   "metadata": {},
   "source": [
    " <b>💡 Tip:</b> Always double-check your WHERE clause in DELETE statements to avoid accidentally deleting the wrong data.\n"
   ]
  },
  {
   "cell_type": "markdown",
   "id": "ce73359f",
   "metadata": {},
   "source": [
    "#### Close the Connection\n",
    "It's good practice to close the database connection when you're done"
   ]
  },
  {
   "cell_type": "code",
   "execution_count": 10,
   "id": "fe43ced6",
   "metadata": {
    "scrolled": true
   },
   "outputs": [],
   "source": [
    "# Close the database connection \n",
    "conn.close()"
   ]
  },
  {
   "cell_type": "markdown",
   "id": "498d9150",
   "metadata": {},
   "source": [
    "## ✅ Success Checklist\n",
    "- You can successfully insert a new transaction record\n",
    "- You can update existing transaction details\n",
    "- You can delete a specific transaction record\n",
    "- All operations are verified after execution\n",
    "\n",
    "## 🔍 Common Issues & Solutions \n",
    "\n",
    "- Problem: Changes not reflected in the database \n",
    "  - Solution: Ensure you call conn.commit() after each operation\n",
    "  \n",
    "- Problem: SQL Syntax errors\n",
    "  - Solution: Double-check your query syntax, especially quotation marks and parentheses\n",
    "  \n",
    "## ➡️ Summary\n",
    "\n",
    "Well done on completing this lab on SQL data manipulation! You've now mastered the essential CRUD operations, equipping you with the skills to effectively manage and maintain data integrity in real-world databases. These fundamental abilities will prove invaluable as you continue to grow in your role as a data professional at BookCycle and beyond.\n",
    "\n",
    "### 🔑 Key Points\n",
    "- INSERT adds new records to a table\n",
    "- UPDATE modifies existing records\n",
    "- DELETE removes specific records from a table\n",
    "- Always verify your operations to ensure data integrity"
   ]
  }
 ],
 "metadata": {
  "kernelspec": {
   "display_name": "Python 3 (ipykernel)",
   "language": "python",
   "name": "python3"
  },
  "language_info": {
   "codemirror_mode": {
    "name": "ipython",
    "version": 3
   },
   "file_extension": ".py",
   "mimetype": "text/x-python",
   "name": "python",
   "nbconvert_exporter": "python",
   "pygments_lexer": "ipython3",
   "version": "3.10.6"
  }
 },
 "nbformat": 4,
 "nbformat_minor": 5
}
