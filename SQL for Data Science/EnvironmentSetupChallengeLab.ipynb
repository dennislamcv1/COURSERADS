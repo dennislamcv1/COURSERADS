{
 "cells": [
  {
   "cell_type": "markdown",
   "id": "f146cd56",
   "metadata": {},
   "source": [
    "# Graded Lab: Environment Setup Challenge "
   ]
  },
  {
   "cell_type": "markdown",
   "id": "2debc369",
   "metadata": {},
   "source": [
    "## 📋 Overview \n",
    "Welcome to your first graded SQL lab! You'll be working as a data analyst for an e-commerce company that needs to audit their product catalog data. Using SQL queries in Jupyter Notebook, you'll explore the data, identify quality issues, and generate business insights that could help optimize their inventory across different cities.\n",
    "\n",
    "## 🎯 Learning Outcomes \n",
    "By the end of this lab, you will be able to:\n",
    "- Write basic SELECT statements to retrieve data from a product catalog\n",
    "- Use WHERE clauses to filter query results\n",
    "- Identify data quality issues using SQL\n",
    "\n",
    "## 📚 Dataset Information \n",
    "You'll be working with the product catalog dataset <b>(products.csv)</b> containing:\n",
    "- Product IDs and locations\n",
    "- Product URLs and tags\n",
    "- Product image links\n",
    "- Data across multiple cities"
   ]
  },
  {
   "cell_type": "markdown",
   "id": "4f888761",
   "metadata": {},
   "source": [
    "## 🚀 Activities\n",
    "\n",
    "### Activity 1: Initial Set Up and Exploration\n",
    "\n",
    "Before analyzing the data quality, we need to understand what's in our product catalog."
   ]
  },
  {
   "cell_type": "markdown",
   "id": "c23a3ea0",
   "metadata": {},
   "source": [
    "<b>Step 1:</b> Connect to the Database"
   ]
  },
  {
   "cell_type": "code",
   "execution_count": 1,
   "id": "04f63d40",
   "metadata": {
    "deletable": false,
    "editable": false,
    "nbgrader": {
     "cell_type": "code",
     "checksum": "41603ea8688a6e473c7db0ebda6e8da4",
     "grade": false,
     "grade_id": "cell-8eb392c166460363",
     "locked": true,
     "schema_version": 3,
     "solution": false,
     "task": false
    }
   },
   "outputs": [],
   "source": [
    "import sqlite3\n",
    "import pandas as pd\n",
    "from db_setup_challenge import setup_database\n",
    "setup_database() \n",
    "\n",
    "# Connect to the database\n",
    "conn = sqlite3.connect('product_catalog.db')\n",
    "cursor = conn.cursor()"
   ]
  },
  {
   "cell_type": "markdown",
   "id": "94c88467",
   "metadata": {},
   "source": [
    "<b>Step 2:</b> View the basic Data Structure"
   ]
  },
  {
   "cell_type": "code",
   "execution_count": 2,
   "id": "d977c146",
   "metadata": {},
   "outputs": [
    {
     "data": {
      "text/html": [
       "<div>\n",
       "<style scoped>\n",
       "    .dataframe tbody tr th:only-of-type {\n",
       "        vertical-align: middle;\n",
       "    }\n",
       "\n",
       "    .dataframe tbody tr th {\n",
       "        vertical-align: top;\n",
       "    }\n",
       "\n",
       "    .dataframe thead th {\n",
       "        text-align: right;\n",
       "    }\n",
       "</style>\n",
       "<table border=\"1\" class=\"dataframe\">\n",
       "  <thead>\n",
       "    <tr style=\"text-align: right;\">\n",
       "      <th></th>\n",
       "      <th>product_id</th>\n",
       "      <th>city</th>\n",
       "      <th>product_url</th>\n",
       "      <th>tags</th>\n",
       "      <th>product_picture</th>\n",
       "    </tr>\n",
       "  </thead>\n",
       "  <tbody>\n",
       "    <tr>\n",
       "      <th>0</th>\n",
       "      <td>1</td>\n",
       "      <td>New York</td>\n",
       "      <td>https://data_shop_inc.com/product/1</td>\n",
       "      <td>electronics</td>\n",
       "      <td>https://picsum.photos/300?random=1</td>\n",
       "    </tr>\n",
       "    <tr>\n",
       "      <th>1</th>\n",
       "      <td>2</td>\n",
       "      <td>Miami</td>\n",
       "      <td>https://data_shop_inc.com/product/2</td>\n",
       "      <td>electronics</td>\n",
       "      <td>https://picsum.photos/300?random=2</td>\n",
       "    </tr>\n",
       "    <tr>\n",
       "      <th>2</th>\n",
       "      <td>3</td>\n",
       "      <td>New York</td>\n",
       "      <td>https://data_shop_inc.com/product/3</td>\n",
       "      <td>summer</td>\n",
       "      <td>https://picsum.photos/300?random=3</td>\n",
       "    </tr>\n",
       "    <tr>\n",
       "      <th>3</th>\n",
       "      <td>4</td>\n",
       "      <td>Houston</td>\n",
       "      <td>https://data_shop_inc.com/product/4</td>\n",
       "      <td>beauty</td>\n",
       "      <td>https://picsum.photos/300?random=4</td>\n",
       "    </tr>\n",
       "    <tr>\n",
       "      <th>4</th>\n",
       "      <td>5</td>\n",
       "      <td>Miami</td>\n",
       "      <td>https://data_shop_inc.com/product/5</td>\n",
       "      <td>beauty</td>\n",
       "      <td>https://picsum.photos/300?random=5</td>\n",
       "    </tr>\n",
       "  </tbody>\n",
       "</table>\n",
       "</div>"
      ],
      "text/plain": [
       "   product_id      city                          product_url         tags  \\\n",
       "0           1  New York  https://data_shop_inc.com/product/1  electronics   \n",
       "1           2     Miami  https://data_shop_inc.com/product/2  electronics   \n",
       "2           3  New York  https://data_shop_inc.com/product/3       summer   \n",
       "3           4   Houston  https://data_shop_inc.com/product/4       beauty   \n",
       "4           5     Miami  https://data_shop_inc.com/product/5       beauty   \n",
       "\n",
       "                      product_picture  \n",
       "0  https://picsum.photos/300?random=1  \n",
       "1  https://picsum.photos/300?random=2  \n",
       "2  https://picsum.photos/300?random=3  \n",
       "3  https://picsum.photos/300?random=4  \n",
       "4  https://picsum.photos/300?random=5  "
      ]
     },
     "execution_count": 2,
     "metadata": {},
     "output_type": "execute_result"
    }
   ],
   "source": [
    "query = \"SELECT * FROM products LIMIT 5\"\n",
    "df = pd.read_sql_query(query, conn)\n",
    "\n",
    "# Display the result\n",
    "df.head()"
   ]
  },
  {
   "cell_type": "markdown",
   "id": "4d61a518",
   "metadata": {},
   "source": [
    "<b>💡 Tip:</b> Always start with LIMIT to avoid overwhelming your output.\n"
   ]
  },
  {
   "cell_type": "markdown",
   "id": "9e6686c7",
   "metadata": {},
   "source": [
    "<b>Step 3:</b> Let's count how many products we have"
   ]
  },
  {
   "cell_type": "code",
   "execution_count": 3,
   "id": "4fa21c72",
   "metadata": {},
   "outputs": [
    {
     "data": {
      "text/html": [
       "<div>\n",
       "<style scoped>\n",
       "    .dataframe tbody tr th:only-of-type {\n",
       "        vertical-align: middle;\n",
       "    }\n",
       "\n",
       "    .dataframe tbody tr th {\n",
       "        vertical-align: top;\n",
       "    }\n",
       "\n",
       "    .dataframe thead th {\n",
       "        text-align: right;\n",
       "    }\n",
       "</style>\n",
       "<table border=\"1\" class=\"dataframe\">\n",
       "  <thead>\n",
       "    <tr style=\"text-align: right;\">\n",
       "      <th></th>\n",
       "      <th>total_products</th>\n",
       "    </tr>\n",
       "  </thead>\n",
       "  <tbody>\n",
       "    <tr>\n",
       "      <th>0</th>\n",
       "      <td>103</td>\n",
       "    </tr>\n",
       "  </tbody>\n",
       "</table>\n",
       "</div>"
      ],
      "text/plain": [
       "   total_products\n",
       "0             103"
      ]
     },
     "execution_count": 3,
     "metadata": {},
     "output_type": "execute_result"
    }
   ],
   "source": [
    "# Query to count the total number of products\n",
    "query = \"SELECT COUNT(*) as total_products FROM products\"\n",
    "df = pd.read_sql_query(query, conn)\n",
    "\n",
    "# Display the result\n",
    "df.head()"
   ]
  },
  {
   "cell_type": "markdown",
   "id": "e3696ae2",
   "metadata": {},
   "source": [
    "<b>Step 4:</b> Now, count Products by City"
   ]
  },
  {
   "cell_type": "code",
   "execution_count": 4,
   "id": "8c19b60b",
   "metadata": {},
   "outputs": [
    {
     "data": {
      "text/html": [
       "<div>\n",
       "<style scoped>\n",
       "    .dataframe tbody tr th:only-of-type {\n",
       "        vertical-align: middle;\n",
       "    }\n",
       "\n",
       "    .dataframe tbody tr th {\n",
       "        vertical-align: top;\n",
       "    }\n",
       "\n",
       "    .dataframe thead th {\n",
       "        text-align: right;\n",
       "    }\n",
       "</style>\n",
       "<table border=\"1\" class=\"dataframe\">\n",
       "  <thead>\n",
       "    <tr style=\"text-align: right;\">\n",
       "      <th></th>\n",
       "      <th>city</th>\n",
       "      <th>product_count</th>\n",
       "    </tr>\n",
       "  </thead>\n",
       "  <tbody>\n",
       "    <tr>\n",
       "      <th>0</th>\n",
       "      <td>Chicago</td>\n",
       "      <td>23</td>\n",
       "    </tr>\n",
       "    <tr>\n",
       "      <th>1</th>\n",
       "      <td>Houston</td>\n",
       "      <td>21</td>\n",
       "    </tr>\n",
       "    <tr>\n",
       "      <th>2</th>\n",
       "      <td>Los Angeles</td>\n",
       "      <td>17</td>\n",
       "    </tr>\n",
       "    <tr>\n",
       "      <th>3</th>\n",
       "      <td>Miami</td>\n",
       "      <td>24</td>\n",
       "    </tr>\n",
       "    <tr>\n",
       "      <th>4</th>\n",
       "      <td>New York</td>\n",
       "      <td>18</td>\n",
       "    </tr>\n",
       "  </tbody>\n",
       "</table>\n",
       "</div>"
      ],
      "text/plain": [
       "          city  product_count\n",
       "0      Chicago             23\n",
       "1      Houston             21\n",
       "2  Los Angeles             17\n",
       "3        Miami             24\n",
       "4     New York             18"
      ]
     },
     "execution_count": 4,
     "metadata": {},
     "output_type": "execute_result"
    }
   ],
   "source": [
    "# Query to count products by city\n",
    "query = \"SELECT city, COUNT(*) as product_count FROM products GROUP BY city\"\n",
    "df = pd.read_sql_query(query, conn)\n",
    "\n",
    "# Display the result\n",
    "df.head()"
   ]
  },
  {
   "cell_type": "markdown",
   "id": "738dbfa9",
   "metadata": {},
   "source": [
    "### Activity 2: Graded Challenges\n",
    "\n",
    "For the tasks given below, replace <b>\"YOUR CODE HERE\"</b> with the required query statement which will provide the necessary output. Add your query in a single line, not as a multi-line SQL query <br>\n",
    "<b>For eg: </b> query = \"SELECT column_name FROM table_name\" <br>\n"
   ]
  },
  {
   "cell_type": "markdown",
   "id": "87d8fd9e",
   "metadata": {},
   "source": [
    "<b>Task 1:</b> Write a query to find all distinct products categories (tags)"
   ]
  },
  {
   "cell_type": "code",
   "execution_count": 5,
   "id": "3f2ec99f",
   "metadata": {
    "deletable": false,
    "nbgrader": {
     "cell_type": "code",
     "checksum": "359626831328910b04ad2c01b29799b3",
     "grade": false,
     "grade_id": "cell-79cb67e5b515bbf8",
     "locked": false,
     "schema_version": 3,
     "solution": true,
     "task": false
    }
   },
   "outputs": [
    {
     "data": {
      "text/html": [
       "<div>\n",
       "<style scoped>\n",
       "    .dataframe tbody tr th:only-of-type {\n",
       "        vertical-align: middle;\n",
       "    }\n",
       "\n",
       "    .dataframe tbody tr th {\n",
       "        vertical-align: top;\n",
       "    }\n",
       "\n",
       "    .dataframe thead th {\n",
       "        text-align: right;\n",
       "    }\n",
       "</style>\n",
       "<table border=\"1\" class=\"dataframe\">\n",
       "  <thead>\n",
       "    <tr style=\"text-align: right;\">\n",
       "      <th></th>\n",
       "      <th>tags</th>\n",
       "    </tr>\n",
       "  </thead>\n",
       "  <tbody>\n",
       "    <tr>\n",
       "      <th>0</th>\n",
       "      <td>electronics</td>\n",
       "    </tr>\n",
       "    <tr>\n",
       "      <th>1</th>\n",
       "      <td>summer</td>\n",
       "    </tr>\n",
       "    <tr>\n",
       "      <th>2</th>\n",
       "      <td>beauty</td>\n",
       "    </tr>\n",
       "    <tr>\n",
       "      <th>3</th>\n",
       "      <td>sale</td>\n",
       "    </tr>\n",
       "    <tr>\n",
       "      <th>4</th>\n",
       "      <td>home</td>\n",
       "    </tr>\n",
       "    <tr>\n",
       "      <th>5</th>\n",
       "      <td>fashion</td>\n",
       "    </tr>\n",
       "    <tr>\n",
       "      <th>6</th>\n",
       "      <td>sports</td>\n",
       "    </tr>\n",
       "    <tr>\n",
       "      <th>7</th>\n",
       "      <td>None</td>\n",
       "    </tr>\n",
       "  </tbody>\n",
       "</table>\n",
       "</div>"
      ],
      "text/plain": [
       "          tags\n",
       "0  electronics\n",
       "1       summer\n",
       "2       beauty\n",
       "3         sale\n",
       "4         home\n",
       "5      fashion\n",
       "6       sports\n",
       "7         None"
      ]
     },
     "metadata": {},
     "output_type": "display_data"
    }
   ],
   "source": [
    "# Query to find distinct product categories (tags)\n",
    "\n",
    "query= \"SELECT DISTINCT tags FROM products\"\n",
    "\n",
    "df = pd.read_sql_query(query, conn)\n",
    "# Display the result\n",
    "display(df)"
   ]
  },
  {
   "cell_type": "code",
   "execution_count": 6,
   "id": "db31cab2",
   "metadata": {
    "deletable": false,
    "editable": false,
    "nbgrader": {
     "cell_type": "code",
     "checksum": "e779a57a4b15ed733f84252365285e7a",
     "grade": true,
     "grade_id": "cell-469cf435cd619a2c",
     "locked": true,
     "points": 5,
     "schema_version": 3,
     "solution": false,
     "task": false
    }
   },
   "outputs": [],
   "source": [
    "# Do not edit this cell, just run it. This cell contains test cases.\n",
    "\n",
    "cursor.execute(query)\n",
    "rows = cursor.fetchall()\n",
    "category_count = len(rows)\n"
   ]
  },
  {
   "cell_type": "markdown",
   "id": "b849fc62",
   "metadata": {},
   "source": [
    "<b>Task 2:</b> Find how many unique product tags exist in Miami.  "
   ]
  },
  {
   "cell_type": "code",
   "execution_count": 7,
   "id": "6cff8da4",
   "metadata": {
    "deletable": false,
    "nbgrader": {
     "cell_type": "code",
     "checksum": "43181b0ea3aedd04f6ecd731ba32df75",
     "grade": false,
     "grade_id": "cell-34d6975efc1b422c",
     "locked": false,
     "schema_version": 3,
     "solution": true,
     "task": false
    }
   },
   "outputs": [
    {
     "data": {
      "text/html": [
       "<div>\n",
       "<style scoped>\n",
       "    .dataframe tbody tr th:only-of-type {\n",
       "        vertical-align: middle;\n",
       "    }\n",
       "\n",
       "    .dataframe tbody tr th {\n",
       "        vertical-align: top;\n",
       "    }\n",
       "\n",
       "    .dataframe thead th {\n",
       "        text-align: right;\n",
       "    }\n",
       "</style>\n",
       "<table border=\"1\" class=\"dataframe\">\n",
       "  <thead>\n",
       "    <tr style=\"text-align: right;\">\n",
       "      <th></th>\n",
       "      <th>unique_tag_count</th>\n",
       "    </tr>\n",
       "  </thead>\n",
       "  <tbody>\n",
       "    <tr>\n",
       "      <th>0</th>\n",
       "      <td>7</td>\n",
       "    </tr>\n",
       "  </tbody>\n",
       "</table>\n",
       "</div>"
      ],
      "text/plain": [
       "   unique_tag_count\n",
       "0                 7"
      ]
     },
     "metadata": {},
     "output_type": "display_data"
    }
   ],
   "source": [
    "## Query to count unique product tags in Miami\n",
    "\n",
    "query= \"SELECT COUNT(DISTINCT tags) AS unique_tag_count FROM products WHERE city = 'Miami'\"\n",
    "\n",
    "df = pd.read_sql_query(query, conn)\n",
    "# Display the result\n",
    "display(df)"
   ]
  },
  {
   "cell_type": "code",
   "execution_count": 8,
   "id": "a3e043ff",
   "metadata": {
    "deletable": false,
    "editable": false,
    "nbgrader": {
     "cell_type": "code",
     "checksum": "ed348c0ebfac5625a80465409491ec2b",
     "grade": true,
     "grade_id": "cell-b6da2f57654af1b0",
     "locked": true,
     "points": 5,
     "schema_version": 3,
     "solution": false,
     "task": false
    }
   },
   "outputs": [],
   "source": [
    "# Do not edit this cell, just run it. This cell contains test cases.\n",
    "\n",
    "cursor.execute(query)\n",
    "rows = cursor.fetchall()\n",
    "product_count = rows[0][0]\n"
   ]
  },
  {
   "cell_type": "markdown",
   "id": "e2702c3b",
   "metadata": {},
   "source": [
    "<b>Task 3:</b> Write a query that will identify which products are lacking visual assets."
   ]
  },
  {
   "cell_type": "code",
   "execution_count": 9,
   "id": "b586a420",
   "metadata": {
    "deletable": false,
    "nbgrader": {
     "cell_type": "code",
     "checksum": "c9691d0c54fa0b3788b990f3918efd40",
     "grade": false,
     "grade_id": "cell-4394d9062577ceaf",
     "locked": false,
     "schema_version": 3,
     "solution": true,
     "task": false
    }
   },
   "outputs": [
    {
     "data": {
      "text/html": [
       "<div>\n",
       "<style scoped>\n",
       "    .dataframe tbody tr th:only-of-type {\n",
       "        vertical-align: middle;\n",
       "    }\n",
       "\n",
       "    .dataframe tbody tr th {\n",
       "        vertical-align: top;\n",
       "    }\n",
       "\n",
       "    .dataframe thead th {\n",
       "        text-align: right;\n",
       "    }\n",
       "</style>\n",
       "<table border=\"1\" class=\"dataframe\">\n",
       "  <thead>\n",
       "    <tr style=\"text-align: right;\">\n",
       "      <th></th>\n",
       "      <th>product_id</th>\n",
       "      <th>city</th>\n",
       "      <th>product_url</th>\n",
       "      <th>tags</th>\n",
       "      <th>product_picture</th>\n",
       "    </tr>\n",
       "  </thead>\n",
       "  <tbody>\n",
       "    <tr>\n",
       "      <th>0</th>\n",
       "      <td>6</td>\n",
       "      <td>Miami</td>\n",
       "      <td>https://data_shop_inc.com/product/6</td>\n",
       "      <td>beauty</td>\n",
       "      <td>None</td>\n",
       "    </tr>\n",
       "    <tr>\n",
       "      <th>1</th>\n",
       "      <td>10</td>\n",
       "      <td>Chicago</td>\n",
       "      <td>https://data_shop_inc.com/product/10</td>\n",
       "      <td>beauty</td>\n",
       "      <td>None</td>\n",
       "    </tr>\n",
       "    <tr>\n",
       "      <th>2</th>\n",
       "      <td>14</td>\n",
       "      <td>Miami</td>\n",
       "      <td>https://data_shop_inc.com/product/14</td>\n",
       "      <td>home</td>\n",
       "      <td>None</td>\n",
       "    </tr>\n",
       "    <tr>\n",
       "      <th>3</th>\n",
       "      <td>23</td>\n",
       "      <td>Chicago</td>\n",
       "      <td>https://data_shop_inc.com/product/23</td>\n",
       "      <td>fashion</td>\n",
       "      <td>None</td>\n",
       "    </tr>\n",
       "    <tr>\n",
       "      <th>4</th>\n",
       "      <td>33</td>\n",
       "      <td>Miami</td>\n",
       "      <td>https://data_shop_inc.com/product/33</td>\n",
       "      <td>None</td>\n",
       "      <td>None</td>\n",
       "    </tr>\n",
       "    <tr>\n",
       "      <th>5</th>\n",
       "      <td>42</td>\n",
       "      <td>New York</td>\n",
       "      <td>https://data_shop_inc.com/product/42</td>\n",
       "      <td>summer</td>\n",
       "      <td>None</td>\n",
       "    </tr>\n",
       "    <tr>\n",
       "      <th>6</th>\n",
       "      <td>72</td>\n",
       "      <td>Chicago</td>\n",
       "      <td>https://data_shop_inc.com/product/72</td>\n",
       "      <td>fashion</td>\n",
       "      <td>None</td>\n",
       "    </tr>\n",
       "    <tr>\n",
       "      <th>7</th>\n",
       "      <td>82</td>\n",
       "      <td>Houston</td>\n",
       "      <td>https://data_shop_inc.com/product/82</td>\n",
       "      <td>sale</td>\n",
       "      <td>None</td>\n",
       "    </tr>\n",
       "    <tr>\n",
       "      <th>8</th>\n",
       "      <td>92</td>\n",
       "      <td>New York</td>\n",
       "      <td>https://data_shop_inc.com/product/92</td>\n",
       "      <td>sale</td>\n",
       "      <td>None</td>\n",
       "    </tr>\n",
       "  </tbody>\n",
       "</table>\n",
       "</div>"
      ],
      "text/plain": [
       "   product_id      city                           product_url     tags  \\\n",
       "0           6     Miami   https://data_shop_inc.com/product/6   beauty   \n",
       "1          10   Chicago  https://data_shop_inc.com/product/10   beauty   \n",
       "2          14     Miami  https://data_shop_inc.com/product/14     home   \n",
       "3          23   Chicago  https://data_shop_inc.com/product/23  fashion   \n",
       "4          33     Miami  https://data_shop_inc.com/product/33     None   \n",
       "5          42  New York  https://data_shop_inc.com/product/42   summer   \n",
       "6          72   Chicago  https://data_shop_inc.com/product/72  fashion   \n",
       "7          82   Houston  https://data_shop_inc.com/product/82     sale   \n",
       "8          92  New York  https://data_shop_inc.com/product/92     sale   \n",
       "\n",
       "  product_picture  \n",
       "0            None  \n",
       "1            None  \n",
       "2            None  \n",
       "3            None  \n",
       "4            None  \n",
       "5            None  \n",
       "6            None  \n",
       "7            None  \n",
       "8            None  "
      ]
     },
     "metadata": {},
     "output_type": "display_data"
    }
   ],
   "source": [
    "# Query to find products lacking visual assets (NULL product_picture)\n",
    "\n",
    "query= \"SELECT * FROM products WHERE product_picture IS NULL\"\n",
    "\n",
    "df = pd.read_sql_query(query, conn)\n",
    "# Display the result\n",
    "display(df)"
   ]
  },
  {
   "cell_type": "code",
   "execution_count": 10,
   "id": "1b2bdd19",
   "metadata": {
    "deletable": false,
    "editable": false,
    "nbgrader": {
     "cell_type": "code",
     "checksum": "591d93fddf7c2a08a5f8620ae2bd9f74",
     "grade": true,
     "grade_id": "cell-fefe1dfeead2aa7b",
     "locked": true,
     "points": 5,
     "schema_version": 3,
     "solution": false,
     "task": false
    }
   },
   "outputs": [],
   "source": [
    "# Do not edit this cell, just run it. This cell contains test cases.\n",
    "\n",
    "cursor.execute(query)\n",
    "row = cursor.fetchall()\n",
    "null_picture_count = len(row) \n"
   ]
  },
  {
   "cell_type": "markdown",
   "id": "9e0c500a",
   "metadata": {},
   "source": [
    "<b>Task 4:</b> Find products where the product_url doesn't contain 'data_shop_inc.com'.\n",
    "\n",
    "Tip : Use <b>NOT LIKE</b> to check whether url contains 'data_shop_inc.com' ."
   ]
  },
  {
   "cell_type": "code",
   "execution_count": 11,
   "id": "4e68c1db",
   "metadata": {
    "deletable": false,
    "nbgrader": {
     "cell_type": "code",
     "checksum": "eb40d9432222fc9f00774c5bec2081f6",
     "grade": false,
     "grade_id": "cell-e159d100c4c53237",
     "locked": false,
     "schema_version": 3,
     "solution": true,
     "task": false
    }
   },
   "outputs": [
    {
     "data": {
      "text/html": [
       "<div>\n",
       "<style scoped>\n",
       "    .dataframe tbody tr th:only-of-type {\n",
       "        vertical-align: middle;\n",
       "    }\n",
       "\n",
       "    .dataframe tbody tr th {\n",
       "        vertical-align: top;\n",
       "    }\n",
       "\n",
       "    .dataframe thead th {\n",
       "        text-align: right;\n",
       "    }\n",
       "</style>\n",
       "<table border=\"1\" class=\"dataframe\">\n",
       "  <thead>\n",
       "    <tr style=\"text-align: right;\">\n",
       "      <th></th>\n",
       "      <th>product_id</th>\n",
       "      <th>city</th>\n",
       "      <th>product_url</th>\n",
       "      <th>tags</th>\n",
       "      <th>product_picture</th>\n",
       "    </tr>\n",
       "  </thead>\n",
       "  <tbody>\n",
       "    <tr>\n",
       "      <th>0</th>\n",
       "      <td>8</td>\n",
       "      <td>New York</td>\n",
       "      <td>https://product/8</td>\n",
       "      <td>summer</td>\n",
       "      <td>https://picsum.photos/300?random=8</td>\n",
       "    </tr>\n",
       "    <tr>\n",
       "      <th>1</th>\n",
       "      <td>13</td>\n",
       "      <td>Miami</td>\n",
       "      <td>https://product/13</td>\n",
       "      <td>home</td>\n",
       "      <td>https://picsum.photos/300?random=13</td>\n",
       "    </tr>\n",
       "    <tr>\n",
       "      <th>2</th>\n",
       "      <td>52</td>\n",
       "      <td>Miami</td>\n",
       "      <td>https://product/52</td>\n",
       "      <td>fashion</td>\n",
       "      <td>https://picsum.photos/300?random=52</td>\n",
       "    </tr>\n",
       "    <tr>\n",
       "      <th>3</th>\n",
       "      <td>87</td>\n",
       "      <td>Chicago</td>\n",
       "      <td>https://product/87</td>\n",
       "      <td>sale</td>\n",
       "      <td>https://picsum.photos/300?random=87</td>\n",
       "    </tr>\n",
       "    <tr>\n",
       "      <th>4</th>\n",
       "      <td>97</td>\n",
       "      <td>Miami</td>\n",
       "      <td>https://product/97</td>\n",
       "      <td>electronics</td>\n",
       "      <td>https://picsum.photos/300?random=97</td>\n",
       "    </tr>\n",
       "  </tbody>\n",
       "</table>\n",
       "</div>"
      ],
      "text/plain": [
       "   product_id      city         product_url         tags  \\\n",
       "0           8  New York   https://product/8       summer   \n",
       "1          13     Miami  https://product/13         home   \n",
       "2          52     Miami  https://product/52      fashion   \n",
       "3          87   Chicago  https://product/87         sale   \n",
       "4          97     Miami  https://product/97  electronics   \n",
       "\n",
       "                       product_picture  \n",
       "0   https://picsum.photos/300?random=8  \n",
       "1  https://picsum.photos/300?random=13  \n",
       "2  https://picsum.photos/300?random=52  \n",
       "3  https://picsum.photos/300?random=87  \n",
       "4  https://picsum.photos/300?random=97  "
      ]
     },
     "metadata": {},
     "output_type": "display_data"
    }
   ],
   "source": [
    "# Query to find products where product_url doesn't contain 'data_shop_inc.com'\n",
    "\n",
    "query= \"SELECT * FROM products WHERE product_url NOT LIKE '%data_shop_inc.com%'\"\n",
    "\n",
    "df = pd.read_sql_query(query, conn)\n",
    "# Display the result\n",
    "display(df)"
   ]
  },
  {
   "cell_type": "code",
   "execution_count": 12,
   "id": "39077aa1",
   "metadata": {
    "deletable": false,
    "editable": false,
    "nbgrader": {
     "cell_type": "code",
     "checksum": "3103adfc49a957fc432da3c8d52c80f0",
     "grade": true,
     "grade_id": "cell-41edc97d219af38a",
     "locked": true,
     "points": 5,
     "schema_version": 3,
     "solution": false,
     "task": false
    }
   },
   "outputs": [],
   "source": [
    "# Do not edit this cell, just run it. This cell contains test cases.\n",
    "cursor.execute(query)\n",
    "rows = cursor.fetchall()\n",
    "null_producturl_count = len(rows) \n"
   ]
  },
  {
   "cell_type": "markdown",
   "id": "28d6ea46",
   "metadata": {},
   "source": [
    "## 🔍 Verify Your Results Before Submission\n",
    "Please check that your queries returned the following expected results:\n",
    "1. Task 1: Your query should return 8 distinct product categories (tags)\n",
    "2. Task 2: You should find 7 unique product tags in Miami\n",
    "3. Task 3: Your query should identify 9 products lacking visual assets (NULL product_picture)\n",
    "4. Task 4: You should find 5 products where product_url doesn't contain 'data_shop_inc.com'\n",
    "\n",
    "## 📋 Pre-Submission Checklist:\n",
    "- All queries run without syntax errors\n",
    "- Each query returns the expected number of results\n",
    "- You've used the correct SQL clauses:\n",
    "  * Task 1: SELECT DISTINCT\n",
    "  * Task 2: COUNT, DISTINCT, WHERE\n",
    "  * Task 3: WHERE ... IS NULL\n",
    "  * Task 4: WHERE ... NOT LIKE\n",
    "  \n",
    "\n",
    "## 🔄 Need to Review?\n",
    "If your results don't match the expected outputs:\n",
    "    1. Double-check your WHERE clauses for correct conditions\n",
    "    2. Verify you're using DISTINCT where required\n",
    "    3. Ensure your column names match exactly (product_picture, product_url, etc.)\n",
    "    4. Run each query again after making corrections<br>\n",
    "    \n",
    "You can retry the lab as many times as needed until you get the correct results.\n",
    "Ready to submit? Make sure all your cells have been run in order and show the expected outputs!\n"
   ]
  }
 ],
 "metadata": {
  "kernelspec": {
   "display_name": "Python 3 (ipykernel)",
   "language": "python",
   "name": "python3"
  },
  "language_info": {
   "codemirror_mode": {
    "name": "ipython",
    "version": 3
   },
   "file_extension": ".py",
   "mimetype": "text/x-python",
   "name": "python",
   "nbconvert_exporter": "python",
   "pygments_lexer": "ipython3",
   "version": "3.10.6"
  }
 },
 "nbformat": 4,
 "nbformat_minor": 5
}
