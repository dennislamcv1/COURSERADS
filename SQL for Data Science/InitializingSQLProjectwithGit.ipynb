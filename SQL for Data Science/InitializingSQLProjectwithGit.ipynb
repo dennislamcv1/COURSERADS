{
 "cells": [
  {
   "cell_type": "markdown",
   "id": "8fa5cdc9",
   "metadata": {},
   "source": [
    "# Ungraded Lab : Initializing a SQL Project with Git"
   ]
  },
  {
   "cell_type": "markdown",
   "id": "4415d6be",
   "metadata": {},
   "source": [
    "## 🎯 Overview:\n",
    "\n",
    "In this hands-on lab, you'll learn how to manage SQL projects using Git version control. You'll create a repository for BookCycle's queries, make changes, and track them professionally.\n",
    "\n",
    "## 🎓 Learning Objectives\n",
    "\n",
    "* Initialize a Git repository for SQL projects  \n",
    "* Stage and commit SQL script changes  \n",
    "* Write meaningful commit messages  \n",
    "* Implement version control best practices"
   ]
  },
  {
   "cell_type": "markdown",
   "id": "8d89f4e1",
   "metadata": {},
   "source": [
    "## 🖥️ Activities\n",
    "\n",
    "### Activity 1: Setting Up Your Git Environment "
   ]
  },
  {
   "cell_type": "markdown",
   "id": "dd0ff6dd-8dea-42f2-b736-6884fc71b3c1",
   "metadata": {},
   "source": [
    "<b>Step 1:</b> Verify Git is installed and configured:"
   ]
  },
  {
   "cell_type": "code",
   "execution_count": 1,
   "id": "5cc8d7b5",
   "metadata": {},
   "outputs": [
    {
     "name": "stdout",
     "output_type": "stream",
     "text": [
      "git version 2.34.1\n"
     ]
    }
   ],
   "source": [
    "!git --version"
   ]
  },
  {
   "cell_type": "markdown",
   "id": "fda4826d-beec-4a63-8470-0e56869598fc",
   "metadata": {},
   "source": [
    "<b>Step 2:</b> Configure your Git identity if needed:"
   ]
  },
  {
   "cell_type": "code",
   "execution_count": 2,
   "id": "08909088",
   "metadata": {
    "tags": []
   },
   "outputs": [],
   "source": [
    "!git config --global user.name \"Your name goes here\"\n",
    "!git config --global user.email \"your.email@example.com\""
   ]
  },
  {
   "cell_type": "code",
   "execution_count": 3,
   "id": "361373a2",
   "metadata": {},
   "outputs": [
    {
     "name": "stdout",
     "output_type": "stream",
     "text": [
      "core.filemode=false\n",
      "user.name=Your name goes here\n",
      "user.email=your.email@example.com\n"
     ]
    }
   ],
   "source": [
    "!git config --list"
   ]
  },
  {
   "cell_type": "markdown",
   "id": "f9f6545c",
   "metadata": {
    "tags": []
   },
   "source": [
    "### Activity 2: Creating Your First SQL Project Repository "
   ]
  },
  {
   "cell_type": "markdown",
   "id": "feeb4cb0-d1e5-4f68-ada2-6ae1d242fc61",
   "metadata": {},
   "source": [
    "<b>Step 1:</b> Create a new directory for your project:"
   ]
  },
  {
   "cell_type": "code",
   "execution_count": 4,
   "id": "e61906c9",
   "metadata": {
    "tags": []
   },
   "outputs": [
    {
     "name": "stdout",
     "output_type": "stream",
     "text": [
      "/home/jovyan/work/bookcycle_queries\n"
     ]
    }
   ],
   "source": [
    "!mkdir bookcycle_queries\n",
    "%cd bookcycle_queries"
   ]
  },
  {
   "cell_type": "markdown",
   "id": "b4177384-4b57-4925-b89b-e7abaf8ac483",
   "metadata": {},
   "source": [
    "To see the directory you created above, navigate to the side panel where you will find a folder named <b>\"bookcycle_queries\"</b>. Notice the timestamp under \"last Modified\" label. This is the directory that you just created. "
   ]
  },
  {
   "cell_type": "markdown",
   "id": "f37259a1-9916-405f-ab01-ee668b93ed35",
   "metadata": {},
   "source": [
    "<b>Step 2:</b> Initialize a Git repository:"
   ]
  },
  {
   "cell_type": "code",
   "execution_count": 5,
   "id": "f0a5f53b",
   "metadata": {
    "tags": []
   },
   "outputs": [
    {
     "name": "stdout",
     "output_type": "stream",
     "text": [
      "\u001b[33mhint: Using 'master' as the name for the initial branch. This default branch name\u001b[m\n",
      "\u001b[33mhint: is subject to change. To configure the initial branch name to use in all\u001b[m\n",
      "\u001b[33mhint: of your new repositories, which will suppress this warning, call:\u001b[m\n",
      "\u001b[33mhint: \u001b[m\n",
      "\u001b[33mhint: \tgit config --global init.defaultBranch <name>\u001b[m\n",
      "\u001b[33mhint: \u001b[m\n",
      "\u001b[33mhint: Names commonly chosen instead of 'master' are 'main', 'trunk' and\u001b[m\n",
      "\u001b[33mhint: 'development'. The just-created branch can be renamed via this command:\u001b[m\n",
      "\u001b[33mhint: \u001b[m\n",
      "\u001b[33mhint: \tgit branch -m <name>\u001b[m\n",
      "Initialized empty Git repository in /home/jovyan/work/bookcycle_queries/.git/\n"
     ]
    }
   ],
   "source": [
    "!git init"
   ]
  },
  {
   "cell_type": "markdown",
   "id": "e1fb1ad7-903e-4446-a694-e9bd09d0d2dd",
   "metadata": {},
   "source": [
    "<b>Step 3:</b> Create a .gitignore file:"
   ]
  },
  {
   "cell_type": "code",
   "execution_count": 6,
   "id": "450840be",
   "metadata": {},
   "outputs": [
    {
     "name": "stdout",
     "output_type": "stream",
     "text": [
      "Writing .gitignore\n"
     ]
    }
   ],
   "source": [
    "%%writefile .gitignore\n",
    "*.db\n",
    "*.sqlite\n",
    ".ipynb_checkpoints/"
   ]
  },
  {
   "cell_type": "markdown",
   "id": "4b1ec346-7641-48a5-97e7-c93ab44d23b1",
   "metadata": {},
   "source": [
    " <b>💡 Tip:</b> The .gitignore file prevents unnecessary files from being tracked. Note that files that start with a dot (.), like .gitignore, are hidden by default in many file explorers and terminal commands, thus you might not be able to see them in folder."
   ]
  },
  {
   "cell_type": "markdown",
   "id": "2f7cfd85",
   "metadata": {},
   "source": [
    "### Activity 3: Adding Your First SQL Query "
   ]
  },
  {
   "cell_type": "markdown",
   "id": "4d9016ca-4583-4eac-bd7a-cea3665c17d5",
   "metadata": {},
   "source": [
    "<b>Step 1:</b> Create a new SQL file:"
   ]
  },
  {
   "cell_type": "code",
   "execution_count": 7,
   "id": "b3e2cc87",
   "metadata": {},
   "outputs": [
    {
     "name": "stdout",
     "output_type": "stream",
     "text": [
      "Writing customer_analysis.sql\n"
     ]
    }
   ],
   "source": [
    "%%writefile customer_analysis.sql\n",
    "-- BookCycle Customer Analysis\n",
    "SELECT customer_id, preferred_store\n",
    "FROM customers\n",
    "WHERE is_member == 1\n",
    "ORDER BY birth_year DESC;"
   ]
  },
  {
   "cell_type": "markdown",
   "id": "cf61f10d-1718-4a7c-9312-af55df31e537",
   "metadata": {},
   "source": [
    "To view the new file, navigate to <b>\"bookcycle_queries\"</b> folder. You will find the <b>customer_analysis.sql</b> file, which contains the query entered in the above code cell."
   ]
  },
  {
   "cell_type": "markdown",
   "id": "947e952d-158c-4bc1-996c-303214ac47d4",
   "metadata": {},
   "source": [
    "<b>Step 2:</b> Stage your files:"
   ]
  },
  {
   "cell_type": "code",
   "execution_count": 8,
   "id": "1cf8b36d",
   "metadata": {},
   "outputs": [
    {
     "name": "stdout",
     "output_type": "stream",
     "text": [
      "On branch master\n",
      "\n",
      "No commits yet\n",
      "\n",
      "Changes to be committed:\n",
      "  (use \"git rm --cached <file>...\" to unstage)\n",
      "\t\u001b[32mnew file:   customer_analysis.sql\u001b[m\n",
      "\n",
      "Untracked files:\n",
      "  (use \"git add <file>...\" to include in what will be committed)\n",
      "\t\u001b[31m.gitignore\u001b[m\n",
      "\n"
     ]
    }
   ],
   "source": [
    "!git add customer_analysis.sql\n",
    "!git status"
   ]
  },
  {
   "cell_type": "markdown",
   "id": "257639bf-e8f5-4fd7-b28b-cd1ffe919cbd",
   "metadata": {},
   "source": [
    " <b>💡 Tip:</b> Check that your SQL file appears in git status as staged"
   ]
  },
  {
   "cell_type": "markdown",
   "id": "9b8db606",
   "metadata": {},
   "source": [
    "### Activity 4: Making Your First Commit "
   ]
  },
  {
   "cell_type": "markdown",
   "id": "e831fa2d-8671-47ac-ac12-0e3f0da6588b",
   "metadata": {},
   "source": [
    "<b>Step 1:</b> Commit your changes with a meaningful message:"
   ]
  },
  {
   "cell_type": "code",
   "execution_count": 9,
   "id": "c6adebd2",
   "metadata": {},
   "outputs": [
    {
     "name": "stdout",
     "output_type": "stream",
     "text": [
      "[master (root-commit) 74421d1] Initial commit: Add customer analysis query\n",
      " 1 file changed, 5 insertions(+)\n",
      " create mode 100644 customer_analysis.sql\n"
     ]
    }
   ],
   "source": [
    "!git commit -m \"Initial commit: Add customer analysis query\""
   ]
  },
  {
   "cell_type": "markdown",
   "id": "2d63d336-2fd2-4618-b9d0-5f48d871b1ab",
   "metadata": {},
   "source": [
    "<b>Step 2:</b> Modify your query to add more analysis:"
   ]
  },
  {
   "cell_type": "code",
   "execution_count": 10,
   "id": "765b6e35",
   "metadata": {},
   "outputs": [
    {
     "name": "stdout",
     "output_type": "stream",
     "text": [
      "Overwriting customer_analysis.sql\n"
     ]
    }
   ],
   "source": [
    "%%writefile customer_analysis.sql\n",
    "-- BookCycle Customer Analysis\n",
    "SELECT \n",
    "    customer_id,\n",
    "    preferred_store,\n",
    "    join_date\n",
    "FROM customers\n",
    "WHERE birth_year > 1990;"
   ]
  },
  {
   "cell_type": "markdown",
   "id": "92b8a504-24ce-4a49-9ad8-4cc41ef7402a",
   "metadata": {},
   "source": [
    "Check the <b>customer_analysis.sql</b> file again to see the code changes being reflected."
   ]
  },
  {
   "cell_type": "code",
   "execution_count": 11,
   "id": "195eefd9",
   "metadata": {},
   "outputs": [
    {
     "name": "stdout",
     "output_type": "stream",
     "text": [
      "[master 744a39d] Add joining date information to customer analysis\n",
      " 1 file changed, 5 insertions(+), 3 deletions(-)\n",
      "On branch master\n",
      "Untracked files:\n",
      "  (use \"git add <file>...\" to include in what will be committed)\n",
      "\t\u001b[31m.gitignore\u001b[m\n",
      "\n",
      "nothing added to commit but untracked files present (use \"git add\" to track)\n"
     ]
    }
   ],
   "source": [
    "!git add customer_analysis.sql\n",
    "!git commit -m \"Add joining date information to customer analysis\"\n",
    "!git status"
   ]
  },
  {
   "cell_type": "markdown",
   "id": "1fe532fd-a1fd-4971-9135-2e3fef529477",
   "metadata": {
    "tags": []
   },
   "source": [
    "### ✅ Success Checklist\n",
    "After each task, verify : \n",
    "- Git commands execute without errors\n",
    "- Files appear in the correct status\n",
    "- Commit history shows your changes\n",
    "\n",
    "### 🔍 Common Issues & Solutions \n",
    "\n",
    "- Error: \"fatal: not a git repository\"\n",
    "  - Solution: Make sure you're in the correct directory\n",
    "\n",
    "- Error: \"please tell me who you are\"\n",
    "  - Solution: Configure your Git identity\n",
    "  \n",
    "- Error: \"nothing to commit\"\n",
    "    - Soltuion: Ensure you've made changes before committing\n",
    "    \n",
    "<b>Need help?</b> Type git --help\n",
    "\n",
    "### ➡️ Summary\n",
    "\n",
    "Congratulations on completing the \"Initializing a SQL Project with Git\" lab – you've now mastered the essential Git commands to manage and version control your SQL projects. By initializing repositories, staging and committing changes, and writing meaningful commit messages, you've enhanced your ability to maintain organized and professional SQL scripts. These skills will significantly improve your workflow and collaboration on SQL projects at BookCycle and beyond. Keep practicing and exploring advanced Git features to further refine your version control expertise. Happy coding!\n",
    "\n",
    "#### 🔑 Key Points\n",
    "- Git acts as a critical version control system for managing SQL projects, allowing tracking of changes over time.\n",
    "- Basic Git workflow sequence: initialize repository (git init) → stage changes (git add) → commit with message (git commit -m).\n",
    "- Meaningful commit messages and organized file structure are essential for maintaining a professional and collaborative SQL project."
   ]
  }
 ],
 "metadata": {
  "kernelspec": {
   "display_name": "Python 3 (ipykernel)",
   "language": "python",
   "name": "python3"
  },
  "language_info": {
   "codemirror_mode": {
    "name": "ipython",
    "version": 3
   },
   "file_extension": ".py",
   "mimetype": "text/x-python",
   "name": "python",
   "nbconvert_exporter": "python",
   "pygments_lexer": "ipython3",
   "version": "3.10.6"
  }
 },
 "nbformat": 4,
 "nbformat_minor": 5
}
