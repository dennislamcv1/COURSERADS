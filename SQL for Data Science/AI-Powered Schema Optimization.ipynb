{
 "cells": [
  {
   "cell_type": "markdown",
   "id": "629f33bf",
   "metadata": {},
   "source": [
    "# Ungraded Lab: AI-Powered Schema Optimization"
   ]
  },
  {
   "cell_type": "markdown",
   "id": "b41a9018",
   "metadata": {},
   "source": [
    "## 📋 Overview \n",
    "In this lab, you'll explore how to leverage AI to optimize SQL queries and database schemas. As a data analyst at BookCycle, you'll use generative AI to suggest improvements to your existing queries and database structure. This hands-on experience will help you understand how AI can enhance database performance and efficiency.\n",
    "\n",
    "\n",
    "## 🎯 Learning Outcomes\n",
    "By the end of this lab, you will be able to:\n",
    "\n",
    "- Use generative AI to analyze and optimize SQL queries\n",
    "- Identify indexing opportunities to improve query performance\n",
    "- Compare AI suggestions with best practices for database schema design\n",
    "\n",
    "\n",
    "## 📚 Dataset Information\n",
    "We'll be working with the BookCycle database, which includes tables for <b>transactions, books, and customers</b>. This data represents sales and inventory information for a small bookstore chain."
   ]
  },
  {
   "cell_type": "markdown",
   "id": "ab983443",
   "metadata": {},
   "source": [
    "## 🖥️ Activities\n",
    "\n",
    "### Activity 1: Analyze Existing Query \n",
    "\n",
    "As a data analyst at BookCycle, you've been asked to optimize a query that's running slowly. This query retrieves information about high-value transactions."
   ]
  },
  {
   "cell_type": "markdown",
   "id": "86e171a5",
   "metadata": {},
   "source": [
    "<b>Step 1:</b> Review the following query:\n",
    "\n",
    "```\n",
    "SELECT t.transaction_id, t.date_time, t.store_location, b.title, t.sale_price\n",
    "FROM transactions t\n",
    "JOIN customers c ON t.customer_id = c.customer_id\n",
    "JOIN books b ON t.book_id = b.book_id\n",
    "WHERE t.sale_price > 10\n",
    "ORDER BY t.sale_price DESC;\n",
    "```"
   ]
  },
  {
   "cell_type": "markdown",
   "id": "ac4fa77f",
   "metadata": {},
   "source": [
    "<b>Step 2:</b> Run the query and observe its performance:"
   ]
  },
  {
   "cell_type": "code",
   "execution_count": 1,
   "id": "8853a3bd",
   "metadata": {},
   "outputs": [
    {
     "name": "stdout",
     "output_type": "stream",
     "text": [
      "✅ Database setup complete: Tables created and populated with data!\n"
     ]
    },
    {
     "data": {
      "text/html": [
       "<div>\n",
       "<style scoped>\n",
       "    .dataframe tbody tr th:only-of-type {\n",
       "        vertical-align: middle;\n",
       "    }\n",
       "\n",
       "    .dataframe tbody tr th {\n",
       "        vertical-align: top;\n",
       "    }\n",
       "\n",
       "    .dataframe thead th {\n",
       "        text-align: right;\n",
       "    }\n",
       "</style>\n",
       "<table border=\"1\" class=\"dataframe\">\n",
       "  <thead>\n",
       "    <tr style=\"text-align: right;\">\n",
       "      <th></th>\n",
       "      <th>transaction_id</th>\n",
       "      <th>date_time</th>\n",
       "      <th>store_location</th>\n",
       "      <th>title</th>\n",
       "      <th>sale_price</th>\n",
       "    </tr>\n",
       "  </thead>\n",
       "  <tbody>\n",
       "    <tr>\n",
       "      <th>0</th>\n",
       "      <td>T1004</td>\n",
       "      <td>2023-01-15 11:30:15</td>\n",
       "      <td>University</td>\n",
       "      <td>The Catcher in the Rye</td>\n",
       "      <td>13.99</td>\n",
       "    </tr>\n",
       "    <tr>\n",
       "      <th>1</th>\n",
       "      <td>T1032</td>\n",
       "      <td>2023-01-19 11:40:45</td>\n",
       "      <td>University</td>\n",
       "      <td>Thus Spoke Zarathustra</td>\n",
       "      <td>13.99</td>\n",
       "    </tr>\n",
       "    <tr>\n",
       "      <th>2</th>\n",
       "      <td>T1039</td>\n",
       "      <td>2023-01-20 13:30:12</td>\n",
       "      <td>University</td>\n",
       "      <td>The Catcher in the Rye</td>\n",
       "      <td>13.99</td>\n",
       "    </tr>\n",
       "    <tr>\n",
       "      <th>3</th>\n",
       "      <td>T1051</td>\n",
       "      <td>2023-01-23 09:15:22</td>\n",
       "      <td>University</td>\n",
       "      <td>The Catcher in the Rye</td>\n",
       "      <td>13.99</td>\n",
       "    </tr>\n",
       "    <tr>\n",
       "      <th>4</th>\n",
       "      <td>T1062</td>\n",
       "      <td>2023-01-24 14:40:45</td>\n",
       "      <td>University</td>\n",
       "      <td>Ulysses</td>\n",
       "      <td>13.99</td>\n",
       "    </tr>\n",
       "    <tr>\n",
       "      <th>...</th>\n",
       "      <td>...</td>\n",
       "      <td>...</td>\n",
       "      <td>...</td>\n",
       "      <td>...</td>\n",
       "      <td>...</td>\n",
       "    </tr>\n",
       "    <tr>\n",
       "      <th>59</th>\n",
       "      <td>T1079</td>\n",
       "      <td>2023-01-27 11:40:12</td>\n",
       "      <td>Suburban</td>\n",
       "      <td>The Adventures of Sherlock Holmes</td>\n",
       "      <td>10.99</td>\n",
       "    </tr>\n",
       "    <tr>\n",
       "      <th>60</th>\n",
       "      <td>T1086</td>\n",
       "      <td>2023-01-28 14:25:22</td>\n",
       "      <td>Downtown</td>\n",
       "      <td>Jane Eyre</td>\n",
       "      <td>10.99</td>\n",
       "    </tr>\n",
       "    <tr>\n",
       "      <th>61</th>\n",
       "      <td>T1090</td>\n",
       "      <td>2023-01-29 13:45:48</td>\n",
       "      <td>Suburban</td>\n",
       "      <td>The Adventures of Sherlock Holmes</td>\n",
       "      <td>10.99</td>\n",
       "    </tr>\n",
       "    <tr>\n",
       "      <th>62</th>\n",
       "      <td>T1092</td>\n",
       "      <td>2023-01-30 09:35:45</td>\n",
       "      <td>University</td>\n",
       "      <td>The Scarlet Letter</td>\n",
       "      <td>10.99</td>\n",
       "    </tr>\n",
       "    <tr>\n",
       "      <th>63</th>\n",
       "      <td>T1100</td>\n",
       "      <td>2023-01-31 13:35:48</td>\n",
       "      <td>University</td>\n",
       "      <td>Hamlet</td>\n",
       "      <td>10.99</td>\n",
       "    </tr>\n",
       "  </tbody>\n",
       "</table>\n",
       "<p>64 rows × 5 columns</p>\n",
       "</div>"
      ],
      "text/plain": [
       "   transaction_id            date_time store_location  \\\n",
       "0           T1004  2023-01-15 11:30:15     University   \n",
       "1           T1032  2023-01-19 11:40:45     University   \n",
       "2           T1039  2023-01-20 13:30:12     University   \n",
       "3           T1051  2023-01-23 09:15:22     University   \n",
       "4           T1062  2023-01-24 14:40:45     University   \n",
       "..            ...                  ...            ...   \n",
       "59          T1079  2023-01-27 11:40:12       Suburban   \n",
       "60          T1086  2023-01-28 14:25:22       Downtown   \n",
       "61          T1090  2023-01-29 13:45:48       Suburban   \n",
       "62          T1092  2023-01-30 09:35:45     University   \n",
       "63          T1100  2023-01-31 13:35:48     University   \n",
       "\n",
       "                                title  sale_price  \n",
       "0              The Catcher in the Rye       13.99  \n",
       "1              Thus Spoke Zarathustra       13.99  \n",
       "2              The Catcher in the Rye       13.99  \n",
       "3              The Catcher in the Rye       13.99  \n",
       "4                             Ulysses       13.99  \n",
       "..                                ...         ...  \n",
       "59  The Adventures of Sherlock Holmes       10.99  \n",
       "60                          Jane Eyre       10.99  \n",
       "61  The Adventures of Sherlock Holmes       10.99  \n",
       "62                 The Scarlet Letter       10.99  \n",
       "63                             Hamlet       10.99  \n",
       "\n",
       "[64 rows x 5 columns]"
      ]
     },
     "metadata": {},
     "output_type": "display_data"
    }
   ],
   "source": [
    "import sqlite3\n",
    "import pandas as pd\n",
    "\n",
    "# Setting up the database\n",
    "from db_setup_2 import setup_database\n",
    "setup_database() \n",
    "\n",
    "conn = sqlite3.connect('bookcycle.db')\n",
    "\n",
    "query = \"\"\"\n",
    "SELECT t.transaction_id, t.date_time, t.store_location, b.title, t.sale_price\n",
    "FROM transactions t\n",
    "JOIN customers c ON t.customer_id = c.customer_id\n",
    "JOIN books b ON t.book_id = b.book_id\n",
    "WHERE t.sale_price > 10\n",
    "ORDER BY t.sale_price DESC;\n",
    "\"\"\"\n",
    "\n",
    "df = pd.read_sql_query(query, conn)\n",
    "display(df)"
   ]
  },
  {
   "cell_type": "markdown",
   "id": "55ec48de",
   "metadata": {},
   "source": [
    "💡 Tip: Pay attention to the execution time of the query."
   ]
  },
  {
   "cell_type": "markdown",
   "id": "7e05a94c",
   "metadata": {},
   "source": [
    "### Activity 2: AI-Powered Query Optimization\n",
    "\n",
    "Now, let's use AI to suggest optimizations for our query."
   ]
  },
  {
   "cell_type": "markdown",
   "id": "db31bf4d",
   "metadata": {},
   "source": [
    "<b>Step 1:</b> Use an AI-powered coding assistant (such as ChatGPT, Gemini, or another AI tool of your choice) to analyze the query. Copy and paste the following into your chosen AI assistant and see what the AI suggests:\n",
    "\n",
    "```\n",
    "# AI Assistant, please analyze the following SQL query and suggest optimizations:\n",
    "# [Paste the original query here]\n",
    "```"
   ]
  },
  {
   "cell_type": "markdown",
   "id": "a6c17710",
   "metadata": {},
   "source": [
    "<b>Step 2:</b> Review the AI's suggestions. They might include:\n",
    "- Adding indexes on frequently used columns\n",
    "- Rewriting the query to use subqueries or CTEs\n",
    "- Suggesting changes to the database schema"
   ]
  },
  {
   "cell_type": "markdown",
   "id": "2322c371",
   "metadata": {},
   "source": [
    "<b>Step 3:</b> Implement one of the AI's suggestions. For example, if it recommends adding an index:"
   ]
  },
  {
   "cell_type": "raw",
   "id": "9caf0b59",
   "metadata": {
    "scrolled": true
   },
   "source": [
    "CREATE INDEX idx_sale_price ON transactions(sale_price);"
   ]
  },
  {
   "cell_type": "markdown",
   "id": "52fddda8",
   "metadata": {},
   "source": [
    "<b>Step 4:</b> Run the optimized query and compare its performance to the original. Note: for small datasets, the performance improvement may be imperceptible."
   ]
  },
  {
   "cell_type": "markdown",
   "id": "06c04ee7",
   "metadata": {},
   "source": [
    "💡 Tip: Remember that AI suggestions should be critically evaluated and tested before implementation."
   ]
  },
  {
   "cell_type": "markdown",
   "id": "bc90000d",
   "metadata": {},
   "source": [
    "### Activity 3: Schema Optimization Analysis \n",
    "Let's use AI to analyze our overall database schema for potential improvements."
   ]
  },
  {
   "cell_type": "markdown",
   "id": "c600ba86",
   "metadata": {},
   "source": [
    "<b>Step 1:</b> Review the current schema:"
   ]
  },
  {
   "cell_type": "code",
   "execution_count": 2,
   "id": "b5840675",
   "metadata": {},
   "outputs": [
    {
     "name": "stdout",
     "output_type": "stream",
     "text": [
      "Table: transactions\n",
      "  transaction_id (TEXT)\n",
      "  date_time (TEXT)\n",
      "  store_location (TEXT)\n",
      "  customer_id (TEXT)\n",
      "  book_id (TEXT)\n",
      "  sale_price (REAL)\n",
      "  payment_method (TEXT)\n",
      "  is_online (INTEGER)\n",
      "\n",
      "Table: books\n",
      "  book_id (TEXT)\n",
      "  title (TEXT)\n",
      "  author (TEXT)\n",
      "  isbn (INTEGER)\n",
      "  genre (TEXT)\n",
      "  condition (TEXT)\n",
      "  purchase_price (REAL)\n",
      "  list_price (REAL)\n",
      "  date_acquired (TEXT)\n",
      "  current_location (TEXT)\n",
      "  quantity (INTEGER)\n",
      "\n",
      "Table: customers\n",
      "  customer_id (TEXT)\n",
      "  join_date (TEXT)\n",
      "  is_member (INTEGER)\n",
      "  zip_code (INTEGER)\n",
      "  birth_year (INTEGER)\n",
      "  preferred_store (TEXT)\n",
      "\n"
     ]
    }
   ],
   "source": [
    "# Display current schema\n",
    "for table in ['transactions', 'books', 'customers']:\n",
    "    print(f\"Table: {table}\")\n",
    "    cursor = conn.execute(f\"PRAGMA table_info({table})\")\n",
    "    for column in cursor.fetchall():\n",
    "        print(f\"  {column[1]} ({column[2]})\")\n",
    "    print()"
   ]
  },
  {
   "cell_type": "markdown",
   "id": "c579cc4c",
   "metadata": {},
   "source": [
    "<b>Step 2:</b> Ask the AI for schema optimization suggestions:\n",
    "\n",
    "```\n",
    "# AI Assistant, please analyze our current database schema and suggest optimizations:\n",
    "# [Paste the schema information here]\n",
    "```"
   ]
  },
  {
   "cell_type": "markdown",
   "id": "67ea01bf",
   "metadata": {},
   "source": [
    "<b>Step 3:</b>  Review and discuss the AI's suggestions. Consider:\n",
    "- How do they align with database best practices?\n",
    "- What are the potential impacts on query performance?\n",
    "- Are there any suggestions that might not be suitable for BookCycle's needs?"
   ]
  },
  {
   "cell_type": "markdown",
   "id": "f694dd75",
   "metadata": {},
   "source": [
    "<b>Step 4:</b> Close the connection: "
   ]
  },
  {
   "cell_type": "code",
   "execution_count": 3,
   "id": "fc2b6660",
   "metadata": {},
   "outputs": [],
   "source": [
    "# Close the connection\n",
    "conn.close()"
   ]
  },
  {
   "cell_type": "markdown",
   "id": "41d51a15",
   "metadata": {},
   "source": [
    "### ⚙️ Test Your Work:\n",
    "Verify that any schema changes suggested by the AI don't break existing functionality"
   ]
  },
  {
   "cell_type": "markdown",
   "id": "051945f2",
   "metadata": {},
   "source": [
    "## ✅ Success Checklist\n",
    "- You've successfully run and analyzed the original query\n",
    "- You've received and implemented at least one AI-suggested optimization\n",
    "- You've critically evaluated AI suggestions for schema optimization\n",
    "\n",
    "## 🔍 Common Issues & Solutions \n",
    "\n",
    "- Problem: AI suggests an optimization that doesn't improve performance\n",
    "    - Solution: Remember that AI suggestions are not always perfect. Always test and validate suggestions before implementing them in a production environment.\n",
    "\n",
    "- Problem: Implementing an index doesn't significantly improve query performance \n",
    "    - Solution:  Ensure that the index is on the correct column(s) and that the query is actually using the index. You can use EXPLAIN QUERY PLAN to see if the index is being used.\n",
    "\n",
    "\n",
    "## ➡️ Summary\n",
    "By completing the AI-Powered Schema Optimization lab, you've acquired essential skills in leveraging AI for database management, query enhancement, and schema refinement, positioning yourself at the forefront of data analysis and equipping you to tackle complex database challenges with innovative, AI-driven solutions.\n",
    "\n",
    "### 🔑 Key Points\n",
    "- AI can provide valuable insights for query and schema optimization\n",
    "- Always critically evaluate and test AI suggestions\n",
    "- Indexing and query rewriting are common optimization techniques\n",
    "- Schema design impacts query performance and should be regularly reviewed"
   ]
  }
 ],
 "metadata": {
  "kernelspec": {
   "display_name": "Python 3 (ipykernel)",
   "language": "python",
   "name": "python3"
  },
  "language_info": {
   "codemirror_mode": {
    "name": "ipython",
    "version": 3
   },
   "file_extension": ".py",
   "mimetype": "text/x-python",
   "name": "python",
   "nbconvert_exporter": "python",
   "pygments_lexer": "ipython3",
   "version": "3.10.6"
  }
 },
 "nbformat": 4,
 "nbformat_minor": 5
}
