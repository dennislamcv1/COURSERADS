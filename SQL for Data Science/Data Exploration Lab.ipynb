{
 "cells": [
  {
   "cell_type": "markdown",
   "id": "629f33bf",
   "metadata": {},
   "source": [
    "# Ungraded Lab: Data Exploration Lab"
   ]
  },
  {
   "cell_type": "markdown",
   "id": "b41a9018",
   "metadata": {},
   "source": [
    "## 📋 Overview \n",
    "Welcome to the Data Exploration lab! In this hands-on session, you'll investigate BookCycle's data to help the management team gain valuable insights about their inventory and sales. You'll learn how to sort query results and use basic aggregate functions to summarize data, skills that are crucial for data analysis in real business settings.\n",
    "\n",
    "## 🎯 Learning Outcomes\n",
    "By the end of this lab, you will be able to:\n",
    "<ul>\n",
    "    <li>Sort query results using ORDER BY</li>\n",
    "    <li>Use basic aggregate functions (COUNT, SUM, AVG) to summarize data</li>\n",
    "    <li>Apply filters with WHERE clauses in combination with aggregations</li>\n",
    "    <li>Interpret summarized data to derive business insights</li>\n",
    "</ul>\n",
    "\n",
    "## 📚 Dataset Information\n",
    "We'll be working with the 'books' table from the BookCycle database. This table contains information about the books in inventory, including details like title, author, genre, condition, pricing, and location."
   ]
  },
  {
   "cell_type": "markdown",
   "id": "ab983443",
   "metadata": {},
   "source": [
    "## 🖥️ Activities\n",
    "\n",
    "### Activity 1: Connecting to the Database and Basic Sorting \n",
    "\n",
    "As a data analyst at BookCycle, your first task is to organize the book inventory data to help the management team quickly access information about their stock."
   ]
  },
  {
   "cell_type": "markdown",
   "id": "86e171a5",
   "metadata": {},
   "source": [
    "<b>Step 1</b>: Import the necessary libraries and connect to the database:\n"
   ]
  },
  {
   "cell_type": "code",
   "execution_count": 1,
   "id": "90892f54",
   "metadata": {},
   "outputs": [
    {
     "name": "stdout",
     "output_type": "stream",
     "text": [
      "✅ Database setup complete: Tables created and populated with data!\n"
     ]
    }
   ],
   "source": [
    "import sqlite3\n",
    "import pandas as pd\n",
    "\n",
    "# Setting up the database. DO NOT edit the code given below\n",
    "from db_setup import setup_database\n",
    "setup_database() "
   ]
  },
  {
   "cell_type": "code",
   "execution_count": 2,
   "id": "64718f5d",
   "metadata": {},
   "outputs": [
    {
     "data": {
      "text/html": [
       "<div>\n",
       "<style scoped>\n",
       "    .dataframe tbody tr th:only-of-type {\n",
       "        vertical-align: middle;\n",
       "    }\n",
       "\n",
       "    .dataframe tbody tr th {\n",
       "        vertical-align: top;\n",
       "    }\n",
       "\n",
       "    .dataframe thead th {\n",
       "        text-align: right;\n",
       "    }\n",
       "</style>\n",
       "<table border=\"1\" class=\"dataframe\">\n",
       "  <thead>\n",
       "    <tr style=\"text-align: right;\">\n",
       "      <th></th>\n",
       "      <th>book_id</th>\n",
       "      <th>title</th>\n",
       "      <th>author</th>\n",
       "      <th>isbn</th>\n",
       "      <th>genre</th>\n",
       "      <th>condition</th>\n",
       "      <th>purchase_price</th>\n",
       "      <th>list_price</th>\n",
       "      <th>date_acquired</th>\n",
       "      <th>current_location</th>\n",
       "      <th>quantity</th>\n",
       "    </tr>\n",
       "  </thead>\n",
       "  <tbody>\n",
       "    <tr>\n",
       "      <th>0</th>\n",
       "      <td>B1001</td>\n",
       "      <td>A Christmas Carol</td>\n",
       "      <td>Charles Dickens</td>\n",
       "      <td>9780141324524</td>\n",
       "      <td>Classic Fiction</td>\n",
       "      <td>Good</td>\n",
       "      <td>5.5</td>\n",
       "      <td>8.99</td>\n",
       "      <td>2023-01-15</td>\n",
       "      <td>Suburban</td>\n",
       "      <td>2</td>\n",
       "    </tr>\n",
       "    <tr>\n",
       "      <th>1</th>\n",
       "      <td>B1002</td>\n",
       "      <td>A Farewell to Arms</td>\n",
       "      <td>Ernest Hemingway</td>\n",
       "      <td>9780684801469</td>\n",
       "      <td>Classic Fiction</td>\n",
       "      <td>Very Good</td>\n",
       "      <td>7.0</td>\n",
       "      <td>11.99</td>\n",
       "      <td>2023-01-15</td>\n",
       "      <td>University</td>\n",
       "      <td>3</td>\n",
       "    </tr>\n",
       "    <tr>\n",
       "      <th>2</th>\n",
       "      <td>B1003</td>\n",
       "      <td>A Tale of Two Cities</td>\n",
       "      <td>Charles Dickens</td>\n",
       "      <td>9780141439600</td>\n",
       "      <td>Classic Fiction</td>\n",
       "      <td>Fair</td>\n",
       "      <td>4.5</td>\n",
       "      <td>7.99</td>\n",
       "      <td>2023-01-16</td>\n",
       "      <td>Downtown</td>\n",
       "      <td>2</td>\n",
       "    </tr>\n",
       "    <tr>\n",
       "      <th>3</th>\n",
       "      <td>B1004</td>\n",
       "      <td>Adventures of Huckleberry Finn</td>\n",
       "      <td>Mark Twain</td>\n",
       "      <td>9780142437179</td>\n",
       "      <td>Classic Fiction</td>\n",
       "      <td>Good</td>\n",
       "      <td>6.0</td>\n",
       "      <td>9.99</td>\n",
       "      <td>2023-01-16</td>\n",
       "      <td>University</td>\n",
       "      <td>4</td>\n",
       "    </tr>\n",
       "    <tr>\n",
       "      <th>4</th>\n",
       "      <td>B1005</td>\n",
       "      <td>Agnes Grey</td>\n",
       "      <td>Anne Bronte</td>\n",
       "      <td>9780140432107</td>\n",
       "      <td>Classic Fiction</td>\n",
       "      <td>Fair</td>\n",
       "      <td>4.0</td>\n",
       "      <td>7.99</td>\n",
       "      <td>2023-01-17</td>\n",
       "      <td>Suburban</td>\n",
       "      <td>1</td>\n",
       "    </tr>\n",
       "  </tbody>\n",
       "</table>\n",
       "</div>"
      ],
      "text/plain": [
       "  book_id                           title            author           isbn  \\\n",
       "0   B1001               A Christmas Carol   Charles Dickens  9780141324524   \n",
       "1   B1002              A Farewell to Arms  Ernest Hemingway  9780684801469   \n",
       "2   B1003            A Tale of Two Cities   Charles Dickens  9780141439600   \n",
       "3   B1004  Adventures of Huckleberry Finn        Mark Twain  9780142437179   \n",
       "4   B1005                      Agnes Grey       Anne Bronte  9780140432107   \n",
       "\n",
       "             genre  condition  purchase_price  list_price date_acquired  \\\n",
       "0  Classic Fiction       Good             5.5        8.99    2023-01-15   \n",
       "1  Classic Fiction  Very Good             7.0       11.99    2023-01-15   \n",
       "2  Classic Fiction       Fair             4.5        7.99    2023-01-16   \n",
       "3  Classic Fiction       Good             6.0        9.99    2023-01-16   \n",
       "4  Classic Fiction       Fair             4.0        7.99    2023-01-17   \n",
       "\n",
       "  current_location  quantity  \n",
       "0         Suburban         2  \n",
       "1       University         3  \n",
       "2         Downtown         2  \n",
       "3       University         4  \n",
       "4         Suburban         1  "
      ]
     },
     "metadata": {},
     "output_type": "display_data"
    }
   ],
   "source": [
    "# Connect to the SQLite database\n",
    "conn = sqlite3.connect('bookcycle.db')\n",
    "\n",
    "# Test the connection by querying the first 5 rows of the books table\n",
    "query = \"\"\"\n",
    "SELECT *\n",
    "FROM books\n",
    "LIMIT 5;\n",
    "\"\"\"\n",
    "\n",
    "df = pd.read_sql_query(query, conn)\n",
    "display(df)"
   ]
  },
  {
   "cell_type": "markdown",
   "id": "ac4fa77f",
   "metadata": {},
   "source": [
    "<b>Step 2:</b> Let's sort the books by their list price in descending order"
   ]
  },
  {
   "cell_type": "code",
   "execution_count": 3,
   "id": "8853a3bd",
   "metadata": {},
   "outputs": [
    {
     "data": {
      "text/html": [
       "<div>\n",
       "<style scoped>\n",
       "    .dataframe tbody tr th:only-of-type {\n",
       "        vertical-align: middle;\n",
       "    }\n",
       "\n",
       "    .dataframe tbody tr th {\n",
       "        vertical-align: top;\n",
       "    }\n",
       "\n",
       "    .dataframe thead th {\n",
       "        text-align: right;\n",
       "    }\n",
       "</style>\n",
       "<table border=\"1\" class=\"dataframe\">\n",
       "  <thead>\n",
       "    <tr style=\"text-align: right;\">\n",
       "      <th></th>\n",
       "      <th>title</th>\n",
       "      <th>author</th>\n",
       "      <th>list_price</th>\n",
       "    </tr>\n",
       "  </thead>\n",
       "  <tbody>\n",
       "    <tr>\n",
       "      <th>0</th>\n",
       "      <td>Crime and Punishment</td>\n",
       "      <td>Fyodor Dostoevsky</td>\n",
       "      <td>13.99</td>\n",
       "    </tr>\n",
       "    <tr>\n",
       "      <th>1</th>\n",
       "      <td>Iliad</td>\n",
       "      <td>Homer</td>\n",
       "      <td>13.99</td>\n",
       "    </tr>\n",
       "    <tr>\n",
       "      <th>2</th>\n",
       "      <td>Moby Dick</td>\n",
       "      <td>Herman Melville</td>\n",
       "      <td>13.99</td>\n",
       "    </tr>\n",
       "    <tr>\n",
       "      <th>3</th>\n",
       "      <td>The Catcher in the Rye</td>\n",
       "      <td>J.D. Salinger</td>\n",
       "      <td>13.99</td>\n",
       "    </tr>\n",
       "    <tr>\n",
       "      <th>4</th>\n",
       "      <td>The Republic</td>\n",
       "      <td>Plato</td>\n",
       "      <td>13.99</td>\n",
       "    </tr>\n",
       "    <tr>\n",
       "      <th>5</th>\n",
       "      <td>Thus Spoke Zarathustra</td>\n",
       "      <td>Friedrich Nietzsche</td>\n",
       "      <td>13.99</td>\n",
       "    </tr>\n",
       "    <tr>\n",
       "      <th>6</th>\n",
       "      <td>Ulysses</td>\n",
       "      <td>James Joyce</td>\n",
       "      <td>13.99</td>\n",
       "    </tr>\n",
       "    <tr>\n",
       "      <th>7</th>\n",
       "      <td>Anne of Green Gables</td>\n",
       "      <td>L.M. Montgomery</td>\n",
       "      <td>12.99</td>\n",
       "    </tr>\n",
       "    <tr>\n",
       "      <th>8</th>\n",
       "      <td>Brave New World</td>\n",
       "      <td>Aldous Huxley</td>\n",
       "      <td>12.99</td>\n",
       "    </tr>\n",
       "    <tr>\n",
       "      <th>9</th>\n",
       "      <td>Fahrenheit 451</td>\n",
       "      <td>Ray Bradbury</td>\n",
       "      <td>12.99</td>\n",
       "    </tr>\n",
       "  </tbody>\n",
       "</table>\n",
       "</div>"
      ],
      "text/plain": [
       "                    title               author  list_price\n",
       "0    Crime and Punishment    Fyodor Dostoevsky       13.99\n",
       "1                   Iliad                Homer       13.99\n",
       "2               Moby Dick      Herman Melville       13.99\n",
       "3  The Catcher in the Rye        J.D. Salinger       13.99\n",
       "4            The Republic                Plato       13.99\n",
       "5  Thus Spoke Zarathustra  Friedrich Nietzsche       13.99\n",
       "6                 Ulysses          James Joyce       13.99\n",
       "7    Anne of Green Gables      L.M. Montgomery       12.99\n",
       "8         Brave New World        Aldous Huxley       12.99\n",
       "9          Fahrenheit 451         Ray Bradbury       12.99"
      ]
     },
     "metadata": {},
     "output_type": "display_data"
    }
   ],
   "source": [
    "query = \"\"\"\n",
    "SELECT title, author, list_price\n",
    "FROM books\n",
    "ORDER BY list_price DESC\n",
    "LIMIT 10;\n",
    "\"\"\"\n",
    "\n",
    "df = pd.read_sql_query(query, conn)\n",
    "display(df)"
   ]
  },
  {
   "cell_type": "markdown",
   "id": "4debc44b",
   "metadata": {},
   "source": [
    " <b>💡 Tip:</b> The ORDER BY clause is used to sort the results. DESC specifies descending order."
   ]
  },
  {
   "cell_type": "markdown",
   "id": "b1baeb20",
   "metadata": {},
   "source": [
    "<b>Step 3: Try it yourself:</b> Sort the books by title in alphabetical order and display the first 15 results."
   ]
  },
  {
   "cell_type": "code",
   "execution_count": null,
   "id": "687b187f",
   "metadata": {
    "scrolled": true
   },
   "outputs": [],
   "source": [
    "query = \"\"\"\n",
    "<YOUR CODE HERE>\n",
    "\"\"\"\n",
    "\n",
    "df = pd.read_sql_query(query, conn)\n",
    "display(df)"
   ]
  },
  {
   "cell_type": "markdown",
   "id": "a364c5f7",
   "metadata": {},
   "source": [
    "#### ⚙️ Test Your Work:\n",
    "<ul>\n",
    "    <li>Did your query execute without errors?</li>\n",
    "    <li>Are the books sorted alphabetically by title?</li>\n",
    "    <li>Did you see 15 results?</li>\n",
    "\n",
    "</ul>"
   ]
  },
  {
   "cell_type": "markdown",
   "id": "7e05a94c",
   "metadata": {},
   "source": [
    "### Activity 2: Using Aggregate Functions \n",
    "\n",
    "The management team wants to understand the overall state of their inventory. You'll use aggregate functions to provide summary statistics."
   ]
  },
  {
   "cell_type": "markdown",
   "id": "db31bf4d",
   "metadata": {},
   "source": [
    "<b>Step 1:</b> Let's start by counting the total number of books in the inventory:"
   ]
  },
  {
   "cell_type": "code",
   "execution_count": 4,
   "id": "d7bf9e46",
   "metadata": {},
   "outputs": [
    {
     "data": {
      "text/html": [
       "<div>\n",
       "<style scoped>\n",
       "    .dataframe tbody tr th:only-of-type {\n",
       "        vertical-align: middle;\n",
       "    }\n",
       "\n",
       "    .dataframe tbody tr th {\n",
       "        vertical-align: top;\n",
       "    }\n",
       "\n",
       "    .dataframe thead th {\n",
       "        text-align: right;\n",
       "    }\n",
       "</style>\n",
       "<table border=\"1\" class=\"dataframe\">\n",
       "  <thead>\n",
       "    <tr style=\"text-align: right;\">\n",
       "      <th></th>\n",
       "      <th>total_books</th>\n",
       "    </tr>\n",
       "  </thead>\n",
       "  <tbody>\n",
       "    <tr>\n",
       "      <th>0</th>\n",
       "      <td>100</td>\n",
       "    </tr>\n",
       "  </tbody>\n",
       "</table>\n",
       "</div>"
      ],
      "text/plain": [
       "   total_books\n",
       "0          100"
      ]
     },
     "metadata": {},
     "output_type": "display_data"
    }
   ],
   "source": [
    "query = \"\"\"\n",
    "SELECT COUNT(*) as total_books\n",
    "FROM books;\n",
    "\"\"\"\n",
    "\n",
    "df = pd.read_sql_query(query, conn)\n",
    "display(df)"
   ]
  },
  {
   "cell_type": "markdown",
   "id": "b77a69c4",
   "metadata": {},
   "source": [
    "<b>Step 2:</b> Let's calculate the average purchase price and list price of the books:"
   ]
  },
  {
   "cell_type": "code",
   "execution_count": 5,
   "id": "295e4ca9",
   "metadata": {},
   "outputs": [
    {
     "data": {
      "text/html": [
       "<div>\n",
       "<style scoped>\n",
       "    .dataframe tbody tr th:only-of-type {\n",
       "        vertical-align: middle;\n",
       "    }\n",
       "\n",
       "    .dataframe tbody tr th {\n",
       "        vertical-align: top;\n",
       "    }\n",
       "\n",
       "    .dataframe thead th {\n",
       "        text-align: right;\n",
       "    }\n",
       "</style>\n",
       "<table border=\"1\" class=\"dataframe\">\n",
       "  <thead>\n",
       "    <tr style=\"text-align: right;\">\n",
       "      <th></th>\n",
       "      <th>avg_purchase_price</th>\n",
       "      <th>avg_list_price</th>\n",
       "    </tr>\n",
       "  </thead>\n",
       "  <tbody>\n",
       "    <tr>\n",
       "      <th>0</th>\n",
       "      <td>6.44</td>\n",
       "      <td>11.01</td>\n",
       "    </tr>\n",
       "  </tbody>\n",
       "</table>\n",
       "</div>"
      ],
      "text/plain": [
       "   avg_purchase_price  avg_list_price\n",
       "0                6.44           11.01"
      ]
     },
     "metadata": {},
     "output_type": "display_data"
    }
   ],
   "source": [
    "query = \"\"\"\n",
    "SELECT \n",
    "    AVG(purchase_price) as avg_purchase_price,\n",
    "    AVG(list_price) as avg_list_price\n",
    "FROM books;\n",
    "\"\"\"\n",
    "\n",
    "df = pd.read_sql_query(query, conn)\n",
    "display(df)"
   ]
  },
  {
   "cell_type": "markdown",
   "id": "2322c371",
   "metadata": {},
   "source": [
    "<b>Step 3: Try it yourself:</b> Calculate the total inventory value (sum of all list prices) and the number of unique authors in the database.\n"
   ]
  },
  {
   "cell_type": "code",
   "execution_count": null,
   "id": "45cbbdad",
   "metadata": {
    "scrolled": true
   },
   "outputs": [],
   "source": [
    "query = \"\"\"\n",
    "<YOUR CODE HERE>\n",
    "\"\"\"\n",
    "\n",
    "df = pd.read_sql_query(query, conn)\n",
    "display(df)"
   ]
  },
  {
   "cell_type": "markdown",
   "id": "740b27a0",
   "metadata": {},
   "source": [
    "#### ⚙️ Test Your Work:\n",
    "<ul>\n",
    "    <li>Did your query execute without errors?</li>\n",
    "    <li>Do you see two columns: total_inventory_value and unique_authors?</li>\n",
    "    <li>Are the values reasonable given what you know about the bookstore?</li>\n",
    "\n",
    "</ul>"
   ]
  },
  {
   "cell_type": "markdown",
   "id": "bc90000d",
   "metadata": {},
   "source": [
    "### Activity 3: Combining Aggregations with Filters\n",
    "\n",
    "The management wants to analyze the inventory of specific genres and conditions to make informed decisions about future purchases."
   ]
  },
  {
   "cell_type": "markdown",
   "id": "c600ba86",
   "metadata": {},
   "source": [
    "<b>Step 1:</b> Let's find the average list price for books in 'Classic Fiction' genre:"
   ]
  },
  {
   "cell_type": "code",
   "execution_count": 6,
   "id": "b5840675",
   "metadata": {},
   "outputs": [
    {
     "data": {
      "text/html": [
       "<div>\n",
       "<style scoped>\n",
       "    .dataframe tbody tr th:only-of-type {\n",
       "        vertical-align: middle;\n",
       "    }\n",
       "\n",
       "    .dataframe tbody tr th {\n",
       "        vertical-align: top;\n",
       "    }\n",
       "\n",
       "    .dataframe thead th {\n",
       "        text-align: right;\n",
       "    }\n",
       "</style>\n",
       "<table border=\"1\" class=\"dataframe\">\n",
       "  <thead>\n",
       "    <tr style=\"text-align: right;\">\n",
       "      <th></th>\n",
       "      <th>avg_price_classic_fiction</th>\n",
       "    </tr>\n",
       "  </thead>\n",
       "  <tbody>\n",
       "    <tr>\n",
       "      <th>0</th>\n",
       "      <td>11.08589</td>\n",
       "    </tr>\n",
       "  </tbody>\n",
       "</table>\n",
       "</div>"
      ],
      "text/plain": [
       "   avg_price_classic_fiction\n",
       "0                   11.08589"
      ]
     },
     "metadata": {},
     "output_type": "display_data"
    }
   ],
   "source": [
    "query = \"\"\"\n",
    "SELECT AVG(list_price) as avg_price_classic_fiction\n",
    "FROM books\n",
    "WHERE genre = 'Classic Fiction';\n",
    "\"\"\"\n",
    "\n",
    "df = pd.read_sql_query(query, conn)\n",
    "display(df)"
   ]
  },
  {
   "cell_type": "markdown",
   "id": "2ec8f810",
   "metadata": {},
   "source": [
    "<b>Step 2:</b> Let's count the number of books in 'Very Good' condition for each genre:"
   ]
  },
  {
   "cell_type": "code",
   "execution_count": 7,
   "id": "4407b66d",
   "metadata": {},
   "outputs": [
    {
     "data": {
      "text/html": [
       "<div>\n",
       "<style scoped>\n",
       "    .dataframe tbody tr th:only-of-type {\n",
       "        vertical-align: middle;\n",
       "    }\n",
       "\n",
       "    .dataframe tbody tr th {\n",
       "        vertical-align: top;\n",
       "    }\n",
       "\n",
       "    .dataframe thead th {\n",
       "        text-align: right;\n",
       "    }\n",
       "</style>\n",
       "<table border=\"1\" class=\"dataframe\">\n",
       "  <thead>\n",
       "    <tr style=\"text-align: right;\">\n",
       "      <th></th>\n",
       "      <th>genre</th>\n",
       "      <th>count_very_good</th>\n",
       "    </tr>\n",
       "  </thead>\n",
       "  <tbody>\n",
       "    <tr>\n",
       "      <th>0</th>\n",
       "      <td>Classic Fiction</td>\n",
       "      <td>19</td>\n",
       "    </tr>\n",
       "    <tr>\n",
       "      <th>1</th>\n",
       "      <td>Classic Poetry</td>\n",
       "      <td>4</td>\n",
       "    </tr>\n",
       "    <tr>\n",
       "      <th>2</th>\n",
       "      <td>Classic Drama</td>\n",
       "      <td>4</td>\n",
       "    </tr>\n",
       "    <tr>\n",
       "      <th>3</th>\n",
       "      <td>Classic Mystery</td>\n",
       "      <td>1</td>\n",
       "    </tr>\n",
       "  </tbody>\n",
       "</table>\n",
       "</div>"
      ],
      "text/plain": [
       "             genre  count_very_good\n",
       "0  Classic Fiction               19\n",
       "1   Classic Poetry                4\n",
       "2    Classic Drama                4\n",
       "3  Classic Mystery                1"
      ]
     },
     "metadata": {},
     "output_type": "display_data"
    }
   ],
   "source": [
    "query = \"\"\"\n",
    "SELECT genre, COUNT(*) as count_very_good\n",
    "FROM books\n",
    "WHERE condition = 'Very Good'\n",
    "GROUP BY genre\n",
    "ORDER BY count_very_good DESC;\n",
    "\"\"\"\n",
    "\n",
    "df = pd.read_sql_query(query, conn)\n",
    "display(df)"
   ]
  },
  {
   "cell_type": "markdown",
   "id": "c579cc4c",
   "metadata": {},
   "source": [
    "<b>Step 3: Try it yourself:</b>  Find the total value (sum of list prices) of books in 'Like New' condition for each location, sorted by total value in descending order."
   ]
  },
  {
   "cell_type": "code",
   "execution_count": null,
   "id": "509666d2",
   "metadata": {
    "scrolled": true
   },
   "outputs": [],
   "source": [
    "query = \"\"\"\n",
    "<YOUR CODE HERE>\n",
    "\"\"\"\n",
    "\n",
    "df = pd.read_sql_query(query, conn)\n",
    "display(df)"
   ]
  },
  {
   "cell_type": "markdown",
   "id": "d94d0828",
   "metadata": {},
   "source": [
    "#### Close the Connection\n",
    "It's good practice to close the database connection when you're done"
   ]
  },
  {
   "cell_type": "code",
   "execution_count": 8,
   "id": "825c45da",
   "metadata": {},
   "outputs": [],
   "source": [
    "# Close the database connection \n",
    "conn.close()"
   ]
  },
  {
   "cell_type": "markdown",
   "id": "76152a0e",
   "metadata": {},
   "source": [
    "#### ⚙️ Test Your Work:\n",
    "\n",
    "- Did your query execute without errors?</li>\n",
    "- Do you see results for different locations?</li>\n",
    "- Are the results sorted with the highest total value first?</li>"
   ]
  },
  {
   "cell_type": "markdown",
   "id": "a544f6b9",
   "metadata": {},
   "source": [
    "## ✅ Success Checklist\n",
    "- You can sort query results using ORDER BY\n",
    "- You can use COUNT, SUM, and AVG functions to summarize data\n",
    "- You can combine WHERE clauses with aggregations\n",
    "- You can interpret the results to derive business insights\n",
    "\n",
    "## 🔍 Common Issues & Solutions \n",
    "- Problem: Syntax error in SQL query \n",
    "    - Solution: Double-check your SQL syntax, especially commas between selected columns and semicolons at the end of queries\n",
    "- Problem: Unexpected results from aggregations \n",
    "    - Solution: Verify that you're grouping correctly and using the right aggregate function for your needs\n",
    "\n",
    "## ➡️ Summary\n",
    "\n",
    "Congratulations on completing the Data Exploration lab – you've now mastered essential SQL skills for sorting and aggregating data, enabling you to extract valuable insights from complex datasets and make data-driven decisions in real-world business scenarios.\n",
    "\n",
    "### 🔑 Key Points\n",
    "- ORDER BY is used to sort results in ascending (default) or descending (DESC) order\n",
    "- Aggregate functions like COUNT, SUM, and AVG summarize data\n",
    "- WHERE clauses can be used with aggregations to filter data before summarizing\n",
    "- GROUP BY is used with aggregations to summarize data for each group\n"
   ]
  }
 ],
 "metadata": {
  "kernelspec": {
   "display_name": "Python 3 (ipykernel)",
   "language": "python",
   "name": "python3"
  },
  "language_info": {
   "codemirror_mode": {
    "name": "ipython",
    "version": 3
   },
   "file_extension": ".py",
   "mimetype": "text/x-python",
   "name": "python",
   "nbconvert_exporter": "python",
   "pygments_lexer": "ipython3",
   "version": "3.10.6"
  }
 },
 "nbformat": 4,
 "nbformat_minor": 5
}
