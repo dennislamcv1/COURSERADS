{
 "cells": [
  {
   "cell_type": "markdown",
   "id": "3c40dd95",
   "metadata": {},
   "source": [
    "# Ungraded Lab:  CTE Refactoring Challenge"
   ]
  },
  {
   "cell_type": "markdown",
   "id": "8b9a3047",
   "metadata": {},
   "source": [
    "## 📋 Overview \n",
    "In this lab, you'll explore the realm of Common Table Expressions (CTEs) and refactoring complex queries. As a data analyst at BookCycle, you'll work on improving the readability and performance of a multi-step query. This lab will help you understand the power of CTEs in simplifying complex SQL queries and preparing you for real-world data analysis challenges.\n",
    "\n",
    "## 🎯 Learning Outcomes\n",
    "By the end of this lab, you will be able to:\n",
    "- Identify complex, multi-step queries that can benefit from refactoring\n",
    "- Apply CTEs to simplify and improve query readability\n",
    "- Compare your refactored query with AI-generated suggestions\n",
    "- Evaluate query performance and readability improvements\n",
    "\n",
    "## 📚 Dataset Information\n",
    "We'll be working with two datasets from BookCycle:\n",
    "\n",
    "1. <b>books.csv:</b> Contains information about the books in BookCycle's inventory, including book_id, title, author, genre, condition, price, and more.\n",
    "2. <b>transactions.csv:</b> Contains transaction data, including transaction_id, date_time, store_location, customer_id, book_id, sale_price, and payment method.\n"
   ]
  },
  {
   "cell_type": "markdown",
   "id": "69197d54",
   "metadata": {},
   "source": [
    "## 🖥️ Activities\n",
    "\n",
    "### Activity 1: Analyze the Complex Query  \n",
    "\n",
    "As a data analyst at BookCycle, you've been asked to find the top-selling books in each genre for the Univerity store location. A colleague has written a query, but it's complex and hard to read."
   ]
  },
  {
   "cell_type": "markdown",
   "id": "2e073c90",
   "metadata": {},
   "source": [
    "<b>Step 1:</b> Import the necessary libraries and connect to the database:"
   ]
  },
  {
   "cell_type": "code",
   "execution_count": 1,
   "id": "eeff5af9",
   "metadata": {
    "scrolled": true
   },
   "outputs": [
    {
     "name": "stdout",
     "output_type": "stream",
     "text": [
      "✅ Database setup complete: Tables created and populated with data!\n"
     ]
    }
   ],
   "source": [
    "import sqlite3\n",
    "import pandas as pd\n",
    "\n",
    "# Setting up the database. DO NOT edit the code given below\n",
    "from db_setup import setup_database\n",
    "setup_database() \n",
    "\n",
    "# Connect to the database\n",
    "conn = sqlite3.connect('bookcycle.db')"
   ]
  },
  {
   "cell_type": "markdown",
   "id": "024ee393",
   "metadata": {},
   "source": [
    "<b>Step 2:</b>  Examine the following complex query:"
   ]
  },
  {
   "cell_type": "raw",
   "id": "030a08ef",
   "metadata": {
    "scrolled": false
   },
   "source": [
    "SELECT genre, title, total_sales\n",
    "FROM (\n",
    "    SELECT b.genre, b.title, SUM(t.sale_price) as total_sales,\n",
    "           ROW_NUMBER() OVER (PARTITION BY b.genre ORDER BY SUM(t.sale_price) DESC) as rank\n",
    "    FROM books b\n",
    "    JOIN transactions t ON b.book_id = t.book_id\n",
    "    WHERE t.store_location = 'University'\n",
    "    GROUP BY b.genre, b.title\n",
    ") ranked\n",
    "WHERE rank = 1\n",
    "ORDER BY total_sales DESC;"
   ]
  },
  {
   "cell_type": "markdown",
   "id": "f0e49597",
   "metadata": {},
   "source": [
    "<b>Step 3:</b> Run the query and observe the results:"
   ]
  },
  {
   "cell_type": "code",
   "execution_count": 2,
   "id": "984b7b7d",
   "metadata": {
    "scrolled": true
   },
   "outputs": [
    {
     "data": {
      "text/html": [
       "<div>\n",
       "<style scoped>\n",
       "    .dataframe tbody tr th:only-of-type {\n",
       "        vertical-align: middle;\n",
       "    }\n",
       "\n",
       "    .dataframe tbody tr th {\n",
       "        vertical-align: top;\n",
       "    }\n",
       "\n",
       "    .dataframe thead th {\n",
       "        text-align: right;\n",
       "    }\n",
       "</style>\n",
       "<table border=\"1\" class=\"dataframe\">\n",
       "  <thead>\n",
       "    <tr style=\"text-align: right;\">\n",
       "      <th></th>\n",
       "      <th>genre</th>\n",
       "      <th>title</th>\n",
       "      <th>total_sales</th>\n",
       "    </tr>\n",
       "  </thead>\n",
       "  <tbody>\n",
       "    <tr>\n",
       "      <th>0</th>\n",
       "      <td>Classic Fiction</td>\n",
       "      <td>The Catcher in the Rye</td>\n",
       "      <td>69.95</td>\n",
       "    </tr>\n",
       "    <tr>\n",
       "      <th>1</th>\n",
       "      <td>Classic Poetry</td>\n",
       "      <td>The Odyssey</td>\n",
       "      <td>51.96</td>\n",
       "    </tr>\n",
       "    <tr>\n",
       "      <th>2</th>\n",
       "      <td>Classic Drama</td>\n",
       "      <td>Hamlet</td>\n",
       "      <td>43.96</td>\n",
       "    </tr>\n",
       "    <tr>\n",
       "      <th>3</th>\n",
       "      <td>Classic Non-Fiction</td>\n",
       "      <td>Walden</td>\n",
       "      <td>21.98</td>\n",
       "    </tr>\n",
       "    <tr>\n",
       "      <th>4</th>\n",
       "      <td>Classic Philosophy</td>\n",
       "      <td>The Prince</td>\n",
       "      <td>17.98</td>\n",
       "    </tr>\n",
       "  </tbody>\n",
       "</table>\n",
       "</div>"
      ],
      "text/plain": [
       "                 genre                   title  total_sales\n",
       "0      Classic Fiction  The Catcher in the Rye        69.95\n",
       "1       Classic Poetry             The Odyssey        51.96\n",
       "2        Classic Drama                  Hamlet        43.96\n",
       "3  Classic Non-Fiction                  Walden        21.98\n",
       "4   Classic Philosophy              The Prince        17.98"
      ]
     },
     "metadata": {},
     "output_type": "display_data"
    }
   ],
   "source": [
    "query = \"\"\"\n",
    "SELECT genre, title, total_sales\n",
    "FROM (\n",
    "    SELECT b.genre, b.title, SUM(t.sale_price) as total_sales,\n",
    "           ROW_NUMBER() OVER (PARTITION BY b.genre ORDER BY SUM(t.sale_price) DESC) as rank\n",
    "    FROM books b\n",
    "    JOIN transactions t ON b.book_id = t.book_id\n",
    "    WHERE t.store_location = 'University'\n",
    "    GROUP BY b.genre, b.title\n",
    ") ranked\n",
    "WHERE rank = 1\n",
    "ORDER BY total_sales DESC;\n",
    "\"\"\"\n",
    "\n",
    "df = pd.read_sql_query(query, conn)\n",
    "display(df)"
   ]
  },
  {
   "cell_type": "markdown",
   "id": "a3bf7a03",
   "metadata": {},
   "source": [
    " <b>💡 Tip:</b> Take a moment to understand what the query is doing. It's finding the top-selling book in each genre for the Univerity store."
   ]
  },
  {
   "cell_type": "markdown",
   "id": "eb11dacb",
   "metadata": {},
   "source": [
    "### Activity 2: Refactor the Query Using CTEs  \n",
    "\n",
    "Now that you've analyzed the complex query, it's time to refactor it using Common Table Expressions (CTEs) to improve readability and potentially boost performance."
   ]
  },
  {
   "cell_type": "markdown",
   "id": "93970880",
   "metadata": {},
   "source": [
    "<b>Step 1:</b> Create a new code cell in your notebook, then write the CTE structure and the main query:"
   ]
  },
  {
   "cell_type": "code",
   "execution_count": null,
   "id": "17d80dbc",
   "metadata": {},
   "outputs": [],
   "source": [
    "WITH sales_by_book AS (\n",
    "    -- Calculate total sales for each book in the University store\n",
    "    <YOUR CODE HERE>\n",
    "),\n",
    "ranked_books AS (\n",
    "    -- Rank books within each genre based on total sales\n",
    "    <YOUR CODE HERE>\n",
    ")\n",
    "-- Select the top-selling book in each genre\n",
    "<YOUR CODE HERE>"
   ]
  },
  {
   "cell_type": "markdown",
   "id": "f89d450f",
   "metadata": {},
   "source": [
    "<b>Step 2:</b>  Run your refactored query and compare the results with the original query:"
   ]
  },
  {
   "cell_type": "code",
   "execution_count": null,
   "id": "4092cf64",
   "metadata": {},
   "outputs": [],
   "source": [
    "refactored_query = \"\"\"\n",
    "-- Your refactored query here\n",
    "\"\"\"\n",
    "\n",
    "df_refactored = pd.read_sql_query(refactored_query, conn)\n",
    "display(df_refactored)"
   ]
  },
  {
   "cell_type": "markdown",
   "id": "04158e15",
   "metadata": {},
   "source": [
    " <b>💡 Tip:</b> Make sure your refactored query produces the same results as the original query."
   ]
  },
  {
   "cell_type": "markdown",
   "id": "d95cf96a",
   "metadata": {},
   "source": [
    "### Activity 3: Compare with AI-Generated Suggestions\n",
    "\n",
    "Let's see how an AI model might approach this refactoring task.\n",
    "\n",
    "<b>Steps:</b>\n",
    "1. Use the following prompt with an AI assistant (e.g., ChatGPT): \"Refactor this SQL query using Common Table Expressions (CTEs) for better readability and performance:\" (Paste the original complex query here)\n",
    "2. Compare the AI-generated solution with your refactored query. Consider:\n",
    "    - How did the AI structure the CTEs?\n",
    "    - Are there any differences in approach?\n",
    "    - Which version do you find more readable?\n",
    "3. Discuss your findings in a markdown cell in your notebook."
   ]
  },
  {
   "cell_type": "code",
   "execution_count": null,
   "id": "b7608653",
   "metadata": {},
   "outputs": [],
   "source": [
    "# Add your finding in this cell. This is a code cell, please convert this into a markdown cell before adding \n",
    "# your findings\n"
   ]
  },
  {
   "cell_type": "markdown",
   "id": "dbf2449f",
   "metadata": {},
   "source": [
    "#### ⚙️ Test Your Work:\n",
    "- Run both the original and refactored queries\n",
    "- Compare execution times (you can use Python's time module)\n",
    "- Verify that both queries return the same results"
   ]
  },
  {
   "cell_type": "markdown",
   "id": "ce73359f",
   "metadata": {},
   "source": [
    "### Close the Connection\n",
    "It's good practice to close the database connection when you're done"
   ]
  },
  {
   "cell_type": "code",
   "execution_count": null,
   "id": "fe43ced6",
   "metadata": {
    "scrolled": true
   },
   "outputs": [],
   "source": [
    "# Close the database connection \n",
    "conn.close()"
   ]
  },
  {
   "cell_type": "markdown",
   "id": "87c49981",
   "metadata": {},
   "source": [
    "## ✅ Success Checklist\n",
    "- The refactored query uses CTEs\n",
    "- The refactored query produces the same results as the original\n",
    "- The refactored query is more readable\n",
    "- You've compared your solution with an AI-generated one\n",
    "\n",
    "\n",
    "## 🔍 Common Issues & Solutions \n",
    "\n",
    "- Problem: Results don't match the original query\n",
    "  - Solution:  Double-check your JOIN conditions and WHERE clauses in the CTEs\n",
    "  \n",
    "- Problem: Syntax errors in the CTE \n",
    "  - Solution: Ensure each CTE is properly named and separated by commas\n",
    "\n",
    "## ➡️ Summary\n",
    "\n",
    "Congratulations on completing this CTE refactoring challenge! You've taken a significant step in writing more efficient and readable SQL queries.\n",
    "\n",
    "### 🔑 Key Points\n",
    "- CTEs can greatly improve the readability of complex queries\n",
    "- Breaking down a complex query into CTEs can make it easier to understand and maintain\n",
    "- Comparing your solution with AI-generated code can provide new perspectives on problem-solving"
   ]
  }
 ],
 "metadata": {
  "kernelspec": {
   "display_name": "Python 3 (ipykernel)",
   "language": "python",
   "name": "python3"
  },
  "language_info": {
   "codemirror_mode": {
    "name": "ipython",
    "version": 3
   },
   "file_extension": ".py",
   "mimetype": "text/x-python",
   "name": "python",
   "nbconvert_exporter": "python",
   "pygments_lexer": "ipython3",
   "version": "3.10.6"
  }
 },
 "nbformat": 4,
 "nbformat_minor": 5
}
