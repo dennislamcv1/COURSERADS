{
 "cells": [
  {
   "cell_type": "markdown",
   "id": "629f33bf",
   "metadata": {},
   "source": [
    "# Ungraded Lab: Group and Filter"
   ]
  },
  {
   "cell_type": "markdown",
   "id": "b41a9018",
   "metadata": {},
   "source": [
    "## 📋 Overview \n",
    "Welcome to this hands-on lab where you'll expand your knowledge of SQL queries using the BookCycle database. Building on your previous experience with basic queries, you'll now learn to group and filter data using GROUP BY and HAVING clauses. These powerful tools will help you summarize information and extract meaningful insights from large datasets.\n",
    "As a data analyst at BookCycle, your task is to help the management team understand sales patterns across different store locations. By mastering these techniques, you'll be able to provide valuable insights that can drive business decisions.\n",
    "\n",
    "## 🎯 Learning Outcomes\n",
    "By the end of this lab, you will be able to:\n",
    "\n",
    "- Use GROUP BY clauses to summarize data based on specific criteria\n",
    "- Apply aggregate functions like COUNT, SUM, and AVG with GROUP BY\n",
    "- Implement HAVING clauses to filter groups based on aggregate conditions\n",
    "- Write complex queries that combine GROUP BY and HAVING to extract meaningful insights\n",
    "\n",
    "## 📚 Dataset Information\n",
    "We'll be working with the 'transactions' table from the BookCycle database. This table contains information about book sales across different store locations, including transaction details, customer information, and sales data.\n"
   ]
  },
  {
   "cell_type": "markdown",
   "id": "ab983443",
   "metadata": {},
   "source": [
    "## 🖥️ Activities\n",
    "\n",
    "### Activity 1: Setting Up and Basic Grouping \n",
    "\n",
    "Before we begin complex grouping, let's set up our environment and start with a simple GROUP BY query."
   ]
  },
  {
   "cell_type": "markdown",
   "id": "86e171a5",
   "metadata": {},
   "source": [
    "<b>Step 1:</b> Import the necessary libraries and connect to the database:"
   ]
  },
  {
   "cell_type": "code",
   "execution_count": 1,
   "id": "90892f54",
   "metadata": {},
   "outputs": [
    {
     "name": "stdout",
     "output_type": "stream",
     "text": [
      "✅ Database setup complete: Tables created and populated with data!\n"
     ]
    }
   ],
   "source": [
    "import sqlite3\n",
    "import pandas as pd\n",
    "\n",
    "# Setting up the database. DO NOT edit the code given below\n",
    "from db_setup import setup_database\n",
    "setup_database() "
   ]
  },
  {
   "cell_type": "code",
   "execution_count": 2,
   "id": "64718f5d",
   "metadata": {},
   "outputs": [],
   "source": [
    "# Connect to the SQLite database\n",
    "conn = sqlite3.connect('bookcycle.db')\n",
    "\n",
    "# Function to execute SQL queries and display results\n",
    "def run_query(query):\n",
    "    return pd.read_sql_query(query, conn)"
   ]
  },
  {
   "cell_type": "markdown",
   "id": "ac4fa77f",
   "metadata": {},
   "source": [
    "<b>Step 2:</b> Let's start by counting the number of transactions for each store location:"
   ]
  },
  {
   "cell_type": "code",
   "execution_count": 3,
   "id": "8853a3bd",
   "metadata": {},
   "outputs": [
    {
     "data": {
      "text/html": [
       "<div>\n",
       "<style scoped>\n",
       "    .dataframe tbody tr th:only-of-type {\n",
       "        vertical-align: middle;\n",
       "    }\n",
       "\n",
       "    .dataframe tbody tr th {\n",
       "        vertical-align: top;\n",
       "    }\n",
       "\n",
       "    .dataframe thead th {\n",
       "        text-align: right;\n",
       "    }\n",
       "</style>\n",
       "<table border=\"1\" class=\"dataframe\">\n",
       "  <thead>\n",
       "    <tr style=\"text-align: right;\">\n",
       "      <th></th>\n",
       "      <th>store_location</th>\n",
       "      <th>transaction_count</th>\n",
       "    </tr>\n",
       "  </thead>\n",
       "  <tbody>\n",
       "    <tr>\n",
       "      <th>0</th>\n",
       "      <td>Downtown</td>\n",
       "      <td>24</td>\n",
       "    </tr>\n",
       "    <tr>\n",
       "      <th>1</th>\n",
       "      <td>Suburban</td>\n",
       "      <td>26</td>\n",
       "    </tr>\n",
       "    <tr>\n",
       "      <th>2</th>\n",
       "      <td>University</td>\n",
       "      <td>50</td>\n",
       "    </tr>\n",
       "  </tbody>\n",
       "</table>\n",
       "</div>"
      ],
      "text/plain": [
       "  store_location  transaction_count\n",
       "0       Downtown                 24\n",
       "1       Suburban                 26\n",
       "2     University                 50"
      ]
     },
     "metadata": {},
     "output_type": "display_data"
    }
   ],
   "source": [
    "query = \"\"\"\n",
    "SELECT store_location, COUNT(*) as transaction_count\n",
    "FROM transactions\n",
    "GROUP BY store_location;\n",
    "\"\"\"\n",
    "\n",
    "result = run_query(query)\n",
    "display(result)"
   ]
  },
  {
   "cell_type": "markdown",
   "id": "4debc44b",
   "metadata": {},
   "source": [
    " <b>💡 Tip:</b> The GROUP BY clause groups rows that have the same values in specified columns into summary rows."
   ]
  },
  {
   "cell_type": "markdown",
   "id": "b1baeb20",
   "metadata": {},
   "source": [
    "<b>Step 3: Try it yourself:</b> Write a query to find the total sales (sum of sale_price) for each payment method:"
   ]
  },
  {
   "cell_type": "code",
   "execution_count": null,
   "id": "687b187f",
   "metadata": {
    "scrolled": true
   },
   "outputs": [],
   "source": [
    "query = \"\"\"\n",
    "<YOUR CODE HERE>\n",
    "\"\"\"\n",
    "\n",
    "result = run_query(query)\n",
    "display(result)"
   ]
  },
  {
   "cell_type": "markdown",
   "id": "7e05a94c",
   "metadata": {},
   "source": [
    "### Activity 2: Using Multiple Aggregate Functions \n",
    "\n",
    "Often, we need to calculate multiple aggregates for each group. Let's explore how to do this."
   ]
  },
  {
   "cell_type": "markdown",
   "id": "db31bf4d",
   "metadata": {},
   "source": [
    "<b>Step 1:</b> Let's calculate the total sales, average sale price, and number of transactions for each store location:"
   ]
  },
  {
   "cell_type": "code",
   "execution_count": 4,
   "id": "d7bf9e46",
   "metadata": {},
   "outputs": [
    {
     "data": {
      "text/html": [
       "<div>\n",
       "<style scoped>\n",
       "    .dataframe tbody tr th:only-of-type {\n",
       "        vertical-align: middle;\n",
       "    }\n",
       "\n",
       "    .dataframe tbody tr th {\n",
       "        vertical-align: top;\n",
       "    }\n",
       "\n",
       "    .dataframe thead th {\n",
       "        text-align: right;\n",
       "    }\n",
       "</style>\n",
       "<table border=\"1\" class=\"dataframe\">\n",
       "  <thead>\n",
       "    <tr style=\"text-align: right;\">\n",
       "      <th></th>\n",
       "      <th>store_location</th>\n",
       "      <th>total_sales</th>\n",
       "      <th>avg_sale_price</th>\n",
       "      <th>transaction_count</th>\n",
       "    </tr>\n",
       "  </thead>\n",
       "  <tbody>\n",
       "    <tr>\n",
       "      <th>0</th>\n",
       "      <td>Downtown</td>\n",
       "      <td>241.76</td>\n",
       "      <td>10.073333</td>\n",
       "      <td>24</td>\n",
       "    </tr>\n",
       "    <tr>\n",
       "      <th>1</th>\n",
       "      <td>Suburban</td>\n",
       "      <td>286.74</td>\n",
       "      <td>11.028462</td>\n",
       "      <td>26</td>\n",
       "    </tr>\n",
       "    <tr>\n",
       "      <th>2</th>\n",
       "      <td>University</td>\n",
       "      <td>586.50</td>\n",
       "      <td>11.730000</td>\n",
       "      <td>50</td>\n",
       "    </tr>\n",
       "  </tbody>\n",
       "</table>\n",
       "</div>"
      ],
      "text/plain": [
       "  store_location  total_sales  avg_sale_price  transaction_count\n",
       "0       Downtown       241.76       10.073333                 24\n",
       "1       Suburban       286.74       11.028462                 26\n",
       "2     University       586.50       11.730000                 50"
      ]
     },
     "metadata": {},
     "output_type": "display_data"
    }
   ],
   "source": [
    "query = \"\"\"\n",
    "SELECT \n",
    "    store_location,\n",
    "    SUM(sale_price) as total_sales,\n",
    "    AVG(sale_price) as avg_sale_price,\n",
    "    COUNT(*) as transaction_count\n",
    "FROM transactions\n",
    "GROUP BY store_location;\n",
    "\n",
    "\"\"\"\n",
    "\n",
    "result = run_query(query)\n",
    "display(result)"
   ]
  },
  {
   "cell_type": "markdown",
   "id": "ee21e823",
   "metadata": {},
   "source": [
    " <b>💡 Tip:</b> You can use multiple aggregate functions in a single GROUP BY query."
   ]
  },
  {
   "cell_type": "markdown",
   "id": "2322c371",
   "metadata": {},
   "source": [
    "<b>Step 2: Try it yourself:</b> Write a query to find the minimum, maximum, and average sale price for each payment method:"
   ]
  },
  {
   "cell_type": "code",
   "execution_count": null,
   "id": "45cbbdad",
   "metadata": {
    "scrolled": true
   },
   "outputs": [],
   "source": [
    "query = \"\"\"\n",
    "<YOUR CODE HERE>\n",
    "\"\"\"\n",
    "\n",
    "result = run_query(query)\n",
    "display(result)"
   ]
  },
  {
   "cell_type": "markdown",
   "id": "bc90000d",
   "metadata": {},
   "source": [
    "### Activity 3: Filtering Groups with HAVING \n",
    "\n",
    "Sometimes we need to filter groups based on aggregate values. This is where the HAVING clause comes in handy."
   ]
  },
  {
   "cell_type": "markdown",
   "id": "c600ba86",
   "metadata": {},
   "source": [
    "<b>Step 1:</b> Let's find store locations with more than 10 transactions:"
   ]
  },
  {
   "cell_type": "code",
   "execution_count": 5,
   "id": "b5840675",
   "metadata": {},
   "outputs": [
    {
     "data": {
      "text/html": [
       "<div>\n",
       "<style scoped>\n",
       "    .dataframe tbody tr th:only-of-type {\n",
       "        vertical-align: middle;\n",
       "    }\n",
       "\n",
       "    .dataframe tbody tr th {\n",
       "        vertical-align: top;\n",
       "    }\n",
       "\n",
       "    .dataframe thead th {\n",
       "        text-align: right;\n",
       "    }\n",
       "</style>\n",
       "<table border=\"1\" class=\"dataframe\">\n",
       "  <thead>\n",
       "    <tr style=\"text-align: right;\">\n",
       "      <th></th>\n",
       "      <th>store_location</th>\n",
       "      <th>transaction_count</th>\n",
       "    </tr>\n",
       "  </thead>\n",
       "  <tbody>\n",
       "    <tr>\n",
       "      <th>0</th>\n",
       "      <td>Downtown</td>\n",
       "      <td>24</td>\n",
       "    </tr>\n",
       "    <tr>\n",
       "      <th>1</th>\n",
       "      <td>Suburban</td>\n",
       "      <td>26</td>\n",
       "    </tr>\n",
       "    <tr>\n",
       "      <th>2</th>\n",
       "      <td>University</td>\n",
       "      <td>50</td>\n",
       "    </tr>\n",
       "  </tbody>\n",
       "</table>\n",
       "</div>"
      ],
      "text/plain": [
       "  store_location  transaction_count\n",
       "0       Downtown                 24\n",
       "1       Suburban                 26\n",
       "2     University                 50"
      ]
     },
     "metadata": {},
     "output_type": "display_data"
    }
   ],
   "source": [
    "query = \"\"\"\n",
    "SELECT \n",
    "    store_location,\n",
    "    COUNT(*) as transaction_count\n",
    "FROM transactions\n",
    "GROUP BY store_location\n",
    "HAVING transaction_count > 10;\n",
    "\"\"\"\n",
    "\n",
    "result = run_query(query)\n",
    "display(result)"
   ]
  },
  {
   "cell_type": "markdown",
   "id": "68ad8016",
   "metadata": {},
   "source": [
    " <b>💡 Tip:</b> HAVING is used to filter groups, while WHERE filters individual rows before grouping."
   ]
  },
  {
   "cell_type": "markdown",
   "id": "c579cc4c",
   "metadata": {},
   "source": [
    "<b>Step 2: Try it yourself:</b> Write a query to find payment methods with an average sale price greater than $10:"
   ]
  },
  {
   "cell_type": "code",
   "execution_count": null,
   "id": "509666d2",
   "metadata": {
    "scrolled": true
   },
   "outputs": [],
   "source": [
    "query = \"\"\"\n",
    "<YOUR CODE HERE>\n",
    "\"\"\"\n",
    "\n",
    "result = run_query(query)\n",
    "display(result)"
   ]
  },
  {
   "cell_type": "markdown",
   "id": "d94d0828",
   "metadata": {},
   "source": [
    "#### Close the Connection\n",
    "It's good practice to close the database connection when you're done"
   ]
  },
  {
   "cell_type": "code",
   "execution_count": 6,
   "id": "825c45da",
   "metadata": {},
   "outputs": [],
   "source": [
    "# Close the database connection \n",
    "conn.close()"
   ]
  },
  {
   "cell_type": "markdown",
   "id": "051945f2",
   "metadata": {},
   "source": [
    "## ✅ Success Checklist\n",
    "- You can group data using GROUP BY\n",
    "- You can apply multiple aggregate functions in a single query\n",
    "- You can filter grouped data using HAVING\n",
    "- Your queries run without errors\n",
    "\n",
    "\n",
    "## 🔍 Common Issues & Solutions \n",
    "\n",
    "- Problem: Syntax error in GROUP BY clause\n",
    "    - Solution: Ensure all non-aggregated columns in the SELECT statement are included in the GROUP BY clause\n",
    "\n",
    "- Problem: HAVING clause not working as expected \n",
    "    - Solution: Remember that HAVING filters groups after they're formed, while WHERE filters individual rows before grouping\n",
    "\n",
    "## ➡️ Summary\n",
    "Great job completing this lab! You've learned how to group and filter data effectively using SQL, which are crucial skills for any data analyst. Keep practicing these concepts to become more proficient in SQL data analysis.\n",
    "### 🔑 Key Points\n",
    "- GROUP BY is used to group rows with similar values in specified columns\n",
    "- Aggregate functions like SUM, AVG, COUNT can be used with GROUP BY\n",
    "- HAVING is used to filter groups based on aggregate conditions"
   ]
  }
 ],
 "metadata": {
  "kernelspec": {
   "display_name": "Python 3 (ipykernel)",
   "language": "python",
   "name": "python3"
  },
  "language_info": {
   "codemirror_mode": {
    "name": "ipython",
    "version": 3
   },
   "file_extension": ".py",
   "mimetype": "text/x-python",
   "name": "python",
   "nbconvert_exporter": "python",
   "pygments_lexer": "ipython3",
   "version": "3.10.6"
  }
 },
 "nbformat": 4,
 "nbformat_minor": 5
}
