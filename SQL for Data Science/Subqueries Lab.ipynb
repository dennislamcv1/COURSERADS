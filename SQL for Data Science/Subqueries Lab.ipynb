{
 "cells": [
  {
   "cell_type": "markdown",
   "id": "3c40dd95",
   "metadata": {},
   "source": [
    "# Ungraded Lab: Subqueries Lab"
   ]
  },
  {
   "cell_type": "markdown",
   "id": "8b9a3047",
   "metadata": {},
   "source": [
    "## 📋 Overview \n",
    "Welcome to the Subqueries Lab! This hands-on exercise focuses on implementing subqueries with the Bookcycle dataset. As a data analyst at Bookcycle, you'll use subqueries to extract valuable insights from their multi-table database, answering complex business questions that can't be solved with simple queries alone.\n",
    "\n",
    "## 🎯 Learning Outcomes\n",
    "By the end of this lab, you will be able to:\n",
    "- Write subqueries to filter and aggregate data\n",
    "- Use nested queries to solve complex problems\n",
    "- Apply subqueries in WHERE, FROM, and SELECT clauses\n",
    "\n",
    "\n",
    "## 📚 Dataset Information\n",
    "We'll be working with two main tables from the Bookcycle dataset:\n",
    "1. books: Contains information about the books in inventory\n",
    "2. transactions: Records of book sales"
   ]
  },
  {
   "cell_type": "markdown",
   "id": "69197d54",
   "metadata": {},
   "source": [
    "## 🖥️ Activities\n",
    "\n",
    "### Activity 1: Setting Up and Basic Subquery\n",
    "\n",
    "Let's start by setting up our environment and writing a basic subquery to find books that are priced above the average."
   ]
  },
  {
   "cell_type": "markdown",
   "id": "2e073c90",
   "metadata": {},
   "source": [
    "<b>Step 1:</b> Import the necessary libraries and connect to the database:"
   ]
  },
  {
   "cell_type": "code",
   "execution_count": 1,
   "id": "eeff5af9",
   "metadata": {},
   "outputs": [
    {
     "name": "stdout",
     "output_type": "stream",
     "text": [
      "✅ Database setup complete: Tables created and populated with data!\n"
     ]
    }
   ],
   "source": [
    "import sqlite3\n",
    "import pandas as pd\n",
    "\n",
    "# Setting up the database. DO NOT edit the code given below\n",
    "from db_setup import setup_database\n",
    "setup_database() \n",
    "\n",
    "# Connect to the database\n",
    "conn = sqlite3.connect('bookcycle.db')"
   ]
  },
  {
   "cell_type": "markdown",
   "id": "024ee393",
   "metadata": {},
   "source": [
    "<b>Step 2:</b> Write a query, that will be used as a subquery in the next step, to find the average book price:"
   ]
  },
  {
   "cell_type": "code",
   "execution_count": 2,
   "id": "8c32c6c3",
   "metadata": {},
   "outputs": [
    {
     "name": "stdout",
     "output_type": "stream",
     "text": [
      "Average book price: 11.010000000000007\n"
     ]
    }
   ],
   "source": [
    "query = \"\"\"\n",
    "SELECT AVG(list_price) as avg_price\n",
    "FROM books;\n",
    "\"\"\"\n",
    "df = pd.read_sql_query(query, conn)\n",
    "print(\"Average book price:\", df['avg_price'][0])"
   ]
  },
  {
   "cell_type": "markdown",
   "id": "772ca9d8",
   "metadata": {},
   "source": [
    "<b>Step 3:</b> Use the above query, as a subquery, in the WHERE clause to find books priced above average:"
   ]
  },
  {
   "cell_type": "code",
   "execution_count": 3,
   "id": "49fa6b4d",
   "metadata": {},
   "outputs": [
    {
     "data": {
      "text/html": [
       "<div>\n",
       "<style scoped>\n",
       "    .dataframe tbody tr th:only-of-type {\n",
       "        vertical-align: middle;\n",
       "    }\n",
       "\n",
       "    .dataframe tbody tr th {\n",
       "        vertical-align: top;\n",
       "    }\n",
       "\n",
       "    .dataframe thead th {\n",
       "        text-align: right;\n",
       "    }\n",
       "</style>\n",
       "<table border=\"1\" class=\"dataframe\">\n",
       "  <thead>\n",
       "    <tr style=\"text-align: right;\">\n",
       "      <th></th>\n",
       "      <th>title</th>\n",
       "      <th>author</th>\n",
       "      <th>list_price</th>\n",
       "    </tr>\n",
       "  </thead>\n",
       "  <tbody>\n",
       "    <tr>\n",
       "      <th>0</th>\n",
       "      <td>A Farewell to Arms</td>\n",
       "      <td>Ernest Hemingway</td>\n",
       "      <td>11.99</td>\n",
       "    </tr>\n",
       "    <tr>\n",
       "      <th>1</th>\n",
       "      <td>Anna Karenina</td>\n",
       "      <td>Leo Tolstoy</td>\n",
       "      <td>11.99</td>\n",
       "    </tr>\n",
       "    <tr>\n",
       "      <th>2</th>\n",
       "      <td>Anne of Green Gables</td>\n",
       "      <td>L.M. Montgomery</td>\n",
       "      <td>12.99</td>\n",
       "    </tr>\n",
       "    <tr>\n",
       "      <th>3</th>\n",
       "      <td>Brave New World</td>\n",
       "      <td>Aldous Huxley</td>\n",
       "      <td>12.99</td>\n",
       "    </tr>\n",
       "    <tr>\n",
       "      <th>4</th>\n",
       "      <td>Crime and Punishment</td>\n",
       "      <td>Fyodor Dostoevsky</td>\n",
       "      <td>13.99</td>\n",
       "    </tr>\n",
       "  </tbody>\n",
       "</table>\n",
       "</div>"
      ],
      "text/plain": [
       "                  title             author  list_price\n",
       "0    A Farewell to Arms   Ernest Hemingway       11.99\n",
       "1         Anna Karenina        Leo Tolstoy       11.99\n",
       "2  Anne of Green Gables    L.M. Montgomery       12.99\n",
       "3       Brave New World      Aldous Huxley       12.99\n",
       "4  Crime and Punishment  Fyodor Dostoevsky       13.99"
      ]
     },
     "metadata": {},
     "output_type": "display_data"
    }
   ],
   "source": [
    "query = \"\"\"\n",
    "SELECT title, author, list_price\n",
    "FROM books\n",
    "WHERE list_price > (SELECT AVG(list_price) FROM books)\n",
    "LIMIT 5;\n",
    "\"\"\"\n",
    "df = pd.read_sql_query(query, conn)\n",
    "display(df)"
   ]
  },
  {
   "cell_type": "markdown",
   "id": "21cd8664",
   "metadata": {},
   "source": [
    " <b>💡 Tip:</b> Subqueries in the WHERE clause are often used for comparisons against aggregated values."
   ]
  },
  {
   "cell_type": "markdown",
   "id": "eb11dacb",
   "metadata": {},
   "source": [
    "### Activity 2: Subquery in the FROM Clause \n",
    "\n",
    "Let's use a subquery in the FROM clause to analyze high-value transactions."
   ]
  },
  {
   "cell_type": "markdown",
   "id": "93970880",
   "metadata": {},
   "source": [
    "<b>Step 1:</b> Write a query, that will be used as a subquery, to calculate average sale price:"
   ]
  },
  {
   "cell_type": "code",
   "execution_count": 4,
   "id": "e3764ee1",
   "metadata": {},
   "outputs": [
    {
     "name": "stdout",
     "output_type": "stream",
     "text": [
      "Average sale price: 11.150000000000007\n"
     ]
    }
   ],
   "source": [
    "query = \"\"\"\n",
    "SELECT AVG(sale_price) as avg_sale_price\n",
    "FROM transactions;\n",
    "\"\"\"\n",
    "df = pd.read_sql_query(query, conn)\n",
    "print(\"Average sale price:\", df['avg_sale_price'][0])"
   ]
  },
  {
   "cell_type": "markdown",
   "id": "839411bc",
   "metadata": {},
   "source": [
    "<b>Step 2:</b> Use the above query as a subquery in the FROM clause to find high-value transactions:"
   ]
  },
  {
   "cell_type": "code",
   "execution_count": 5,
   "id": "d26daad2",
   "metadata": {},
   "outputs": [
    {
     "data": {
      "text/html": [
       "<div>\n",
       "<style scoped>\n",
       "    .dataframe tbody tr th:only-of-type {\n",
       "        vertical-align: middle;\n",
       "    }\n",
       "\n",
       "    .dataframe tbody tr th {\n",
       "        vertical-align: top;\n",
       "    }\n",
       "\n",
       "    .dataframe thead th {\n",
       "        text-align: right;\n",
       "    }\n",
       "</style>\n",
       "<table border=\"1\" class=\"dataframe\">\n",
       "  <thead>\n",
       "    <tr style=\"text-align: right;\">\n",
       "      <th></th>\n",
       "      <th>transaction_id</th>\n",
       "      <th>book_id</th>\n",
       "      <th>sale_price</th>\n",
       "      <th>store_location</th>\n",
       "    </tr>\n",
       "  </thead>\n",
       "  <tbody>\n",
       "    <tr>\n",
       "      <th>0</th>\n",
       "      <td>T1001</td>\n",
       "      <td>B1055</td>\n",
       "      <td>11.99</td>\n",
       "      <td>University</td>\n",
       "    </tr>\n",
       "    <tr>\n",
       "      <th>1</th>\n",
       "      <td>T1003</td>\n",
       "      <td>B1036</td>\n",
       "      <td>11.99</td>\n",
       "      <td>Suburban</td>\n",
       "    </tr>\n",
       "    <tr>\n",
       "      <th>2</th>\n",
       "      <td>T1004</td>\n",
       "      <td>B1071</td>\n",
       "      <td>13.99</td>\n",
       "      <td>University</td>\n",
       "    </tr>\n",
       "    <tr>\n",
       "      <th>3</th>\n",
       "      <td>T1005</td>\n",
       "      <td>B1075</td>\n",
       "      <td>12.99</td>\n",
       "      <td>University</td>\n",
       "    </tr>\n",
       "    <tr>\n",
       "      <th>4</th>\n",
       "      <td>T1007</td>\n",
       "      <td>B1047</td>\n",
       "      <td>12.99</td>\n",
       "      <td>University</td>\n",
       "    </tr>\n",
       "  </tbody>\n",
       "</table>\n",
       "</div>"
      ],
      "text/plain": [
       "  transaction_id book_id  sale_price store_location\n",
       "0          T1001   B1055       11.99     University\n",
       "1          T1003   B1036       11.99       Suburban\n",
       "2          T1004   B1071       13.99     University\n",
       "3          T1005   B1075       12.99     University\n",
       "4          T1007   B1047       12.99     University"
      ]
     },
     "metadata": {},
     "output_type": "display_data"
    }
   ],
   "source": [
    "query = \"\"\"\n",
    "SELECT t.transaction_id, t.book_id, t.sale_price, t.store_location\n",
    "FROM transactions t\n",
    "JOIN (SELECT AVG(sale_price) as avg_sale_price FROM transactions) avg\n",
    "ON t.sale_price > avg.avg_sale_price\n",
    "LIMIT 5;\n",
    "\"\"\"\n",
    "df = pd.read_sql_query(query, conn)\n",
    "display(df)"
   ]
  },
  {
   "cell_type": "markdown",
   "id": "279578af",
   "metadata": {},
   "source": [
    " <b>💡 Tip:</b> Subqueries in the FROM clause are useful for creating derived tables that you can then join or query further."
   ]
  },
  {
   "cell_type": "markdown",
   "id": "f7be3319",
   "metadata": {},
   "source": [
    "### Activity 3: Correlated Subquery\n",
    "\n",
    "Let's use a correlated subquery to find books that have sold more than the average number of copies for their genre."
   ]
  },
  {
   "cell_type": "markdown",
   "id": "167be319",
   "metadata": {},
   "source": [
    "<b>Step 1:</b> First, let's see the average number of copies sold per genre:"
   ]
  },
  {
   "cell_type": "code",
   "execution_count": null,
   "id": "b12ae23b",
   "metadata": {
    "scrolled": true
   },
   "outputs": [],
   "source": [
    "query = \"\"\"\n",
    "SELECT sales.genre, AVG(sales.count_per_book) AS avg_quantity\n",
    "FROM (\n",
    "    SELECT b.book_id, b.genre, COUNT(t.transaction_id) AS count_per_book\n",
    "    FROM books b\n",
    "    JOIN transactions t ON b.book_id = t.book_id\n",
    "    GROUP BY b.book_id, b.genre\n",
    ") sales\n",
    "GROUP BY sales.genre\n",
    "LIMIT 5;\n",
    "\n",
    "\"\"\"\n",
    "df = pd.read_sql_query(query, conn)\n",
    "display(df)"
   ]
  },
  {
   "cell_type": "markdown",
   "id": "d7e04666",
   "metadata": {},
   "source": [
    "<b>Step 2:</b> Now, use a correlated subquery to find books selling above their genre average:"
   ]
  },
  {
   "cell_type": "code",
   "execution_count": null,
   "id": "1198de7c",
   "metadata": {
    "scrolled": true
   },
   "outputs": [],
   "source": [
    "query = \"\"\"\n",
    "SELECT book_sales.title, book_sales.genre, book_sales.total_sales\n",
    "FROM (\n",
    "    SELECT b.book_id, b.title, b.genre, COUNT(t.transaction_id) AS total_sales\n",
    "    FROM books b\n",
    "    JOIN transactions t ON b.book_id = t.book_id\n",
    "    GROUP BY b.book_id, b.title, b.genre\n",
    ") book_sales\n",
    "JOIN (\n",
    "    SELECT sales.genre, AVG(sales.count_per_book) AS avg_genre_sales\n",
    "    FROM (\n",
    "        SELECT b.book_id, b.genre, COUNT(t.transaction_id) AS count_per_book\n",
    "        FROM books b\n",
    "        JOIN transactions t ON b.book_id = t.book_id\n",
    "        GROUP BY b.book_id, b.genre\n",
    "    ) sales\n",
    "    GROUP BY sales.genre\n",
    ") genre_avg ON book_sales.genre = genre_avg.genre\n",
    "WHERE book_sales.total_sales > genre_avg.avg_genre_sales\n",
    "LIMIT 5;\n",
    "\n",
    "\"\"\"\n",
    "df = pd.read_sql_query(query, conn)\n",
    "display(df)"
   ]
  },
  {
   "cell_type": "markdown",
   "id": "a7260535",
   "metadata": {},
   "source": [
    " <b>💡 Tip:</b> Correlated subqueries are powerful for row-by-row comparisons against aggregated subsets of data."
   ]
  },
  {
   "cell_type": "markdown",
   "id": "93e91d1c",
   "metadata": {},
   "source": [
    "### Close the Connection\n",
    "It's good practice to close the database connection when you're done"
   ]
  },
  {
   "cell_type": "code",
   "execution_count": null,
   "id": "978f37cf",
   "metadata": {},
   "outputs": [],
   "source": [
    "# Close the database connection \n",
    "conn.close()"
   ]
  },
  {
   "cell_type": "markdown",
   "id": "72b1b931",
   "metadata": {},
   "source": [
    "<b>⚙️ Test Your Work:</b> For each query:\n",
    "\n",
    "1. Run the code and ensure it executes without errors\n",
    "2. Check that the output makes sense in the context of BookCycle's business\n",
    "3. Try modifying the LIMIT clause to see more results"
   ]
  },
  {
   "cell_type": "markdown",
   "id": "1013f4dd",
   "metadata": {},
   "source": [
    "## ✅ Success Checklist\n",
    "- You can write a subquery in the WHERE clause\n",
    "- You can use a subquery in the FROM clause\n",
    "- You understand and can write a correlated subquery\n",
    "- Your queries run without errors and produce meaningful results\n",
    "\n",
    "## 🔍 Common Issues & Solutions \n",
    "\n",
    "- Problem: Syntax errors in subqueries \n",
    "  - Solution: Ensure each subquery is properly enclosed in parentheses\n",
    "\n",
    "- Problem: Unexpected results from correlated subqueries  \n",
    "  - Solution: Double-check that your correlated subquery references the outer query correctly\n",
    "\n",
    "## ➡️ Summary\n",
    "\n",
    "Congratulations on mastering subqueries in this lab – you've now expanded your SQL toolkit with powerful nested query techniques, enabling you to tackle complex data analysis tasks and extract deeper insights from the Bookcycle database, skills that will prove invaluable in your role as a data analyst.\n",
    "\n",
    "### 🔑 Key Points\n",
    "- Subqueries can be used in WHERE, FROM, and SELECT clauses\n",
    "- Subqueries in WHERE are often used for filtering against aggregated values\n",
    "- Subqueries in FROM create derived tables for further querying\n",
    "- Correlated subqueries perform row-by-row operations and are powerful for complex comparisons"
   ]
  }
 ],
 "metadata": {
  "kernelspec": {
   "display_name": "Python 3 (ipykernel)",
   "language": "python",
   "name": "python3"
  },
  "language_info": {
   "codemirror_mode": {
    "name": "ipython",
    "version": 3
   },
   "file_extension": ".py",
   "mimetype": "text/x-python",
   "name": "python",
   "nbconvert_exporter": "python",
   "pygments_lexer": "ipython3",
   "version": "3.10.6"
  }
 },
 "nbformat": 4,
 "nbformat_minor": 5
}
