{
 "cells": [
  {
   "cell_type": "markdown",
   "id": "629f33bf",
   "metadata": {},
   "source": [
    "# Ungraded Lab: Join Practice Lab"
   ]
  },
  {
   "cell_type": "markdown",
   "id": "b41a9018",
   "metadata": {},
   "source": [
    "## 📋 Overview \n",
    "Welcome to BookCycle's data analysis team! In this lab, you'll explore advanced SQL techniques by learning how to use JOIN operations to combine data from multiple tables. You'll help BookCycle's management understand the relationships between customers, transactions, and books, providing valuable insights for business decisions.\n",
    "\n",
    "## 🎯 Learning Outcomes\n",
    "By the end of this lab, you will be able to:\n",
    "\n",
    "- Implement INNER JOIN to combine data from two related tables\n",
    "- Use LEFT JOIN to include all records from one table and matching records from another\n",
    "- Write multi-table joins to answer complex business questions\n",
    "- Apply joins to real-world scenarios in a book retail context\n",
    "\n",
    "## 📚 Dataset Information\n",
    "You'll be working with three main tables in the BookCycle database:\n",
    "1. <b>customers:</b> Contains customer information including IDs, join dates, and preferences\n",
    "2. <b>transactions:</b> Records of book purchases, including transaction details and customer IDs\n",
    "3. <b>books:</b> Inventory information about the books, including titles, authors, and prices\n"
   ]
  },
  {
   "cell_type": "markdown",
   "id": "ab983443",
   "metadata": {},
   "source": [
    "## 🖥️ Activities\n",
    "\n",
    "### Activity 1: Understanding INNER JOIN \n",
    "\n",
    "BookCycle wants to analyze customer purchases by combining customer and transaction data."
   ]
  },
  {
   "cell_type": "markdown",
   "id": "86e171a5",
   "metadata": {},
   "source": [
    "<b>Step 1:</b> Import the necessary libraries and connect to the database:"
   ]
  },
  {
   "cell_type": "code",
   "execution_count": 1,
   "id": "90892f54",
   "metadata": {},
   "outputs": [
    {
     "name": "stdout",
     "output_type": "stream",
     "text": [
      "✅ Database setup complete: Tables created and populated with data!\n"
     ]
    }
   ],
   "source": [
    "import sqlite3\n",
    "import pandas as pd\n",
    "\n",
    "# Setting up the database. DO NOT edit the code given below\n",
    "from db_setup import setup_database\n",
    "setup_database() "
   ]
  },
  {
   "cell_type": "code",
   "execution_count": 2,
   "id": "64718f5d",
   "metadata": {},
   "outputs": [],
   "source": [
    "# Connect to the SQLite database\n",
    "conn = sqlite3.connect('bookcycle.db')"
   ]
  },
  {
   "cell_type": "markdown",
   "id": "ac4fa77f",
   "metadata": {},
   "source": [
    "<b>Step 2:</b> Let's start with a simple INNER JOIN to get customer names along with their transaction details:"
   ]
  },
  {
   "cell_type": "code",
   "execution_count": 3,
   "id": "8853a3bd",
   "metadata": {},
   "outputs": [
    {
     "data": {
      "text/html": [
       "<div>\n",
       "<style scoped>\n",
       "    .dataframe tbody tr th:only-of-type {\n",
       "        vertical-align: middle;\n",
       "    }\n",
       "\n",
       "    .dataframe tbody tr th {\n",
       "        vertical-align: top;\n",
       "    }\n",
       "\n",
       "    .dataframe thead th {\n",
       "        text-align: right;\n",
       "    }\n",
       "</style>\n",
       "<table border=\"1\" class=\"dataframe\">\n",
       "  <thead>\n",
       "    <tr style=\"text-align: right;\">\n",
       "      <th></th>\n",
       "      <th>customer_id</th>\n",
       "      <th>join_date</th>\n",
       "      <th>transaction_id</th>\n",
       "      <th>date_time</th>\n",
       "      <th>sale_price</th>\n",
       "    </tr>\n",
       "  </thead>\n",
       "  <tbody>\n",
       "    <tr>\n",
       "      <th>0</th>\n",
       "      <td>C1012</td>\n",
       "      <td>2022-01-19</td>\n",
       "      <td>T1004</td>\n",
       "      <td>2023-01-15 11:30:15</td>\n",
       "      <td>13.99</td>\n",
       "    </tr>\n",
       "    <tr>\n",
       "      <th>1</th>\n",
       "      <td>C1012</td>\n",
       "      <td>2022-01-19</td>\n",
       "      <td>T1011</td>\n",
       "      <td>2023-01-16 11:30:22</td>\n",
       "      <td>10.99</td>\n",
       "    </tr>\n",
       "    <tr>\n",
       "      <th>2</th>\n",
       "      <td>C1012</td>\n",
       "      <td>2022-01-19</td>\n",
       "      <td>T1016</td>\n",
       "      <td>2023-01-17 09:30:22</td>\n",
       "      <td>12.99</td>\n",
       "    </tr>\n",
       "    <tr>\n",
       "      <th>3</th>\n",
       "      <td>C1012</td>\n",
       "      <td>2022-01-19</td>\n",
       "      <td>T1024</td>\n",
       "      <td>2023-01-18 10:35:12</td>\n",
       "      <td>10.99</td>\n",
       "    </tr>\n",
       "    <tr>\n",
       "      <th>4</th>\n",
       "      <td>C1012</td>\n",
       "      <td>2022-01-19</td>\n",
       "      <td>T1030</td>\n",
       "      <td>2023-01-19 09:15:48</td>\n",
       "      <td>8.99</td>\n",
       "    </tr>\n",
       "  </tbody>\n",
       "</table>\n",
       "</div>"
      ],
      "text/plain": [
       "  customer_id   join_date transaction_id            date_time  sale_price\n",
       "0       C1012  2022-01-19          T1004  2023-01-15 11:30:15       13.99\n",
       "1       C1012  2022-01-19          T1011  2023-01-16 11:30:22       10.99\n",
       "2       C1012  2022-01-19          T1016  2023-01-17 09:30:22       12.99\n",
       "3       C1012  2022-01-19          T1024  2023-01-18 10:35:12       10.99\n",
       "4       C1012  2022-01-19          T1030  2023-01-19 09:15:48        8.99"
      ]
     },
     "metadata": {},
     "output_type": "display_data"
    }
   ],
   "source": [
    "query = \"\"\"\n",
    "SELECT c.customer_id, c.join_date, t.transaction_id, t.date_time, t.sale_price\n",
    "FROM customers c\n",
    "INNER JOIN transactions t ON c.customer_id = t.customer_id\n",
    "LIMIT 5;\n",
    "\"\"\"\n",
    "\n",
    "df = pd.read_sql_query(query, conn)\n",
    "display(df)"
   ]
  },
  {
   "cell_type": "markdown",
   "id": "b1baeb20",
   "metadata": {},
   "source": [
    "<b>Step 3: Try it yourself:</b> Write a query to get the customer's preferred store along with their transaction details:"
   ]
  },
  {
   "cell_type": "code",
   "execution_count": null,
   "id": "687b187f",
   "metadata": {
    "scrolled": true
   },
   "outputs": [],
   "source": [
    "query = \"\"\"\n",
    "<YOUR CODE HERE>\n",
    "\"\"\"\n",
    "\n",
    "df = pd.read_sql_query(query, conn)\n",
    "display(df)"
   ]
  },
  {
   "cell_type": "markdown",
   "id": "e33283d5",
   "metadata": {},
   "source": [
    " <b>💡 Tip:</b> Remember to include the new column in your SELECT statement and keep the join condition the same."
   ]
  },
  {
   "cell_type": "markdown",
   "id": "7e05a94c",
   "metadata": {},
   "source": [
    "### Activity 2: Exploring LEFT JOIN\n",
    "\n",
    "BookCycle wants to identify customers who haven't made any purchases yet."
   ]
  },
  {
   "cell_type": "markdown",
   "id": "db31bf4d",
   "metadata": {},
   "source": [
    "<b>Step 1:</b> Here's an example of a LEFT JOIN to get all customers and their transactions (if any):"
   ]
  },
  {
   "cell_type": "code",
   "execution_count": 4,
   "id": "d7bf9e46",
   "metadata": {},
   "outputs": [
    {
     "data": {
      "text/html": [
       "<div>\n",
       "<style scoped>\n",
       "    .dataframe tbody tr th:only-of-type {\n",
       "        vertical-align: middle;\n",
       "    }\n",
       "\n",
       "    .dataframe tbody tr th {\n",
       "        vertical-align: top;\n",
       "    }\n",
       "\n",
       "    .dataframe thead th {\n",
       "        text-align: right;\n",
       "    }\n",
       "</style>\n",
       "<table border=\"1\" class=\"dataframe\">\n",
       "  <thead>\n",
       "    <tr style=\"text-align: right;\">\n",
       "      <th></th>\n",
       "      <th>customer_id</th>\n",
       "      <th>join_date</th>\n",
       "      <th>transaction_id</th>\n",
       "    </tr>\n",
       "  </thead>\n",
       "  <tbody>\n",
       "    <tr>\n",
       "      <th>0</th>\n",
       "      <td>C1001</td>\n",
       "      <td>2022-01-15</td>\n",
       "      <td>None</td>\n",
       "    </tr>\n",
       "    <tr>\n",
       "      <th>1</th>\n",
       "      <td>C1002</td>\n",
       "      <td>2022-01-15</td>\n",
       "      <td>None</td>\n",
       "    </tr>\n",
       "    <tr>\n",
       "      <th>2</th>\n",
       "      <td>C1003</td>\n",
       "      <td>2022-01-16</td>\n",
       "      <td>None</td>\n",
       "    </tr>\n",
       "    <tr>\n",
       "      <th>3</th>\n",
       "      <td>C1004</td>\n",
       "      <td>2022-01-16</td>\n",
       "      <td>None</td>\n",
       "    </tr>\n",
       "    <tr>\n",
       "      <th>4</th>\n",
       "      <td>C1005</td>\n",
       "      <td>2022-01-16</td>\n",
       "      <td>None</td>\n",
       "    </tr>\n",
       "    <tr>\n",
       "      <th>5</th>\n",
       "      <td>C1006</td>\n",
       "      <td>2022-01-17</td>\n",
       "      <td>None</td>\n",
       "    </tr>\n",
       "    <tr>\n",
       "      <th>6</th>\n",
       "      <td>C1007</td>\n",
       "      <td>2022-01-17</td>\n",
       "      <td>None</td>\n",
       "    </tr>\n",
       "    <tr>\n",
       "      <th>7</th>\n",
       "      <td>C1008</td>\n",
       "      <td>2022-01-17</td>\n",
       "      <td>None</td>\n",
       "    </tr>\n",
       "    <tr>\n",
       "      <th>8</th>\n",
       "      <td>C1009</td>\n",
       "      <td>2022-01-18</td>\n",
       "      <td>None</td>\n",
       "    </tr>\n",
       "    <tr>\n",
       "      <th>9</th>\n",
       "      <td>C1010</td>\n",
       "      <td>2022-01-18</td>\n",
       "      <td>None</td>\n",
       "    </tr>\n",
       "  </tbody>\n",
       "</table>\n",
       "</div>"
      ],
      "text/plain": [
       "  customer_id   join_date transaction_id\n",
       "0       C1001  2022-01-15           None\n",
       "1       C1002  2022-01-15           None\n",
       "2       C1003  2022-01-16           None\n",
       "3       C1004  2022-01-16           None\n",
       "4       C1005  2022-01-16           None\n",
       "5       C1006  2022-01-17           None\n",
       "6       C1007  2022-01-17           None\n",
       "7       C1008  2022-01-17           None\n",
       "8       C1009  2022-01-18           None\n",
       "9       C1010  2022-01-18           None"
      ]
     },
     "metadata": {},
     "output_type": "display_data"
    }
   ],
   "source": [
    "query = \"\"\"\n",
    "SELECT c.customer_id, c.join_date, t.transaction_id\n",
    "FROM customers c\n",
    "LEFT JOIN transactions t ON c.customer_id = t.customer_id\n",
    "LIMIT 10;\n",
    "\"\"\"\n",
    "\n",
    "df = pd.read_sql_query(query, conn)\n",
    "display(df)"
   ]
  },
  {
   "cell_type": "markdown",
   "id": "2322c371",
   "metadata": {},
   "source": [
    "<b>Step 2: Try it yourself:</b> Write a query to find customers who haven't made any purchases:"
   ]
  },
  {
   "cell_type": "code",
   "execution_count": null,
   "id": "45cbbdad",
   "metadata": {
    "scrolled": true
   },
   "outputs": [],
   "source": [
    "query = \"\"\"\n",
    "<YOUR CODE HERE>\n",
    "\"\"\"\n",
    "\n",
    "df = pd.read_sql_query(query, conn)\n",
    "display(df)"
   ]
  },
  {
   "cell_type": "markdown",
   "id": "e16b8565",
   "metadata": {},
   "source": [
    " <b>💡 Tip:</b> Use a WHERE clause to filter for NULL transaction_id values."
   ]
  },
  {
   "cell_type": "markdown",
   "id": "bc90000d",
   "metadata": {},
   "source": [
    "### Activity 3: Multi-table Joins \n",
    "\n",
    "BookCycle wants to analyze which books are popular in different store locations."
   ]
  },
  {
   "cell_type": "markdown",
   "id": "c600ba86",
   "metadata": {},
   "source": [
    "<b>Step 1:</b> Here's an example of joining three tables to get customer, transaction, and book information:"
   ]
  },
  {
   "cell_type": "code",
   "execution_count": 5,
   "id": "b5840675",
   "metadata": {},
   "outputs": [
    {
     "data": {
      "text/html": [
       "<div>\n",
       "<style scoped>\n",
       "    .dataframe tbody tr th:only-of-type {\n",
       "        vertical-align: middle;\n",
       "    }\n",
       "\n",
       "    .dataframe tbody tr th {\n",
       "        vertical-align: top;\n",
       "    }\n",
       "\n",
       "    .dataframe thead th {\n",
       "        text-align: right;\n",
       "    }\n",
       "</style>\n",
       "<table border=\"1\" class=\"dataframe\">\n",
       "  <thead>\n",
       "    <tr style=\"text-align: right;\">\n",
       "      <th></th>\n",
       "      <th>store_location</th>\n",
       "      <th>title</th>\n",
       "      <th>purchase_count</th>\n",
       "    </tr>\n",
       "  </thead>\n",
       "  <tbody>\n",
       "    <tr>\n",
       "      <th>0</th>\n",
       "      <td>Downtown</td>\n",
       "      <td>A Christmas Carol</td>\n",
       "      <td>4</td>\n",
       "    </tr>\n",
       "    <tr>\n",
       "      <th>1</th>\n",
       "      <td>Downtown</td>\n",
       "      <td>A Tale of Two Cities</td>\n",
       "      <td>4</td>\n",
       "    </tr>\n",
       "    <tr>\n",
       "      <th>2</th>\n",
       "      <td>Downtown</td>\n",
       "      <td>Jane Eyre</td>\n",
       "      <td>4</td>\n",
       "    </tr>\n",
       "    <tr>\n",
       "      <th>3</th>\n",
       "      <td>Downtown</td>\n",
       "      <td>Persuasion</td>\n",
       "      <td>2</td>\n",
       "    </tr>\n",
       "    <tr>\n",
       "      <th>4</th>\n",
       "      <td>Downtown</td>\n",
       "      <td>Sense and Sensibility</td>\n",
       "      <td>3</td>\n",
       "    </tr>\n",
       "  </tbody>\n",
       "</table>\n",
       "</div>"
      ],
      "text/plain": [
       "  store_location                  title  purchase_count\n",
       "0       Downtown      A Christmas Carol               4\n",
       "1       Downtown   A Tale of Two Cities               4\n",
       "2       Downtown              Jane Eyre               4\n",
       "3       Downtown             Persuasion               2\n",
       "4       Downtown  Sense and Sensibility               3"
      ]
     },
     "metadata": {},
     "output_type": "display_data"
    }
   ],
   "source": [
    "query = \"\"\"\n",
    "SELECT t.store_location, b.title, COUNT(*) as purchase_count\n",
    "FROM customers c\n",
    "JOIN transactions t ON c.customer_id = t.customer_id\n",
    "JOIN books b ON t.book_id = b.book_id\n",
    "GROUP BY t.store_location, b.title\n",
    "LIMIT 5;\n",
    "\"\"\"\n",
    "\n",
    "df = pd.read_sql_query(query, conn)\n",
    "display(df)"
   ]
  },
  {
   "cell_type": "markdown",
   "id": "c579cc4c",
   "metadata": {},
   "source": [
    "<b>Step 2:</b> Write a query to find the most popular book (by purchase count) for each store location:"
   ]
  },
  {
   "cell_type": "code",
   "execution_count": 6,
   "id": "509666d2",
   "metadata": {
    "scrolled": true
   },
   "outputs": [
    {
     "data": {
      "text/html": [
       "<div>\n",
       "<style scoped>\n",
       "    .dataframe tbody tr th:only-of-type {\n",
       "        vertical-align: middle;\n",
       "    }\n",
       "\n",
       "    .dataframe tbody tr th {\n",
       "        vertical-align: top;\n",
       "    }\n",
       "\n",
       "    .dataframe thead th {\n",
       "        text-align: right;\n",
       "    }\n",
       "</style>\n",
       "<table border=\"1\" class=\"dataframe\">\n",
       "  <thead>\n",
       "    <tr style=\"text-align: right;\">\n",
       "      <th></th>\n",
       "      <th>store_location</th>\n",
       "      <th>title</th>\n",
       "      <th>purchase_count</th>\n",
       "    </tr>\n",
       "  </thead>\n",
       "  <tbody>\n",
       "    <tr>\n",
       "      <th>0</th>\n",
       "      <td>Downtown</td>\n",
       "      <td>A Christmas Carol</td>\n",
       "      <td>4</td>\n",
       "    </tr>\n",
       "    <tr>\n",
       "      <th>1</th>\n",
       "      <td>Downtown</td>\n",
       "      <td>A Tale of Two Cities</td>\n",
       "      <td>4</td>\n",
       "    </tr>\n",
       "    <tr>\n",
       "      <th>2</th>\n",
       "      <td>Downtown</td>\n",
       "      <td>Jane Eyre</td>\n",
       "      <td>4</td>\n",
       "    </tr>\n",
       "    <tr>\n",
       "      <th>3</th>\n",
       "      <td>Suburban</td>\n",
       "      <td>The Wind in the Willows</td>\n",
       "      <td>5</td>\n",
       "    </tr>\n",
       "    <tr>\n",
       "      <th>4</th>\n",
       "      <td>University</td>\n",
       "      <td>The Catcher in the Rye</td>\n",
       "      <td>5</td>\n",
       "    </tr>\n",
       "    <tr>\n",
       "      <th>5</th>\n",
       "      <td>University</td>\n",
       "      <td>The Scarlet Letter</td>\n",
       "      <td>5</td>\n",
       "    </tr>\n",
       "  </tbody>\n",
       "</table>\n",
       "</div>"
      ],
      "text/plain": [
       "  store_location                    title  purchase_count\n",
       "0       Downtown        A Christmas Carol               4\n",
       "1       Downtown     A Tale of Two Cities               4\n",
       "2       Downtown                Jane Eyre               4\n",
       "3       Suburban  The Wind in the Willows               5\n",
       "4     University   The Catcher in the Rye               5\n",
       "5     University       The Scarlet Letter               5"
      ]
     },
     "metadata": {},
     "output_type": "display_data"
    }
   ],
   "source": [
    "query = \"\"\"\n",
    "SELECT rb.store_location, rb.title, rb.purchase_count\n",
    "FROM (\n",
    "    SELECT \n",
    "        t.store_location, \n",
    "        b.title, \n",
    "        COUNT(*) AS purchase_count\n",
    "    FROM customers c\n",
    "    JOIN transactions t ON c.customer_id = t.customer_id\n",
    "    JOIN books b ON t.book_id = b.book_id\n",
    "    GROUP BY t.store_location, b.title\n",
    ") AS rb\n",
    "WHERE rb.purchase_count = (\n",
    "    -- Get the max purchase count for each store_location\n",
    "    SELECT MAX(sub.purchase_count)\n",
    "    FROM (\n",
    "        SELECT \n",
    "            t2.store_location, \n",
    "            b2.title, \n",
    "            COUNT(*) AS purchase_count\n",
    "        FROM customers c2\n",
    "        JOIN transactions t2 ON c2.customer_id = t2.customer_id\n",
    "        JOIN books b2 ON t2.book_id = b2.book_id\n",
    "        GROUP BY t2.store_location, b2.title\n",
    "    ) AS sub\n",
    "    WHERE sub.store_location = rb.store_location\n",
    ")\n",
    "ORDER BY rb.store_location, rb.title;\n",
    "\n",
    "\"\"\"\n",
    "\n",
    "df = pd.read_sql_query(query, conn)\n",
    "display(df)"
   ]
  },
  {
   "cell_type": "markdown",
   "id": "170a65dd",
   "metadata": {},
   "source": [
    "<b>💡 Tip:</b> Here you are using GROUP BY, ORDER BY, and a subquery, which you will learn more about in upcoming modules. "
   ]
  },
  {
   "cell_type": "markdown",
   "id": "d94d0828",
   "metadata": {},
   "source": [
    "#### Close the Connection\n",
    "It's good practice to close the database connection when you're done"
   ]
  },
  {
   "cell_type": "code",
   "execution_count": 7,
   "id": "825c45da",
   "metadata": {},
   "outputs": [],
   "source": [
    "# Close the database connection \n",
    "conn.close()"
   ]
  },
  {
   "cell_type": "markdown",
   "id": "051945f2",
   "metadata": {},
   "source": [
    "## ✅ Success Checklist\n",
    "- Successfully implemented INNER JOIN to combine customer and transaction data\n",
    "- Used LEFT JOIN to identify customers without purchases\n",
    "- Created a multi-table join to analyze book popularity by store location\n",
    "- All queries run without errors and produce meaningful results\n",
    "\n",
    "## 🔍 Common Issues & Solutions \n",
    "\n",
    "- Problem: Join returning unexpected number of rows\n",
    "    - Solution: Double-check your join conditions and ensure you're not creating unintended Cartesian products\n",
    "\n",
    "- Problem: Column ambiguity errors \n",
    "    - Solution: Always qualify column names with table aliases when joining tables\n",
    "\n",
    "## ➡️ Summary\n",
    "Great job completing this lab on SQL joins! You've gained valuable skills in combining data from multiple tables, which is crucial for comprehensive data analysis in real-world scenarios.\n",
    "\n",
    "### 🔑 Key Points\n",
    "- INNER JOIN combines rows from two tables based on a matching condition\n",
    "- LEFT JOIN returns all rows from the left table and matching rows from the right table\n",
    "- Multi-table joins allow for complex analyses across various data entities"
   ]
  }
 ],
 "metadata": {
  "kernelspec": {
   "display_name": "Python 3 (ipykernel)",
   "language": "python",
   "name": "python3"
  },
  "language_info": {
   "codemirror_mode": {
    "name": "ipython",
    "version": 3
   },
   "file_extension": ".py",
   "mimetype": "text/x-python",
   "name": "python",
   "nbconvert_exporter": "python",
   "pygments_lexer": "ipython3",
   "version": "3.10.6"
  }
 },
 "nbformat": 4,
 "nbformat_minor": 5
}
