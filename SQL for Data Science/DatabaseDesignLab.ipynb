{
 "cells": [
  {
   "cell_type": "markdown",
   "id": "629f33bf",
   "metadata": {},
   "source": [
    "# Ungraded Lab: Database Design Lab"
   ]
  },
  {
   "cell_type": "markdown",
   "id": "b41a9018",
   "metadata": {},
   "source": [
    "## 📋 Overview \n",
    "Welcome to the Database Design Lab! In this hands-on session, you'll step into the role of a database administrator for BookCycle, our fictional used bookstore chain. Your mission is to design and implement a small but robust database schema that will help BookCycle manage its inventory, sales, and customer data efficiently.<br>\n",
    "\n",
    "By the end of this lab, you'll have created a well-structured database schema with proper constraints and indexes, ensuring data integrity and optimizing query performance. This experience will give you practical insights into real-world database design challenges and solutions.\n",
    "\n",
    "\n",
    "## 🎯 Learning Outcomes\n",
    "By the end of this lab, you will be able to:\n",
    "\n",
    "- Design and implement a relational database schema for a real-world scenario\n",
    "- Create tables with appropriate primary keys, foreign keys, and constraints\n",
    "- Implement indexes to improve query performance\n",
    "- Use SQL to define and modify database structures\n",
    "\n",
    "\n",
    "## 📚 Dataset Information\n",
    "We'll be working with the following datasets for BookCycle:\n",
    "- <b>books.csv:</b> Contains information about the books in inventory\n",
    "- <b>transactions.csv:</b> Records of book sales transactions\n",
    "\n",
    "We’ll be creating the following datasets for BookCycle:\n",
    "- <b>suppliers.csv:</b> Information about book suppliers\n",
    "- <b>wishlists.csv:</b> Customer wishlists for future purchases"
   ]
  },
  {
   "cell_type": "markdown",
   "id": "ab983443",
   "metadata": {},
   "source": [
    "## 🖥️ Activities\n",
    "\n",
    "### Activity 1: Connecting to the Database and Exploring Existing Tables\n",
    "\n",
    "Let's start by connecting to the BookCycle database and examining its current structure."
   ]
  },
  {
   "cell_type": "markdown",
   "id": "86e171a5",
   "metadata": {},
   "source": [
    "<b>Step 1:</b> Import necessary libraries and establish a database connection:"
   ]
  },
  {
   "cell_type": "code",
   "execution_count": 1,
   "id": "90892f54",
   "metadata": {},
   "outputs": [
    {
     "name": "stdout",
     "output_type": "stream",
     "text": [
      "✅ Database setup complete: Tables created and populated with data!\n"
     ]
    }
   ],
   "source": [
    "import sqlite3\n",
    "import pandas as pd\n",
    "\n",
    "# Setting up the database\n",
    "from db_setup_2 import setup_database\n",
    "setup_database() \n",
    "\n",
    "# Connect to the BookCycle database\n",
    "conn = sqlite3.connect('bookcycle.db')\n",
    "cursor = conn.cursor()\n",
    "\n",
    "# Function to execute SQL queries and display results\n",
    "def execute_query(query):\n",
    "    df = pd.read_sql_query(query, conn)\n",
    "    display(df)"
   ]
  },
  {
   "cell_type": "markdown",
   "id": "ac4fa77f",
   "metadata": {},
   "source": [
    "<b>Step 2:</b> Explore the existing tables in the database:"
   ]
  },
  {
   "cell_type": "code",
   "execution_count": 2,
   "id": "8853a3bd",
   "metadata": {},
   "outputs": [
    {
     "data": {
      "text/html": [
       "<div>\n",
       "<style scoped>\n",
       "    .dataframe tbody tr th:only-of-type {\n",
       "        vertical-align: middle;\n",
       "    }\n",
       "\n",
       "    .dataframe tbody tr th {\n",
       "        vertical-align: top;\n",
       "    }\n",
       "\n",
       "    .dataframe thead th {\n",
       "        text-align: right;\n",
       "    }\n",
       "</style>\n",
       "<table border=\"1\" class=\"dataframe\">\n",
       "  <thead>\n",
       "    <tr style=\"text-align: right;\">\n",
       "      <th></th>\n",
       "      <th>name</th>\n",
       "    </tr>\n",
       "  </thead>\n",
       "  <tbody>\n",
       "    <tr>\n",
       "      <th>0</th>\n",
       "      <td>books</td>\n",
       "    </tr>\n",
       "    <tr>\n",
       "      <th>1</th>\n",
       "      <td>customers</td>\n",
       "    </tr>\n",
       "    <tr>\n",
       "      <th>2</th>\n",
       "      <td>transactions</td>\n",
       "    </tr>\n",
       "  </tbody>\n",
       "</table>\n",
       "</div>"
      ],
      "text/plain": [
       "           name\n",
       "0         books\n",
       "1     customers\n",
       "2  transactions"
      ]
     },
     "metadata": {},
     "output_type": "display_data"
    }
   ],
   "source": [
    "query = \"\"\"\n",
    "SELECT name FROM sqlite_master WHERE type='table';\n",
    "\"\"\"\n",
    "execute_query(query)\n"
   ]
  },
  {
   "cell_type": "markdown",
   "id": "b1baeb20",
   "metadata": {},
   "source": [
    "<b>Step 3:</b> Examine the structure of the 'books' table:"
   ]
  },
  {
   "cell_type": "code",
   "execution_count": 3,
   "id": "687b187f",
   "metadata": {
    "scrolled": true
   },
   "outputs": [
    {
     "data": {
      "text/html": [
       "<div>\n",
       "<style scoped>\n",
       "    .dataframe tbody tr th:only-of-type {\n",
       "        vertical-align: middle;\n",
       "    }\n",
       "\n",
       "    .dataframe tbody tr th {\n",
       "        vertical-align: top;\n",
       "    }\n",
       "\n",
       "    .dataframe thead th {\n",
       "        text-align: right;\n",
       "    }\n",
       "</style>\n",
       "<table border=\"1\" class=\"dataframe\">\n",
       "  <thead>\n",
       "    <tr style=\"text-align: right;\">\n",
       "      <th></th>\n",
       "      <th>cid</th>\n",
       "      <th>name</th>\n",
       "      <th>type</th>\n",
       "      <th>notnull</th>\n",
       "      <th>dflt_value</th>\n",
       "      <th>pk</th>\n",
       "    </tr>\n",
       "  </thead>\n",
       "  <tbody>\n",
       "    <tr>\n",
       "      <th>0</th>\n",
       "      <td>0</td>\n",
       "      <td>book_id</td>\n",
       "      <td>TEXT</td>\n",
       "      <td>0</td>\n",
       "      <td>None</td>\n",
       "      <td>0</td>\n",
       "    </tr>\n",
       "    <tr>\n",
       "      <th>1</th>\n",
       "      <td>1</td>\n",
       "      <td>title</td>\n",
       "      <td>TEXT</td>\n",
       "      <td>0</td>\n",
       "      <td>None</td>\n",
       "      <td>0</td>\n",
       "    </tr>\n",
       "    <tr>\n",
       "      <th>2</th>\n",
       "      <td>2</td>\n",
       "      <td>author</td>\n",
       "      <td>TEXT</td>\n",
       "      <td>0</td>\n",
       "      <td>None</td>\n",
       "      <td>0</td>\n",
       "    </tr>\n",
       "    <tr>\n",
       "      <th>3</th>\n",
       "      <td>3</td>\n",
       "      <td>isbn</td>\n",
       "      <td>INTEGER</td>\n",
       "      <td>0</td>\n",
       "      <td>None</td>\n",
       "      <td>0</td>\n",
       "    </tr>\n",
       "    <tr>\n",
       "      <th>4</th>\n",
       "      <td>4</td>\n",
       "      <td>genre</td>\n",
       "      <td>TEXT</td>\n",
       "      <td>0</td>\n",
       "      <td>None</td>\n",
       "      <td>0</td>\n",
       "    </tr>\n",
       "    <tr>\n",
       "      <th>5</th>\n",
       "      <td>5</td>\n",
       "      <td>condition</td>\n",
       "      <td>TEXT</td>\n",
       "      <td>0</td>\n",
       "      <td>None</td>\n",
       "      <td>0</td>\n",
       "    </tr>\n",
       "    <tr>\n",
       "      <th>6</th>\n",
       "      <td>6</td>\n",
       "      <td>purchase_price</td>\n",
       "      <td>REAL</td>\n",
       "      <td>0</td>\n",
       "      <td>None</td>\n",
       "      <td>0</td>\n",
       "    </tr>\n",
       "    <tr>\n",
       "      <th>7</th>\n",
       "      <td>7</td>\n",
       "      <td>list_price</td>\n",
       "      <td>REAL</td>\n",
       "      <td>0</td>\n",
       "      <td>None</td>\n",
       "      <td>0</td>\n",
       "    </tr>\n",
       "    <tr>\n",
       "      <th>8</th>\n",
       "      <td>8</td>\n",
       "      <td>date_acquired</td>\n",
       "      <td>TEXT</td>\n",
       "      <td>0</td>\n",
       "      <td>None</td>\n",
       "      <td>0</td>\n",
       "    </tr>\n",
       "    <tr>\n",
       "      <th>9</th>\n",
       "      <td>9</td>\n",
       "      <td>current_location</td>\n",
       "      <td>TEXT</td>\n",
       "      <td>0</td>\n",
       "      <td>None</td>\n",
       "      <td>0</td>\n",
       "    </tr>\n",
       "    <tr>\n",
       "      <th>10</th>\n",
       "      <td>10</td>\n",
       "      <td>quantity</td>\n",
       "      <td>INTEGER</td>\n",
       "      <td>0</td>\n",
       "      <td>None</td>\n",
       "      <td>0</td>\n",
       "    </tr>\n",
       "  </tbody>\n",
       "</table>\n",
       "</div>"
      ],
      "text/plain": [
       "    cid              name     type  notnull dflt_value  pk\n",
       "0     0           book_id     TEXT        0       None   0\n",
       "1     1             title     TEXT        0       None   0\n",
       "2     2            author     TEXT        0       None   0\n",
       "3     3              isbn  INTEGER        0       None   0\n",
       "4     4             genre     TEXT        0       None   0\n",
       "5     5         condition     TEXT        0       None   0\n",
       "6     6    purchase_price     REAL        0       None   0\n",
       "7     7        list_price     REAL        0       None   0\n",
       "8     8     date_acquired     TEXT        0       None   0\n",
       "9     9  current_location     TEXT        0       None   0\n",
       "10   10          quantity  INTEGER        0       None   0"
      ]
     },
     "metadata": {},
     "output_type": "display_data"
    }
   ],
   "source": [
    "query = \"\"\"\n",
    "PRAGMA table_info(books);\n",
    "\"\"\"\n",
    "execute_query(query)\n"
   ]
  },
  {
   "cell_type": "markdown",
   "id": "55ec48de",
   "metadata": {},
   "source": [
    "<b>💡 Tip:</b> The PRAGMA table_info() command is specific to SQLite and provides information about table columns, including their names, types, and constraints."
   ]
  },
  {
   "cell_type": "markdown",
   "id": "7e05a94c",
   "metadata": {},
   "source": [
    "### Activity 2: Creating the Suppliers Table \n",
    "\n",
    "Now, let's create a new table to store information about BookCycle's suppliers."
   ]
  },
  {
   "cell_type": "markdown",
   "id": "db31bf4d",
   "metadata": {},
   "source": [
    "<b>Step 1:</b> Design the suppliers table schema:\n",
    "```\n",
    "CREATE TABLE IF NOT EXISTS suppliers (\n",
    "    supplier_id INTEGER PRIMARY KEY,\n",
    "    name TEXT NOT NULL,\n",
    "    contact_info TEXT,\n",
    "    address TEXT\n",
    ");\n",
    "```"
   ]
  },
  {
   "cell_type": "markdown",
   "id": "a6c17710",
   "metadata": {},
   "source": [
    "<b>Step 2:</b> Execute the CREATE TABLE statement:\n"
   ]
  },
  {
   "cell_type": "code",
   "execution_count": 4,
   "id": "d7bf9e46",
   "metadata": {},
   "outputs": [],
   "source": [
    "cursor.execute(\"\"\"\n",
    "CREATE TABLE IF NOT EXISTS suppliers (\n",
    "    supplier_id INTEGER PRIMARY KEY,\n",
    "    name TEXT NOT NULL,\n",
    "    contact_info TEXT,\n",
    "    address TEXT\n",
    ");\n",
    "\"\"\")\n",
    "conn.commit()\n"
   ]
  },
  {
   "cell_type": "markdown",
   "id": "2322c371",
   "metadata": {},
   "source": [
    "<b>Step 3:</b> Verify the table creation:"
   ]
  },
  {
   "cell_type": "code",
   "execution_count": 5,
   "id": "45cbbdad",
   "metadata": {
    "scrolled": true
   },
   "outputs": [
    {
     "data": {
      "text/html": [
       "<div>\n",
       "<style scoped>\n",
       "    .dataframe tbody tr th:only-of-type {\n",
       "        vertical-align: middle;\n",
       "    }\n",
       "\n",
       "    .dataframe tbody tr th {\n",
       "        vertical-align: top;\n",
       "    }\n",
       "\n",
       "    .dataframe thead th {\n",
       "        text-align: right;\n",
       "    }\n",
       "</style>\n",
       "<table border=\"1\" class=\"dataframe\">\n",
       "  <thead>\n",
       "    <tr style=\"text-align: right;\">\n",
       "      <th></th>\n",
       "      <th>cid</th>\n",
       "      <th>name</th>\n",
       "      <th>type</th>\n",
       "      <th>notnull</th>\n",
       "      <th>dflt_value</th>\n",
       "      <th>pk</th>\n",
       "    </tr>\n",
       "  </thead>\n",
       "  <tbody>\n",
       "    <tr>\n",
       "      <th>0</th>\n",
       "      <td>0</td>\n",
       "      <td>supplier_id</td>\n",
       "      <td>INTEGER</td>\n",
       "      <td>0</td>\n",
       "      <td>None</td>\n",
       "      <td>1</td>\n",
       "    </tr>\n",
       "    <tr>\n",
       "      <th>1</th>\n",
       "      <td>1</td>\n",
       "      <td>name</td>\n",
       "      <td>TEXT</td>\n",
       "      <td>1</td>\n",
       "      <td>None</td>\n",
       "      <td>0</td>\n",
       "    </tr>\n",
       "    <tr>\n",
       "      <th>2</th>\n",
       "      <td>2</td>\n",
       "      <td>contact_info</td>\n",
       "      <td>TEXT</td>\n",
       "      <td>0</td>\n",
       "      <td>None</td>\n",
       "      <td>0</td>\n",
       "    </tr>\n",
       "    <tr>\n",
       "      <th>3</th>\n",
       "      <td>3</td>\n",
       "      <td>address</td>\n",
       "      <td>TEXT</td>\n",
       "      <td>0</td>\n",
       "      <td>None</td>\n",
       "      <td>0</td>\n",
       "    </tr>\n",
       "  </tbody>\n",
       "</table>\n",
       "</div>"
      ],
      "text/plain": [
       "   cid          name     type  notnull dflt_value  pk\n",
       "0    0   supplier_id  INTEGER        0       None   1\n",
       "1    1          name     TEXT        1       None   0\n",
       "2    2  contact_info     TEXT        0       None   0\n",
       "3    3       address     TEXT        0       None   0"
      ]
     },
     "metadata": {},
     "output_type": "display_data"
    }
   ],
   "source": [
    "query = \"\"\"\n",
    "PRAGMA table_info(suppliers);\n",
    "\"\"\"\n",
    "execute_query(query)\n"
   ]
  },
  {
   "cell_type": "markdown",
   "id": "06c04ee7",
   "metadata": {},
   "source": [
    "<b>💡 Tip:</b> Always use IF NOT EXISTS when creating tables to avoid errors if the table already exists."
   ]
  },
  {
   "cell_type": "markdown",
   "id": "bc90000d",
   "metadata": {},
   "source": [
    "### Activity 3: Adding Foreign Key Constraints\n",
    "\n",
    "Let's add a foreign key to the 'books' table to establish a relationship with the 'suppliers' table."
   ]
  },
  {
   "cell_type": "markdown",
   "id": "c600ba86",
   "metadata": {},
   "source": [
    "<b>Step 1:</b> First, let's examine the current <b>books</b> table structure:"
   ]
  },
  {
   "cell_type": "code",
   "execution_count": 6,
   "id": "b5840675",
   "metadata": {},
   "outputs": [
    {
     "data": {
      "text/html": [
       "<div>\n",
       "<style scoped>\n",
       "    .dataframe tbody tr th:only-of-type {\n",
       "        vertical-align: middle;\n",
       "    }\n",
       "\n",
       "    .dataframe tbody tr th {\n",
       "        vertical-align: top;\n",
       "    }\n",
       "\n",
       "    .dataframe thead th {\n",
       "        text-align: right;\n",
       "    }\n",
       "</style>\n",
       "<table border=\"1\" class=\"dataframe\">\n",
       "  <thead>\n",
       "    <tr style=\"text-align: right;\">\n",
       "      <th></th>\n",
       "      <th>cid</th>\n",
       "      <th>name</th>\n",
       "      <th>type</th>\n",
       "      <th>notnull</th>\n",
       "      <th>dflt_value</th>\n",
       "      <th>pk</th>\n",
       "    </tr>\n",
       "  </thead>\n",
       "  <tbody>\n",
       "    <tr>\n",
       "      <th>0</th>\n",
       "      <td>0</td>\n",
       "      <td>book_id</td>\n",
       "      <td>TEXT</td>\n",
       "      <td>0</td>\n",
       "      <td>None</td>\n",
       "      <td>0</td>\n",
       "    </tr>\n",
       "    <tr>\n",
       "      <th>1</th>\n",
       "      <td>1</td>\n",
       "      <td>title</td>\n",
       "      <td>TEXT</td>\n",
       "      <td>0</td>\n",
       "      <td>None</td>\n",
       "      <td>0</td>\n",
       "    </tr>\n",
       "    <tr>\n",
       "      <th>2</th>\n",
       "      <td>2</td>\n",
       "      <td>author</td>\n",
       "      <td>TEXT</td>\n",
       "      <td>0</td>\n",
       "      <td>None</td>\n",
       "      <td>0</td>\n",
       "    </tr>\n",
       "    <tr>\n",
       "      <th>3</th>\n",
       "      <td>3</td>\n",
       "      <td>isbn</td>\n",
       "      <td>INTEGER</td>\n",
       "      <td>0</td>\n",
       "      <td>None</td>\n",
       "      <td>0</td>\n",
       "    </tr>\n",
       "    <tr>\n",
       "      <th>4</th>\n",
       "      <td>4</td>\n",
       "      <td>genre</td>\n",
       "      <td>TEXT</td>\n",
       "      <td>0</td>\n",
       "      <td>None</td>\n",
       "      <td>0</td>\n",
       "    </tr>\n",
       "    <tr>\n",
       "      <th>5</th>\n",
       "      <td>5</td>\n",
       "      <td>condition</td>\n",
       "      <td>TEXT</td>\n",
       "      <td>0</td>\n",
       "      <td>None</td>\n",
       "      <td>0</td>\n",
       "    </tr>\n",
       "    <tr>\n",
       "      <th>6</th>\n",
       "      <td>6</td>\n",
       "      <td>purchase_price</td>\n",
       "      <td>REAL</td>\n",
       "      <td>0</td>\n",
       "      <td>None</td>\n",
       "      <td>0</td>\n",
       "    </tr>\n",
       "    <tr>\n",
       "      <th>7</th>\n",
       "      <td>7</td>\n",
       "      <td>list_price</td>\n",
       "      <td>REAL</td>\n",
       "      <td>0</td>\n",
       "      <td>None</td>\n",
       "      <td>0</td>\n",
       "    </tr>\n",
       "    <tr>\n",
       "      <th>8</th>\n",
       "      <td>8</td>\n",
       "      <td>date_acquired</td>\n",
       "      <td>TEXT</td>\n",
       "      <td>0</td>\n",
       "      <td>None</td>\n",
       "      <td>0</td>\n",
       "    </tr>\n",
       "    <tr>\n",
       "      <th>9</th>\n",
       "      <td>9</td>\n",
       "      <td>current_location</td>\n",
       "      <td>TEXT</td>\n",
       "      <td>0</td>\n",
       "      <td>None</td>\n",
       "      <td>0</td>\n",
       "    </tr>\n",
       "    <tr>\n",
       "      <th>10</th>\n",
       "      <td>10</td>\n",
       "      <td>quantity</td>\n",
       "      <td>INTEGER</td>\n",
       "      <td>0</td>\n",
       "      <td>None</td>\n",
       "      <td>0</td>\n",
       "    </tr>\n",
       "  </tbody>\n",
       "</table>\n",
       "</div>"
      ],
      "text/plain": [
       "    cid              name     type  notnull dflt_value  pk\n",
       "0     0           book_id     TEXT        0       None   0\n",
       "1     1             title     TEXT        0       None   0\n",
       "2     2            author     TEXT        0       None   0\n",
       "3     3              isbn  INTEGER        0       None   0\n",
       "4     4             genre     TEXT        0       None   0\n",
       "5     5         condition     TEXT        0       None   0\n",
       "6     6    purchase_price     REAL        0       None   0\n",
       "7     7        list_price     REAL        0       None   0\n",
       "8     8     date_acquired     TEXT        0       None   0\n",
       "9     9  current_location     TEXT        0       None   0\n",
       "10   10          quantity  INTEGER        0       None   0"
      ]
     },
     "metadata": {},
     "output_type": "display_data"
    }
   ],
   "source": [
    "query = \"\"\"\n",
    "PRAGMA table_info(books);\n",
    "\"\"\"\n",
    "execute_query(query)\n"
   ]
  },
  {
   "cell_type": "markdown",
   "id": "c579cc4c",
   "metadata": {},
   "source": [
    "<b>Step 2:</b> Now, let's add a <b>supplier_id</b> column to the <b>books</b> table:"
   ]
  },
  {
   "cell_type": "code",
   "execution_count": 7,
   "id": "509666d2",
   "metadata": {
    "scrolled": true
   },
   "outputs": [],
   "source": [
    "cursor.execute(\"\"\"\n",
    "ALTER TABLE books ADD COLUMN supplier_id INTEGER;\n",
    "\"\"\")\n",
    "conn.commit()"
   ]
  },
  {
   "cell_type": "markdown",
   "id": "67ea01bf",
   "metadata": {},
   "source": [
    "<b>Step 3:</b> Add a foreign key constraint:\n"
   ]
  },
  {
   "cell_type": "code",
   "execution_count": 8,
   "id": "283a221c",
   "metadata": {},
   "outputs": [],
   "source": [
    "cursor.execute(\"CREATE TABLE IF NOT EXISTS books_temp AS SELECT * FROM books\");\n",
    "cursor.execute(\"DROP TABLE books\");\n",
    "\n",
    "cursor.execute(\"\"\"\n",
    "CREATE TABLE books (\n",
    "    book_id TEXT PRIMARY KEY,\n",
    "    title TEXT NOT NULL,\n",
    "    author TEXT NOT NULL,\n",
    "    isbn INTEGER,\n",
    "    genre TEXT,\n",
    "    condition TEXT,\n",
    "    purchase_price REAL,\n",
    "    list_price REAL,\n",
    "    date_acquired TEXT,\n",
    "    current_location TEXT,\n",
    "    quantity INTEGER,\n",
    "    supplier_id INTEGER,\n",
    "    FOREIGN KEY (supplier_id) REFERENCES suppliers(supplier_id)\n",
    "    )\n",
    "\"\"\");\n",
    "\n",
    "\n",
    "cursor.execute(\"INSERT INTO books SELECT * FROM books_temp\");\n",
    "\n",
    "cursor.execute(\"DROP TABLE books_temp\");\n",
    "conn.commit()"
   ]
  },
  {
   "cell_type": "markdown",
   "id": "908040f4",
   "metadata": {},
   "source": [
    "<b>💡 Tip:</b> In SQLite, adding a foreign key constraint requires recreating the table. In other database systems, you might be able to add the constraint directly with an ALTER TABLE statement."
   ]
  },
  {
   "cell_type": "markdown",
   "id": "51739104",
   "metadata": {},
   "source": [
    "<b>Step 4:</b> Verify the new table structure:"
   ]
  },
  {
   "cell_type": "code",
   "execution_count": 9,
   "id": "a92283e5",
   "metadata": {},
   "outputs": [
    {
     "data": {
      "text/html": [
       "<div>\n",
       "<style scoped>\n",
       "    .dataframe tbody tr th:only-of-type {\n",
       "        vertical-align: middle;\n",
       "    }\n",
       "\n",
       "    .dataframe tbody tr th {\n",
       "        vertical-align: top;\n",
       "    }\n",
       "\n",
       "    .dataframe thead th {\n",
       "        text-align: right;\n",
       "    }\n",
       "</style>\n",
       "<table border=\"1\" class=\"dataframe\">\n",
       "  <thead>\n",
       "    <tr style=\"text-align: right;\">\n",
       "      <th></th>\n",
       "      <th>cid</th>\n",
       "      <th>name</th>\n",
       "      <th>type</th>\n",
       "      <th>notnull</th>\n",
       "      <th>dflt_value</th>\n",
       "      <th>pk</th>\n",
       "    </tr>\n",
       "  </thead>\n",
       "  <tbody>\n",
       "    <tr>\n",
       "      <th>0</th>\n",
       "      <td>0</td>\n",
       "      <td>book_id</td>\n",
       "      <td>TEXT</td>\n",
       "      <td>0</td>\n",
       "      <td>None</td>\n",
       "      <td>1</td>\n",
       "    </tr>\n",
       "    <tr>\n",
       "      <th>1</th>\n",
       "      <td>1</td>\n",
       "      <td>title</td>\n",
       "      <td>TEXT</td>\n",
       "      <td>1</td>\n",
       "      <td>None</td>\n",
       "      <td>0</td>\n",
       "    </tr>\n",
       "    <tr>\n",
       "      <th>2</th>\n",
       "      <td>2</td>\n",
       "      <td>author</td>\n",
       "      <td>TEXT</td>\n",
       "      <td>1</td>\n",
       "      <td>None</td>\n",
       "      <td>0</td>\n",
       "    </tr>\n",
       "    <tr>\n",
       "      <th>3</th>\n",
       "      <td>3</td>\n",
       "      <td>isbn</td>\n",
       "      <td>INTEGER</td>\n",
       "      <td>0</td>\n",
       "      <td>None</td>\n",
       "      <td>0</td>\n",
       "    </tr>\n",
       "    <tr>\n",
       "      <th>4</th>\n",
       "      <td>4</td>\n",
       "      <td>genre</td>\n",
       "      <td>TEXT</td>\n",
       "      <td>0</td>\n",
       "      <td>None</td>\n",
       "      <td>0</td>\n",
       "    </tr>\n",
       "    <tr>\n",
       "      <th>5</th>\n",
       "      <td>5</td>\n",
       "      <td>condition</td>\n",
       "      <td>TEXT</td>\n",
       "      <td>0</td>\n",
       "      <td>None</td>\n",
       "      <td>0</td>\n",
       "    </tr>\n",
       "    <tr>\n",
       "      <th>6</th>\n",
       "      <td>6</td>\n",
       "      <td>purchase_price</td>\n",
       "      <td>REAL</td>\n",
       "      <td>0</td>\n",
       "      <td>None</td>\n",
       "      <td>0</td>\n",
       "    </tr>\n",
       "    <tr>\n",
       "      <th>7</th>\n",
       "      <td>7</td>\n",
       "      <td>list_price</td>\n",
       "      <td>REAL</td>\n",
       "      <td>0</td>\n",
       "      <td>None</td>\n",
       "      <td>0</td>\n",
       "    </tr>\n",
       "    <tr>\n",
       "      <th>8</th>\n",
       "      <td>8</td>\n",
       "      <td>date_acquired</td>\n",
       "      <td>TEXT</td>\n",
       "      <td>0</td>\n",
       "      <td>None</td>\n",
       "      <td>0</td>\n",
       "    </tr>\n",
       "    <tr>\n",
       "      <th>9</th>\n",
       "      <td>9</td>\n",
       "      <td>current_location</td>\n",
       "      <td>TEXT</td>\n",
       "      <td>0</td>\n",
       "      <td>None</td>\n",
       "      <td>0</td>\n",
       "    </tr>\n",
       "    <tr>\n",
       "      <th>10</th>\n",
       "      <td>10</td>\n",
       "      <td>quantity</td>\n",
       "      <td>INTEGER</td>\n",
       "      <td>0</td>\n",
       "      <td>None</td>\n",
       "      <td>0</td>\n",
       "    </tr>\n",
       "    <tr>\n",
       "      <th>11</th>\n",
       "      <td>11</td>\n",
       "      <td>supplier_id</td>\n",
       "      <td>INTEGER</td>\n",
       "      <td>0</td>\n",
       "      <td>None</td>\n",
       "      <td>0</td>\n",
       "    </tr>\n",
       "  </tbody>\n",
       "</table>\n",
       "</div>"
      ],
      "text/plain": [
       "    cid              name     type  notnull dflt_value  pk\n",
       "0     0           book_id     TEXT        0       None   1\n",
       "1     1             title     TEXT        1       None   0\n",
       "2     2            author     TEXT        1       None   0\n",
       "3     3              isbn  INTEGER        0       None   0\n",
       "4     4             genre     TEXT        0       None   0\n",
       "5     5         condition     TEXT        0       None   0\n",
       "6     6    purchase_price     REAL        0       None   0\n",
       "7     7        list_price     REAL        0       None   0\n",
       "8     8     date_acquired     TEXT        0       None   0\n",
       "9     9  current_location     TEXT        0       None   0\n",
       "10   10          quantity  INTEGER        0       None   0\n",
       "11   11       supplier_id  INTEGER        0       None   0"
      ]
     },
     "metadata": {},
     "output_type": "display_data"
    }
   ],
   "source": [
    "query = \"\"\"\n",
    "PRAGMA table_info(books);\n",
    "\"\"\"\n",
    "execute_query(query)\n"
   ]
  },
  {
   "cell_type": "markdown",
   "id": "8efbe44d",
   "metadata": {},
   "source": [
    "### Activity 4: Creating Indexes for Performance \n",
    "\n",
    "To improve query performance, let's add some indexes to our tables."
   ]
  },
  {
   "cell_type": "markdown",
   "id": "0fbc63db",
   "metadata": {},
   "source": [
    "<b>Step 1:</b>  Create an index on the 'isbn' column of the 'books' table:"
   ]
  },
  {
   "cell_type": "code",
   "execution_count": 10,
   "id": "1e6150c9",
   "metadata": {},
   "outputs": [],
   "source": [
    "cursor.execute(\"\"\"\n",
    "CREATE INDEX idx_books_isbn ON books(isbn);\n",
    "\"\"\")\n",
    "\n",
    "conn.commit()"
   ]
  },
  {
   "cell_type": "markdown",
   "id": "2d134bd6",
   "metadata": {},
   "source": [
    "<b>Step 2:</b> Create a compound index, an index that includes multiple columns, helping optimize queries that filter or sort by those columns together, on 'author' and 'title' columns:\n"
   ]
  },
  {
   "cell_type": "code",
   "execution_count": 11,
   "id": "bda398c6",
   "metadata": {},
   "outputs": [],
   "source": [
    "cursor.execute(\"\"\"\n",
    "CREATE INDEX idx_books_author_title ON books(author, title);\n",
    "\"\"\")\n",
    "conn.commit()"
   ]
  },
  {
   "cell_type": "markdown",
   "id": "cad558c0",
   "metadata": {},
   "source": [
    "<b>Step 3:</b>  Verify the created indexes:"
   ]
  },
  {
   "cell_type": "code",
   "execution_count": 12,
   "id": "581375bf",
   "metadata": {},
   "outputs": [
    {
     "data": {
      "text/html": [
       "<div>\n",
       "<style scoped>\n",
       "    .dataframe tbody tr th:only-of-type {\n",
       "        vertical-align: middle;\n",
       "    }\n",
       "\n",
       "    .dataframe tbody tr th {\n",
       "        vertical-align: top;\n",
       "    }\n",
       "\n",
       "    .dataframe thead th {\n",
       "        text-align: right;\n",
       "    }\n",
       "</style>\n",
       "<table border=\"1\" class=\"dataframe\">\n",
       "  <thead>\n",
       "    <tr style=\"text-align: right;\">\n",
       "      <th></th>\n",
       "      <th>name</th>\n",
       "    </tr>\n",
       "  </thead>\n",
       "  <tbody>\n",
       "    <tr>\n",
       "      <th>0</th>\n",
       "      <td>sqlite_autoindex_books_1</td>\n",
       "    </tr>\n",
       "    <tr>\n",
       "      <th>1</th>\n",
       "      <td>idx_books_isbn</td>\n",
       "    </tr>\n",
       "    <tr>\n",
       "      <th>2</th>\n",
       "      <td>idx_books_author_title</td>\n",
       "    </tr>\n",
       "  </tbody>\n",
       "</table>\n",
       "</div>"
      ],
      "text/plain": [
       "                       name\n",
       "0  sqlite_autoindex_books_1\n",
       "1            idx_books_isbn\n",
       "2    idx_books_author_title"
      ]
     },
     "metadata": {},
     "output_type": "display_data"
    }
   ],
   "source": [
    "query = \"\"\"\n",
    "SELECT name FROM sqlite_master WHERE type='index' AND tbl_name='books';\n",
    "\"\"\"\n",
    "execute_query(query)\n"
   ]
  },
  {
   "cell_type": "markdown",
   "id": "948c788d",
   "metadata": {},
   "source": [
    "<b>💡 Tip:</b> Indexes can significantly improve query performance, but they also take up space and slow down data modifications. Choose your indexes wisely based on your most common queries."
   ]
  },
  {
   "cell_type": "markdown",
   "id": "af76ccb7",
   "metadata": {},
   "source": [
    "### Activity 5: Creating the Wishlists Table\n",
    "Finally, let's create a table to store customer wishlists.\n",
    "\n",
    "<b>Step 1:</b> Design and create the wishlists table:"
   ]
  },
  {
   "cell_type": "code",
   "execution_count": 13,
   "id": "617a4926",
   "metadata": {},
   "outputs": [],
   "source": [
    "cursor.execute(\"\"\"\n",
    "CREATE TABLE IF NOT EXISTS wishlists (\n",
    "    wishlist_id INTEGER PRIMARY KEY,\n",
    "    customer_id INTEGER,\n",
    "    book_id INTEGER,\n",
    "    date_added DATE,\n",
    "    FOREIGN KEY (customer_id) REFERENCES customers(customer_id),\n",
    "    FOREIGN KEY (book_id) REFERENCES books(book_id)\n",
    ");\n",
    "\"\"\")\n",
    "conn.commit()"
   ]
  },
  {
   "cell_type": "markdown",
   "id": "23309ee2",
   "metadata": {},
   "source": [
    "<b>Step 2:</b> Verify the table creation:"
   ]
  },
  {
   "cell_type": "code",
   "execution_count": 14,
   "id": "7dce5b67",
   "metadata": {},
   "outputs": [
    {
     "data": {
      "text/html": [
       "<div>\n",
       "<style scoped>\n",
       "    .dataframe tbody tr th:only-of-type {\n",
       "        vertical-align: middle;\n",
       "    }\n",
       "\n",
       "    .dataframe tbody tr th {\n",
       "        vertical-align: top;\n",
       "    }\n",
       "\n",
       "    .dataframe thead th {\n",
       "        text-align: right;\n",
       "    }\n",
       "</style>\n",
       "<table border=\"1\" class=\"dataframe\">\n",
       "  <thead>\n",
       "    <tr style=\"text-align: right;\">\n",
       "      <th></th>\n",
       "      <th>cid</th>\n",
       "      <th>name</th>\n",
       "      <th>type</th>\n",
       "      <th>notnull</th>\n",
       "      <th>dflt_value</th>\n",
       "      <th>pk</th>\n",
       "    </tr>\n",
       "  </thead>\n",
       "  <tbody>\n",
       "    <tr>\n",
       "      <th>0</th>\n",
       "      <td>0</td>\n",
       "      <td>wishlist_id</td>\n",
       "      <td>INTEGER</td>\n",
       "      <td>0</td>\n",
       "      <td>None</td>\n",
       "      <td>1</td>\n",
       "    </tr>\n",
       "    <tr>\n",
       "      <th>1</th>\n",
       "      <td>1</td>\n",
       "      <td>customer_id</td>\n",
       "      <td>INTEGER</td>\n",
       "      <td>0</td>\n",
       "      <td>None</td>\n",
       "      <td>0</td>\n",
       "    </tr>\n",
       "    <tr>\n",
       "      <th>2</th>\n",
       "      <td>2</td>\n",
       "      <td>book_id</td>\n",
       "      <td>INTEGER</td>\n",
       "      <td>0</td>\n",
       "      <td>None</td>\n",
       "      <td>0</td>\n",
       "    </tr>\n",
       "    <tr>\n",
       "      <th>3</th>\n",
       "      <td>3</td>\n",
       "      <td>date_added</td>\n",
       "      <td>DATE</td>\n",
       "      <td>0</td>\n",
       "      <td>None</td>\n",
       "      <td>0</td>\n",
       "    </tr>\n",
       "  </tbody>\n",
       "</table>\n",
       "</div>"
      ],
      "text/plain": [
       "   cid         name     type  notnull dflt_value  pk\n",
       "0    0  wishlist_id  INTEGER        0       None   1\n",
       "1    1  customer_id  INTEGER        0       None   0\n",
       "2    2      book_id  INTEGER        0       None   0\n",
       "3    3   date_added     DATE        0       None   0"
      ]
     },
     "metadata": {},
     "output_type": "display_data"
    }
   ],
   "source": [
    "query = \"\"\"\n",
    "PRAGMA table_info(wishlists);\n",
    "\"\"\"\n",
    "execute_query(query)\n"
   ]
  },
  {
   "cell_type": "markdown",
   "id": "d94d0828",
   "metadata": {},
   "source": [
    "#### Close the Connection\n",
    "It's good practice to close the database connection when you're done"
   ]
  },
  {
   "cell_type": "code",
   "execution_count": 15,
   "id": "bda01fd0",
   "metadata": {},
   "outputs": [],
   "source": [
    "# Close the database connection \n",
    "# Here, we are dropping these tables for a streamlined lab experience. \n",
    "# In real-world, its not always necessary to drop table once your analysis is complete\n",
    "cursor.execute(\"DROP TABLE wishlists\");\n",
    "cursor.execute(\"DROP TABLE suppliers\");\n",
    "\n",
    "conn.commit()\n",
    "conn.close()"
   ]
  },
  {
   "cell_type": "markdown",
   "id": "051945f2",
   "metadata": {},
   "source": [
    "### ⚙️ Test Your Work:\n",
    "1. Try inserting a sample record into the suppliers table\n",
    "2. Attempt to insert a book with a non-existent supplier_id\n",
    "3. Query the books table using the newly created indexes\n",
    "\n",
    "## ✅ Success Checklist\n",
    "- Created suppliers table with appropriate columns and constraints\n",
    "- Added foreign key constraint to books table linking to suppliers\n",
    "- Created indexes on the books table for improved query performance\n",
    "- Created wishlists table with appropriate foreign key constraints\n",
    "- Verified all table structures and relationships\n",
    "\n",
    "\n",
    "## 🔍 Common Issues & Solutions \n",
    "\n",
    "- Problem: Error when adding foreign key constraint \n",
    "    - Solution: Ensure that the referenced table (suppliers) exists and has a matching primary key column\n",
    "\n",
    "- Problem: Index creation fails \n",
    "    - Solution: Check for typos in table or column names, and ensure the table exists\n",
    "\n",
    "\n",
    "## ➡️ Summary\n",
    "Congratulations on completing the Database Design Lab! You've successfully designed and implemented a functional database schema for BookCycle, demonstrating your ability to translate real-world business requirements into an efficient and well-structured database. This hands-on experience in creating tables, establishing relationships, and optimizing performance will serve as a solid foundation for your future database design projects.\n",
    "\n",
    "### 🔑 Key Points\n",
    "- Proper schema design is crucial for data integrity and query performance\n",
    "- Foreign key constraints help maintain relationships between tables\n",
    "- Indexes can significantly improve query performance for frequently accessed data\n",
    "- Always consider the trade-offs when adding indexes (improved read performance vs. slower write operations)\n"
   ]
  }
 ],
 "metadata": {
  "kernelspec": {
   "display_name": "Python 3 (ipykernel)",
   "language": "python",
   "name": "python3"
  },
  "language_info": {
   "codemirror_mode": {
    "name": "ipython",
    "version": 3
   },
   "file_extension": ".py",
   "mimetype": "text/x-python",
   "name": "python",
   "nbconvert_exporter": "python",
   "pygments_lexer": "ipython3",
   "version": "3.10.6"
  }
 },
 "nbformat": 4,
 "nbformat_minor": 5
}
