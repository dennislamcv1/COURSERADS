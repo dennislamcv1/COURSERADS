{
 "cells": [
  {
   "cell_type": "markdown",
   "id": "3c40dd95",
   "metadata": {},
   "source": [
    "# Ungraded Lab:  AI-Assisted Query Optimization"
   ]
  },
  {
   "cell_type": "markdown",
   "id": "8b9a3047",
   "metadata": {},
   "source": [
    "## 📋 Overview \n",
    "In this lab, you'll explore how to leverage AI tools to optimize SQL queries for improved performance. As a data analyst at BookCycle, you'll use AI suggestions to enhance query efficiency, focusing on  query restructuring. This hands-on experience will help you understand how AI can be a powerful ally in query optimization.\n",
    "\n",
    "## 🎯 Learning Outcomes\n",
    "By the end of this lab, you will be able to:\n",
    "- Use AI tools to analyze SQL queries for potential optimizations\n",
    "- Interpret AI suggestions for query restructuring and indexing\n",
    "- Implement AI-recommended optimizations to improve query performance\n",
    "\n",
    "## 📚 Dataset Information\n",
    "We'll be working with the BookCycle database, which includes information about books, customers, and transactions. The database contains three main tables:\n",
    "1. <b>books:</b> Contains information about the book inventory\n",
    "2. <b>customers:</b> Stores customer data\n",
    "3. <b>transactions:</b> Records all book purchase transactions"
   ]
  },
  {
   "cell_type": "markdown",
   "id": "69197d54",
   "metadata": {},
   "source": [
    "## 🖥️ Activities\n",
    "\n",
    "### Activity 1: Connecting to the Database and Initial Query \n",
    "\n",
    "As a data analyst at BookCycle, you need to retrieve information about high-value customers and their purchases. Let's start by connecting to the database and writing an initial query."
   ]
  },
  {
   "cell_type": "markdown",
   "id": "2e073c90",
   "metadata": {},
   "source": [
    "<b>Step 1:</b> Import the necessary libraries and connect to the database:"
   ]
  },
  {
   "cell_type": "code",
   "execution_count": 1,
   "id": "eeff5af9",
   "metadata": {},
   "outputs": [
    {
     "name": "stdout",
     "output_type": "stream",
     "text": [
      "✅ Database setup complete: Tables created and populated with data!\n"
     ]
    }
   ],
   "source": [
    "import sqlite3\n",
    "import pandas as pd\n",
    "\n",
    "# Setting up the database. DO NOT edit the code given below\n",
    "from db_setup import setup_database\n",
    "setup_database() \n",
    "\n",
    "# Connect to the database\n",
    "conn = sqlite3.connect('bookcycle.db')"
   ]
  },
  {
   "cell_type": "markdown",
   "id": "024ee393",
   "metadata": {},
   "source": [
    "<b>Step 2:</b> Write an initial query to get high-value customers and their purchases:"
   ]
  },
  {
   "cell_type": "code",
   "execution_count": 2,
   "id": "8c32c6c3",
   "metadata": {},
   "outputs": [
    {
     "data": {
      "text/html": [
       "<div>\n",
       "<style scoped>\n",
       "    .dataframe tbody tr th:only-of-type {\n",
       "        vertical-align: middle;\n",
       "    }\n",
       "\n",
       "    .dataframe tbody tr th {\n",
       "        vertical-align: top;\n",
       "    }\n",
       "\n",
       "    .dataframe thead th {\n",
       "        text-align: right;\n",
       "    }\n",
       "</style>\n",
       "<table border=\"1\" class=\"dataframe\">\n",
       "  <thead>\n",
       "    <tr style=\"text-align: right;\">\n",
       "      <th></th>\n",
       "      <th>customer_id</th>\n",
       "      <th>purchase_count</th>\n",
       "      <th>total_spent</th>\n",
       "    </tr>\n",
       "  </thead>\n",
       "  <tbody>\n",
       "    <tr>\n",
       "      <th>0</th>\n",
       "      <td>C1023</td>\n",
       "      <td>13</td>\n",
       "      <td>155.87</td>\n",
       "    </tr>\n",
       "    <tr>\n",
       "      <th>1</th>\n",
       "      <td>C1089</td>\n",
       "      <td>13</td>\n",
       "      <td>154.87</td>\n",
       "    </tr>\n",
       "    <tr>\n",
       "      <th>2</th>\n",
       "      <td>C1012</td>\n",
       "      <td>14</td>\n",
       "      <td>153.86</td>\n",
       "    </tr>\n",
       "    <tr>\n",
       "      <th>3</th>\n",
       "      <td>C1034</td>\n",
       "      <td>13</td>\n",
       "      <td>146.87</td>\n",
       "    </tr>\n",
       "    <tr>\n",
       "      <th>4</th>\n",
       "      <td>C1045</td>\n",
       "      <td>12</td>\n",
       "      <td>136.88</td>\n",
       "    </tr>\n",
       "    <tr>\n",
       "      <th>5</th>\n",
       "      <td>C1078</td>\n",
       "      <td>12</td>\n",
       "      <td>132.88</td>\n",
       "    </tr>\n",
       "    <tr>\n",
       "      <th>6</th>\n",
       "      <td>C1067</td>\n",
       "      <td>12</td>\n",
       "      <td>119.88</td>\n",
       "    </tr>\n",
       "    <tr>\n",
       "      <th>7</th>\n",
       "      <td>C1056</td>\n",
       "      <td>11</td>\n",
       "      <td>113.89</td>\n",
       "    </tr>\n",
       "  </tbody>\n",
       "</table>\n",
       "</div>"
      ],
      "text/plain": [
       "  customer_id  purchase_count  total_spent\n",
       "0       C1023              13       155.87\n",
       "1       C1089              13       154.87\n",
       "2       C1012              14       153.86\n",
       "3       C1034              13       146.87\n",
       "4       C1045              12       136.88\n",
       "5       C1078              12       132.88\n",
       "6       C1067              12       119.88\n",
       "7       C1056              11       113.89"
      ]
     },
     "metadata": {},
     "output_type": "display_data"
    }
   ],
   "source": [
    "query = \"\"\"\n",
    "SELECT c.customer_id, COUNT(t.transaction_id) as purchase_count, SUM(t.sale_price) as total_spent\n",
    "FROM customers c\n",
    "JOIN transactions t ON c.customer_id = t.customer_id\n",
    "GROUP BY c.customer_id\n",
    "HAVING COUNT(t.transaction_id) > 5\n",
    "ORDER BY total_spent DESC\n",
    "LIMIT 10;\n",
    "\"\"\"\n",
    "\n",
    "# Execute the query and display results\n",
    "df = pd.read_sql_query(query, conn)\n",
    "display(df)"
   ]
  },
  {
   "cell_type": "markdown",
   "id": "f33499b1",
   "metadata": {},
   "source": [
    " <b>💡 Tip:</b> This query joins the customers and transactions tables to find customers with more than 5 purchases, ordered by total amount spent."
   ]
  },
  {
   "cell_type": "markdown",
   "id": "eb11dacb",
   "metadata": {},
   "source": [
    "### Activity 2: AI-Assisted Query Analysis  \n",
    "\n",
    "Now that we have our initial query, let's use an AI tool to analyze it for potential optimizations"
   ]
  },
  {
   "cell_type": "markdown",
   "id": "93970880",
   "metadata": {},
   "source": [
    "<b>Step 1:</b> We will simulate this operation in the following code. Alternatively you can paste your query into an AI, and ask the AI for potential optimizations. "
   ]
  },
  {
   "cell_type": "raw",
   "id": "f4c77402",
   "metadata": {},
   "source": [
    "# Simulated AI Query Analyzer\n",
    "\n",
    "# Open your AI assistant and ask for query optimization.\n",
    "# Prompt suggestion:\n",
    "\n",
    "\"\"\"\n",
    "Optimize the following SQL query to achieve the same result more efficiently. \n",
    "Provide an optimized version of the query, explain each change step-by-step, and justify\n",
    "how each modification enhances performance.\n",
    "\"\"\""
   ]
  },
  {
   "cell_type": "markdown",
   "id": "8b00320f",
   "metadata": {},
   "source": [
    "<b>Step 2:</b> Review the AI suggestions and think about how they might improve the query performance."
   ]
  },
  {
   "cell_type": "markdown",
   "id": "a57be011",
   "metadata": {},
   "source": [
    " <b>💡 Tip:</b> AI suggestions are starting points. Always validate them against your specific database and use case."
   ]
  },
  {
   "cell_type": "markdown",
   "id": "f7be3319",
   "metadata": {},
   "source": [
    "### Activity 3: Implementing AI Suggestions \n",
    "\n",
    "Based on the AI analysis, let's modify our query to potentially improve its performance."
   ]
  },
  {
   "cell_type": "markdown",
   "id": "167be319",
   "metadata": {},
   "source": [
    "<b>Step 1:</b> Implement the suggested optimizations. As per the response you receive from your AI analysis, make changes to optimise the query further and compare the results."
   ]
  },
  {
   "cell_type": "code",
   "execution_count": 3,
   "id": "b12ae23b",
   "metadata": {},
   "outputs": [
    {
     "data": {
      "text/html": [
       "<div>\n",
       "<style scoped>\n",
       "    .dataframe tbody tr th:only-of-type {\n",
       "        vertical-align: middle;\n",
       "    }\n",
       "\n",
       "    .dataframe tbody tr th {\n",
       "        vertical-align: top;\n",
       "    }\n",
       "\n",
       "    .dataframe thead th {\n",
       "        text-align: right;\n",
       "    }\n",
       "</style>\n",
       "<table border=\"1\" class=\"dataframe\">\n",
       "  <thead>\n",
       "    <tr style=\"text-align: right;\">\n",
       "      <th></th>\n",
       "      <th>customer_id</th>\n",
       "      <th>purchase_count</th>\n",
       "      <th>total_spent</th>\n",
       "    </tr>\n",
       "  </thead>\n",
       "  <tbody>\n",
       "    <tr>\n",
       "      <th>0</th>\n",
       "      <td>C1023</td>\n",
       "      <td>13</td>\n",
       "      <td>155.87</td>\n",
       "    </tr>\n",
       "    <tr>\n",
       "      <th>1</th>\n",
       "      <td>C1089</td>\n",
       "      <td>13</td>\n",
       "      <td>154.87</td>\n",
       "    </tr>\n",
       "    <tr>\n",
       "      <th>2</th>\n",
       "      <td>C1012</td>\n",
       "      <td>14</td>\n",
       "      <td>153.86</td>\n",
       "    </tr>\n",
       "    <tr>\n",
       "      <th>3</th>\n",
       "      <td>C1034</td>\n",
       "      <td>13</td>\n",
       "      <td>146.87</td>\n",
       "    </tr>\n",
       "    <tr>\n",
       "      <th>4</th>\n",
       "      <td>C1045</td>\n",
       "      <td>12</td>\n",
       "      <td>136.88</td>\n",
       "    </tr>\n",
       "    <tr>\n",
       "      <th>5</th>\n",
       "      <td>C1078</td>\n",
       "      <td>12</td>\n",
       "      <td>132.88</td>\n",
       "    </tr>\n",
       "    <tr>\n",
       "      <th>6</th>\n",
       "      <td>C1067</td>\n",
       "      <td>12</td>\n",
       "      <td>119.88</td>\n",
       "    </tr>\n",
       "    <tr>\n",
       "      <th>7</th>\n",
       "      <td>C1056</td>\n",
       "      <td>11</td>\n",
       "      <td>113.89</td>\n",
       "    </tr>\n",
       "  </tbody>\n",
       "</table>\n",
       "</div>"
      ],
      "text/plain": [
       "  customer_id  purchase_count  total_spent\n",
       "0       C1023              13       155.87\n",
       "1       C1089              13       154.87\n",
       "2       C1012              14       153.86\n",
       "3       C1034              13       146.87\n",
       "4       C1045              12       136.88\n",
       "5       C1078              12       132.88\n",
       "6       C1067              12       119.88\n",
       "7       C1056              11       113.89"
      ]
     },
     "metadata": {},
     "output_type": "display_data"
    }
   ],
   "source": [
    "#Make changes to the query below as per the AI suggestion you received\n",
    "\n",
    "optimized_query = \"\"\"\n",
    "SELECT c.customer_id, COUNT(t.transaction_id) as purchase_count, SUM(t.sale_price) as total_spent\n",
    "FROM customers c\n",
    "JOIN transactions t ON c.customer_id = t.customer_id\n",
    "GROUP BY c.customer_id\n",
    "HAVING COUNT(t.transaction_id) > 5\n",
    "ORDER BY total_spent DESC\n",
    "LIMIT 10;\n",
    "\n",
    "\"\"\"\n",
    "\n",
    "# Execute the optimized query and display results\n",
    "df_optimized = pd.read_sql_query(optimized_query, conn)\n",
    "display(df_optimized)"
   ]
  },
  {
   "cell_type": "markdown",
   "id": "21121ff2",
   "metadata": {},
   "source": [
    "<b>Step 2:</b> Compare the results with the original query. Are they the same?"
   ]
  },
  {
   "cell_type": "markdown",
   "id": "8af138da",
   "metadata": {},
   "source": [
    " <b>💡 Tip:</b> While the results should be the same, the optimized query might perform better, especially on larger datasets."
   ]
  },
  {
   "cell_type": "markdown",
   "id": "ce73359f",
   "metadata": {},
   "source": [
    "### Close the Connection\n",
    "It's good practice to close the database connection when you're done"
   ]
  },
  {
   "cell_type": "code",
   "execution_count": 4,
   "id": "fe43ced6",
   "metadata": {},
   "outputs": [],
   "source": [
    "# Close the database connection \n",
    "conn.close()"
   ]
  },
  {
   "cell_type": "markdown",
   "id": "87c49981",
   "metadata": {},
   "source": [
    "#### ⚙️ Test Your Work:\n",
    "- Run both the original and optimized queries\n",
    "- Compare the output to ensure they produce the same results\n",
    "- If available, compare execution times (Note: On small datasets, differences may not be noticeable)\n",
    "\n",
    "## ✅ Success Checklist\n",
    "- Connected to the database successfully\n",
    "- Wrote and executed the initial query\n",
    "- Analyzed the query using the simulated AI tool\n",
    "- Implemented suggested optimizations\n",
    "- Compared results between original and optimized queries\n",
    "\n",
    "## 🔍 Common Issues & Solutions \n",
    "\n",
    "- Problem: Query returns no results\n",
    "  - Solution: Check table names and join conditions\n",
    "  \n",
    "- Problem: Error in SQL syntax   \n",
    "  - Carefully review the query for typos or missing clauses\n",
    "\n",
    "## ➡️ Summary\n",
    "\n",
    "Congratulations on completing the AI-Assisted Query Optimization lab – you've now gained valuable experience in harnessing AI tools to enhance SQL query efficiency, a cutting-edge skill that will significantly boost your ability to create high-performance queries and streamline data analysis processes at BookCycle and in your future data science endeavors.\n",
    "\n",
    "### 🔑 Key Points\n",
    "- AI tools can provide valuable insights for query optimization\n",
    "- Common optimizations include query restructuring\n",
    "- Always validate AI suggestions against your specific use case"
   ]
  }
 ],
 "metadata": {
  "kernelspec": {
   "display_name": "Python 3 (ipykernel)",
   "language": "python",
   "name": "python3"
  },
  "language_info": {
   "codemirror_mode": {
    "name": "ipython",
    "version": 3
   },
   "file_extension": ".py",
   "mimetype": "text/x-python",
   "name": "python",
   "nbconvert_exporter": "python",
   "pygments_lexer": "ipython3",
   "version": "3.10.6"
  }
 },
 "nbformat": 4,
 "nbformat_minor": 5
}
